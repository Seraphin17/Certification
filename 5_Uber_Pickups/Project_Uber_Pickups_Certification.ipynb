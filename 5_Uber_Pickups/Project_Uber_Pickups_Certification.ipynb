{
 "cells": [
  {
   "cell_type": "markdown",
   "metadata": {},
   "source": [
    "# <span style=\"color:#37464f\"><center>**Yannick NOUDJOUKOUANG**</center></span>\n",
    "### **<center>JEDHA (FULLSTACK - 2021)</center>**\n",
    "# **<center>UNSUPERVISED MACHINE LEARNING</center>**"
   ]
  },
  {
   "cell_type": "markdown",
   "metadata": {},
   "source": [
    "---"
   ]
  },
  {
   "cell_type": "markdown",
   "metadata": {},
   "source": [
    "\n",
    "## <span>**PLAN**</span>\n",
    "\n",
    "1. Introduction\n",
    "2. Data collection & EDA\n",
    "3. Data analysis & vizualisation\n",
    "4. Unsupervised Machine Learning & Clustering\n",
    "5. Conclusion\n",
    "\n",
    "---"
   ]
  },
  {
   "cell_type": "markdown",
   "metadata": {},
   "source": [
    "\n",
    "### **1. Introduction**\n",
    "---"
   ]
  },
  {
   "cell_type": "markdown",
   "metadata": {},
   "source": [
    "**Good to know** : Contrary to Supervised Machine Learning, Unsupervised Learning corresponds to situations in which we do not have a target variable that we are trying to predict, but we hypothesize that the data we have can be compared within groups."
   ]
  },
  {
   "cell_type": "code",
   "execution_count": null,
   "metadata": {},
   "outputs": [],
   "source": []
  },
  {
   "cell_type": "markdown",
   "metadata": {},
   "source": [
    "\n",
    "<p align=\"center\"><center>\n",
    "  <img width=\"600\" height=\"200\" src=\"https://upload.wikimedia.org/wikipedia/commons/thumb/5/58/Uber_logo_2018.svg/1024px-Uber_logo_2018.svg.png\">\n",
    "</center>\n",
    "    \n",
    "</p>\n",
    "\n",
    "# UBER Pickups "
   ]
  },
  {
   "cell_type": "markdown",
   "metadata": {},
   "source": [
    "## Company's Description 📇\n",
    "\n",
    "<a href=\"http://uber.com/\" target=\"_blank\">Uber</a> is one of the most famous startup in the world. It started as a ride-sharing application for people who couldn't afford a taxi. Now, Uber expanded its activities to Food Delivery with <a href=\"https://www.ubereats.com/fr-en\" target=\"_blank\">Uber Eats</a>, package delivery, freight transportation and even urban transportation with <a href=\"https://www.uber.com/fr/en/ride/uber-bike/\" target=\"_blank\"> Jump Bike</a> and <a href=\"https://www.li.me/\" target=\"_blank\"> Lime </a> that the company funded. \n",
    "\n",
    "\n",
    "The company's goal is to revolutionize transportation accross the globe. It operates now on about 70 countries and 900 cities and generates over $14 billion revenue! 😮\n"
   ]
  },
  {
   "cell_type": "code",
   "execution_count": null,
   "metadata": {},
   "outputs": [],
   "source": []
  },
  {
   "cell_type": "markdown",
   "metadata": {},
   "source": [
    "\n",
    "### **2. Data collection & EDA**\n",
    "---"
   ]
  },
  {
   "cell_type": "markdown",
   "metadata": {},
   "source": [
    "## A) IMPORT LIBRARIES"
   ]
  },
  {
   "cell_type": "code",
   "execution_count": 1,
   "metadata": {},
   "outputs": [],
   "source": [
    "!pip install plotly -q"
   ]
  },
  {
   "cell_type": "code",
   "execution_count": 2,
   "metadata": {},
   "outputs": [],
   "source": [
    "import pandas as pd\n",
    "import requests\n",
    "from datetime import datetime\n",
    "from sklearn.cluster import DBSCAN\n",
    "import numpy as np\n",
    "\n",
    "import matplotlib.pyplot as plt\n",
    "import plotly.express as px\n",
    "import seaborn as sns\n",
    "import plotly.graph_objects as go\n",
    "import plotly.io as pio\n",
    "# setting Jedha color palette as default\n",
    "pio.templates[\"jedha\"] = go.layout.Template(\n",
    "    layout_colorway=[\"#4B9AC7\", \"#4BE8E0\", \"#9DD4F3\", \"#97FBF6\", \"#2A7FAF\", \"#23B1AB\", \"#0E3449\", \"#015955\"]\n",
    ")\n",
    "pio.templates.default = \"jedha\"\n",
    "pio.renderers.default = \"iframe\" # to be replaced by \"iframe\" if working on JULIE"
   ]
  },
  {
   "cell_type": "code",
   "execution_count": null,
   "metadata": {},
   "outputs": [],
   "source": []
  },
  {
   "cell_type": "markdown",
   "metadata": {},
   "source": [
    "## B) EXPLORATORY DATA ANALYSIS"
   ]
  },
  {
   "cell_type": "markdown",
   "metadata": {},
   "source": [
    "### 1. Dataset overview"
   ]
  },
  {
   "cell_type": "code",
   "execution_count": 3,
   "metadata": {},
   "outputs": [
    {
     "data": {
      "text/html": [
       "<div>\n",
       "<style scoped>\n",
       "    .dataframe tbody tr th:only-of-type {\n",
       "        vertical-align: middle;\n",
       "    }\n",
       "\n",
       "    .dataframe tbody tr th {\n",
       "        vertical-align: top;\n",
       "    }\n",
       "\n",
       "    .dataframe thead th {\n",
       "        text-align: right;\n",
       "    }\n",
       "</style>\n",
       "<table border=\"1\" class=\"dataframe\">\n",
       "  <thead>\n",
       "    <tr style=\"text-align: right;\">\n",
       "      <th></th>\n",
       "      <th>Date/Time</th>\n",
       "      <th>Lat</th>\n",
       "      <th>Lon</th>\n",
       "      <th>Base</th>\n",
       "    </tr>\n",
       "  </thead>\n",
       "  <tbody>\n",
       "    <tr>\n",
       "      <th>35853</th>\n",
       "      <td>5/31/2014 8:19:00</td>\n",
       "      <td>40.7740</td>\n",
       "      <td>-73.9787</td>\n",
       "      <td>B02512</td>\n",
       "    </tr>\n",
       "    <tr>\n",
       "      <th>452066</th>\n",
       "      <td>5/5/2014 8:39:00</td>\n",
       "      <td>40.7615</td>\n",
       "      <td>-74.0000</td>\n",
       "      <td>B02682</td>\n",
       "    </tr>\n",
       "    <tr>\n",
       "      <th>390597</th>\n",
       "      <td>5/24/2014 18:16:00</td>\n",
       "      <td>40.7520</td>\n",
       "      <td>-73.9684</td>\n",
       "      <td>B02617</td>\n",
       "    </tr>\n",
       "    <tr>\n",
       "      <th>487222</th>\n",
       "      <td>5/9/2014 17:51:00</td>\n",
       "      <td>40.7332</td>\n",
       "      <td>-74.0056</td>\n",
       "      <td>B02682</td>\n",
       "    </tr>\n",
       "    <tr>\n",
       "      <th>210470</th>\n",
       "      <td>5/21/2014 8:58:00</td>\n",
       "      <td>40.7702</td>\n",
       "      <td>-73.9804</td>\n",
       "      <td>B02598</td>\n",
       "    </tr>\n",
       "  </tbody>\n",
       "</table>\n",
       "</div>"
      ],
      "text/plain": [
       "                 Date/Time      Lat      Lon    Base\n",
       "35853    5/31/2014 8:19:00  40.7740 -73.9787  B02512\n",
       "452066    5/5/2014 8:39:00  40.7615 -74.0000  B02682\n",
       "390597  5/24/2014 18:16:00  40.7520 -73.9684  B02617\n",
       "487222   5/9/2014 17:51:00  40.7332 -74.0056  B02682\n",
       "210470   5/21/2014 8:58:00  40.7702 -73.9804  B02598"
      ]
     },
     "metadata": {},
     "output_type": "display_data"
    },
    {
     "data": {
      "text/plain": [
       "(652435, 4)"
      ]
     },
     "execution_count": 3,
     "metadata": {},
     "output_type": "execute_result"
    }
   ],
   "source": [
    "#Import and read the csv : Uber\n",
    "df = pd.read_csv('uber-raw-data-may14.csv')\n",
    "display(df.sample(5))\n",
    "df.shape"
   ]
  },
  {
   "cell_type": "code",
   "execution_count": null,
   "metadata": {},
   "outputs": [],
   "source": []
  },
  {
   "cell_type": "code",
   "execution_count": 4,
   "metadata": {},
   "outputs": [
    {
     "name": "stdout",
     "output_type": "stream",
     "text": [
      "Rough analysis\n",
      "<class 'pandas.core.frame.DataFrame'>\n",
      "RangeIndex: 652435 entries, 0 to 652434\n",
      "Data columns (total 4 columns):\n",
      " #   Column     Non-Null Count   Dtype  \n",
      "---  ------     --------------   -----  \n",
      " 0   Date/Time  652435 non-null  object \n",
      " 1   Lat        652435 non-null  float64\n",
      " 2   Lon        652435 non-null  float64\n",
      " 3   Base       652435 non-null  object \n",
      "dtypes: float64(2), object(2)\n",
      "memory usage: 19.9+ MB\n",
      "None\n",
      " \n",
      "------------------\n",
      " \n",
      "Date/Time    43900\n",
      "Lat           4468\n",
      "Lon           6090\n",
      "Base             5\n",
      "dtype: int64\n",
      " \n",
      "------------------\n",
      " \n",
      "* The dataset has initially 652435 rows and 4 columns.\n"
     ]
    }
   ],
   "source": [
    "print('Rough analysis')\n",
    "print(df.info())\n",
    "print(' ')\n",
    "print('------------------')\n",
    "print(' ')\n",
    "print(df.nunique())\n",
    "print(' ')\n",
    "print('------------------')\n",
    "print(' ')\n",
    "print('* The dataset has initially {} rows and {} columns.'.format(df.shape[0],df.shape[1]))"
   ]
  },
  {
   "cell_type": "code",
   "execution_count": 5,
   "metadata": {},
   "outputs": [],
   "source": [
    "nbr_base = df.groupby('Base')['Lat'].count().reset_index()"
   ]
  },
  {
   "cell_type": "code",
   "execution_count": 6,
   "metadata": {},
   "outputs": [
    {
     "data": {
      "text/html": [
       "<iframe\n",
       "    scrolling=\"no\"\n",
       "    width=\"100%\"\n",
       "    height=\"545px\"\n",
       "    src=\"iframe_figures/figure_6.html\"\n",
       "    frameborder=\"0\"\n",
       "    allowfullscreen\n",
       "></iframe>\n"
      ]
     },
     "metadata": {},
     "output_type": "display_data"
    }
   ],
   "source": [
    "px.bar(nbr_base, x = 'Base', y = 'Lat',title='Number of pickup per company base (initial dataset)', color='Lat')"
   ]
  },
  {
   "cell_type": "code",
   "execution_count": 7,
   "metadata": {},
   "outputs": [
    {
     "name": "stdout",
     "output_type": "stream",
     "text": [
      "The company B02598 has the most pickup registered with 260549 orders.\n"
     ]
    }
   ],
   "source": [
    "sort_base = nbr_base.sort_values(by=['Lat'], ascending=False)\n",
    "max_base_count = sort_base.loc[:1,:].values[0][1]\n",
    "max_base_id = sort_base.loc[:1,:].values[0][0]\n",
    "\n",
    "print('The company {} has the most pickup registered with {} orders.'.format(max_base_id,max_base_count))"
   ]
  },
  {
   "cell_type": "code",
   "execution_count": null,
   "metadata": {},
   "outputs": [],
   "source": []
  },
  {
   "cell_type": "markdown",
   "metadata": {},
   "source": [
    "## C) DATA ENGINEERING : Dataset transformation"
   ]
  },
  {
   "cell_type": "code",
   "execution_count": 8,
   "metadata": {},
   "outputs": [],
   "source": [
    "#Creation of a new dataset to perform the analysis, graphs and filters\n",
    "dfa = df"
   ]
  },
  {
   "cell_type": "code",
   "execution_count": null,
   "metadata": {},
   "outputs": [],
   "source": []
  },
  {
   "cell_type": "markdown",
   "metadata": {},
   "source": [
    "### 1. Time & Date management"
   ]
  },
  {
   "cell_type": "code",
   "execution_count": 9,
   "metadata": {},
   "outputs": [],
   "source": [
    "#Copy the column Date/Time in order to create several timestamps\n",
    "dfa['Date'] = dfa['Date/Time']"
   ]
  },
  {
   "cell_type": "code",
   "execution_count": 10,
   "metadata": {},
   "outputs": [],
   "source": [
    "#Creating a daily column from column date_time\n",
    "dfa['Day'] = pd.DatetimeIndex(dfa['Date']).day\n",
    "dfa['Day'] = pd.to_numeric(dfa['Day'], downcast='integer')\n"
   ]
  },
  {
   "cell_type": "code",
   "execution_count": 11,
   "metadata": {},
   "outputs": [],
   "source": [
    "#Creating a hour column from column date_time\n",
    "dfa['Hour'] = pd.DatetimeIndex(dfa['Date']).hour\n",
    "dfa['Hour'] = pd.to_numeric(dfa['Hour'], downcast='integer')"
   ]
  },
  {
   "cell_type": "code",
   "execution_count": 12,
   "metadata": {},
   "outputs": [],
   "source": [
    "#Creating a minute column from column date_time\n",
    "dfa['Minute'] = pd.DatetimeIndex(dfa['Date']).minute\n",
    "dfa['Minute'] = pd.to_numeric(dfa['Minute'], downcast='integer')"
   ]
  },
  {
   "cell_type": "code",
   "execution_count": 13,
   "metadata": {},
   "outputs": [
    {
     "name": "stderr",
     "output_type": "stream",
     "text": [
      "<ipython-input-13-f386236ae153>:2: FutureWarning:\n",
      "\n",
      "weekofyear and week have been deprecated, please use DatetimeIndex.isocalendar().week instead, which returns a Series.  To exactly reproduce the behavior of week and weekofyear and return an Index, you may call pd.Int64Index(idx.isocalendar().week)\n",
      "\n"
     ]
    }
   ],
   "source": [
    "#Creating a week_year column from column date_time\n",
    "dfa['Week_year'] = pd.DatetimeIndex(dfa['Date']).weekofyear\n",
    "dfa['Week_year'] = pd.to_numeric(dfa['Week_year'], downcast='integer')"
   ]
  },
  {
   "cell_type": "code",
   "execution_count": 14,
   "metadata": {},
   "outputs": [],
   "source": [
    "#Creating a day_week column from column date_time\n",
    "dfa['Day_week'] = pd.DatetimeIndex(dfa['Date']).dayofweek\n",
    "dfa['Day_week'] = pd.to_numeric(dfa['Day_week'], downcast='integer')\n",
    "\n",
    "#Encoding the year as categorial\n",
    "dfa['Day_week'] = dfa['Day_week'].apply(lambda x : '1 - Monday' if x == 0\n",
    "                                              else '2 - Tuesday' if x == 1\n",
    "                                            else '3 - Wednesday' if x == 2\n",
    "                                            else '4 - Thursday' if x == 3\n",
    "                                            else '5 - Friday' if x == 4\n",
    "                                            else '6 - Saturday' if x == 5\n",
    "                                            else '7 - Sunday' if x == 6\n",
    "                                            else x)"
   ]
  },
  {
   "cell_type": "code",
   "execution_count": 15,
   "metadata": {},
   "outputs": [],
   "source": [
    "#Creating a minute column from column date_time\n",
    "dfa['Minute'] = pd.DatetimeIndex(dfa['Date']).minute\n",
    "dfa['Minute'] = pd.to_numeric(dfa['Minute'], downcast='integer')"
   ]
  },
  {
   "cell_type": "code",
   "execution_count": 16,
   "metadata": {},
   "outputs": [],
   "source": [
    "#Creating a month column from column date_time\n",
    "dfa['Month'] = pd.DatetimeIndex(dfa['Date']).month\n",
    "dfa['Month'] = pd.to_numeric(dfa['Month'], downcast='integer')\n",
    "\n",
    "#Encoding the months as categorial\n",
    "dfa['Month'] = dfa['Month'].apply(lambda x : '1 - January' if x == 1\n",
    "                                                    else '2 - February' if x == 2\n",
    "                                                    else '3 - March' if x == 3\n",
    "                                                    else '4 - April' if x == 4\n",
    "                                                    else '5 - May' if x == 5\n",
    "                                                    else '6 - June' if x == 6\n",
    "                                                    else '7 - July' if x == 7\n",
    "                                                    else '8 - August' if x == 8\n",
    "                                                    else '9 - September' if x == 9\n",
    "                                                    else 'a - October' if x == 10\n",
    "                                                    else 'b - November' if x == 11\n",
    "                                                    else 'c - December' if x == 12\n",
    "                                                    else x)"
   ]
  },
  {
   "cell_type": "code",
   "execution_count": 17,
   "metadata": {},
   "outputs": [],
   "source": [
    "#Encoding the hour period as categorial\n",
    "dfa['Day_period'] = dfa['Hour'].apply(lambda x : '4 - Night' if 22 <= x <= 23 \n",
    "                                        else '4 - Night' if 0 <= x <= 5\n",
    "                                         else '1 - Morning' if 6 <= x <= 12\n",
    "                                         else '2 - Afternoon' if 12 < x < 18\n",
    "                                         else '3 - Evening' if 18 <= x <= 21                                 \n",
    "                                        else x)"
   ]
  },
  {
   "cell_type": "code",
   "execution_count": 89,
   "metadata": {},
   "outputs": [
    {
     "data": {
      "text/html": [
       "<div>\n",
       "<style scoped>\n",
       "    .dataframe tbody tr th:only-of-type {\n",
       "        vertical-align: middle;\n",
       "    }\n",
       "\n",
       "    .dataframe tbody tr th {\n",
       "        vertical-align: top;\n",
       "    }\n",
       "\n",
       "    .dataframe thead th {\n",
       "        text-align: right;\n",
       "    }\n",
       "</style>\n",
       "<table border=\"1\" class=\"dataframe\">\n",
       "  <thead>\n",
       "    <tr style=\"text-align: right;\">\n",
       "      <th></th>\n",
       "      <th>Date/Time</th>\n",
       "      <th>Lat</th>\n",
       "      <th>Lon</th>\n",
       "      <th>Base</th>\n",
       "      <th>Date</th>\n",
       "      <th>Day</th>\n",
       "      <th>Hour</th>\n",
       "      <th>Minute</th>\n",
       "      <th>Week_year</th>\n",
       "      <th>Day_week</th>\n",
       "      <th>Month</th>\n",
       "      <th>Day_period</th>\n",
       "    </tr>\n",
       "  </thead>\n",
       "  <tbody>\n",
       "    <tr>\n",
       "      <th>578351</th>\n",
       "      <td>5/21/2014 21:42:00</td>\n",
       "      <td>40.7191</td>\n",
       "      <td>-74.0103</td>\n",
       "      <td>B02682</td>\n",
       "      <td>5/21/2014 21:42:00</td>\n",
       "      <td>21</td>\n",
       "      <td>21</td>\n",
       "      <td>42</td>\n",
       "      <td>21</td>\n",
       "      <td>3 - Wednesday</td>\n",
       "      <td>5 - May</td>\n",
       "      <td>3 - Evening</td>\n",
       "    </tr>\n",
       "    <tr>\n",
       "      <th>99524</th>\n",
       "      <td>5/8/2014 17:41:00</td>\n",
       "      <td>40.7651</td>\n",
       "      <td>-73.9673</td>\n",
       "      <td>B02598</td>\n",
       "      <td>5/8/2014 17:41:00</td>\n",
       "      <td>8</td>\n",
       "      <td>17</td>\n",
       "      <td>41</td>\n",
       "      <td>19</td>\n",
       "      <td>4 - Thursday</td>\n",
       "      <td>5 - May</td>\n",
       "      <td>2 - Afternoon</td>\n",
       "    </tr>\n",
       "    <tr>\n",
       "      <th>257984</th>\n",
       "      <td>5/27/2014 17:07:00</td>\n",
       "      <td>40.7565</td>\n",
       "      <td>-73.9703</td>\n",
       "      <td>B02598</td>\n",
       "      <td>5/27/2014 17:07:00</td>\n",
       "      <td>27</td>\n",
       "      <td>17</td>\n",
       "      <td>7</td>\n",
       "      <td>22</td>\n",
       "      <td>2 - Tuesday</td>\n",
       "      <td>5 - May</td>\n",
       "      <td>2 - Afternoon</td>\n",
       "    </tr>\n",
       "    <tr>\n",
       "      <th>177773</th>\n",
       "      <td>5/17/2014 4:44:00</td>\n",
       "      <td>40.6872</td>\n",
       "      <td>-73.9980</td>\n",
       "      <td>B02598</td>\n",
       "      <td>5/17/2014 4:44:00</td>\n",
       "      <td>17</td>\n",
       "      <td>4</td>\n",
       "      <td>44</td>\n",
       "      <td>20</td>\n",
       "      <td>6 - Saturday</td>\n",
       "      <td>5 - May</td>\n",
       "      <td>4 - Night</td>\n",
       "    </tr>\n",
       "    <tr>\n",
       "      <th>642058</th>\n",
       "      <td>5/31/2014 22:18:00</td>\n",
       "      <td>40.7298</td>\n",
       "      <td>-74.0007</td>\n",
       "      <td>B02682</td>\n",
       "      <td>5/31/2014 22:18:00</td>\n",
       "      <td>31</td>\n",
       "      <td>22</td>\n",
       "      <td>18</td>\n",
       "      <td>22</td>\n",
       "      <td>6 - Saturday</td>\n",
       "      <td>5 - May</td>\n",
       "      <td>4 - Night</td>\n",
       "    </tr>\n",
       "  </tbody>\n",
       "</table>\n",
       "</div>"
      ],
      "text/plain": [
       "                 Date/Time      Lat      Lon    Base                Date  Day  \\\n",
       "578351  5/21/2014 21:42:00  40.7191 -74.0103  B02682  5/21/2014 21:42:00   21   \n",
       "99524    5/8/2014 17:41:00  40.7651 -73.9673  B02598   5/8/2014 17:41:00    8   \n",
       "257984  5/27/2014 17:07:00  40.7565 -73.9703  B02598  5/27/2014 17:07:00   27   \n",
       "177773   5/17/2014 4:44:00  40.6872 -73.9980  B02598   5/17/2014 4:44:00   17   \n",
       "642058  5/31/2014 22:18:00  40.7298 -74.0007  B02682  5/31/2014 22:18:00   31   \n",
       "\n",
       "        Hour  Minute  Week_year       Day_week    Month     Day_period  \n",
       "578351    21      42         21  3 - Wednesday  5 - May    3 - Evening  \n",
       "99524     17      41         19   4 - Thursday  5 - May  2 - Afternoon  \n",
       "257984    17       7         22    2 - Tuesday  5 - May  2 - Afternoon  \n",
       "177773     4      44         20   6 - Saturday  5 - May      4 - Night  \n",
       "642058    22      18         22   6 - Saturday  5 - May      4 - Night  "
      ]
     },
     "execution_count": 89,
     "metadata": {},
     "output_type": "execute_result"
    }
   ],
   "source": [
    "dfa.sample(5)"
   ]
  },
  {
   "cell_type": "code",
   "execution_count": null,
   "metadata": {},
   "outputs": [],
   "source": []
  },
  {
   "cell_type": "markdown",
   "metadata": {},
   "source": [
    "\n",
    "### **3. Data analysis & vizualisation**\n",
    "---"
   ]
  },
  {
   "cell_type": "markdown",
   "metadata": {},
   "source": [
    "## A) PICKUP ANALYSIS PER HOUR"
   ]
  },
  {
   "cell_type": "code",
   "execution_count": 19,
   "metadata": {},
   "outputs": [],
   "source": [
    "#dfa['Hour2'].sum()\n",
    "daily_hour = dfa.groupby('Hour')['Lat'].count().reset_index()\n",
    "daily_hour\n",
    "\n",
    "#Creation of column with the total of pickups\n",
    "daily_hour['Total_pickups'] = daily_hour.sum()[1]\n",
    "\n",
    "#Creation of column with of pickups per Day_period in %\n",
    "daily_hour['Pickups_daily_hour (%)'] = round((daily_hour['Lat']/daily_hour['Total_pickups'])*100,2)\n"
   ]
  },
  {
   "cell_type": "code",
   "execution_count": 20,
   "metadata": {},
   "outputs": [
    {
     "data": {
      "text/html": [
       "<iframe\n",
       "    scrolling=\"no\"\n",
       "    width=\"100%\"\n",
       "    height=\"545px\"\n",
       "    src=\"iframe_figures/figure_20.html\"\n",
       "    frameborder=\"0\"\n",
       "    allowfullscreen\n",
       "></iframe>\n"
      ]
     },
     "metadata": {},
     "output_type": "display_data"
    }
   ],
   "source": [
    "px.bar(daily_hour, x = 'Hour', y = 'Lat',title='Number of pickup per hour', color='Lat')"
   ]
  },
  {
   "cell_type": "code",
   "execution_count": 21,
   "metadata": {},
   "outputs": [
    {
     "name": "stdout",
     "output_type": "stream",
     "text": [
      "* We notice that the daily pick of demands is around 5pm.\n"
     ]
    }
   ],
   "source": [
    "print('* We notice that the daily pick of demands is around 5pm.')"
   ]
  },
  {
   "cell_type": "code",
   "execution_count": null,
   "metadata": {},
   "outputs": [],
   "source": []
  },
  {
   "cell_type": "markdown",
   "metadata": {},
   "source": [
    "## B) PICKUP ANALYSIS PER DAY PERIOD"
   ]
  },
  {
   "cell_type": "code",
   "execution_count": 22,
   "metadata": {},
   "outputs": [],
   "source": [
    "#Groupby per Day_period\n",
    "period_hour = dfa.groupby('Day_period')['Lat'].count().reset_index()\n",
    "\n",
    "#Creation of column with the total of pickups\n",
    "period_hour['Total_pickups'] = period_hour.sum()[1]\n",
    "\n",
    "#Creation of column with of pickups per Day_period in %\n",
    "period_hour['Pickups_period (%)'] = round((period_hour['Lat']/period_hour['Total_pickups'])*100,2)\n"
   ]
  },
  {
   "cell_type": "code",
   "execution_count": 23,
   "metadata": {},
   "outputs": [
    {
     "data": {
      "image/png": "[encoded data removed]",
      "text/plain": [
       "<Figure size 720x720 with 1 Axes>"
      ]
     },
     "metadata": {},
     "output_type": "display_data"
    }
   ],
   "source": [
    "Pickups_period_perc = period_hour.groupby(['Day_period'])['Pickups_period (%)'].sum()\n",
    "\n",
    "# Declaring indexes and values\n",
    "period_hour_values = Pickups_period_perc.values\n",
    "period_hour_index = Pickups_period_perc.index\n",
    "\n",
    "#Show the relative weight of pickips trough the day\n",
    "plt.figure(figsize = (10, 10))\n",
    "\n",
    "plt.pie(Pickups_period_perc, \n",
    "        autopct = '%1.1f%%',\n",
    "        labels = period_hour_index,\n",
    "        startangle= 90\n",
    "           )\n",
    "\n",
    "plt.legend(period_hour_index, bbox_to_anchor=(1.0, 1.05))\n",
    "plt.title(\"Pickup per period of day (%) \")\n",
    "plt.show()"
   ]
  },
  {
   "cell_type": "code",
   "execution_count": null,
   "metadata": {},
   "outputs": [],
   "source": []
  },
  {
   "cell_type": "code",
   "execution_count": 24,
   "metadata": {},
   "outputs": [
    {
     "data": {
      "text/html": [
       "<iframe\n",
       "    scrolling=\"no\"\n",
       "    width=\"100%\"\n",
       "    height=\"545px\"\n",
       "    src=\"iframe_figures/figure_24.html\"\n",
       "    frameborder=\"0\"\n",
       "    allowfullscreen\n",
       "></iframe>\n"
      ]
     },
     "metadata": {},
     "output_type": "display_data"
    }
   ],
   "source": [
    "px.bar(period_hour, x = 'Day_period', y = 'Lat',title='Number of pickup per period of day', color='Lat')"
   ]
  },
  {
   "cell_type": "code",
   "execution_count": 25,
   "metadata": {},
   "outputs": [
    {
     "name": "stdout",
     "output_type": "stream",
     "text": [
      "* The major busy period during the day is afternoon, particularly at the end of afternoon.\n",
      "* It matches with end of the business work and the start of all kind of leisure.\n"
     ]
    }
   ],
   "source": [
    "print('* The major busy period during the day is afternoon, particularly at the end of afternoon.\\n* It matches with end of the business work and the start of all kind of leisure.')"
   ]
  },
  {
   "cell_type": "code",
   "execution_count": null,
   "metadata": {},
   "outputs": [],
   "source": []
  },
  {
   "cell_type": "markdown",
   "metadata": {},
   "source": [
    "## C) PICKUP ANALYSIS PER WEEK YEAR"
   ]
  },
  {
   "cell_type": "code",
   "execution_count": 26,
   "metadata": {},
   "outputs": [],
   "source": [
    "#Groupby per week_y\n",
    "week_y = dfa.groupby('Week_year')['Lat'].count().reset_index()\n",
    "\n",
    "#Creation of column with the total of pickups\n",
    "week_y['Total_pickups'] = week_y.sum()[1]\n",
    "\n",
    "#Creation of column with of pickups per week_y in %\n",
    "week_y['Pickups_week_y (%)'] = round((week_y['Lat']/week_y['Total_pickups'])*100,2)\n"
   ]
  },
  {
   "cell_type": "code",
   "execution_count": 27,
   "metadata": {},
   "outputs": [
    {
     "data": {
      "image/png": "[encoded data removed]",
      "text/plain": [
       "<Figure size 720x720 with 1 Axes>"
      ]
     },
     "metadata": {},
     "output_type": "display_data"
    }
   ],
   "source": [
    "week_y_perc = week_y.groupby(['Week_year'])['Pickups_week_y (%)'].sum()\n",
    "\n",
    "# Declaring indexes and values\n",
    "week_y_values = week_y_perc.values\n",
    "week_y_index = week_y_perc.index\n",
    "\n",
    "plt.figure(figsize = (10, 10))\n",
    "\n",
    "plt.pie(week_y_perc, \n",
    "        autopct = '%1.1f%%',\n",
    "        labels = week_y_index,\n",
    "        startangle= 90\n",
    "           )\n",
    "\n",
    "plt.legend(week_y_index, bbox_to_anchor=(1.0, 1.05))\n",
    "\n",
    "plt.title(\"Pickup per week of year over the month (%) \")\n",
    "\n",
    "plt.show()"
   ]
  },
  {
   "cell_type": "code",
   "execution_count": null,
   "metadata": {},
   "outputs": [],
   "source": []
  },
  {
   "cell_type": "code",
   "execution_count": 28,
   "metadata": {},
   "outputs": [
    {
     "data": {
      "text/html": [
       "<iframe\n",
       "    scrolling=\"no\"\n",
       "    width=\"100%\"\n",
       "    height=\"545px\"\n",
       "    src=\"iframe_figures/figure_28.html\"\n",
       "    frameborder=\"0\"\n",
       "    allowfullscreen\n",
       "></iframe>\n"
      ]
     },
     "metadata": {},
     "output_type": "display_data"
    }
   ],
   "source": [
    "px.bar(week_y, x = 'Week_year', y = 'Lat',title='Number of pickups per week of year over the month', color='Lat')"
   ]
  },
  {
   "cell_type": "code",
   "execution_count": 29,
   "metadata": {},
   "outputs": [
    {
     "name": "stdout",
     "output_type": "stream",
     "text": [
      "* The busiest week over the month of May that we have selected is 20.\n",
      "* We will select it for our map visualizations\n"
     ]
    }
   ],
   "source": [
    "print('* The busiest week over the month of May that we have selected is 20.\\n* We will select it for our map visualizations')\n"
   ]
  },
  {
   "cell_type": "code",
   "execution_count": null,
   "metadata": {},
   "outputs": [],
   "source": []
  },
  {
   "cell_type": "markdown",
   "metadata": {},
   "source": [
    "## D) PICKUP ANALYSIS PER DAY WEEK"
   ]
  },
  {
   "cell_type": "code",
   "execution_count": 30,
   "metadata": {},
   "outputs": [],
   "source": [
    "#Groupby per Day_period\n",
    "dayweek = dfa.groupby('Day_week')['Lat'].count().reset_index()\n",
    "\n",
    "#Creation of column with the total of pickups\n",
    "dayweek['Total_pickups'] = dayweek.sum()[1]\n",
    "\n",
    "#Creation of column with of pickups per Day_period in %\n",
    "dayweek['Pickups_dayweek (%)'] = round((dayweek['Lat']/dayweek['Total_pickups'])*100,2)\n"
   ]
  },
  {
   "cell_type": "code",
   "execution_count": null,
   "metadata": {},
   "outputs": [],
   "source": []
  },
  {
   "cell_type": "code",
   "execution_count": 31,
   "metadata": {},
   "outputs": [
    {
     "data": {
      "image/png": "[encoded data removed]",
      "text/plain": [
       "<Figure size 720x720 with 1 Axes>"
      ]
     },
     "metadata": {},
     "output_type": "display_data"
    }
   ],
   "source": [
    "Pickups_pdayweek_perc = dayweek.groupby(['Day_week'])['Pickups_dayweek (%)'].sum()\n",
    "\n",
    "# Declaring indexes and values\n",
    "Pickups_pdayweek_values = Pickups_pdayweek_perc.values\n",
    "Pickups_pdayweek_index = Pickups_pdayweek_perc.index\n",
    "\n",
    "plt.figure(figsize = (10, 10))\n",
    "\n",
    "plt.pie(Pickups_pdayweek_perc, \n",
    "        autopct = '%1.1f%%',\n",
    "        labels = Pickups_pdayweek_index,\n",
    "        startangle= 90\n",
    "           )\n",
    "\n",
    "plt.legend(Pickups_pdayweek_index, bbox_to_anchor=(1.0, 1.05))\n",
    "\n",
    "plt.title(\"Pickup per day of week (%) \")\n",
    "\n",
    "plt.show()"
   ]
  },
  {
   "cell_type": "code",
   "execution_count": null,
   "metadata": {},
   "outputs": [],
   "source": []
  },
  {
   "cell_type": "code",
   "execution_count": 32,
   "metadata": {},
   "outputs": [
    {
     "data": {
      "text/html": [
       "<iframe\n",
       "    scrolling=\"no\"\n",
       "    width=\"100%\"\n",
       "    height=\"545px\"\n",
       "    src=\"iframe_figures/figure_32.html\"\n",
       "    frameborder=\"0\"\n",
       "    allowfullscreen\n",
       "></iframe>\n"
      ]
     },
     "metadata": {},
     "output_type": "display_data"
    }
   ],
   "source": [
    "px.bar(dayweek, x = 'Day_week', y = 'Lat',title='Pickup per day of week ', color='Lat')"
   ]
  },
  {
   "cell_type": "code",
   "execution_count": 33,
   "metadata": {},
   "outputs": [
    {
     "name": "stdout",
     "output_type": "stream",
     "text": [
      "* Thursday and Friday are by far the thoughest days for Uber drivers.\n"
     ]
    }
   ],
   "source": [
    "print('* Thursday and Friday are by far the thoughest days for Uber drivers.')"
   ]
  },
  {
   "cell_type": "code",
   "execution_count": null,
   "metadata": {},
   "outputs": [],
   "source": []
  },
  {
   "cell_type": "markdown",
   "metadata": {},
   "source": [
    "## E) PICKUP ANALYSIS PER MONTHLY DAY"
   ]
  },
  {
   "cell_type": "code",
   "execution_count": 34,
   "metadata": {},
   "outputs": [],
   "source": [
    "#Groupby per Day_period\n",
    "daymonth = dfa.groupby('Day')['Lat'].count().reset_index()\n",
    "\n",
    "#Creation of column with the total of pickups\n",
    "daymonth['Total_pickups'] = daymonth.sum()[1]\n",
    "\n",
    "#Creation of column with of pickups per Day_period in %\n",
    "daymonth['Pickups_dayweek (%)'] = round((daymonth['Lat']/daymonth['Total_pickups'])*100,2)\n"
   ]
  },
  {
   "cell_type": "code",
   "execution_count": null,
   "metadata": {},
   "outputs": [],
   "source": []
  },
  {
   "cell_type": "code",
   "execution_count": 35,
   "metadata": {},
   "outputs": [
    {
     "data": {
      "text/html": [
       "<iframe\n",
       "    scrolling=\"no\"\n",
       "    width=\"100%\"\n",
       "    height=\"545px\"\n",
       "    src=\"iframe_figures/figure_35.html\"\n",
       "    frameborder=\"0\"\n",
       "    allowfullscreen\n",
       "></iframe>\n"
      ]
     },
     "metadata": {},
     "output_type": "display_data"
    }
   ],
   "source": [
    "px.bar(daymonth, x = 'Day', y = 'Lat',title='Pickup per monthly day ', color='Lat')"
   ]
  },
  {
   "cell_type": "code",
   "execution_count": 36,
   "metadata": {},
   "outputs": [
    {
     "name": "stdout",
     "output_type": "stream",
     "text": [
      "We see there is a weekly seasonality corresponding to the day of high volume demand (Thursday & Friday).\n"
     ]
    }
   ],
   "source": [
    "print('We see there is a weekly seasonality corresponding to the day of high volume demand (Thursday & Friday).')"
   ]
  },
  {
   "cell_type": "code",
   "execution_count": null,
   "metadata": {},
   "outputs": [],
   "source": []
  },
  {
   "cell_type": "markdown",
   "metadata": {},
   "source": [
    "## F) SAMPLING : PICKUP ON THE HOTEST HOUR OF THE MONTH"
   ]
  },
  {
   "cell_type": "code",
   "execution_count": 37,
   "metadata": {},
   "outputs": [
    {
     "data": {
      "text/html": [
       "<div>\n",
       "<style scoped>\n",
       "    .dataframe tbody tr th:only-of-type {\n",
       "        vertical-align: middle;\n",
       "    }\n",
       "\n",
       "    .dataframe tbody tr th {\n",
       "        vertical-align: top;\n",
       "    }\n",
       "\n",
       "    .dataframe thead th {\n",
       "        text-align: right;\n",
       "    }\n",
       "</style>\n",
       "<table border=\"1\" class=\"dataframe\">\n",
       "  <thead>\n",
       "    <tr style=\"text-align: right;\">\n",
       "      <th></th>\n",
       "      <th>Date/Time</th>\n",
       "      <th>Lat</th>\n",
       "      <th>Lon</th>\n",
       "      <th>Base</th>\n",
       "      <th>Date</th>\n",
       "      <th>Day</th>\n",
       "      <th>Hour</th>\n",
       "      <th>Minute</th>\n",
       "      <th>Week_year</th>\n",
       "      <th>Day_week</th>\n",
       "      <th>Month</th>\n",
       "      <th>Day_period</th>\n",
       "    </tr>\n",
       "  </thead>\n",
       "  <tbody>\n",
       "    <tr>\n",
       "      <th>19607</th>\n",
       "      <td>5/16/2014 17:20:00</td>\n",
       "      <td>40.7257</td>\n",
       "      <td>-74.0057</td>\n",
       "      <td>B02512</td>\n",
       "      <td>5/16/2014 17:20:00</td>\n",
       "      <td>16</td>\n",
       "      <td>17</td>\n",
       "      <td>20</td>\n",
       "      <td>20</td>\n",
       "      <td>5 - Friday</td>\n",
       "      <td>5 - May</td>\n",
       "      <td>2 - Afternoon</td>\n",
       "    </tr>\n",
       "    <tr>\n",
       "      <th>539424</th>\n",
       "      <td>5/16/2014 17:32:00</td>\n",
       "      <td>40.7513</td>\n",
       "      <td>-73.9940</td>\n",
       "      <td>B02682</td>\n",
       "      <td>5/16/2014 17:32:00</td>\n",
       "      <td>16</td>\n",
       "      <td>17</td>\n",
       "      <td>32</td>\n",
       "      <td>20</td>\n",
       "      <td>5 - Friday</td>\n",
       "      <td>5 - May</td>\n",
       "      <td>2 - Afternoon</td>\n",
       "    </tr>\n",
       "    <tr>\n",
       "      <th>170568</th>\n",
       "      <td>5/16/2014 17:20:00</td>\n",
       "      <td>40.7503</td>\n",
       "      <td>-73.9866</td>\n",
       "      <td>B02598</td>\n",
       "      <td>5/16/2014 17:20:00</td>\n",
       "      <td>16</td>\n",
       "      <td>17</td>\n",
       "      <td>20</td>\n",
       "      <td>20</td>\n",
       "      <td>5 - Friday</td>\n",
       "      <td>5 - May</td>\n",
       "      <td>2 - Afternoon</td>\n",
       "    </tr>\n",
       "    <tr>\n",
       "      <th>170861</th>\n",
       "      <td>5/16/2014 17:41:00</td>\n",
       "      <td>40.7646</td>\n",
       "      <td>-73.9707</td>\n",
       "      <td>B02598</td>\n",
       "      <td>5/16/2014 17:41:00</td>\n",
       "      <td>16</td>\n",
       "      <td>17</td>\n",
       "      <td>41</td>\n",
       "      <td>20</td>\n",
       "      <td>5 - Friday</td>\n",
       "      <td>5 - May</td>\n",
       "      <td>2 - Afternoon</td>\n",
       "    </tr>\n",
       "    <tr>\n",
       "      <th>539502</th>\n",
       "      <td>5/16/2014 17:38:00</td>\n",
       "      <td>40.7394</td>\n",
       "      <td>-73.9767</td>\n",
       "      <td>B02682</td>\n",
       "      <td>5/16/2014 17:38:00</td>\n",
       "      <td>16</td>\n",
       "      <td>17</td>\n",
       "      <td>38</td>\n",
       "      <td>20</td>\n",
       "      <td>5 - Friday</td>\n",
       "      <td>5 - May</td>\n",
       "      <td>2 - Afternoon</td>\n",
       "    </tr>\n",
       "  </tbody>\n",
       "</table>\n",
       "</div>"
      ],
      "text/plain": [
       "                 Date/Time      Lat      Lon    Base                Date  Day  \\\n",
       "19607   5/16/2014 17:20:00  40.7257 -74.0057  B02512  5/16/2014 17:20:00   16   \n",
       "539424  5/16/2014 17:32:00  40.7513 -73.9940  B02682  5/16/2014 17:32:00   16   \n",
       "170568  5/16/2014 17:20:00  40.7503 -73.9866  B02598  5/16/2014 17:20:00   16   \n",
       "170861  5/16/2014 17:41:00  40.7646 -73.9707  B02598  5/16/2014 17:41:00   16   \n",
       "539502  5/16/2014 17:38:00  40.7394 -73.9767  B02682  5/16/2014 17:38:00   16   \n",
       "\n",
       "        Hour  Minute  Week_year    Day_week    Month     Day_period  \n",
       "19607     17      20         20  5 - Friday  5 - May  2 - Afternoon  \n",
       "539424    17      32         20  5 - Friday  5 - May  2 - Afternoon  \n",
       "170568    17      20         20  5 - Friday  5 - May  2 - Afternoon  \n",
       "170861    17      41         20  5 - Friday  5 - May  2 - Afternoon  \n",
       "539502    17      38         20  5 - Friday  5 - May  2 - Afternoon  "
      ]
     },
     "metadata": {},
     "output_type": "display_data"
    },
    {
     "data": {
      "text/plain": [
       "(2445, 12)"
      ]
     },
     "execution_count": 37,
     "metadata": {},
     "output_type": "execute_result"
    }
   ],
   "source": [
    "#Filter on Day\n",
    "mask_day = dfa['Day'] == 16\n",
    "\n",
    "#Filter for one specific Hour\n",
    "mask_hour = dfa['Hour'] == 17\n",
    "\n",
    "#Full filters\n",
    "filters = (mask_day) & (mask_hour)\n",
    "\n",
    "dfa_filter = dfa.loc[filters,:]\n",
    "display(dfa_filter.sample(5))\n",
    "dfa_filter.shape\n"
   ]
  },
  {
   "cell_type": "code",
   "execution_count": null,
   "metadata": {},
   "outputs": [],
   "source": []
  },
  {
   "cell_type": "code",
   "execution_count": 38,
   "metadata": {},
   "outputs": [
    {
     "name": "stdout",
     "output_type": "stream",
     "text": [
      "      * We have selected the day \"16\" of the month of \"5 - May\", regarding the graph shown before, it's the monthly busiest day.\n",
      "      * We centered the filter over the hour \"17\" that is as well the pic of demands for pickups in New-York.\n",
      "      * The day period of our filter is \"2 - Afternoon\".\n"
     ]
    }
   ],
   "source": [
    "print(\n",
    "    '      * We have selected the day \"{}\" of the month of \"{}\", regarding the graph shown before, it\\'s the monthly busiest day.\\n\\\n",
    "      * We centered the filter over the hour \"{}\" that is as well the pic of demands for pickups in New-York.\\n\\\n",
    "      * The day period of our filter is \"{}\".'\\\n",
    "      .format(dfa_filter.iloc[0,5],dfa_filter.iloc[0,10],dfa_filter.iloc[0,6],dfa_filter.iloc[0,11])\n",
    "     )"
   ]
  },
  {
   "cell_type": "code",
   "execution_count": null,
   "metadata": {},
   "outputs": [],
   "source": []
  },
  {
   "cell_type": "code",
   "execution_count": 39,
   "metadata": {},
   "outputs": [
    {
     "data": {
      "text/html": [
       "<iframe\n",
       "    scrolling=\"no\"\n",
       "    width=\"100%\"\n",
       "    height=\"545px\"\n",
       "    src=\"iframe_figures/figure_39.html\"\n",
       "    frameborder=\"0\"\n",
       "    allowfullscreen\n",
       "></iframe>\n"
      ]
     },
     "metadata": {},
     "output_type": "display_data"
    }
   ],
   "source": [
    "fig = px.scatter_mapbox(dfa_filter, \n",
    "                            lat=\"Lat\", \n",
    "                                lon=\"Lon\", \n",
    "                                    zoom=8.5, \n",
    "                                        mapbox_style=\"carto-positron\",\n",
    "                                            title='Monthly hotest hour - All pickups'\n",
    "                       )\n",
    "fig.show()"
   ]
  },
  {
   "cell_type": "code",
   "execution_count": null,
   "metadata": {},
   "outputs": [],
   "source": []
  },
  {
   "cell_type": "markdown",
   "metadata": {},
   "source": [
    "\n",
    "### **4. Unsupervised Machine Learning algorithms & Clustering**\n",
    "---"
   ]
  },
  {
   "cell_type": "markdown",
   "metadata": {},
   "source": [
    "## A) K-MEANS ALGORITHM"
   ]
  },
  {
   "cell_type": "markdown",
   "metadata": {},
   "source": [
    "### 1. Selection of $K$ optimal clusters "
   ]
  },
  {
   "cell_type": "markdown",
   "metadata": {},
   "source": [
    "### a). Elbow method 💪"
   ]
  },
  {
   "cell_type": "code",
   "execution_count": 40,
   "metadata": {},
   "outputs": [],
   "source": [
    "X = dfa_filter.loc[:,['Lat','Lon']]"
   ]
  },
  {
   "cell_type": "code",
   "execution_count": 41,
   "metadata": {},
   "outputs": [],
   "source": [
    "# Import K-Means \n",
    "from sklearn.cluster import KMeans"
   ]
  },
  {
   "cell_type": "code",
   "execution_count": 42,
   "metadata": {},
   "outputs": [
    {
     "name": "stdout",
     "output_type": "stream",
     "text": [
      "WCSS for K=1 --> 6.118966370593041\n",
      "WCSS for K=2 --> 4.202788424182161\n",
      "WCSS for K=3 --> 3.00663688151659\n",
      "WCSS for K=4 --> 2.2041346720285295\n",
      "WCSS for K=5 --> 1.7570675158036804\n",
      "WCSS for K=6 --> 1.4384805886524379\n",
      "WCSS for K=7 --> 1.1251062060002721\n",
      "WCSS for K=8 --> 0.9327123595706924\n",
      "WCSS for K=9 --> 0.8156298870622937\n",
      "WCSS for K=10 --> 0.7012789372994173\n"
     ]
    }
   ],
   "source": [
    "# Let's create a loop that will collect the Within-sum-of-square (wcss) for each value K \n",
    "# Let's use .inertia_ parameter to get the within sum of square value for each value K \n",
    "wcss =  []\n",
    "k = []\n",
    "for i in range (1,11): \n",
    "    kmeans = KMeans(n_clusters=i, init=\"k-means++\", random_state=0)\n",
    "    kmeans.fit(X)\n",
    "    wcss.append(kmeans.inertia_)\n",
    "    k.append(i)\n",
    "    print(\"WCSS for K={} --> {}\".format(i, wcss[-1]))"
   ]
  },
  {
   "cell_type": "code",
   "execution_count": null,
   "metadata": {},
   "outputs": [],
   "source": []
  },
  {
   "cell_type": "code",
   "execution_count": 43,
   "metadata": {},
   "outputs": [
    {
     "data": {
      "text/html": [
       "<iframe\n",
       "    scrolling=\"no\"\n",
       "    width=\"100%\"\n",
       "    height=\"545px\"\n",
       "    src=\"iframe_figures/figure_43.html\"\n",
       "    frameborder=\"0\"\n",
       "    allowfullscreen\n",
       "></iframe>\n"
      ]
     },
     "metadata": {},
     "output_type": "display_data"
    }
   ],
   "source": [
    "# Let's visualize using plotly\n",
    "import plotly.express as px\n",
    "\n",
    "# Create DataFrame\n",
    "wcss_frame = pd.DataFrame(wcss)\n",
    "k_frame = pd.Series(k)\n",
    "\n",
    "# Create figure\n",
    "fig= px.line(\n",
    "    wcss_frame,\n",
    "    x=k_frame,\n",
    "    y=wcss_frame.iloc[:,-1]\n",
    ")\n",
    "\n",
    "# Create title and axis labels\n",
    "fig.update_layout(\n",
    "    yaxis_title=\"Inertia\",\n",
    "    xaxis_title=\"# Clusters\",\n",
    "    title=\"Inertia per cluster\"\n",
    ")\n",
    "\n",
    "# Render\n",
    "#fig.show(renderer=\"notebook\")\n",
    "fig.show(renderer=\"iframe\") # if using workspace"
   ]
  },
  {
   "cell_type": "code",
   "execution_count": 44,
   "metadata": {},
   "outputs": [
    {
     "name": "stdout",
     "output_type": "stream",
     "text": [
      "* It' quite hard to select the proper number of cluster, the line is not sharpe.\n",
      "* We will be using the Silhouette method to finf out which number f clusters to select.\n"
     ]
    }
   ],
   "source": [
    "print('* It\\' quite hard to select the proper number of cluster, the line is not sharpe.\\n* We will be using the Silhouette method to finf out which number f clusters to select.' )"
   ]
  },
  {
   "cell_type": "code",
   "execution_count": null,
   "metadata": {},
   "outputs": [],
   "source": []
  },
  {
   "cell_type": "markdown",
   "metadata": {},
   "source": [
    "### b). Silhouette Method 👥"
   ]
  },
  {
   "cell_type": "code",
   "execution_count": 45,
   "metadata": {},
   "outputs": [
    {
     "name": "stdout",
     "output_type": "stream",
     "text": [
      "Silhouette score for K=2 is 0.7768048702113246\n",
      "Silhouette score for K=3 is 0.44752907289383315\n",
      "Silhouette score for K=4 is 0.4554235424728343\n",
      "Silhouette score for K=5 is 0.4659456548238945\n",
      "Silhouette score for K=6 is 0.4371785552745185\n",
      "Silhouette score for K=7 is 0.37808008578154684\n",
      "Silhouette score for K=8 is 0.43482547288599105\n",
      "Silhouette score for K=9 is 0.4038843736132332\n",
      "Silhouette score for K=10 is 0.40513729326772296\n"
     ]
    }
   ],
   "source": [
    "# Import silhouette score\n",
    "from sklearn.metrics import silhouette_score\n",
    "\n",
    "# Computer mean silhouette score\n",
    "sil = []\n",
    "k = []\n",
    "\n",
    "## Careful, you need to start at i=2 as silhouette score cannot accept less than 2 labels \n",
    "for i in range (2,11): \n",
    "    kmeans = KMeans(n_clusters= i, init = \"k-means++\", random_state = 0)\n",
    "    kmeans.fit(X)\n",
    "    sil.append(silhouette_score(X, kmeans.predict(X)))\n",
    "    k.append(i)\n",
    "    print(\"Silhouette score for K={} is {}\".format(i, sil[-1]))"
   ]
  },
  {
   "cell_type": "code",
   "execution_count": null,
   "metadata": {},
   "outputs": [],
   "source": []
  },
  {
   "cell_type": "code",
   "execution_count": 92,
   "metadata": {},
   "outputs": [
    {
     "name": "stdout",
     "output_type": "stream",
     "text": [
      "* The silhouette score shows that the best K is 5 with a score of 0.47\n"
     ]
    }
   ],
   "source": [
    "#Create a DataFrame where we will input the probability to have 'k' clusters\n",
    "k_selection = {'K' : k,'Score' : sil}\n",
    "df_select = pd.DataFrame(data=k_selection)\n",
    "\n",
    "#Selection of the better K\n",
    "sort_select = df_select.sort_values(by=['Score'], ascending=False)\n",
    "best_k = sort_select.loc[:1,:].values[1][0]\n",
    "best_k = int(best_k) #Transform to integer for kmeans\n",
    "best_score = sort_select.loc[:1,:].values[1][1]\n",
    "\n",
    "print('* The silhouette score shows that the best K is {} with a score of {}'.format(best_k,round(best_score,2)))"
   ]
  },
  {
   "cell_type": "code",
   "execution_count": null,
   "metadata": {},
   "outputs": [],
   "source": []
  },
  {
   "cell_type": "code",
   "execution_count": 47,
   "metadata": {},
   "outputs": [
    {
     "data": {
      "text/html": [
       "<iframe\n",
       "    scrolling=\"no\"\n",
       "    width=\"100%\"\n",
       "    height=\"545px\"\n",
       "    src=\"iframe_figures/figure_47.html\"\n",
       "    frameborder=\"0\"\n",
       "    allowfullscreen\n",
       "></iframe>\n"
      ]
     },
     "metadata": {},
     "output_type": "display_data"
    }
   ],
   "source": [
    "# Create a data frame \n",
    "cluster_scores=pd.DataFrame(sil)\n",
    "k_frame = pd.Series(k)\n",
    "\n",
    "# Create figure\n",
    "fig = px.bar(data_frame=cluster_scores,  \n",
    "             x=k, \n",
    "             y=cluster_scores.iloc[:, -1]\n",
    "            )\n",
    "\n",
    "# Add title and axis labels\n",
    "fig.update_layout(\n",
    "    yaxis_title=\"Silhouette Score\",\n",
    "    xaxis_title=\"# Clusters\",\n",
    "    title=\"Silhouette Score per cluster\"\n",
    ")\n",
    "\n",
    "# Render\n",
    "fig.show(renderer=\"iframe\")"
   ]
  },
  {
   "cell_type": "code",
   "execution_count": 48,
   "metadata": {},
   "outputs": [
    {
     "data": {
      "text/plain": [
       "KMeans(n_clusters=5, random_state=0)"
      ]
     },
     "execution_count": 48,
     "metadata": {},
     "output_type": "execute_result"
    }
   ],
   "source": [
    "# Instanciate KMeans with k=n and initialisation with k-means++ \n",
    "kmeans = KMeans(n_clusters=best_k, random_state=0, init=\"k-means++\")\n",
    "\n",
    "# Fit kmeans to our dataset\n",
    "kmeans.fit(X)"
   ]
  },
  {
   "cell_type": "code",
   "execution_count": 49,
   "metadata": {},
   "outputs": [
    {
     "name": "stdout",
     "output_type": "stream",
     "text": [
      "The optimal number of cluser for the K-Mean alorithm is 5.\n"
     ]
    }
   ],
   "source": [
    "print('The optimal number of cluser for the K-Mean alorithm is 5.')"
   ]
  },
  {
   "cell_type": "code",
   "execution_count": 50,
   "metadata": {},
   "outputs": [],
   "source": [
    "#Implementing the clusters\n",
    "X['Cluster'] = kmeans.labels_\n",
    "X['Cluster'] = X['Cluster']+1\n",
    "\n",
    "#Adding some columns\n",
    "X['Day'] = dfa_filter['Day']\n",
    "X['Hour'] = dfa_filter['Hour']\n",
    "X['Minute'] = dfa_filter['Minute']\n"
   ]
  },
  {
   "cell_type": "code",
   "execution_count": null,
   "metadata": {},
   "outputs": [],
   "source": []
  },
  {
   "cell_type": "code",
   "execution_count": 52,
   "metadata": {},
   "outputs": [
    {
     "data": {
      "text/html": [
       "<iframe\n",
       "    scrolling=\"no\"\n",
       "    width=\"100%\"\n",
       "    height=\"545px\"\n",
       "    src=\"iframe_figures/figure_52.html\"\n",
       "    frameborder=\"0\"\n",
       "    allowfullscreen\n",
       "></iframe>\n"
      ]
     },
     "metadata": {},
     "output_type": "display_data"
    }
   ],
   "source": [
    "\n",
    "fig = px.scatter_mapbox(X,\n",
    "                        lat='Lat',\n",
    "                        lon='Lon',\n",
    "                        animation_frame = 'Day',\n",
    "                       # animation_group = 'heure',\n",
    "                        color='Cluster',\n",
    "                        mapbox_style = 'open-street-map',\n",
    "                        \n",
    "                        zoom=8.75,\n",
    "                        title = 'Monthly hotest hour - Clustering')\n",
    "fig.show(renderer='iframe')"
   ]
  },
  {
   "cell_type": "markdown",
   "metadata": {},
   "source": [
    "### 2. Apply K-Means methods to dynamic graphs "
   ]
  },
  {
   "cell_type": "markdown",
   "metadata": {},
   "source": [
    "## <span style=\"color:blue\">Dynamic graphs</span>"
   ]
  },
  {
   "cell_type": "markdown",
   "metadata": {},
   "source": [
    "## <span style=\"color:blue\">I. One Day</span>"
   ]
  },
  {
   "cell_type": "code",
   "execution_count": 53,
   "metadata": {},
   "outputs": [],
   "source": [
    "#Using the same mask day for 16\n",
    "dfa_filter_day = dfa.loc[mask_day,:]\n",
    "\n",
    "#We call this filtered dataset as D for Day\n",
    "D = dfa_filter_day.loc[:,['Lat','Lon']]"
   ]
  },
  {
   "cell_type": "code",
   "execution_count": null,
   "metadata": {},
   "outputs": [],
   "source": []
  },
  {
   "cell_type": "code",
   "execution_count": 54,
   "metadata": {},
   "outputs": [
    {
     "name": "stdout",
     "output_type": "stream",
     "text": [
      "WCSS for K=1 --> 106.14078350071107\n",
      "WCSS for K=2 --> 67.74631763886886\n",
      "WCSS for K=3 --> 49.66613111318496\n",
      "WCSS for K=4 --> 40.323995074796414\n",
      "WCSS for K=5 --> 30.842441543003517\n",
      "WCSS for K=6 --> 24.710534791302265\n",
      "WCSS for K=7 --> 21.54754266827661\n",
      "WCSS for K=8 --> 18.88674663197358\n",
      "WCSS for K=9 --> 16.268672462876786\n",
      "WCSS for K=10 --> 14.335792911798512\n"
     ]
    }
   ],
   "source": [
    "wcss2 =  []\n",
    "k2 = []\n",
    "for i in range (1,11): \n",
    "    kmeans = KMeans(n_clusters=i, init=\"k-means++\", random_state=0)\n",
    "    kmeans.fit(D)\n",
    "    wcss2.append(kmeans.inertia_)\n",
    "    k2.append(i)\n",
    "    print(\"WCSS for K={} --> {}\".format(i, wcss2[-1]))"
   ]
  },
  {
   "cell_type": "code",
   "execution_count": null,
   "metadata": {},
   "outputs": [],
   "source": []
  },
  {
   "cell_type": "code",
   "execution_count": 55,
   "metadata": {},
   "outputs": [
    {
     "data": {
      "text/html": [
       "<iframe\n",
       "    scrolling=\"no\"\n",
       "    width=\"100%\"\n",
       "    height=\"545px\"\n",
       "    src=\"iframe_figures/figure_55.html\"\n",
       "    frameborder=\"0\"\n",
       "    allowfullscreen\n",
       "></iframe>\n"
      ]
     },
     "metadata": {},
     "output_type": "display_data"
    }
   ],
   "source": [
    "# Let's visualize using plotly\n",
    "import plotly.express as px\n",
    "\n",
    "# Create DataFrame\n",
    "wcss_frame = pd.DataFrame(wcss)\n",
    "k_frame = pd.Series(k2)\n",
    "\n",
    "# Create figure\n",
    "fig= px.line(\n",
    "    wcss_frame,\n",
    "    x=k_frame,\n",
    "    y=wcss_frame.iloc[:,-1]\n",
    ")\n",
    "\n",
    "# Create title and axis labels\n",
    "fig.update_layout(\n",
    "    yaxis_title=\"Inertia\",\n",
    "    xaxis_title=\"# Clusters\",\n",
    "    title=\"Inertia per cluster\"\n",
    ")\n",
    "\n",
    "# Render\n",
    "#fig.show(renderer=\"notebook\")\n",
    "fig.show(renderer=\"iframe\") # if using workspace"
   ]
  },
  {
   "cell_type": "code",
   "execution_count": null,
   "metadata": {},
   "outputs": [],
   "source": []
  },
  {
   "cell_type": "code",
   "execution_count": 100,
   "metadata": {},
   "outputs": [
    {
     "name": "stdout",
     "output_type": "stream",
     "text": [
      "Silhouette score for K=2 is 0.5502200253775127\n",
      "Silhouette score for K=3 is 0.4351719286736168\n",
      "Silhouette score for K=4 is 0.4448266203347618\n",
      "Silhouette score for K=5 is 0.4272927635674541\n",
      "Silhouette score for K=6 is 0.4557684772345857\n",
      "Silhouette score for K=7 is 0.4801525312954849\n",
      "Silhouette score for K=8 is 0.5112800862191189\n",
      "Silhouette score for K=9 is 0.5139568180320434\n",
      "Silhouette score for K=10 is 0.5218895017504465\n"
     ]
    }
   ],
   "source": [
    "# Import silhouette score\n",
    "from sklearn.metrics import silhouette_score\n",
    "\n",
    "# Computer mean silhouette score\n",
    "sil2 = []\n",
    "k2 = []\n",
    "\n",
    "## Careful, you need to start at i=2 as silhouette score cannot accept less than 2 labels \n",
    "for i in range (2,11): \n",
    "    kmeans = KMeans(n_clusters= i, init = \"k-means++\", random_state = 0)\n",
    "    kmeans.fit(D)\n",
    "    sil2.append(silhouette_score(D, kmeans.predict(D)))\n",
    "    k2.append(i)\n",
    "    print(\"Silhouette score for K={} is {}\".format(i, sil2[-1]))"
   ]
  },
  {
   "cell_type": "code",
   "execution_count": null,
   "metadata": {},
   "outputs": [],
   "source": []
  },
  {
   "cell_type": "code",
   "execution_count": 101,
   "metadata": {},
   "outputs": [
    {
     "data": {
      "text/html": [
       "<iframe\n",
       "    scrolling=\"no\"\n",
       "    width=\"100%\"\n",
       "    height=\"545px\"\n",
       "    src=\"iframe_figures/figure_101.html\"\n",
       "    frameborder=\"0\"\n",
       "    allowfullscreen\n",
       "></iframe>\n"
      ]
     },
     "metadata": {},
     "output_type": "display_data"
    }
   ],
   "source": [
    "# Create a data frame \n",
    "cluster_scores=pd.DataFrame(sil2)\n",
    "k_frame = pd.Series(k2)\n",
    "\n",
    "# Create figure\n",
    "fig = px.bar(data_frame=cluster_scores,  \n",
    "             x=k, \n",
    "             y=cluster_scores.iloc[:, -1]\n",
    "            )\n",
    "\n",
    "# Add title and axis labels\n",
    "fig.update_layout(\n",
    "    yaxis_title=\"Silhouette Score\",\n",
    "    xaxis_title=\"# Clusters\",\n",
    "    title=\"Silhouette Score per cluster\"\n",
    ")\n",
    "\n",
    "# Render\n",
    "fig.show(renderer=\"iframe\")"
   ]
  },
  {
   "cell_type": "code",
   "execution_count": 102,
   "metadata": {},
   "outputs": [
    {
     "name": "stdout",
     "output_type": "stream",
     "text": [
      "The silhouette score shows that the best K is 10 with a score of 0.52\n"
     ]
    }
   ],
   "source": [
    "k2_selection = {'K' : k2,'Score' : sil2}\n",
    "df_select_day = pd.DataFrame(data=k2_selection)\n",
    "\n",
    "#Selection of the best K for a filtered Day\n",
    "sort_select = df_select_day.sort_values(by=['Score'], ascending=False)\n",
    "best_k_day = sort_select.loc[:1,:].values[1][0]\n",
    "best_k_day = int(best_k_day) #Transform to integer for kmeans\n",
    "best_score_day = sort_select.loc[:1,:].values[1][1]\n",
    "\n",
    "print('The silhouette score shows that the best K is {} with a score of {}'.format(best_k_day,round(best_score_day,2)))"
   ]
  },
  {
   "cell_type": "code",
   "execution_count": null,
   "metadata": {},
   "outputs": [],
   "source": []
  },
  {
   "cell_type": "code",
   "execution_count": 103,
   "metadata": {},
   "outputs": [
    {
     "data": {
      "text/plain": [
       "KMeans(n_clusters=10, random_state=0)"
      ]
     },
     "execution_count": 103,
     "metadata": {},
     "output_type": "execute_result"
    }
   ],
   "source": [
    "# Instanciate KMeans with k=n and initialisation with k-means++\n",
    "kmeans = KMeans(n_clusters=best_k_day, random_state=0, init=\"k-means++\")\n",
    "\n",
    "# Fit kmeans to our dataset\n",
    "kmeans.fit(D)"
   ]
  },
  {
   "cell_type": "code",
   "execution_count": null,
   "metadata": {},
   "outputs": [],
   "source": []
  },
  {
   "cell_type": "code",
   "execution_count": 60,
   "metadata": {},
   "outputs": [],
   "source": [
    "#Implementing the clusters\n",
    "D['Cluster'] = kmeans.labels_\n",
    "D['Cluster'] = D['Cluster']+1\n",
    "\n",
    "#Adding some columns\n",
    "D['Day'] = dfa_filter_day['Day']\n",
    "D['Hour'] = dfa_filter_day['Hour']\n"
   ]
  },
  {
   "cell_type": "code",
   "execution_count": 61,
   "metadata": {},
   "outputs": [
    {
     "data": {
      "text/html": [
       "<iframe\n",
       "    scrolling=\"no\"\n",
       "    width=\"100%\"\n",
       "    height=\"545px\"\n",
       "    src=\"iframe_figures/figure_61.html\"\n",
       "    frameborder=\"0\"\n",
       "    allowfullscreen\n",
       "></iframe>\n"
      ]
     },
     "metadata": {},
     "output_type": "display_data"
    }
   ],
   "source": [
    "#Applying a sorting method over the Hour column \n",
    "D = D.sort_values(by=['Hour'], ascending=True)\n",
    "\n",
    "#Show the cluster on map\n",
    "fig = px.scatter_mapbox(D, \n",
    "        lat='Lat', \n",
    "            lon='Lon', \n",
    "                color='Cluster', \n",
    "                    zoom=8.5, \n",
    "                        mapbox_style='open-street-map', \n",
    "                            #color_continuous_scale = 'reds',\n",
    "                               animation_frame = 'Hour',\n",
    "                                        title='One day of pickups'\n",
    "                       )\n",
    "fig.show()"
   ]
  },
  {
   "cell_type": "code",
   "execution_count": 62,
   "metadata": {},
   "outputs": [
    {
     "name": "stdout",
     "output_type": "stream",
     "text": [
      "We can see that we have more clusters when we analyse one full day (5 clusters) than when we focus on one specific hour (8 clusters) even if it's a busy hour.\n",
      "The density seems higher that could explain the reduction of clusters.\n"
     ]
    }
   ],
   "source": [
    "print('We can see that we have more clusters when we analyse one full day ({} clusters) than when we focus on one specific hour ({} clusters) even if it\\'s a busy hour.'.format(best_k, best_k_day))\n",
    "print('The density seems higher that could explain the reduction of clusters.')"
   ]
  },
  {
   "cell_type": "code",
   "execution_count": null,
   "metadata": {},
   "outputs": [],
   "source": []
  },
  {
   "cell_type": "markdown",
   "metadata": {},
   "source": [
    "## <span style=\"color:blue\">II. Weekly pickups</span>"
   ]
  },
  {
   "cell_type": "code",
   "execution_count": 90,
   "metadata": {},
   "outputs": [
    {
     "data": {
      "text/html": [
       "<div>\n",
       "<style scoped>\n",
       "    .dataframe tbody tr th:only-of-type {\n",
       "        vertical-align: middle;\n",
       "    }\n",
       "\n",
       "    .dataframe tbody tr th {\n",
       "        vertical-align: top;\n",
       "    }\n",
       "\n",
       "    .dataframe thead th {\n",
       "        text-align: right;\n",
       "    }\n",
       "</style>\n",
       "<table border=\"1\" class=\"dataframe\">\n",
       "  <thead>\n",
       "    <tr style=\"text-align: right;\">\n",
       "      <th></th>\n",
       "      <th>Date/Time</th>\n",
       "      <th>Lat</th>\n",
       "      <th>Lon</th>\n",
       "      <th>Base</th>\n",
       "      <th>Date</th>\n",
       "      <th>Day</th>\n",
       "      <th>Hour</th>\n",
       "      <th>Minute</th>\n",
       "      <th>Week_year</th>\n",
       "      <th>Day_week</th>\n",
       "      <th>Month</th>\n",
       "      <th>Day_period</th>\n",
       "    </tr>\n",
       "  </thead>\n",
       "  <tbody>\n",
       "    <tr>\n",
       "      <th>81287</th>\n",
       "      <td>5/6/2014 17:56:00</td>\n",
       "      <td>40.7553</td>\n",
       "      <td>-73.9763</td>\n",
       "      <td>B02598</td>\n",
       "      <td>5/6/2014 17:56:00</td>\n",
       "      <td>6</td>\n",
       "      <td>17</td>\n",
       "      <td>56</td>\n",
       "      <td>19</td>\n",
       "      <td>2 - Tuesday</td>\n",
       "      <td>5 - May</td>\n",
       "      <td>2 - Afternoon</td>\n",
       "    </tr>\n",
       "    <tr>\n",
       "      <th>313921</th>\n",
       "      <td>5/5/2014 18:25:00</td>\n",
       "      <td>40.7357</td>\n",
       "      <td>-73.9928</td>\n",
       "      <td>B02617</td>\n",
       "      <td>5/5/2014 18:25:00</td>\n",
       "      <td>5</td>\n",
       "      <td>18</td>\n",
       "      <td>25</td>\n",
       "      <td>19</td>\n",
       "      <td>1 - Monday</td>\n",
       "      <td>5 - May</td>\n",
       "      <td>3 - Evening</td>\n",
       "    </tr>\n",
       "    <tr>\n",
       "      <th>647515</th>\n",
       "      <td>5/15/2014 21:27:00</td>\n",
       "      <td>40.7153</td>\n",
       "      <td>-74.0152</td>\n",
       "      <td>B02764</td>\n",
       "      <td>5/15/2014 21:27:00</td>\n",
       "      <td>15</td>\n",
       "      <td>21</td>\n",
       "      <td>27</td>\n",
       "      <td>20</td>\n",
       "      <td>4 - Thursday</td>\n",
       "      <td>5 - May</td>\n",
       "      <td>3 - Evening</td>\n",
       "    </tr>\n",
       "    <tr>\n",
       "      <th>133164</th>\n",
       "      <td>5/12/2014 15:59:00</td>\n",
       "      <td>40.7479</td>\n",
       "      <td>-74.0093</td>\n",
       "      <td>B02598</td>\n",
       "      <td>5/12/2014 15:59:00</td>\n",
       "      <td>12</td>\n",
       "      <td>15</td>\n",
       "      <td>59</td>\n",
       "      <td>20</td>\n",
       "      <td>1 - Monday</td>\n",
       "      <td>5 - May</td>\n",
       "      <td>2 - Afternoon</td>\n",
       "    </tr>\n",
       "    <tr>\n",
       "      <th>295383</th>\n",
       "      <td>5/31/2014 21:06:00</td>\n",
       "      <td>40.7624</td>\n",
       "      <td>-73.9921</td>\n",
       "      <td>B02598</td>\n",
       "      <td>5/31/2014 21:06:00</td>\n",
       "      <td>31</td>\n",
       "      <td>21</td>\n",
       "      <td>6</td>\n",
       "      <td>22</td>\n",
       "      <td>6 - Saturday</td>\n",
       "      <td>5 - May</td>\n",
       "      <td>3 - Evening</td>\n",
       "    </tr>\n",
       "  </tbody>\n",
       "</table>\n",
       "</div>"
      ],
      "text/plain": [
       "                 Date/Time      Lat      Lon    Base                Date  Day  \\\n",
       "81287    5/6/2014 17:56:00  40.7553 -73.9763  B02598   5/6/2014 17:56:00    6   \n",
       "313921   5/5/2014 18:25:00  40.7357 -73.9928  B02617   5/5/2014 18:25:00    5   \n",
       "647515  5/15/2014 21:27:00  40.7153 -74.0152  B02764  5/15/2014 21:27:00   15   \n",
       "133164  5/12/2014 15:59:00  40.7479 -74.0093  B02598  5/12/2014 15:59:00   12   \n",
       "295383  5/31/2014 21:06:00  40.7624 -73.9921  B02598  5/31/2014 21:06:00   31   \n",
       "\n",
       "        Hour  Minute  Week_year      Day_week    Month     Day_period  \n",
       "81287     17      56         19   2 - Tuesday  5 - May  2 - Afternoon  \n",
       "313921    18      25         19    1 - Monday  5 - May    3 - Evening  \n",
       "647515    21      27         20  4 - Thursday  5 - May    3 - Evening  \n",
       "133164    15      59         20    1 - Monday  5 - May  2 - Afternoon  \n",
       "295383    21       6         22  6 - Saturday  5 - May    3 - Evening  "
      ]
     },
     "execution_count": 90,
     "metadata": {},
     "output_type": "execute_result"
    }
   ],
   "source": [
    "dfa.sample(5)"
   ]
  },
  {
   "cell_type": "code",
   "execution_count": 64,
   "metadata": {},
   "outputs": [
    {
     "data": {
      "text/plain": [
       "(48590, 2)"
      ]
     },
     "execution_count": 64,
     "metadata": {},
     "output_type": "execute_result"
    }
   ],
   "source": [
    "#We will apply a filter over the week and the Day_period\n",
    "mask_week = (dfa['Week_year'] == 20) & (dfa['Day_period'] == '2 - Afternoon')\n",
    "dfa_filter_week = dfa.loc[mask_week,:]\n",
    "\n",
    "W = dfa_filter_week.loc[:,['Lat','Lon']]\n",
    "W.shape"
   ]
  },
  {
   "cell_type": "code",
   "execution_count": 65,
   "metadata": {},
   "outputs": [
    {
     "name": "stdout",
     "output_type": "stream",
     "text": [
      "WCSS for K=1 --> 195.56008957490656\n",
      "WCSS for K=2 --> 119.42934425028592\n",
      "WCSS for K=3 --> 89.39554604793513\n",
      "WCSS for K=4 --> 68.85576594822871\n",
      "WCSS for K=5 --> 50.92337357465443\n",
      "WCSS for K=6 --> 41.668486992887196\n",
      "WCSS for K=7 --> 35.95595064400193\n",
      "WCSS for K=8 --> 31.13157517153056\n",
      "WCSS for K=9 --> 26.85181869360926\n",
      "WCSS for K=10 --> 24.441237365294775\n"
     ]
    }
   ],
   "source": [
    "wcss3 =  []\n",
    "k3 = []\n",
    "for i in range (1,11): \n",
    "    kmeans = KMeans(n_clusters=i, init=\"k-means++\", random_state=0)\n",
    "    kmeans.fit(W)\n",
    "    wcss3.append(kmeans.inertia_)\n",
    "    k3.append(i)\n",
    "    print(\"WCSS for K={} --> {}\".format(i, wcss3[-1]))"
   ]
  },
  {
   "cell_type": "code",
   "execution_count": null,
   "metadata": {},
   "outputs": [],
   "source": []
  },
  {
   "cell_type": "code",
   "execution_count": 66,
   "metadata": {},
   "outputs": [
    {
     "data": {
      "text/html": [
       "<iframe\n",
       "    scrolling=\"no\"\n",
       "    width=\"100%\"\n",
       "    height=\"545px\"\n",
       "    src=\"iframe_figures/figure_66.html\"\n",
       "    frameborder=\"0\"\n",
       "    allowfullscreen\n",
       "></iframe>\n"
      ]
     },
     "metadata": {},
     "output_type": "display_data"
    }
   ],
   "source": [
    "# Let's visualize using plotly\n",
    "import plotly.express as px\n",
    "\n",
    "# Create DataFrame\n",
    "wcss_frame = pd.DataFrame(wcss)\n",
    "k_frame = pd.Series(k3)\n",
    "\n",
    "# Create figure\n",
    "fig= px.line(\n",
    "    wcss_frame,\n",
    "    x=k_frame,\n",
    "    y=wcss_frame.iloc[:,-1]\n",
    ")\n",
    "\n",
    "# Create title and axis labels\n",
    "fig.update_layout(\n",
    "    yaxis_title=\"Inertia\",\n",
    "    xaxis_title=\"# Clusters\",\n",
    "    title=\"Inertia per cluster\"\n",
    ")\n",
    "\n",
    "# Render\n",
    "#fig.show(renderer=\"notebook\")\n",
    "fig.show(renderer=\"iframe\") # if using workspace"
   ]
  },
  {
   "cell_type": "code",
   "execution_count": null,
   "metadata": {},
   "outputs": [],
   "source": []
  },
  {
   "cell_type": "code",
   "execution_count": 104,
   "metadata": {},
   "outputs": [
    {
     "name": "stdout",
     "output_type": "stream",
     "text": [
      "Silhouette score for K=2 is 0.49584375820962706\n",
      "Silhouette score for K=3 is 0.43557101160601175\n",
      "Silhouette score for K=4 is 0.48013360166279134\n",
      "Silhouette score for K=5 is 0.5585970002058859\n",
      "Silhouette score for K=6 is 0.6078523018063868\n",
      "Silhouette score for K=7 is 0.6670335055527735\n",
      "Silhouette score for K=8 is 0.7077190877968249\n",
      "Silhouette score for K=9 is 0.7228262047163921\n",
      "Silhouette score for K=10 is 0.7679852444981161\n"
     ]
    }
   ],
   "source": [
    "# Import silhouette score\n",
    "from sklearn.metrics import silhouette_score\n",
    "\n",
    "# Computer mean silhouette score\n",
    "sil3 = []\n",
    "k3 = []\n",
    "\n",
    "## Careful, you need to start at i=2 as silhouette score cannot accept less than 2 labels \n",
    "for i in range (2,11): \n",
    "    kmeans = KMeans(n_clusters= i, init = \"k-means++\", random_state = 0)\n",
    "    kmeans.fit(W)\n",
    "    sil3.append(silhouette_score(W, kmeans.predict(W)))\n",
    "    k3.append(i)\n",
    "    print(\"Silhouette score for K={} is {}\".format(i, sil3[-1]))"
   ]
  },
  {
   "cell_type": "code",
   "execution_count": 105,
   "metadata": {},
   "outputs": [
    {
     "data": {
      "text/html": [
       "<iframe\n",
       "    scrolling=\"no\"\n",
       "    width=\"100%\"\n",
       "    height=\"545px\"\n",
       "    src=\"iframe_figures/figure_105.html\"\n",
       "    frameborder=\"0\"\n",
       "    allowfullscreen\n",
       "></iframe>\n"
      ]
     },
     "metadata": {},
     "output_type": "display_data"
    }
   ],
   "source": [
    "# Create a data frame \n",
    "cluster_scores=pd.DataFrame(sil3)\n",
    "k_frame = pd.Series(k3)\n",
    "\n",
    "# Create figure\n",
    "fig = px.bar(data_frame=cluster_scores,  \n",
    "             x=k, \n",
    "             y=cluster_scores.iloc[:, -1]\n",
    "            )\n",
    "\n",
    "# Add title and axis labels\n",
    "fig.update_layout(\n",
    "    yaxis_title=\"Silhouette Score\",\n",
    "    xaxis_title=\"# Clusters\",\n",
    "    title=\"Silhouette Score per cluster\"\n",
    ")\n",
    "\n",
    "# Render\n",
    "fig.show(renderer=\"iframe\")"
   ]
  },
  {
   "cell_type": "code",
   "execution_count": null,
   "metadata": {},
   "outputs": [],
   "source": []
  },
  {
   "cell_type": "code",
   "execution_count": 106,
   "metadata": {},
   "outputs": [
    {
     "name": "stdout",
     "output_type": "stream",
     "text": [
      "The silhouette score shows that the best K is 9 with a score of 0.72\n"
     ]
    }
   ],
   "source": [
    "k3_selection = {'K' : k3,'Score' : sil3}\n",
    "df_select_week = pd.DataFrame(data=k3_selection)\n",
    "\n",
    "#Selection of the better K\n",
    "sort_select = df_select_week.sort_values(by=['Score'], ascending=False)\n",
    "best_k_week = sort_select.loc[:1,:].values[1][0]\n",
    "best_k_week = int(best_k_week) #Transform to integer for kmeans\n",
    "best_score_week = sort_select.loc[:1,:].values[1][1]\n",
    "\n",
    "print('The silhouette score shows that the best K is {} with a score of {}'.format(best_k_week,round(best_score_week,2)))"
   ]
  },
  {
   "cell_type": "code",
   "execution_count": null,
   "metadata": {},
   "outputs": [],
   "source": []
  },
  {
   "cell_type": "code",
   "execution_count": 107,
   "metadata": {},
   "outputs": [
    {
     "data": {
      "text/plain": [
       "KMeans(n_clusters=9, random_state=0)"
      ]
     },
     "execution_count": 107,
     "metadata": {},
     "output_type": "execute_result"
    }
   ],
   "source": [
    "# Instanciate KMeans with k=3 and initialisation with k-means++\n",
    "# You should always use k-means++ as it alleviate the problem of local minimum convergence \n",
    "kmeans = KMeans(n_clusters=best_k_week, random_state=0, init=\"k-means++\")\n",
    "\n",
    "# Fit kmeans to our dataset\n",
    "kmeans.fit(W)"
   ]
  },
  {
   "cell_type": "code",
   "execution_count": null,
   "metadata": {},
   "outputs": [],
   "source": []
  },
  {
   "cell_type": "code",
   "execution_count": 108,
   "metadata": {},
   "outputs": [],
   "source": [
    "W['Cluster'] = kmeans.labels_\n",
    "W['Cluster'] = W['Cluster']+1\n",
    "\n",
    "\n",
    "W['Day'] = dfa_filter_week['Day']\n",
    "W['Week_year'] = dfa_filter_week['Week_year']\n"
   ]
  },
  {
   "cell_type": "code",
   "execution_count": 109,
   "metadata": {},
   "outputs": [
    {
     "data": {
      "text/html": [
       "<iframe\n",
       "    scrolling=\"no\"\n",
       "    width=\"100%\"\n",
       "    height=\"545px\"\n",
       "    src=\"iframe_figures/figure_109.html\"\n",
       "    frameborder=\"0\"\n",
       "    allowfullscreen\n",
       "></iframe>\n"
      ]
     },
     "metadata": {},
     "output_type": "display_data"
    }
   ],
   "source": [
    "#Sorting on 'Day' to have a proper dynamic map\n",
    "W = W.sort_values(by=['Day'], ascending=True)\n",
    "\n",
    "\n",
    "fig = px.scatter_mapbox(W, \n",
    "        lat='Lat', \n",
    "            lon='Lon', \n",
    "                color='Cluster', \n",
    "                    zoom=8.0, \n",
    "                        mapbox_style='carto-positron', \n",
    "                            #color_continuous_scale = 'Reds',\n",
    "                                hover_name=\"Cluster\",\n",
    "                                       animation_frame = 'Day',\n",
    "                                        title='Weekly pickups on the afternoon'\n",
    "                       )\n",
    "fig.show()"
   ]
  },
  {
   "cell_type": "code",
   "execution_count": null,
   "metadata": {},
   "outputs": [],
   "source": []
  },
  {
   "cell_type": "markdown",
   "metadata": {},
   "source": [
    "## B) DBSCAN ALGORITHM"
   ]
  },
  {
   "cell_type": "markdown",
   "metadata": {},
   "source": [
    "### 1. Clustering by density"
   ]
  },
  {
   "cell_type": "markdown",
   "metadata": {},
   "source": [
    "# Apply DBSCAN 🚀🚀"
   ]
  },
  {
   "cell_type": "code",
   "execution_count": null,
   "metadata": {},
   "outputs": [],
   "source": []
  },
  {
   "cell_type": "markdown",
   "metadata": {},
   "source": [
    "## <span style=\"color:blue\">HOT ZONES</span>"
   ]
  },
  {
   "cell_type": "markdown",
   "metadata": {},
   "source": [
    "- Hot-zones are areas where there is a density particularly high centered. \n",
    "- It means that we would exclude lot of elements. They will be concidered as outliers"
   ]
  },
  {
   "cell_type": "markdown",
   "metadata": {},
   "source": [
    "## <span style=\"color:blue\">I. CLUSTER OVER ONE FULL WEEK</span>"
   ]
  },
  {
   "cell_type": "code",
   "execution_count": 73,
   "metadata": {},
   "outputs": [],
   "source": [
    "#Set parameters to define the clusters' density\n",
    "EPSW = 0.00069\n",
    "MIN_SW = 240"
   ]
  },
  {
   "cell_type": "code",
   "execution_count": 74,
   "metadata": {},
   "outputs": [
    {
     "name": "stdout",
     "output_type": "stream",
     "text": [
      "Nombres de clusters: 19\n",
      "Nombres de bruits: 145741 (93.0 %)\n",
      "Hot zones represent 0.07 % of all rides\n",
      "-----------------------------------------------\n"
     ]
    },
    {
     "data": {
      "text/html": [
       "<iframe\n",
       "    scrolling=\"no\"\n",
       "    width=\"100%\"\n",
       "    height=\"545px\"\n",
       "    src=\"iframe_figures/figure_74.html\"\n",
       "    frameborder=\"0\"\n",
       "    allowfullscreen\n",
       "></iframe>\n"
      ]
     },
     "metadata": {},
     "output_type": "display_data"
    }
   ],
   "source": [
    "#Applying a filter over one specific week\n",
    "Week20 = dfa['Week_year'] == 20\n",
    "W20 = dfa.loc[Week20,:]\n",
    "Loc20 = W20.loc[:,['Lat','Lon']]\n",
    "\n",
    "# Instanciate DBSCAN\n",
    "db = DBSCAN(\n",
    "            eps = EPSW, \n",
    "                min_samples = MIN_SW, \n",
    "                    metric = 'manhattan', \n",
    "                        #algorithm = 'brute'\n",
    "                                               )\n",
    "\n",
    "\n",
    "# Apply the parameters od DBSCAN on the Lat / Lon\n",
    "db.fit(Loc20)\n",
    "\n",
    "#Filter the week 20 \n",
    "Loc20['Cluster'] = db.labels_\n",
    "Loc20['Day'] = W20['Day']\n",
    "Loc20['Hour'] = W20['Hour']\n",
    "\n",
    "labels = db.labels_\n",
    "unique_lab = set(Loc20['Cluster'])\n",
    "nb_cluster = len(unique_lab)\n",
    "n_noise_points = list(labels).count(-1)\n",
    "print('Nombres de clusters: {}'.format(nb_cluster))\n",
    "print('Nombres de bruits: {} ({} %)'.format(n_noise_points,(round(n_noise_points/len(Loc20)*100,1))))\n",
    "print('Hot zones represent {} % of all rides'.format(round(1-(n_noise_points/len(Loc20)),2)))\n",
    "print('-----------------------------------------------')\n",
    "\n",
    "#Sorting on 'Day' to have a proper dynamic map\n",
    "Loc20 = Loc20.sort_values(by=['Day'], ascending=True)\n",
    "\n",
    "fig = px.scatter_mapbox(Loc20[Loc20.Cluster != -1],\n",
    "                        lat='Lat',\n",
    "                            lon='Lon',\n",
    "                                color='Cluster',\n",
    "                                    animation_frame = 'Day',\n",
    "                                        hover_name=\"Cluster\",\n",
    "                                        zoom=9.7,\n",
    "                                            mapbox_style = 'carto-positron')\n",
    "\n",
    "fig.show(renderer='iframe')"
   ]
  },
  {
   "cell_type": "code",
   "execution_count": null,
   "metadata": {},
   "outputs": [],
   "source": []
  },
  {
   "cell_type": "code",
   "execution_count": 75,
   "metadata": {},
   "outputs": [
    {
     "name": "stdout",
     "output_type": "stream",
     "text": [
      "\n",
      "* We have discovered 18 hotspots where the density is very high.\n",
      "------------------------------------------------------------------\n",
      "* Some of them are located around the airports: 50.0%\n",
      "- Newark Liberty (1) \n",
      "- John.F Kennedy (4)\n",
      "- LaGuardia (4)\n",
      "\n",
      "* Some of them are located around Central Park: 16.67%\n",
      "- 5th Avenue (1)\n",
      "- Madison Avenue (1)\n",
      "- Upper East Side (1)\n",
      "\n",
      "* The remaining clusters are located in the center of New York: 38.89%\n",
      "- South-West (4)\n",
      "- Pennsylvania Station (1)\n",
      "- Midtown-East(1)\n",
      "- Park-Avenue (1)\n"
     ]
    }
   ],
   "source": [
    "print('')\n",
    "print('* We have discovered 18 hotspots where the density is very high.')\n",
    "print('------------------------------------------------------------------')\n",
    "print('* Some of them are located around the airports: {}%\\n- Newark Liberty (1) \\n- John.F Kennedy (4)\\n- LaGuardia (4)'.format(round((9/18)*100,2) \n",
    "                                                                                                                                ))\n",
    "print('')\n",
    "print('* Some of them are located around Central Park: {}%\\n- 5th Avenue (1)\\n- Madison Avenue (1)\\n- Upper East Side (1)'.format(round((3/18)*100,2) \n",
    "                                                                                                                                ))\n",
    "print('')\n",
    "print('* The remaining clusters are located in the center of New York: {}%\\n- South-West (4)\\n- Pennsylvania Station (1)\\n- Midtown-East(1)\\n- Park-Avenue (1)'.format(round((7/18)*100,2) \n",
    "                                                                                                                                ))"
   ]
  },
  {
   "cell_type": "code",
   "execution_count": null,
   "metadata": {},
   "outputs": [],
   "source": []
  },
  {
   "cell_type": "code",
   "execution_count": null,
   "metadata": {},
   "outputs": [],
   "source": []
  },
  {
   "cell_type": "markdown",
   "metadata": {},
   "source": [
    "## <span style=\"color:blue\">II. ONE WEEK : PERIOD OF DAY</span>"
   ]
  },
  {
   "cell_type": "markdown",
   "metadata": {},
   "source": [
    "### <span style=\"color:blue\">HOT-ZONES AT NIGHT</span>"
   ]
  },
  {
   "cell_type": "code",
   "execution_count": 76,
   "metadata": {},
   "outputs": [],
   "source": [
    "#Set parameters to define the clusters' density\n",
    "EPSWN = 0.002\n",
    "MIN_SWN = 250"
   ]
  },
  {
   "cell_type": "code",
   "execution_count": 77,
   "metadata": {},
   "outputs": [
    {
     "name": "stdout",
     "output_type": "stream",
     "text": [
      "Nombres de clusters: 7\n",
      "Nombres de bruits: 23113 (87.1 %)\n",
      "-----------------------------------------------\n"
     ]
    },
    {
     "data": {
      "text/html": [
       "<iframe\n",
       "    scrolling=\"no\"\n",
       "    width=\"100%\"\n",
       "    height=\"545px\"\n",
       "    src=\"iframe_figures/figure_77.html\"\n",
       "    frameborder=\"0\"\n",
       "    allowfullscreen\n",
       "></iframe>\n"
      ]
     },
     "metadata": {},
     "output_type": "display_data"
    }
   ],
   "source": [
    "\n",
    "\n",
    "night = W20['Day_period'] == '4 - Night'\n",
    "W20_night = W20.loc[night,:]\n",
    "W20_night\n",
    "Loc20_night = W20_night.loc[:,['Lat','Lon']]\n",
    "\n",
    "\n",
    "# Instanciate DBSCAN\n",
    "db = DBSCAN(\n",
    "            eps = EPSWN, \n",
    "                min_samples = MIN_SWN, \n",
    "                    metric = 'manhattan', \n",
    "                        #algorithm = 'brute'\n",
    "                                               )\n",
    "\n",
    "\n",
    "# Apply the parameters od DBSCAN on the Lat / Lon\n",
    "db.fit(Loc20_night)\n",
    "\n",
    "\n",
    "\n",
    "#Filter the week 20 \n",
    "Loc20_night['Cluster'] = db.labels_\n",
    "Loc20_night['Day'] = W20_night['Day']\n",
    "Loc20_night['Hour'] = W20_night['Hour']\n",
    "Loc20_night['Date/Time'] = W20_night['Date/Time']\n",
    "\n",
    "labels = db.labels_\n",
    "unique_lab = set(Loc20_night['Cluster'])\n",
    "nb_cluster = len(unique_lab)\n",
    "n_noise_points = list(labels).count(-1)\n",
    "print('Nombres de clusters: {}'.format(nb_cluster))\n",
    "print('Nombres de bruits: {} ({} %)'.format(n_noise_points,(round(n_noise_points/len(Loc20_night)*100,1))))\n",
    "print('-----------------------------------------------')\n",
    "\n",
    "Loc20_night = Loc20_night.sort_values(by=['Date/Time'], ascending=True)\n",
    "\n",
    "fig = px.scatter_mapbox(Loc20_night[Loc20_night.Cluster != -1],\n",
    "                        lat='Lat',\n",
    "                            lon='Lon',\n",
    "                                color='Cluster',\n",
    "                                    animation_frame = 'Hour',\n",
    "                                        zoom=9.7,\n",
    "                                            hover_name=\"Cluster\",\n",
    "                                            mapbox_style = 'carto-darkmatter')\n",
    "\n",
    "fig.show(renderer='iframe')"
   ]
  },
  {
   "cell_type": "code",
   "execution_count": 78,
   "metadata": {},
   "outputs": [
    {
     "name": "stdout",
     "output_type": "stream",
     "text": [
      "\n",
      "* We have discovered 6 hotspots during the night (22pm to 5am) where the density is very high.\n",
      "------------------------------------------------------------------\n",
      "* Some of them are located around the airports: 33.33%\n",
      "- John.F Kennedy (1)\n",
      "- LaGuardia (1)\n",
      "\n",
      "* The remaining clusters are located in the center of New York: 66.67%\n",
      "- South-West (2)\n",
      "- South (2)\n"
     ]
    }
   ],
   "source": [
    "print('')\n",
    "print('* We have discovered 6 hotspots during the night (22pm to 5am) where the density is very high.')\n",
    "print('------------------------------------------------------------------')\n",
    "print('* Some of them are located around the airports: {}%\\n- John.F Kennedy (1)\\n- LaGuardia (1)'.format(round((2/6)*100,2) \n",
    "                                                                                                                                ))\n",
    "print('')\n",
    "print('* The remaining clusters are located in the center of New York: {}%\\n- South-West (2)\\n- South (2)'.format(round((4/6)*100,2) \n",
    "                                                                                                                                ))"
   ]
  },
  {
   "cell_type": "code",
   "execution_count": null,
   "metadata": {},
   "outputs": [],
   "source": []
  },
  {
   "cell_type": "markdown",
   "metadata": {},
   "source": [
    "### <span style=\"color:blue\">HOT-ZONES ON THE MORNING</span>"
   ]
  },
  {
   "cell_type": "code",
   "execution_count": 79,
   "metadata": {},
   "outputs": [],
   "source": [
    "#Set parameters to define the clusters' density\n",
    "EPSWM = 0.0024\n",
    "MIN_SWM = 250"
   ]
  },
  {
   "cell_type": "code",
   "execution_count": 80,
   "metadata": {},
   "outputs": [
    {
     "name": "stdout",
     "output_type": "stream",
     "text": [
      "Nombres de clusters: 9\n",
      "Nombres de bruits: 33986 (88.5 %)\n",
      "-----------------------------------------------\n"
     ]
    },
    {
     "data": {
      "text/html": [
       "<iframe\n",
       "    scrolling=\"no\"\n",
       "    width=\"100%\"\n",
       "    height=\"545px\"\n",
       "    src=\"iframe_figures/figure_80.html\"\n",
       "    frameborder=\"0\"\n",
       "    allowfullscreen\n",
       "></iframe>\n"
      ]
     },
     "metadata": {},
     "output_type": "display_data"
    }
   ],
   "source": [
    "\n",
    "\n",
    "morning = W20['Day_period'] == '1 - Morning'\n",
    "\n",
    "W20_morning = W20.loc[morning,:]\n",
    "\n",
    "Loc20_morning = W20_morning.loc[:,['Lat','Lon']]\n",
    "\n",
    "\n",
    "# Instanciate DBSCAN\n",
    "db = DBSCAN(\n",
    "            eps = EPSWM, \n",
    "                min_samples = MIN_SWM, \n",
    "                    metric = 'manhattan', \n",
    "                        #algorithm = 'brute'\n",
    "                                               )\n",
    "\n",
    "\n",
    "# Apply the parameters od DBSCAN on the Lat / Lon\n",
    "db.fit(Loc20_morning)\n",
    "\n",
    "#Filter the week 20 \n",
    "Loc20_morning['Cluster'] = db.labels_\n",
    "Loc20_morning['Day'] = W20_morning['Day']\n",
    "Loc20_morning['Hour'] = W20_morning['Hour']\n",
    "Loc20_morning['Date/Time'] = W20_morning['Date/Time']\n",
    "\n",
    "labels = db.labels_\n",
    "unique_lab = set(Loc20_morning['Cluster'])\n",
    "nb_cluster = len(unique_lab)\n",
    "n_noise_points = list(labels).count(-1)\n",
    "print('Nombres de clusters: {}'.format(nb_cluster))\n",
    "print('Nombres de bruits: {} ({} %)'.format(n_noise_points,(round(n_noise_points/len(Loc20_morning)*100,1))))\n",
    "print('-----------------------------------------------')\n",
    "\n",
    "\n",
    "Loc20_morning = Loc20_morning.sort_values(by=['Hour'], ascending=True)\n",
    "\n",
    "fig = px.scatter_mapbox(Loc20_morning[Loc20_morning.Cluster != -1],\n",
    "                            lat='Lat',\n",
    "                                lon='Lon',\n",
    "                                    color='Cluster',\n",
    "                                        animation_frame = 'Hour',\n",
    "                                            zoom=10.9,\n",
    "                                                hover_name=\"Cluster\",\n",
    "                                                mapbox_style = 'carto-positron',\n",
    "                                                    title='One week pickups on the morning'\n",
    "                       )\n",
    "\n",
    "fig.show(renderer='iframe')"
   ]
  },
  {
   "cell_type": "code",
   "execution_count": 81,
   "metadata": {},
   "outputs": [
    {
     "name": "stdout",
     "output_type": "stream",
     "text": [
      "\n",
      "* We have discovered 8 hotspots during the morning (6am to 12pm) where  the density is very high.\n",
      "------------------------------------------------------------------\n",
      "* Some of them are located around the airports: 25.0%\n",
      "- LaGuardia (2)\n",
      "\n",
      "* Some of them are located around Central Park, at the South: 25.0%\n",
      "- 5th Avenue (1)\n",
      "- Park-Avenue (1)\n",
      "\n",
      "* The remaining clusters are located in the center of New York: 50.0%\n",
      "- South-Center (2)\n",
      "- Pennsylvania Station (1)\n",
      "- Mildtown-East(1)\n"
     ]
    }
   ],
   "source": [
    "print('')\n",
    "print('* We have discovered 8 hotspots during the morning (6am to 12pm) where  the density is very high.')\n",
    "print('------------------------------------------------------------------')\n",
    "print('* Some of them are located around the airports: {}%\\n- LaGuardia (2)'.format(round((2/8)*100,2) \n",
    "                                                                                                                                ))\n",
    "print('')\n",
    "print('* Some of them are located around Central Park, at the South: {}%\\n- 5th Avenue (1)\\n- Park-Avenue (1)'.format(round((2/8)*100,2) \n",
    "                                                                                                                                ))\n",
    "print('')\n",
    "print('* The remaining clusters are located in the center of New York: {}%\\n- South-Center (2)\\n- Pennsylvania Station (1)\\n- Mildtown-East(1)'.format(round((4/8)*100,2) \n",
    "                                                                                                                                ))"
   ]
  },
  {
   "cell_type": "code",
   "execution_count": null,
   "metadata": {},
   "outputs": [],
   "source": []
  },
  {
   "cell_type": "markdown",
   "metadata": {},
   "source": [
    "### <span style=\"color:blue\">HOT-ZONES ON THE AFTERNOON</span>"
   ]
  },
  {
   "cell_type": "code",
   "execution_count": 82,
   "metadata": {},
   "outputs": [],
   "source": [
    "#Set parameters to define the clusters' density\n",
    "EPSWA = 0.0015\n",
    "MIN_SWA = 250"
   ]
  },
  {
   "cell_type": "code",
   "execution_count": 83,
   "metadata": {},
   "outputs": [
    {
     "name": "stdout",
     "output_type": "stream",
     "text": [
      "Nombres de clusters: 9\n",
      "Nombres de bruits: 42819 (88.1 %)\n",
      "-----------------------------------------------\n"
     ]
    },
    {
     "data": {
      "text/html": [
       "<iframe\n",
       "    scrolling=\"no\"\n",
       "    width=\"100%\"\n",
       "    height=\"545px\"\n",
       "    src=\"iframe_figures/figure_83.html\"\n",
       "    frameborder=\"0\"\n",
       "    allowfullscreen\n",
       "></iframe>\n"
      ]
     },
     "metadata": {},
     "output_type": "display_data"
    }
   ],
   "source": [
    "\n",
    "\n",
    "afternoon = W20['Day_period'] == '2 - Afternoon'\n",
    "\n",
    "W20_afternoon = W20.loc[afternoon,:]\n",
    "\n",
    "Loc20_afternoon = W20_afternoon.loc[:,['Lat','Lon']]\n",
    "\n",
    "\n",
    "# Instanciate DBSCAN\n",
    "db = DBSCAN(\n",
    "            eps = EPSWA, \n",
    "                min_samples = MIN_SWA, \n",
    "                    metric = 'manhattan', \n",
    "                        #algorithm = 'brute'\n",
    "                                               )\n",
    "\n",
    "\n",
    "# Apply the parameters od DBSCAN on the Lat / Lon\n",
    "db.fit(Loc20_afternoon)\n",
    "\n",
    "#Filter the week 20 \n",
    "Loc20_afternoon['Cluster'] = db.labels_\n",
    "Loc20_afternoon['Day'] = W20_afternoon['Day']\n",
    "Loc20_afternoon['Hour'] = W20_afternoon['Hour']\n",
    "Loc20_afternoon['Date/Time'] = W20_afternoon['Date/Time']\n",
    "\n",
    "labels = db.labels_\n",
    "unique_lab = set(Loc20_afternoon['Cluster'])\n",
    "nb_cluster = len(unique_lab)\n",
    "n_noise_points = list(labels).count(-1)\n",
    "print('Nombres de clusters: {}'.format(nb_cluster))\n",
    "print('Nombres de bruits: {} ({} %)'.format(n_noise_points,(round(n_noise_points/len(Loc20_afternoon)*100,1))))\n",
    "print('-----------------------------------------------')\n",
    "\n",
    "Loc20_afternoon = Loc20_afternoon.sort_values(by=['Hour'], ascending=True)\n",
    "\n",
    "fig = px.scatter_mapbox(Loc20_afternoon[Loc20_afternoon.Cluster != -1],\n",
    "                            lat='Lat',\n",
    "                                lon='Lon',\n",
    "                                    color='Cluster',\n",
    "                                        animation_frame = 'Hour',\n",
    "                                            zoom=9.2,\n",
    "                                                hover_name=\"Cluster\",\n",
    "                                                mapbox_style = 'carto-positron',\n",
    "                                                    title='One week pickups on the afternoon'\n",
    "                       )\n",
    "\n",
    "fig.show(renderer='iframe')"
   ]
  },
  {
   "cell_type": "code",
   "execution_count": 84,
   "metadata": {},
   "outputs": [
    {
     "name": "stdout",
     "output_type": "stream",
     "text": [
      "\n",
      "* We have discovered 8 hotspots during the afternoon (1pm to 5pm) where  the density is very high.\n",
      "------------------------------------------------------------------\n",
      "* Some of them are located around the airports: 37.5%\n",
      "- John.F Kennedy (1)\n",
      "- LaGuardia (2)\n",
      "\n",
      "* Some of them are located around Central Park, at the South-East: 37.5%\n",
      "- 5th Avenue / Madison-Avenue / Park-Avenue (3)\n",
      "\n",
      "* The remaining clusters are located in the center of New York: 25.0%\n",
      "- Prince Street (1)\n",
      "- Pennsylvania Station (1)\n"
     ]
    }
   ],
   "source": [
    "print('')\n",
    "print('* We have discovered 8 hotspots during the afternoon (1pm to 5pm) where  the density is very high.')\n",
    "print('------------------------------------------------------------------')\n",
    "print('* Some of them are located around the airports: {}%\\n- John.F Kennedy (1)\\n- LaGuardia (2)'.format(round((3/8)*100,2) \n",
    "                                                                                                                                ))\n",
    "print('')\n",
    "print('* Some of them are located around Central Park, at the South-East: {}%\\n- 5th Avenue / Madison-Avenue / Park-Avenue (3)'.format(round((3/8)*100,2) \n",
    "                                                                                                                                ))\n",
    "print('')\n",
    "print('* The remaining clusters are located in the center of New York: {}%\\n- Prince Street (1)\\n- Pennsylvania Station (1)'.format(round((2/8)*100,2) \n",
    "                                                                                                                                ))"
   ]
  },
  {
   "cell_type": "code",
   "execution_count": null,
   "metadata": {},
   "outputs": [],
   "source": []
  },
  {
   "cell_type": "markdown",
   "metadata": {},
   "source": [
    "### <span style=\"color:blue\">HOT-ZONES ON THE EVENING</span>"
   ]
  },
  {
   "cell_type": "code",
   "execution_count": 85,
   "metadata": {},
   "outputs": [],
   "source": [
    "#Set parameters to define the clusters' density\n",
    "EPSWE = 0.0015\n",
    "MIN_SWE = 250"
   ]
  },
  {
   "cell_type": "code",
   "execution_count": 86,
   "metadata": {},
   "outputs": [
    {
     "name": "stdout",
     "output_type": "stream",
     "text": [
      "Nombres de clusters: 8\n",
      "Nombres de bruits: 39928 (92.3 %)\n",
      "-----------------------------------------------\n"
     ]
    },
    {
     "data": {
      "text/html": [
       "<iframe\n",
       "    scrolling=\"no\"\n",
       "    width=\"100%\"\n",
       "    height=\"545px\"\n",
       "    src=\"iframe_figures/figure_86.html\"\n",
       "    frameborder=\"0\"\n",
       "    allowfullscreen\n",
       "></iframe>\n"
      ]
     },
     "metadata": {},
     "output_type": "display_data"
    }
   ],
   "source": [
    "\n",
    "evening = W20['Day_period'] == '3 - Evening'\n",
    "\n",
    "W20_evening = W20.loc[evening,:]\n",
    "\n",
    "Loc20_evening = W20_evening.loc[:,['Lat','Lon']]\n",
    "\n",
    "\n",
    "# Instanciate DBSCAN\n",
    "db = DBSCAN(\n",
    "            eps = EPSWE, \n",
    "                min_samples = MIN_SWE, \n",
    "                    metric = 'manhattan', \n",
    "                        #algorithm = 'brute'\n",
    "                                               )\n",
    "\n",
    "\n",
    "# Apply the parameters od DBSCAN on the Lat / Lon\n",
    "db.fit(Loc20_evening)\n",
    "\n",
    "#Filter the week 20 \n",
    "Loc20_evening['Cluster'] = db.labels_\n",
    "Loc20_evening['Day'] = W20_evening['Day']\n",
    "Loc20_evening['Hour'] = W20_evening['Hour']\n",
    "Loc20_evening['Date/Time'] = W20_evening['Date/Time']\n",
    "\n",
    "labels = db.labels_\n",
    "unique_lab = set(Loc20_evening['Cluster'])\n",
    "nb_cluster = len(unique_lab)\n",
    "n_noise_points = list(labels).count(-1)\n",
    "print('Nombres de clusters: {}'.format(nb_cluster))\n",
    "print('Nombres de bruits: {} ({} %)'.format(n_noise_points,(round(n_noise_points/len(Loc20_evening)*100,1))))\n",
    "print('-----------------------------------------------')\n",
    "\n",
    "Loc20_evening = Loc20_evening.sort_values(by=['Hour'], ascending=True)\n",
    "\n",
    "fig = px.scatter_mapbox(Loc20_evening[Loc20_evening.Cluster != -1],\n",
    "                            lat='Lat',\n",
    "                                lon='Lon',\n",
    "                                    color='Cluster',\n",
    "                                        animation_frame = 'Hour',\n",
    "                                            zoom=9.3,\n",
    "                                                hover_name=\"Cluster\",\n",
    "                                                mapbox_style = 'carto-positron',\n",
    "                                                    title='One week pickups on the evening'\n",
    "                       )\n",
    "\n",
    "fig.show(renderer='iframe')"
   ]
  },
  {
   "cell_type": "code",
   "execution_count": 87,
   "metadata": {},
   "outputs": [
    {
     "data": {
      "text/plain": [
       "43261"
      ]
     },
     "execution_count": 87,
     "metadata": {},
     "output_type": "execute_result"
    }
   ],
   "source": [
    "len(Loc20_evening)"
   ]
  },
  {
   "cell_type": "code",
   "execution_count": 88,
   "metadata": {},
   "outputs": [
    {
     "name": "stdout",
     "output_type": "stream",
     "text": [
      "\n",
      "* We have discovered 7 hotspots during the evening (6pm to 9pm) where the density is very high.\n",
      "------------------------------------------------------------------\n",
      "* Some of them are located around the airports: 42.86%\n",
      "- John.F Kennedy (1)\n",
      "- LaGuardia (2)\n",
      "\n",
      "* Some of them are located around Central Park, at the South-East: 42.86%\n",
      "- 5th Avenue (1)\n",
      "- Midtown (1)\n",
      "- Park-Avenue (1)\n",
      "\n",
      "* The remaining clusters are located in the center of New York: 12.5%\n",
      "- South-Ouest (1)\n"
     ]
    }
   ],
   "source": [
    "print('')\n",
    "print('* We have discovered 7 hotspots during the evening (6pm to 9pm) where the density is very high.')\n",
    "print('------------------------------------------------------------------')\n",
    "print('* Some of them are located around the airports: {}%\\n- John.F Kennedy (1)\\n- LaGuardia (2)'.format(round((3/7)*100,2) \n",
    "                                                                                                                                ))\n",
    "print('')\n",
    "print('* Some of them are located around Central Park, at the South-East: {}%\\n- 5th Avenue (1)\\n- Midtown (1)\\n- Park-Avenue (1)'.format(round((3/7)*100,2) \n",
    "                                                                                                                                ))\n",
    "print('')\n",
    "print('* The remaining clusters are located in the center of New York: {}%\\n- South-Ouest (1)'.format(round((1/8)*100,2) \n",
    "                                                                                                                                ))"
   ]
  },
  {
   "cell_type": "code",
   "execution_count": null,
   "metadata": {},
   "outputs": [],
   "source": []
  },
  {
   "cell_type": "markdown",
   "metadata": {},
   "source": [
    "\n",
    "### **5. Conclusion**\n",
    "---"
   ]
  },
  {
   "cell_type": "markdown",
   "metadata": {},
   "source": [
    "Our conclusions after the review of this dataset; Uber's pickups for the *month of May 2014*.\n",
    "\n",
    "The analysis shows that there is a *diversity of hotzones* depending on the week, day, hour and the month period.\n",
    "\n",
    "We have highlighted the major hotzones with high density no matter the period, there are **19 hotzones**.\n",
    "\n",
    "Then, we focused our research on specific areas at specific period of time.\n",
    "\n",
    "We can easily underline that the above areas are the most dynamic places where Uber drivers would have the highest chance to get rides : \n",
    "- ***New York airports***\n",
    "- ***South-Ouest of Manhatthan*** \n",
    "- ***Pennsylvania Station***\n",
    "- ***South-East of Central Park*** \n",
    "\n",
    "The Team Data of Uber, must definitely tells the Operation Team to redirect as mainy available drivers possible to those hotspots.\n",
    "\n",
    "It will for sure increase Uber sales and improve client satisfaction."
   ]
  },
  {
   "cell_type": "code",
   "execution_count": null,
   "metadata": {},
   "outputs": [],
   "source": []
  }
 ],
 "metadata": {
  "kernelspec": {
   "display_name": "Python 3",
   "language": "python",
   "name": "python3"
  },
  "language_info": {
   "codemirror_mode": {
    "name": "ipython",
    "version": 3
   },
   "file_extension": ".py",
   "mimetype": "text/x-python",
   "name": "python",
   "nbconvert_exporter": "python",
   "pygments_lexer": "ipython3",
   "version": "3.8.6"
  }
 },
 "nbformat": 4,
 "nbformat_minor": 4
}
