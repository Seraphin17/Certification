{
 "cells": [
  {
   "attachments": {
    "7cb0fd8d-fa90-451b-b06f-0ffe3eb75d0b.png": {
     "image/png": "[encoded data removed]"
    }
   },
   "cell_type": "markdown",
   "metadata": {},
   "source": [
    "# <span style=\"color:#37464f\"><center>**Yannick NOUDJOUKOUANG**</center></span>\n",
    "### **<center>JEDHA (FULLSTACK - 2021)</center>**\n",
    "# **<center>SUPERVISED MACHINE LEARNING</center>**\n",
    "![image.png](attachment:7cb0fd8d-fa90-451b-b06f-0ffe3eb75d0b.png)"
   ]
  },
  {
   "cell_type": "markdown",
   "metadata": {},
   "source": [
    "---"
   ]
  },
  {
   "cell_type": "markdown",
   "metadata": {},
   "source": [
    "\n",
    "## <span>**PLAN**</span>\n",
    "\n",
    "1. Introduction\n",
    "2. Data collection & EDA\n",
    "3. Data visualization\n",
    "4. Preprocessing & Machine Learning\n",
    "5. Model assessment & Regularization\n",
    "6. Conclusion\n",
    "\n",
    "---"
   ]
  },
  {
   "cell_type": "markdown",
   "metadata": {},
   "source": [
    "\n",
    "### **1. Introduction**\n",
    "---"
   ]
  },
  {
   "cell_type": "markdown",
   "metadata": {},
   "source": [
    "**Good to know** : Machine learning is a multidisciplinary science that aims at enabling machines to solve complex problems without explicitely coding the decision making process.\n",
    "Supervised machine learning is a branch of this discipline that consists in solving problems for which there are already solved examples."
   ]
  },
  {
   "cell_type": "markdown",
   "metadata": {},
   "source": [
    "<img src=\"https://www.bestdesigns.co/uploads/inspiration_images/4350/990__1511457498_404_walmart.png\" alt=\"WALMART LOGO\" />\n",
    "\n",
    "\n",
    "# Walmart : predict weekly sales\n",
    "\n",
    "## Company's Description 📇\n",
    "\n",
    "Walmart Inc. is an American multinational retail corporation that operates a chain of hypermarkets, discount department stores, and grocery stores from the United States, headquartered in Bentonville, Arkansas. The company was founded by Sam Walton in 1962.\n",
    "\n",
    "The company employed around 2.3 million people globally for a revenue of $524 billion in 2020.\n"
   ]
  },
  {
   "cell_type": "markdown",
   "metadata": {},
   "source": [
    "\n",
    "### **2. Data collection & EDA**\n",
    "---"
   ]
  },
  {
   "cell_type": "markdown",
   "metadata": {},
   "source": [
    "## A) IMPORT LIBRARIES"
   ]
  },
  {
   "cell_type": "code",
   "execution_count": 1,
   "metadata": {},
   "outputs": [],
   "source": [
    "!pip install plotly -q"
   ]
  },
  {
   "cell_type": "code",
   "execution_count": 2,
   "metadata": {},
   "outputs": [],
   "source": [
    "!pip install missingno -q"
   ]
  },
  {
   "cell_type": "code",
   "execution_count": 3,
   "metadata": {},
   "outputs": [],
   "source": [
    "import numpy as np\n",
    "import pandas as pd\n",
    "import random\n",
    "from datetime import datetime, timedelta\n",
    "#from datetime import timedelta\n",
    "import missingno as mi\n",
    "\n",
    "from sklearn.model_selection import train_test_split\n",
    "from sklearn.impute import SimpleImputer\n",
    "from sklearn.model_selection import cross_val_score, GridSearchCV\n",
    "from sklearn.preprocessing import  OneHotEncoder, StandardScaler\n",
    "from sklearn.compose import ColumnTransformer\n",
    "from sklearn.linear_model import LinearRegression, Ridge\n",
    "from sklearn.pipeline import Pipeline\n",
    "from sklearn.metrics import r2_score, mean_squared_error\n",
    "from sklearn.metrics import accuracy_score, confusion_matrix\n",
    "\n",
    "import statsmodels.api as sm\n",
    "\n",
    "import warnings\n",
    "warnings.filterwarnings(\"ignore\", category=DeprecationWarning) # to avoid deprecation warnings\n",
    "\n",
    "from sklearn.linear_model import Lasso\n",
    "\n",
    "import seaborn as sns\n",
    "\n",
    "# Force to display all columns in the notebook\n",
    "pd.set_option('display.max_columns', None)\n",
    "\n",
    "import matplotlib.pyplot as plt\n",
    "import plotly.express as px\n",
    "import plotly.graph_objects as go\n",
    "import plotly.io as pio\n",
    "# setting Jedha color palette as default\n",
    "pio.templates[\"jedha\"] = go.layout.Template(\n",
    "    layout_colorway=[\"#4B9AC7\", \"#4BE8E0\", \"#9DD4F3\", \"#97FBF6\", \"#2A7FAF\", \"#23B1AB\", \"#0E3449\", \"#015955\"]\n",
    ")\n",
    "pio.templates.default = \"jedha\"\n",
    "pio.renderers.default = \"iframe\" # to be replaced by \"iframe\" if working on JULIE"
   ]
  },
  {
   "cell_type": "markdown",
   "metadata": {},
   "source": [
    "## B) EXPLORATORY DATA ANALYSIS"
   ]
  },
  {
   "cell_type": "markdown",
   "metadata": {},
   "source": [
    "### 1. Dataset overview"
   ]
  },
  {
   "cell_type": "code",
   "execution_count": 4,
   "metadata": {},
   "outputs": [
    {
     "data": {
      "text/html": [
       "<div>\n",
       "<style scoped>\n",
       "    .dataframe tbody tr th:only-of-type {\n",
       "        vertical-align: middle;\n",
       "    }\n",
       "\n",
       "    .dataframe tbody tr th {\n",
       "        vertical-align: top;\n",
       "    }\n",
       "\n",
       "    .dataframe thead th {\n",
       "        text-align: right;\n",
       "    }\n",
       "</style>\n",
       "<table border=\"1\" class=\"dataframe\">\n",
       "  <thead>\n",
       "    <tr style=\"text-align: right;\">\n",
       "      <th></th>\n",
       "      <th>Store</th>\n",
       "      <th>Date</th>\n",
       "      <th>Weekly_Sales</th>\n",
       "      <th>Holiday_Flag</th>\n",
       "      <th>Temperature</th>\n",
       "      <th>Fuel_Price</th>\n",
       "      <th>CPI</th>\n",
       "      <th>Unemployment</th>\n",
       "    </tr>\n",
       "  </thead>\n",
       "  <tbody>\n",
       "    <tr>\n",
       "      <th>0</th>\n",
       "      <td>6.0</td>\n",
       "      <td>18-02-2011</td>\n",
       "      <td>1572117.54</td>\n",
       "      <td>NaN</td>\n",
       "      <td>59.61</td>\n",
       "      <td>3.045</td>\n",
       "      <td>214.777523</td>\n",
       "      <td>6.858</td>\n",
       "    </tr>\n",
       "    <tr>\n",
       "      <th>1</th>\n",
       "      <td>13.0</td>\n",
       "      <td>25-03-2011</td>\n",
       "      <td>1807545.43</td>\n",
       "      <td>0.0</td>\n",
       "      <td>42.38</td>\n",
       "      <td>3.435</td>\n",
       "      <td>128.616064</td>\n",
       "      <td>7.470</td>\n",
       "    </tr>\n",
       "    <tr>\n",
       "      <th>2</th>\n",
       "      <td>17.0</td>\n",
       "      <td>27-07-2012</td>\n",
       "      <td>NaN</td>\n",
       "      <td>0.0</td>\n",
       "      <td>NaN</td>\n",
       "      <td>NaN</td>\n",
       "      <td>130.719581</td>\n",
       "      <td>5.936</td>\n",
       "    </tr>\n",
       "    <tr>\n",
       "      <th>3</th>\n",
       "      <td>11.0</td>\n",
       "      <td>NaN</td>\n",
       "      <td>1244390.03</td>\n",
       "      <td>0.0</td>\n",
       "      <td>84.57</td>\n",
       "      <td>NaN</td>\n",
       "      <td>214.556497</td>\n",
       "      <td>7.346</td>\n",
       "    </tr>\n",
       "    <tr>\n",
       "      <th>4</th>\n",
       "      <td>6.0</td>\n",
       "      <td>28-05-2010</td>\n",
       "      <td>1644470.66</td>\n",
       "      <td>0.0</td>\n",
       "      <td>78.89</td>\n",
       "      <td>2.759</td>\n",
       "      <td>212.412888</td>\n",
       "      <td>7.092</td>\n",
       "    </tr>\n",
       "  </tbody>\n",
       "</table>\n",
       "</div>"
      ],
      "text/plain": [
       "   Store        Date  Weekly_Sales  Holiday_Flag  Temperature  Fuel_Price  \\\n",
       "0    6.0  18-02-2011    1572117.54           NaN        59.61       3.045   \n",
       "1   13.0  25-03-2011    1807545.43           0.0        42.38       3.435   \n",
       "2   17.0  27-07-2012           NaN           0.0          NaN         NaN   \n",
       "3   11.0         NaN    1244390.03           0.0        84.57         NaN   \n",
       "4    6.0  28-05-2010    1644470.66           0.0        78.89       2.759   \n",
       "\n",
       "          CPI  Unemployment  \n",
       "0  214.777523         6.858  \n",
       "1  128.616064         7.470  \n",
       "2  130.719581         5.936  \n",
       "3  214.556497         7.346  \n",
       "4  212.412888         7.092  "
      ]
     },
     "metadata": {},
     "output_type": "display_data"
    },
    {
     "data": {
      "text/plain": [
       "(150, 8)"
      ]
     },
     "execution_count": 4,
     "metadata": {},
     "output_type": "execute_result"
    }
   ],
   "source": [
    "#Import and read the csv : Walmart Store Sales\n",
    "df = pd.read_csv('Walmart_Store_sales.csv')\n",
    "display(df.head())\n",
    "df.shape"
   ]
  },
  {
   "cell_type": "code",
   "execution_count": 5,
   "metadata": {},
   "outputs": [
    {
     "data": {
      "text/html": [
       "<div>\n",
       "<style scoped>\n",
       "    .dataframe tbody tr th:only-of-type {\n",
       "        vertical-align: middle;\n",
       "    }\n",
       "\n",
       "    .dataframe tbody tr th {\n",
       "        vertical-align: top;\n",
       "    }\n",
       "\n",
       "    .dataframe thead th {\n",
       "        text-align: right;\n",
       "    }\n",
       "</style>\n",
       "<table border=\"1\" class=\"dataframe\">\n",
       "  <thead>\n",
       "    <tr style=\"text-align: right;\">\n",
       "      <th></th>\n",
       "      <th>Store</th>\n",
       "      <th>Weekly_Sales</th>\n",
       "      <th>Holiday_Flag</th>\n",
       "      <th>Temperature</th>\n",
       "      <th>Fuel_Price</th>\n",
       "      <th>CPI</th>\n",
       "      <th>Unemployment</th>\n",
       "    </tr>\n",
       "  </thead>\n",
       "  <tbody>\n",
       "    <tr>\n",
       "      <th>count</th>\n",
       "      <td>150.000000</td>\n",
       "      <td>1.360000e+02</td>\n",
       "      <td>138.000000</td>\n",
       "      <td>132.000000</td>\n",
       "      <td>136.000000</td>\n",
       "      <td>138.000000</td>\n",
       "      <td>135.000000</td>\n",
       "    </tr>\n",
       "    <tr>\n",
       "      <th>mean</th>\n",
       "      <td>9.866667</td>\n",
       "      <td>1.249536e+06</td>\n",
       "      <td>0.079710</td>\n",
       "      <td>61.398106</td>\n",
       "      <td>3.320853</td>\n",
       "      <td>179.898509</td>\n",
       "      <td>7.598430</td>\n",
       "    </tr>\n",
       "    <tr>\n",
       "      <th>std</th>\n",
       "      <td>6.231191</td>\n",
       "      <td>6.474630e+05</td>\n",
       "      <td>0.271831</td>\n",
       "      <td>18.378901</td>\n",
       "      <td>0.478149</td>\n",
       "      <td>40.274956</td>\n",
       "      <td>1.577173</td>\n",
       "    </tr>\n",
       "    <tr>\n",
       "      <th>min</th>\n",
       "      <td>1.000000</td>\n",
       "      <td>2.689290e+05</td>\n",
       "      <td>0.000000</td>\n",
       "      <td>18.790000</td>\n",
       "      <td>2.514000</td>\n",
       "      <td>126.111903</td>\n",
       "      <td>5.143000</td>\n",
       "    </tr>\n",
       "    <tr>\n",
       "      <th>25%</th>\n",
       "      <td>4.000000</td>\n",
       "      <td>6.050757e+05</td>\n",
       "      <td>0.000000</td>\n",
       "      <td>45.587500</td>\n",
       "      <td>2.852250</td>\n",
       "      <td>131.970831</td>\n",
       "      <td>6.597500</td>\n",
       "    </tr>\n",
       "    <tr>\n",
       "      <th>50%</th>\n",
       "      <td>9.000000</td>\n",
       "      <td>1.261424e+06</td>\n",
       "      <td>0.000000</td>\n",
       "      <td>62.985000</td>\n",
       "      <td>3.451000</td>\n",
       "      <td>197.908893</td>\n",
       "      <td>7.470000</td>\n",
       "    </tr>\n",
       "    <tr>\n",
       "      <th>75%</th>\n",
       "      <td>15.750000</td>\n",
       "      <td>1.806386e+06</td>\n",
       "      <td>0.000000</td>\n",
       "      <td>76.345000</td>\n",
       "      <td>3.706250</td>\n",
       "      <td>214.934616</td>\n",
       "      <td>8.150000</td>\n",
       "    </tr>\n",
       "    <tr>\n",
       "      <th>max</th>\n",
       "      <td>20.000000</td>\n",
       "      <td>2.771397e+06</td>\n",
       "      <td>1.000000</td>\n",
       "      <td>91.650000</td>\n",
       "      <td>4.193000</td>\n",
       "      <td>226.968844</td>\n",
       "      <td>14.313000</td>\n",
       "    </tr>\n",
       "  </tbody>\n",
       "</table>\n",
       "</div>"
      ],
      "text/plain": [
       "            Store  Weekly_Sales  Holiday_Flag  Temperature  Fuel_Price  \\\n",
       "count  150.000000  1.360000e+02    138.000000   132.000000  136.000000   \n",
       "mean     9.866667  1.249536e+06      0.079710    61.398106    3.320853   \n",
       "std      6.231191  6.474630e+05      0.271831    18.378901    0.478149   \n",
       "min      1.000000  2.689290e+05      0.000000    18.790000    2.514000   \n",
       "25%      4.000000  6.050757e+05      0.000000    45.587500    2.852250   \n",
       "50%      9.000000  1.261424e+06      0.000000    62.985000    3.451000   \n",
       "75%     15.750000  1.806386e+06      0.000000    76.345000    3.706250   \n",
       "max     20.000000  2.771397e+06      1.000000    91.650000    4.193000   \n",
       "\n",
       "              CPI  Unemployment  \n",
       "count  138.000000    135.000000  \n",
       "mean   179.898509      7.598430  \n",
       "std     40.274956      1.577173  \n",
       "min    126.111903      5.143000  \n",
       "25%    131.970831      6.597500  \n",
       "50%    197.908893      7.470000  \n",
       "75%    214.934616      8.150000  \n",
       "max    226.968844     14.313000  "
      ]
     },
     "execution_count": 5,
     "metadata": {},
     "output_type": "execute_result"
    }
   ],
   "source": [
    "df.describe()"
   ]
  },
  {
   "cell_type": "code",
   "execution_count": 6,
   "metadata": {},
   "outputs": [
    {
     "name": "stdout",
     "output_type": "stream",
     "text": [
      "ROUGH ANALYSIS : \n",
      " \n",
      "* The dataset has 150 rows and 8 columns.\n",
      " \n",
      "------------------\n",
      " \n",
      "Number of unic items\n",
      " \n",
      "Store            20\n",
      "Date             85\n",
      "Weekly_Sales    136\n",
      "Holiday_Flag      2\n",
      "Temperature     130\n",
      "Fuel_Price      120\n",
      "CPI             135\n",
      "Unemployment    104\n",
      "dtype: int64\n",
      " \n",
      "------------------\n",
      "<class 'pandas.core.frame.DataFrame'>\n",
      "RangeIndex: 150 entries, 0 to 149\n",
      "Data columns (total 8 columns):\n",
      " #   Column        Non-Null Count  Dtype  \n",
      "---  ------        --------------  -----  \n",
      " 0   Store         150 non-null    float64\n",
      " 1   Date          132 non-null    object \n",
      " 2   Weekly_Sales  136 non-null    float64\n",
      " 3   Holiday_Flag  138 non-null    float64\n",
      " 4   Temperature   132 non-null    float64\n",
      " 5   Fuel_Price    136 non-null    float64\n",
      " 6   CPI           138 non-null    float64\n",
      " 7   Unemployment  135 non-null    float64\n",
      "dtypes: float64(7), object(1)\n",
      "memory usage: 9.5+ KB\n",
      "None\n",
      " \n",
      "Visualizing missing value gap using bar graph\n",
      " \n",
      "------------------\n"
     ]
    },
    {
     "data": {
      "image/png": "[encoded data removed]",
      "text/plain": [
       "<Figure size 1800x720 with 3 Axes>"
      ]
     },
     "metadata": {
      "needs_background": "light"
     },
     "output_type": "display_data"
    }
   ],
   "source": [
    "print('ROUGH ANALYSIS : ')\n",
    "print(' ')\n",
    "print('* The dataset has {} rows and {} columns.'.format(df.shape[0],df.shape[1]))\n",
    "print(' ')\n",
    "print('------------------')\n",
    "print(\" \")\n",
    "print('Number of unic items')\n",
    "print(' ')\n",
    "print(df.nunique())\n",
    "print(' ')\n",
    "print('------------------')\n",
    "print(df.info())\n",
    "print(' ')\n",
    "print(\"Visualizing missing value gap using bar graph\")\n",
    "print(\" \")\n",
    "mi.bar(df, color='green');\n",
    "print('------------------')"
   ]
  },
  {
   "cell_type": "markdown",
   "metadata": {},
   "source": [
    "\n",
    "- We have 3 qualitatives and 5 quantitatives features.\n",
    "- The qualitatives columns are : Store, Date and Holiday_Flag even if they look numeric at the first sight\n",
    "- Several columns have missing values that we will try to replace trough an EDA process"
   ]
  },
  {
   "cell_type": "markdown",
   "metadata": {},
   "source": [
    "### 2. Missing values"
   ]
  },
  {
   "cell_type": "code",
   "execution_count": 7,
   "metadata": {},
   "outputs": [
    {
     "name": "stdout",
     "output_type": "stream",
     "text": [
      "Store            0\n",
      "Date            18\n",
      "Weekly_Sales    14\n",
      "Holiday_Flag    12\n",
      "Temperature     18\n",
      "Fuel_Price      14\n",
      "CPI             12\n",
      "Unemployment    15\n",
      "dtype: int64\n",
      " \n",
      "------------------\n",
      " \n",
      "We can see that except the column \"Store\" all the other columns have missing values\n",
      " \n",
      "------------------\n",
      " \n",
      "Percentage of missing values:(%)\n"
     ]
    },
    {
     "data": {
      "text/plain": [
       "Store            0.0\n",
       "Date            12.0\n",
       "Weekly_Sales     9.3\n",
       "Holiday_Flag     8.0\n",
       "Temperature     12.0\n",
       "Fuel_Price       9.3\n",
       "CPI              8.0\n",
       "Unemployment    10.0\n",
       "dtype: float64"
      ]
     },
     "metadata": {},
     "output_type": "display_data"
    },
    {
     "name": "stdout",
     "output_type": "stream",
     "text": [
      " \n"
     ]
    }
   ],
   "source": [
    "print(df.isnull().sum())\n",
    "print(' ')\n",
    "print('------------------')\n",
    "print(' ')\n",
    "print('We can see that except the column \"Store\" all the other columns have missing values')\n",
    "print(' ')\n",
    "print('------------------')\n",
    "print(' ')\n",
    "print(\"Percentage of missing values:(%)\")\n",
    "display(round(100*df.isnull().sum()/df.shape[0],1))\n",
    "print(' ')"
   ]
  },
  {
   "cell_type": "markdown",
   "metadata": {},
   "source": [
    "***Obs*** : Based on the above statistics of missing values, we cannot considere to delete any columns as the % of missing values is quite acceptable (below 15%).<br>\n",
    "\n",
    "* At the moment, we would only considere to delete missing rows for the target column ('Weekly_Sales').<br>\n",
    "\n",
    "* We are going to apply transformations and preprocessing on the dataset in order clean the file for the Machine Learning."
   ]
  },
  {
   "cell_type": "markdown",
   "metadata": {},
   "source": [
    "## C) DATA ENGINEERING : Dataset transformation"
   ]
  },
  {
   "cell_type": "code",
   "execution_count": 8,
   "metadata": {},
   "outputs": [],
   "source": [
    "#Create a new dataset on which we will apply all the transformations\n",
    "df_clean = df"
   ]
  },
  {
   "cell_type": "markdown",
   "metadata": {},
   "source": [
    "We do not need to apply any transformation on column 'Store' as there are non missing values in it."
   ]
  },
  {
   "cell_type": "markdown",
   "metadata": {},
   "source": [
    "### 1. Management on column: 'Date'"
   ]
  },
  {
   "cell_type": "code",
   "execution_count": 9,
   "metadata": {},
   "outputs": [],
   "source": [
    "#Transform the Date column within the format datetime\n",
    "df_clean['Date'] = pd.to_datetime(df_clean['Date'])\n"
   ]
  },
  {
   "cell_type": "code",
   "execution_count": 10,
   "metadata": {},
   "outputs": [],
   "source": [
    "#Implemente random date function\n",
    "def randome_date():\n",
    "    date_min = df_clean['Date'].min().date()\n",
    "    date_max = df_clean['Date'].max().date()\n",
    "    day_gap = date_max - date_min\n",
    "    nbr_day_gap = day_gap.days\n",
    "    random_nbr_day_gap = random.randrange(nbr_day_gap)\n",
    "    random_date = date_min + timedelta(days=random_nbr_day_gap)\n",
    "    return random_date"
   ]
  },
  {
   "cell_type": "code",
   "execution_count": 11,
   "metadata": {},
   "outputs": [
    {
     "data": {
      "text/plain": [
       "datetime.date(2011, 1, 27)"
      ]
     },
     "execution_count": 11,
     "metadata": {},
     "output_type": "execute_result"
    }
   ],
   "source": [
    "#Generate random date into a determined range\n",
    "randome_date()"
   ]
  },
  {
   "cell_type": "code",
   "execution_count": 12,
   "metadata": {},
   "outputs": [],
   "source": [
    "#Create a missing values index on column 'Date'\n",
    "index_nan_date = df_clean['Date'][df_clean['Date'].isna()].index\n",
    "\n",
    "#Create a random list of dates\n",
    "list_fill_date = [randome_date() for _ in range(len(index_nan_date))]\n",
    "\n",
    "#Create a dictionary comprehension to match random date with missing vales index\n",
    "dict_date = {k:v for k,v in zip(index_nan_date,list_fill_date)}\n",
    "\n",
    "#Fill missing values in with random dates between max and min date in \"Column Date\"\n",
    "df_clean['Date'] = df_clean['Date'].fillna(dict_date)"
   ]
  },
  {
   "cell_type": "code",
   "execution_count": 13,
   "metadata": {},
   "outputs": [
    {
     "data": {
      "text/plain": [
       "{3: datetime.date(2011, 4, 5),\n",
       " 9: datetime.date(2011, 8, 11),\n",
       " 17: datetime.date(2012, 3, 6),\n",
       " 34: datetime.date(2010, 9, 26),\n",
       " 42: datetime.date(2012, 1, 19),\n",
       " 65: datetime.date(2011, 9, 21),\n",
       " 81: datetime.date(2012, 1, 17),\n",
       " 82: datetime.date(2012, 4, 3),\n",
       " 83: datetime.date(2012, 11, 10),\n",
       " 86: datetime.date(2012, 2, 7),\n",
       " 88: datetime.date(2011, 4, 27),\n",
       " 89: datetime.date(2010, 9, 27),\n",
       " 91: datetime.date(2010, 6, 11),\n",
       " 92: datetime.date(2011, 5, 27),\n",
       " 102: datetime.date(2011, 8, 22),\n",
       " 129: datetime.date(2010, 9, 27),\n",
       " 137: datetime.date(2010, 12, 24),\n",
       " 146: datetime.date(2010, 11, 28)}"
      ]
     },
     "execution_count": 13,
     "metadata": {},
     "output_type": "execute_result"
    }
   ],
   "source": [
    "#Watch out the random date created for the missing values in column 'Date'\n",
    "dict_date"
   ]
  },
  {
   "cell_type": "markdown",
   "metadata": {},
   "source": [
    "**It should not remain any missing values regarding the 'Date' but we will implement an \"interpolate\" technic in order to be sure we fill in all the rows with dates.**"
   ]
  },
  {
   "cell_type": "code",
   "execution_count": 14,
   "metadata": {},
   "outputs": [
    {
     "data": {
      "text/html": [
       "<div>\n",
       "<style scoped>\n",
       "    .dataframe tbody tr th:only-of-type {\n",
       "        vertical-align: middle;\n",
       "    }\n",
       "\n",
       "    .dataframe tbody tr th {\n",
       "        vertical-align: top;\n",
       "    }\n",
       "\n",
       "    .dataframe thead th {\n",
       "        text-align: right;\n",
       "    }\n",
       "</style>\n",
       "<table border=\"1\" class=\"dataframe\">\n",
       "  <thead>\n",
       "    <tr style=\"text-align: right;\">\n",
       "      <th></th>\n",
       "      <th>Store</th>\n",
       "      <th>Date</th>\n",
       "      <th>Weekly_Sales</th>\n",
       "      <th>Holiday_Flag</th>\n",
       "      <th>Temperature</th>\n",
       "      <th>Fuel_Price</th>\n",
       "      <th>CPI</th>\n",
       "      <th>Unemployment</th>\n",
       "    </tr>\n",
       "  </thead>\n",
       "  <tbody>\n",
       "    <tr>\n",
       "      <th>95</th>\n",
       "      <td>1.0</td>\n",
       "      <td>2010-05-14 00:00:00</td>\n",
       "      <td>1494251.50</td>\n",
       "      <td>0.0</td>\n",
       "      <td>74.78</td>\n",
       "      <td>2.854</td>\n",
       "      <td>210.337426</td>\n",
       "      <td>7.808</td>\n",
       "    </tr>\n",
       "    <tr>\n",
       "      <th>73</th>\n",
       "      <td>1.0</td>\n",
       "      <td>2010-08-27 00:00:00</td>\n",
       "      <td>1449142.92</td>\n",
       "      <td>0.0</td>\n",
       "      <td>85.22</td>\n",
       "      <td>2.619</td>\n",
       "      <td>211.567306</td>\n",
       "      <td>7.787</td>\n",
       "    </tr>\n",
       "    <tr>\n",
       "      <th>133</th>\n",
       "      <td>1.0</td>\n",
       "      <td>2010-09-24 00:00:00</td>\n",
       "      <td>1449142.92</td>\n",
       "      <td>0.0</td>\n",
       "      <td>80.94</td>\n",
       "      <td>2.619</td>\n",
       "      <td>211.597225</td>\n",
       "      <td>7.787</td>\n",
       "    </tr>\n",
       "    <tr>\n",
       "      <th>44</th>\n",
       "      <td>1.0</td>\n",
       "      <td>2010-12-02 00:00:00</td>\n",
       "      <td>1641957.44</td>\n",
       "      <td>1.0</td>\n",
       "      <td>38.51</td>\n",
       "      <td>2.548</td>\n",
       "      <td>211.242170</td>\n",
       "      <td>8.106</td>\n",
       "    </tr>\n",
       "    <tr>\n",
       "      <th>48</th>\n",
       "      <td>1.0</td>\n",
       "      <td>2011-05-08 00:00:00</td>\n",
       "      <td>1624383.75</td>\n",
       "      <td>1.0</td>\n",
       "      <td>91.65</td>\n",
       "      <td>3.684</td>\n",
       "      <td>215.544618</td>\n",
       "      <td>7.962</td>\n",
       "    </tr>\n",
       "  </tbody>\n",
       "</table>\n",
       "</div>"
      ],
      "text/plain": [
       "     Store                 Date  Weekly_Sales  Holiday_Flag  Temperature  \\\n",
       "95     1.0  2010-05-14 00:00:00    1494251.50           0.0        74.78   \n",
       "73     1.0  2010-08-27 00:00:00    1449142.92           0.0        85.22   \n",
       "133    1.0  2010-09-24 00:00:00    1449142.92           0.0        80.94   \n",
       "44     1.0  2010-12-02 00:00:00    1641957.44           1.0        38.51   \n",
       "48     1.0  2011-05-08 00:00:00    1624383.75           1.0        91.65   \n",
       "\n",
       "     Fuel_Price         CPI  Unemployment  \n",
       "95        2.854  210.337426         7.808  \n",
       "73        2.619  211.567306         7.787  \n",
       "133       2.619  211.597225         7.787  \n",
       "44        2.548  211.242170         8.106  \n",
       "48        3.684  215.544618         7.962  "
      ]
     },
     "metadata": {},
     "output_type": "display_data"
    },
    {
     "data": {
      "text/plain": [
       "(150, 8)"
      ]
     },
     "metadata": {},
     "output_type": "display_data"
    }
   ],
   "source": [
    "#Sorting the dataframe from Store then Date columns\n",
    "df_clean = df_clean.sort_values(by=['Store','Date'])\n",
    "\n",
    "#Implement missing value using Interpolate function just in case we would have forgotten missing values on 'Date'\n",
    "df_clean = df_clean.interpolate(method='pad',columns='Date')\n",
    "display(df_clean.head())\n",
    "display(df_clean.shape)"
   ]
  },
  {
   "cell_type": "markdown",
   "metadata": {},
   "source": [
    "### 2. Management on column 'Weekly_Sales'"
   ]
  },
  {
   "cell_type": "code",
   "execution_count": 15,
   "metadata": {},
   "outputs": [
    {
     "name": "stdout",
     "output_type": "stream",
     "text": [
      "We have removed 14 rows from the columns Weekl_Sales due to missing values.\n",
      "It's the target feature, therefore, there is no sens to remain with 'NaN' values.\n"
     ]
    },
    {
     "name": "stderr",
     "output_type": "stream",
     "text": [
      "<ipython-input-15-72c5de7e88ed>:2: UserWarning:\n",
      "\n",
      "Boolean Series key will be reindexed to match DataFrame index.\n",
      "\n"
     ]
    }
   ],
   "source": [
    "#Delete all the 'NaN' rows for the feature 'Weekly_Sales'\n",
    "df_clean = df_clean[pd.notnull(df['Weekly_Sales'])]\n",
    "deleted_rows_WS = len(df)-len(df_clean)\n",
    "print('We have removed {} rows from the columns Weekl_Sales due to missing values.'.format(deleted_rows_WS))\n",
    "print('It\\'s the target feature, therefore, there is no sens to remain with \\'NaN\\' values.')"
   ]
  },
  {
   "cell_type": "markdown",
   "metadata": {},
   "source": [
    "### 3. Management on column: 'Holiday_Flag'"
   ]
  },
  {
   "cell_type": "code",
   "execution_count": 16,
   "metadata": {},
   "outputs": [],
   "source": [
    "#Replace the missing values by the most frequent value of the column\n",
    "df_clean[\"Holiday_Flag\"].fillna(df_clean[\"Holiday_Flag\"].mode()[0], inplace=True)\n",
    "\n",
    "#Encoding the values as categorial\n",
    "df_clean['Holiday_Flag'] = df_clean['Holiday_Flag'].apply(lambda x : 'yes' if x == 1 \n",
    "                                                                else 'no' if x == 0\n",
    "                                                                          else x)"
   ]
  },
  {
   "cell_type": "markdown",
   "metadata": {},
   "source": [
    "### 4. Management on columns: 'Temperature / Fuel_price / CPI / Unemployment'"
   ]
  },
  {
   "cell_type": "code",
   "execution_count": 17,
   "metadata": {},
   "outputs": [],
   "source": [
    "#Create a class to provide average values per 'Store'\n",
    "class average_calculations ():\n",
    "    \n",
    "    #Creation of a function to calculate the average Temperature per Store\n",
    "    def average_Weekly_Sales_store(self,store_nb):\n",
    "        mask = df_clean['Store'] == store_nb\n",
    "        df_test = df_clean.loc[mask,:]\n",
    "        average_Weekly_Sales_store = df_test.groupby('Store')['Weekly_Sales'].mean()\n",
    "        average_Weekly_Sales_store = average_Weekly_Sales_store.values[0]\n",
    "        return average_Weekly_Sales_store\n",
    "    \n",
    "    #Creation of a function to calculate the average Temperature per Store\n",
    "    def average_temp_store(self,store_nb):\n",
    "        mask = df_clean['Store'] == store_nb\n",
    "        df_test = df_clean.loc[mask,:]\n",
    "        avg_temp_store = df_test.groupby('Store')['Temperature'].mean()\n",
    "        avg_temp_store = avg_temp_store.values[0]\n",
    "        return avg_temp_store\n",
    "    \n",
    "    #Creation of a function to calculate the average Fuel_Price per Store\n",
    "    def average_fuelprice_store(self,store_nb):\n",
    "        mask = df_clean['Store'] == store_nb\n",
    "        df_test = df_clean.loc[mask,:]\n",
    "        average_fuelprice_store = df_test.groupby('Store')['Fuel_Price'].mean()\n",
    "        average_fuelprice_store = average_fuelprice_store.values[0]\n",
    "        return average_fuelprice_store\n",
    "    \n",
    "    #Creation of a function to calculate the average CPI per Store\n",
    "    def average_CPI_store(self,store_nb):\n",
    "        mask = df_clean['Store'] == store_nb\n",
    "        df_test = df_clean.loc[mask,:]\n",
    "        average_CPI_store = df_test.groupby('Store')['CPI'].mean()\n",
    "        average_CPI_store = average_CPI_store.values[0]\n",
    "        return average_CPI_store\n",
    "    \n",
    "    #Creation of a function to calculate the average Unemployment per Store\n",
    "    def average_Unemployment_store(self,store_nb):\n",
    "        mask = df_clean['Store'] == store_nb\n",
    "        df_test = df_clean.loc[mask,:]\n",
    "        average_Unemployment_store = df_test.groupby('Store')['Unemployment'].mean()\n",
    "        average_Unemployment_store = average_Unemployment_store.values[0]\n",
    "        return average_Unemployment_store\n",
    "    \n",
    "my_class = average_calculations ()"
   ]
  },
  {
   "cell_type": "code",
   "execution_count": 18,
   "metadata": {},
   "outputs": [],
   "source": [
    "#Create the list of the stores\n",
    "list_store = df_clean['Store'].unique()\n",
    "list_store = list(list_store)\n",
    "\n",
    "#Create a loop to store average amounts per 'Temperature / Fuel_price / CPI / Unemployment' for each specific 'Store'\n",
    "avg_Weekly_Sales = []\n",
    "avg_temp = []\n",
    "avg_fuelprice = []\n",
    "avg_CPI = []\n",
    "avg_Unemployment = []\n",
    "\n",
    "for i in list_store:\n",
    "    my_class.average_Weekly_Sales_store(i)\n",
    "    Weekly_Sales = my_class.average_Weekly_Sales_store(i)\n",
    "    avg_Weekly_Sales.append(Weekly_Sales)\n",
    "\n",
    "for i in list_store:\n",
    "    my_class.average_temp_store(i)\n",
    "    temp = my_class.average_temp_store(i)\n",
    "    avg_temp.append(temp) \n",
    "\n",
    "for i in list_store:\n",
    "    my_class.average_fuelprice_store(i)\n",
    "    fuelprice = my_class.average_fuelprice_store(i)\n",
    "    avg_fuelprice.append(fuelprice)\n",
    "\n",
    "for i in list_store:\n",
    "    my_class.average_CPI_store(i)\n",
    "    CPI = my_class.average_CPI_store(i)\n",
    "    avg_CPI.append(CPI)\n",
    "    \n",
    "for i in list_store:\n",
    "    my_class.average_Unemployment_store(i)\n",
    "    Unemployment = my_class.average_Unemployment_store(i)\n",
    "    avg_Unemployment.append(Unemployment)\n",
    "    "
   ]
  },
  {
   "cell_type": "code",
   "execution_count": 19,
   "metadata": {},
   "outputs": [
    {
     "data": {
      "text/html": [
       "<div>\n",
       "<style scoped>\n",
       "    .dataframe tbody tr th:only-of-type {\n",
       "        vertical-align: middle;\n",
       "    }\n",
       "\n",
       "    .dataframe tbody tr th {\n",
       "        vertical-align: top;\n",
       "    }\n",
       "\n",
       "    .dataframe thead th {\n",
       "        text-align: right;\n",
       "    }\n",
       "</style>\n",
       "<table border=\"1\" class=\"dataframe\">\n",
       "  <thead>\n",
       "    <tr style=\"text-align: right;\">\n",
       "      <th></th>\n",
       "      <th>Store</th>\n",
       "      <th>Avg_Weekly_Sales</th>\n",
       "      <th>Avg_Temp</th>\n",
       "      <th>Avg_Fuelprice</th>\n",
       "      <th>Avg_CPI</th>\n",
       "      <th>Avg_Unemployment</th>\n",
       "    </tr>\n",
       "  </thead>\n",
       "  <tbody>\n",
       "    <tr>\n",
       "      <th>0</th>\n",
       "      <td>1.0</td>\n",
       "      <td>1.562508e+06</td>\n",
       "      <td>71.002222</td>\n",
       "      <td>3.317444</td>\n",
       "      <td>216.610263</td>\n",
       "      <td>7.646111</td>\n",
       "    </tr>\n",
       "    <tr>\n",
       "      <th>1</th>\n",
       "      <td>2.0</td>\n",
       "      <td>1.943034e+06</td>\n",
       "      <td>57.462500</td>\n",
       "      <td>3.196250</td>\n",
       "      <td>214.306369</td>\n",
       "      <td>7.546625</td>\n",
       "    </tr>\n",
       "    <tr>\n",
       "      <th>2</th>\n",
       "      <td>3.0</td>\n",
       "      <td>4.030549e+05</td>\n",
       "      <td>71.185833</td>\n",
       "      <td>3.173750</td>\n",
       "      <td>219.814646</td>\n",
       "      <td>7.032167</td>\n",
       "    </tr>\n",
       "    <tr>\n",
       "      <th>3</th>\n",
       "      <td>4.0</td>\n",
       "      <td>2.173759e+06</td>\n",
       "      <td>67.218333</td>\n",
       "      <td>3.238500</td>\n",
       "      <td>128.363544</td>\n",
       "      <td>6.233333</td>\n",
       "    </tr>\n",
       "    <tr>\n",
       "      <th>4</th>\n",
       "      <td>5.0</td>\n",
       "      <td>3.024997e+05</td>\n",
       "      <td>71.218750</td>\n",
       "      <td>3.316375</td>\n",
       "      <td>216.503883</td>\n",
       "      <td>6.136250</td>\n",
       "    </tr>\n",
       "    <tr>\n",
       "      <th>5</th>\n",
       "      <td>6.0</td>\n",
       "      <td>1.551124e+06</td>\n",
       "      <td>72.463333</td>\n",
       "      <td>3.092333</td>\n",
       "      <td>214.377419</td>\n",
       "      <td>6.965833</td>\n",
       "    </tr>\n",
       "    <tr>\n",
       "      <th>6</th>\n",
       "      <td>7.0</td>\n",
       "      <td>5.591300e+05</td>\n",
       "      <td>39.967500</td>\n",
       "      <td>3.399250</td>\n",
       "      <td>194.617656</td>\n",
       "      <td>8.431375</td>\n",
       "    </tr>\n",
       "    <tr>\n",
       "      <th>7</th>\n",
       "      <td>8.0</td>\n",
       "      <td>8.887541e+05</td>\n",
       "      <td>67.051667</td>\n",
       "      <td>2.914833</td>\n",
       "      <td>216.210537</td>\n",
       "      <td>6.346333</td>\n",
       "    </tr>\n",
       "    <tr>\n",
       "      <th>8</th>\n",
       "      <td>9.0</td>\n",
       "      <td>5.068874e+05</td>\n",
       "      <td>74.120000</td>\n",
       "      <td>2.675750</td>\n",
       "      <td>215.001735</td>\n",
       "      <td>6.442500</td>\n",
       "    </tr>\n",
       "    <tr>\n",
       "      <th>9</th>\n",
       "      <td>10.0</td>\n",
       "      <td>1.822106e+06</td>\n",
       "      <td>73.336000</td>\n",
       "      <td>3.343600</td>\n",
       "      <td>128.162431</td>\n",
       "      <td>8.436400</td>\n",
       "    </tr>\n",
       "    <tr>\n",
       "      <th>10</th>\n",
       "      <td>11.0</td>\n",
       "      <td>1.523747e+06</td>\n",
       "      <td>69.080000</td>\n",
       "      <td>2.993333</td>\n",
       "      <td>217.844972</td>\n",
       "      <td>7.247667</td>\n",
       "    </tr>\n",
       "    <tr>\n",
       "      <th>11</th>\n",
       "      <td>12.0</td>\n",
       "      <td>1.028025e+06</td>\n",
       "      <td>69.722000</td>\n",
       "      <td>3.652200</td>\n",
       "      <td>128.060487</td>\n",
       "      <td>13.893600</td>\n",
       "    </tr>\n",
       "    <tr>\n",
       "      <th>12</th>\n",
       "      <td>13.0</td>\n",
       "      <td>1.997235e+06</td>\n",
       "      <td>57.798889</td>\n",
       "      <td>3.363889</td>\n",
       "      <td>128.719158</td>\n",
       "      <td>7.010444</td>\n",
       "    </tr>\n",
       "    <tr>\n",
       "      <th>13</th>\n",
       "      <td>14.0</td>\n",
       "      <td>2.092878e+06</td>\n",
       "      <td>45.356667</td>\n",
       "      <td>3.492444</td>\n",
       "      <td>179.451788</td>\n",
       "      <td>8.650444</td>\n",
       "    </tr>\n",
       "    <tr>\n",
       "      <th>14</th>\n",
       "      <td>15.0</td>\n",
       "      <td>6.335804e+05</td>\n",
       "      <td>58.547500</td>\n",
       "      <td>3.742750</td>\n",
       "      <td>134.987597</td>\n",
       "      <td>7.957750</td>\n",
       "    </tr>\n",
       "    <tr>\n",
       "      <th>15</th>\n",
       "      <td>16.0</td>\n",
       "      <td>5.153178e+05</td>\n",
       "      <td>50.580000</td>\n",
       "      <td>3.487000</td>\n",
       "      <td>194.473622</td>\n",
       "      <td>6.357500</td>\n",
       "    </tr>\n",
       "    <tr>\n",
       "      <th>16</th>\n",
       "      <td>17.0</td>\n",
       "      <td>8.916060e+05</td>\n",
       "      <td>55.777143</td>\n",
       "      <td>3.237143</td>\n",
       "      <td>127.737535</td>\n",
       "      <td>6.155714</td>\n",
       "    </tr>\n",
       "    <tr>\n",
       "      <th>17</th>\n",
       "      <td>18.0</td>\n",
       "      <td>1.140437e+06</td>\n",
       "      <td>51.534000</td>\n",
       "      <td>3.403300</td>\n",
       "      <td>134.676355</td>\n",
       "      <td>8.568000</td>\n",
       "    </tr>\n",
       "    <tr>\n",
       "      <th>18</th>\n",
       "      <td>19.0</td>\n",
       "      <td>1.400615e+06</td>\n",
       "      <td>55.103750</td>\n",
       "      <td>3.555875</td>\n",
       "      <td>135.000480</td>\n",
       "      <td>8.053375</td>\n",
       "    </tr>\n",
       "    <tr>\n",
       "      <th>19</th>\n",
       "      <td>20.0</td>\n",
       "      <td>1.962384e+06</td>\n",
       "      <td>50.622000</td>\n",
       "      <td>3.230200</td>\n",
       "      <td>208.054891</td>\n",
       "      <td>7.357800</td>\n",
       "    </tr>\n",
       "  </tbody>\n",
       "</table>\n",
       "</div>"
      ],
      "text/plain": [
       "    Store  Avg_Weekly_Sales   Avg_Temp  Avg_Fuelprice     Avg_CPI  \\\n",
       "0     1.0      1.562508e+06  71.002222       3.317444  216.610263   \n",
       "1     2.0      1.943034e+06  57.462500       3.196250  214.306369   \n",
       "2     3.0      4.030549e+05  71.185833       3.173750  219.814646   \n",
       "3     4.0      2.173759e+06  67.218333       3.238500  128.363544   \n",
       "4     5.0      3.024997e+05  71.218750       3.316375  216.503883   \n",
       "5     6.0      1.551124e+06  72.463333       3.092333  214.377419   \n",
       "6     7.0      5.591300e+05  39.967500       3.399250  194.617656   \n",
       "7     8.0      8.887541e+05  67.051667       2.914833  216.210537   \n",
       "8     9.0      5.068874e+05  74.120000       2.675750  215.001735   \n",
       "9    10.0      1.822106e+06  73.336000       3.343600  128.162431   \n",
       "10   11.0      1.523747e+06  69.080000       2.993333  217.844972   \n",
       "11   12.0      1.028025e+06  69.722000       3.652200  128.060487   \n",
       "12   13.0      1.997235e+06  57.798889       3.363889  128.719158   \n",
       "13   14.0      2.092878e+06  45.356667       3.492444  179.451788   \n",
       "14   15.0      6.335804e+05  58.547500       3.742750  134.987597   \n",
       "15   16.0      5.153178e+05  50.580000       3.487000  194.473622   \n",
       "16   17.0      8.916060e+05  55.777143       3.237143  127.737535   \n",
       "17   18.0      1.140437e+06  51.534000       3.403300  134.676355   \n",
       "18   19.0      1.400615e+06  55.103750       3.555875  135.000480   \n",
       "19   20.0      1.962384e+06  50.622000       3.230200  208.054891   \n",
       "\n",
       "    Avg_Unemployment  \n",
       "0           7.646111  \n",
       "1           7.546625  \n",
       "2           7.032167  \n",
       "3           6.233333  \n",
       "4           6.136250  \n",
       "5           6.965833  \n",
       "6           8.431375  \n",
       "7           6.346333  \n",
       "8           6.442500  \n",
       "9           8.436400  \n",
       "10          7.247667  \n",
       "11         13.893600  \n",
       "12          7.010444  \n",
       "13          8.650444  \n",
       "14          7.957750  \n",
       "15          6.357500  \n",
       "16          6.155714  \n",
       "17          8.568000  \n",
       "18          8.053375  \n",
       "19          7.357800  "
      ]
     },
     "execution_count": 19,
     "metadata": {},
     "output_type": "execute_result"
    }
   ],
   "source": [
    "#Create a table where we store the average for each numeric item per 'Store'\n",
    "Average_features_store = pd.DataFrame(list_store)\n",
    "Average_features_store = Average_features_store.rename(columns= {0:'Store'})\n",
    "Average_features_store['Avg_Weekly_Sales'] = avg_Weekly_Sales\n",
    "Average_features_store['Avg_Temp'] = avg_temp\n",
    "Average_features_store['Avg_Fuelprice'] = avg_fuelprice\n",
    "Average_features_store['Avg_CPI'] = avg_CPI\n",
    "Average_features_store['Avg_Unemployment'] = avg_Unemployment\n",
    "Average_features_store = Average_features_store.sort_values(by=['Store'])\n",
    "Average_features_store = Average_features_store.reset_index(drop=True)\n",
    "Average_features_store\n"
   ]
  },
  {
   "cell_type": "code",
   "execution_count": 20,
   "metadata": {},
   "outputs": [],
   "source": [
    "#We want to show the relative weight of each 'Store' in terme of weekly sales\n",
    "list_WS_all0 = []\n",
    "list_WS_store0 = []\n",
    "list_WS_percentage0 = []\n",
    "\n",
    "\n",
    "for i in list_store:\n",
    "    filter_ = df['Store']==i\n",
    "    filter_ = df.loc[filter_,:]\n",
    "    sum_WS_store = filter_['Weekly_Sales'].sum()\n",
    "    sum_WS_all = df['Weekly_Sales'].sum()\n",
    "    percentage_WS_store = (sum_WS_store / sum_WS_all)*100\n",
    "    percentage_WS_store\n",
    "    \n",
    "    list_WS_all0.append(sum_WS_all)\n",
    "    list_WS_store0.append(sum_WS_store)\n",
    "    list_WS_percentage0.append(percentage_WS_store)\n",
    "    "
   ]
  },
  {
   "cell_type": "markdown",
   "metadata": {},
   "source": [
    "### 5. Analysis on sales"
   ]
  },
  {
   "cell_type": "code",
   "execution_count": 21,
   "metadata": {},
   "outputs": [
    {
     "data": {
      "text/html": [
       "<div>\n",
       "<style scoped>\n",
       "    .dataframe tbody tr th:only-of-type {\n",
       "        vertical-align: middle;\n",
       "    }\n",
       "\n",
       "    .dataframe tbody tr th {\n",
       "        vertical-align: top;\n",
       "    }\n",
       "\n",
       "    .dataframe thead th {\n",
       "        text-align: right;\n",
       "    }\n",
       "</style>\n",
       "<table border=\"1\" class=\"dataframe\">\n",
       "  <thead>\n",
       "    <tr style=\"text-align: right;\">\n",
       "      <th></th>\n",
       "      <th>Store</th>\n",
       "      <th>Weekly_Sales_Total_df</th>\n",
       "      <th>WS_Store_df</th>\n",
       "      <th>WS_percentage_df (%)</th>\n",
       "    </tr>\n",
       "  </thead>\n",
       "  <tbody>\n",
       "    <tr>\n",
       "      <th>0</th>\n",
       "      <td>1.0</td>\n",
       "      <td>169936872.6</td>\n",
       "      <td>14062574.86</td>\n",
       "      <td>8.275176</td>\n",
       "    </tr>\n",
       "    <tr>\n",
       "      <th>1</th>\n",
       "      <td>2.0</td>\n",
       "      <td>169936872.6</td>\n",
       "      <td>15544268.98</td>\n",
       "      <td>9.147084</td>\n",
       "    </tr>\n",
       "    <tr>\n",
       "      <th>2</th>\n",
       "      <td>3.0</td>\n",
       "      <td>169936872.6</td>\n",
       "      <td>4836659.35</td>\n",
       "      <td>2.846151</td>\n",
       "    </tr>\n",
       "    <tr>\n",
       "      <th>3</th>\n",
       "      <td>4.0</td>\n",
       "      <td>169936872.6</td>\n",
       "      <td>13042553.90</td>\n",
       "      <td>7.674941</td>\n",
       "    </tr>\n",
       "    <tr>\n",
       "      <th>4</th>\n",
       "      <td>5.0</td>\n",
       "      <td>169936872.6</td>\n",
       "      <td>2419997.47</td>\n",
       "      <td>1.424057</td>\n",
       "    </tr>\n",
       "    <tr>\n",
       "      <th>5</th>\n",
       "      <td>6.0</td>\n",
       "      <td>169936872.6</td>\n",
       "      <td>9306741.48</td>\n",
       "      <td>5.476587</td>\n",
       "    </tr>\n",
       "    <tr>\n",
       "      <th>6</th>\n",
       "      <td>7.0</td>\n",
       "      <td>169936872.6</td>\n",
       "      <td>4473039.62</td>\n",
       "      <td>2.632177</td>\n",
       "    </tr>\n",
       "    <tr>\n",
       "      <th>7</th>\n",
       "      <td>8.0</td>\n",
       "      <td>169936872.6</td>\n",
       "      <td>5332524.79</td>\n",
       "      <td>3.137945</td>\n",
       "    </tr>\n",
       "    <tr>\n",
       "      <th>8</th>\n",
       "      <td>9.0</td>\n",
       "      <td>169936872.6</td>\n",
       "      <td>2027549.60</td>\n",
       "      <td>1.193119</td>\n",
       "    </tr>\n",
       "    <tr>\n",
       "      <th>9</th>\n",
       "      <td>10.0</td>\n",
       "      <td>169936872.6</td>\n",
       "      <td>9110529.05</td>\n",
       "      <td>5.361126</td>\n",
       "    </tr>\n",
       "    <tr>\n",
       "      <th>10</th>\n",
       "      <td>11.0</td>\n",
       "      <td>169936872.6</td>\n",
       "      <td>4571240.48</td>\n",
       "      <td>2.689964</td>\n",
       "    </tr>\n",
       "    <tr>\n",
       "      <th>11</th>\n",
       "      <td>12.0</td>\n",
       "      <td>169936872.6</td>\n",
       "      <td>5140125.05</td>\n",
       "      <td>3.024726</td>\n",
       "    </tr>\n",
       "    <tr>\n",
       "      <th>12</th>\n",
       "      <td>13.0</td>\n",
       "      <td>169936872.6</td>\n",
       "      <td>17975118.68</td>\n",
       "      <td>10.577527</td>\n",
       "    </tr>\n",
       "    <tr>\n",
       "      <th>13</th>\n",
       "      <td>14.0</td>\n",
       "      <td>169936872.6</td>\n",
       "      <td>18835905.73</td>\n",
       "      <td>11.084060</td>\n",
       "    </tr>\n",
       "    <tr>\n",
       "      <th>14</th>\n",
       "      <td>15.0</td>\n",
       "      <td>169936872.6</td>\n",
       "      <td>2534321.61</td>\n",
       "      <td>1.491331</td>\n",
       "    </tr>\n",
       "    <tr>\n",
       "      <th>15</th>\n",
       "      <td>16.0</td>\n",
       "      <td>169936872.6</td>\n",
       "      <td>2061271.09</td>\n",
       "      <td>1.212963</td>\n",
       "    </tr>\n",
       "    <tr>\n",
       "      <th>16</th>\n",
       "      <td>17.0</td>\n",
       "      <td>169936872.6</td>\n",
       "      <td>6241241.68</td>\n",
       "      <td>3.672682</td>\n",
       "    </tr>\n",
       "    <tr>\n",
       "      <th>17</th>\n",
       "      <td>18.0</td>\n",
       "      <td>169936872.6</td>\n",
       "      <td>11404365.40</td>\n",
       "      <td>6.710942</td>\n",
       "    </tr>\n",
       "    <tr>\n",
       "      <th>18</th>\n",
       "      <td>19.0</td>\n",
       "      <td>169936872.6</td>\n",
       "      <td>11204921.72</td>\n",
       "      <td>6.593579</td>\n",
       "    </tr>\n",
       "    <tr>\n",
       "      <th>19</th>\n",
       "      <td>20.0</td>\n",
       "      <td>169936872.6</td>\n",
       "      <td>9811922.06</td>\n",
       "      <td>5.773863</td>\n",
       "    </tr>\n",
       "  </tbody>\n",
       "</table>\n",
       "</div>"
      ],
      "text/plain": [
       "    Store  Weekly_Sales_Total_df  WS_Store_df  WS_percentage_df (%)\n",
       "0     1.0            169936872.6  14062574.86              8.275176\n",
       "1     2.0            169936872.6  15544268.98              9.147084\n",
       "2     3.0            169936872.6   4836659.35              2.846151\n",
       "3     4.0            169936872.6  13042553.90              7.674941\n",
       "4     5.0            169936872.6   2419997.47              1.424057\n",
       "5     6.0            169936872.6   9306741.48              5.476587\n",
       "6     7.0            169936872.6   4473039.62              2.632177\n",
       "7     8.0            169936872.6   5332524.79              3.137945\n",
       "8     9.0            169936872.6   2027549.60              1.193119\n",
       "9    10.0            169936872.6   9110529.05              5.361126\n",
       "10   11.0            169936872.6   4571240.48              2.689964\n",
       "11   12.0            169936872.6   5140125.05              3.024726\n",
       "12   13.0            169936872.6  17975118.68             10.577527\n",
       "13   14.0            169936872.6  18835905.73             11.084060\n",
       "14   15.0            169936872.6   2534321.61              1.491331\n",
       "15   16.0            169936872.6   2061271.09              1.212963\n",
       "16   17.0            169936872.6   6241241.68              3.672682\n",
       "17   18.0            169936872.6  11404365.40              6.710942\n",
       "18   19.0            169936872.6  11204921.72              6.593579\n",
       "19   20.0            169936872.6   9811922.06              5.773863"
      ]
     },
     "metadata": {},
     "output_type": "display_data"
    },
    {
     "name": "stdout",
     "output_type": "stream",
     "text": [
      " \n",
      "--------------------------------------------------------------------------------------\n",
      " \n"
     ]
    },
    {
     "data": {
      "image/png": "[encoded data removed]",
      "text/plain": [
       "<Figure size 720x720 with 1 Axes>"
      ]
     },
     "metadata": {},
     "output_type": "display_data"
    }
   ],
   "source": [
    "#Create a table where we store the Weekly_Sales amount & percentage per 'Store'\n",
    "percentage_WS_wtore = pd.DataFrame(list_store)\n",
    "percentage_WS_wtore = percentage_WS_wtore.rename(columns= {0:'Store'})\n",
    "\n",
    "percentage_WS_wtore['Weekly_Sales_Total_df'] = list_WS_all0\n",
    "percentage_WS_wtore['WS_Store_df'] = list_WS_store0\n",
    "percentage_WS_wtore['WS_percentage_df (%)'] = list_WS_percentage0\n",
    "\n",
    "percentage_WS_wtore = percentage_WS_wtore.sort_values(by=['Store'])\n",
    "percentage_WS_wtore = percentage_WS_wtore.reset_index(drop=True)\n",
    "display(percentage_WS_wtore)\n",
    "print(' ')\n",
    "print('--------------------------------------------------------------------------------------')\n",
    "print(' ')\n",
    "#Percentage of sales per store\n",
    "WS_percentage_df = percentage_WS_wtore.groupby(['Store'])['WS_percentage_df (%)'].sum()\n",
    "\n",
    "# Declaring indexes and values\n",
    "WS_percentage_df_values = WS_percentage_df.values\n",
    "WS_percentage_df_index = WS_percentage_df.index\n",
    "\n",
    "#The pie chart provides the relative weight of each 'Store' in terme of weekly sales\n",
    "plt.figure(figsize = (10, 10))\n",
    "plt.pie(WS_percentage_df, \n",
    "        autopct = '%1.1f%%',\n",
    "        labels = WS_percentage_df_index,\n",
    "        labeldistance = 0.8,\n",
    "        \n",
    "        explode = (0.05,0.05,0.0,0.05,0.0,\n",
    "                   0.0,0.0,0.0,0.0,0.0,\n",
    "                   0.0,0.0,0.05,0.05,0.0,\n",
    "                   0.0,0.0,0.0,0.0,0.0),\n",
    "        \n",
    "        startangle= 90\n",
    "           )\n",
    "\n",
    "plt.legend(WS_percentage_df_index, bbox_to_anchor=(1.0, 1.05))\n",
    "plt.title(\"Sales weight per Stores (%) \")\n",
    "\n",
    "plt.show()"
   ]
  },
  {
   "cell_type": "code",
   "execution_count": 22,
   "metadata": {},
   "outputs": [
    {
     "name": "stdout",
     "output_type": "stream",
     "text": [
      "* We see that the Top 5 stores represente 46.8% of the whole sales.\n",
      "* There is a concentration on some stores because 25.0% of the store represent almost half (46.8%) of the sales.\n",
      "* Meaning that 25% of the stores represente 46.8% of all sales, there is a concentration on some stores.\n"
     ]
    }
   ],
   "source": [
    "top5_store = WS_percentage_df.loc[1] + WS_percentage_df.loc[2] + WS_percentage_df.loc[4] + WS_percentage_df.loc[13] + WS_percentage_df.loc[14]\n",
    "print('* We see that the Top 5 stores represente {}% of the whole sales.'.format(round(top5_store,1)))\n",
    "print('* There is a concentration on some stores because {}% of the store represent almost half ({}%) of the sales.'.format((round(5/len(df_clean['Store'].unique()),3)*100),round(top5_store,1)))\n",
    "print('* Meaning that 25% of the stores represente {}% of all sales, there is a concentration on some stores.'.format(round(top5_store,1)))"
   ]
  },
  {
   "cell_type": "code",
   "execution_count": 23,
   "metadata": {},
   "outputs": [
    {
     "name": "stdout",
     "output_type": "stream",
     "text": [
      "<class 'pandas.core.frame.DataFrame'>\n",
      "RangeIndex: 150 entries, 0 to 149\n",
      "Data columns (total 8 columns):\n",
      " #   Column        Non-Null Count  Dtype  \n",
      "---  ------        --------------  -----  \n",
      " 0   Store         150 non-null    float64\n",
      " 1   Date          150 non-null    object \n",
      " 2   Weekly_Sales  136 non-null    float64\n",
      " 3   Holiday_Flag  138 non-null    float64\n",
      " 4   Temperature   132 non-null    float64\n",
      " 5   Fuel_Price    136 non-null    float64\n",
      " 6   CPI           138 non-null    float64\n",
      " 7   Unemployment  135 non-null    float64\n",
      "dtypes: float64(7), object(1)\n",
      "memory usage: 9.5+ KB\n"
     ]
    }
   ],
   "source": [
    "df.info()"
   ]
  },
  {
   "cell_type": "markdown",
   "metadata": {},
   "source": [
    "### 6. Outliers management"
   ]
  },
  {
   "cell_type": "code",
   "execution_count": 24,
   "metadata": {},
   "outputs": [
    {
     "data": {
      "text/html": [
       "<div>\n",
       "<style scoped>\n",
       "    .dataframe tbody tr th:only-of-type {\n",
       "        vertical-align: middle;\n",
       "    }\n",
       "\n",
       "    .dataframe tbody tr th {\n",
       "        vertical-align: top;\n",
       "    }\n",
       "\n",
       "    .dataframe thead th {\n",
       "        text-align: right;\n",
       "    }\n",
       "</style>\n",
       "<table border=\"1\" class=\"dataframe\">\n",
       "  <thead>\n",
       "    <tr style=\"text-align: right;\">\n",
       "      <th></th>\n",
       "      <th>Store</th>\n",
       "      <th>Date</th>\n",
       "      <th>Weekly_Sales</th>\n",
       "      <th>Holiday_Flag</th>\n",
       "      <th>Temperature</th>\n",
       "      <th>Fuel_Price</th>\n",
       "      <th>CPI</th>\n",
       "      <th>Unemployment</th>\n",
       "    </tr>\n",
       "  </thead>\n",
       "  <tbody>\n",
       "    <tr>\n",
       "      <th>count</th>\n",
       "      <td>5.0</td>\n",
       "      <td>5</td>\n",
       "      <td>5.000000e+00</td>\n",
       "      <td>5</td>\n",
       "      <td>5.000000</td>\n",
       "      <td>5.000000</td>\n",
       "      <td>5.000000</td>\n",
       "      <td>5.000000</td>\n",
       "    </tr>\n",
       "    <tr>\n",
       "      <th>unique</th>\n",
       "      <td>NaN</td>\n",
       "      <td>5</td>\n",
       "      <td>NaN</td>\n",
       "      <td>2</td>\n",
       "      <td>NaN</td>\n",
       "      <td>NaN</td>\n",
       "      <td>NaN</td>\n",
       "      <td>NaN</td>\n",
       "    </tr>\n",
       "    <tr>\n",
       "      <th>top</th>\n",
       "      <td>NaN</td>\n",
       "      <td>2010-08-27 00:00:00</td>\n",
       "      <td>NaN</td>\n",
       "      <td>no</td>\n",
       "      <td>NaN</td>\n",
       "      <td>NaN</td>\n",
       "      <td>NaN</td>\n",
       "      <td>NaN</td>\n",
       "    </tr>\n",
       "    <tr>\n",
       "      <th>freq</th>\n",
       "      <td>NaN</td>\n",
       "      <td>1</td>\n",
       "      <td>NaN</td>\n",
       "      <td>3</td>\n",
       "      <td>NaN</td>\n",
       "      <td>NaN</td>\n",
       "      <td>NaN</td>\n",
       "      <td>NaN</td>\n",
       "    </tr>\n",
       "    <tr>\n",
       "      <th>mean</th>\n",
       "      <td>1.0</td>\n",
       "      <td>NaN</td>\n",
       "      <td>1.535156e+06</td>\n",
       "      <td>NaN</td>\n",
       "      <td>76.362000</td>\n",
       "      <td>3.098200</td>\n",
       "      <td>212.839061</td>\n",
       "      <td>7.869000</td>\n",
       "    </tr>\n",
       "    <tr>\n",
       "      <th>std</th>\n",
       "      <td>0.0</td>\n",
       "      <td>NaN</td>\n",
       "      <td>9.112583e+04</td>\n",
       "      <td>NaN</td>\n",
       "      <td>22.255262</td>\n",
       "      <td>0.593342</td>\n",
       "      <td>2.492309</td>\n",
       "      <td>0.166006</td>\n",
       "    </tr>\n",
       "    <tr>\n",
       "      <th>min</th>\n",
       "      <td>1.0</td>\n",
       "      <td>NaN</td>\n",
       "      <td>1.449143e+06</td>\n",
       "      <td>NaN</td>\n",
       "      <td>38.510000</td>\n",
       "      <td>2.548000</td>\n",
       "      <td>210.337426</td>\n",
       "      <td>7.682000</td>\n",
       "    </tr>\n",
       "    <tr>\n",
       "      <th>25%</th>\n",
       "      <td>1.0</td>\n",
       "      <td>NaN</td>\n",
       "      <td>1.466047e+06</td>\n",
       "      <td>NaN</td>\n",
       "      <td>74.780000</td>\n",
       "      <td>2.619000</td>\n",
       "      <td>211.242170</td>\n",
       "      <td>7.787000</td>\n",
       "    </tr>\n",
       "    <tr>\n",
       "      <th>50%</th>\n",
       "      <td>1.0</td>\n",
       "      <td>NaN</td>\n",
       "      <td>1.494252e+06</td>\n",
       "      <td>NaN</td>\n",
       "      <td>85.220000</td>\n",
       "      <td>2.854000</td>\n",
       "      <td>211.567306</td>\n",
       "      <td>7.808000</td>\n",
       "    </tr>\n",
       "    <tr>\n",
       "      <th>75%</th>\n",
       "      <td>1.0</td>\n",
       "      <td>NaN</td>\n",
       "      <td>1.624384e+06</td>\n",
       "      <td>NaN</td>\n",
       "      <td>91.650000</td>\n",
       "      <td>3.684000</td>\n",
       "      <td>215.503788</td>\n",
       "      <td>7.962000</td>\n",
       "    </tr>\n",
       "    <tr>\n",
       "      <th>max</th>\n",
       "      <td>1.0</td>\n",
       "      <td>NaN</td>\n",
       "      <td>1.641957e+06</td>\n",
       "      <td>NaN</td>\n",
       "      <td>91.650000</td>\n",
       "      <td>3.786000</td>\n",
       "      <td>215.544618</td>\n",
       "      <td>8.106000</td>\n",
       "    </tr>\n",
       "  </tbody>\n",
       "</table>\n",
       "</div>"
      ],
      "text/plain": [
       "        Store                 Date  Weekly_Sales Holiday_Flag  Temperature  \\\n",
       "count     5.0                    5  5.000000e+00            5     5.000000   \n",
       "unique    NaN                    5           NaN            2          NaN   \n",
       "top       NaN  2010-08-27 00:00:00           NaN           no          NaN   \n",
       "freq      NaN                    1           NaN            3          NaN   \n",
       "mean      1.0                  NaN  1.535156e+06          NaN    76.362000   \n",
       "std       0.0                  NaN  9.112583e+04          NaN    22.255262   \n",
       "min       1.0                  NaN  1.449143e+06          NaN    38.510000   \n",
       "25%       1.0                  NaN  1.466047e+06          NaN    74.780000   \n",
       "50%       1.0                  NaN  1.494252e+06          NaN    85.220000   \n",
       "75%       1.0                  NaN  1.624384e+06          NaN    91.650000   \n",
       "max       1.0                  NaN  1.641957e+06          NaN    91.650000   \n",
       "\n",
       "        Fuel_Price         CPI  Unemployment  \n",
       "count     5.000000    5.000000      5.000000  \n",
       "unique         NaN         NaN           NaN  \n",
       "top            NaN         NaN           NaN  \n",
       "freq           NaN         NaN           NaN  \n",
       "mean      3.098200  212.839061      7.869000  \n",
       "std       0.593342    2.492309      0.166006  \n",
       "min       2.548000  210.337426      7.682000  \n",
       "25%       2.619000  211.242170      7.787000  \n",
       "50%       2.854000  211.567306      7.808000  \n",
       "75%       3.684000  215.503788      7.962000  \n",
       "max       3.786000  215.544618      8.106000  "
      ]
     },
     "metadata": {},
     "output_type": "display_data"
    }
   ],
   "source": [
    "display(df_clean.head().describe(include='all'))"
   ]
  },
  {
   "cell_type": "code",
   "execution_count": 25,
   "metadata": {},
   "outputs": [
    {
     "data": {
      "text/html": [
       "<div>\n",
       "<style scoped>\n",
       "    .dataframe tbody tr th:only-of-type {\n",
       "        vertical-align: middle;\n",
       "    }\n",
       "\n",
       "    .dataframe tbody tr th {\n",
       "        vertical-align: top;\n",
       "    }\n",
       "\n",
       "    .dataframe thead th {\n",
       "        text-align: right;\n",
       "    }\n",
       "</style>\n",
       "<table border=\"1\" class=\"dataframe\">\n",
       "  <thead>\n",
       "    <tr style=\"text-align: right;\">\n",
       "      <th></th>\n",
       "      <th>Store</th>\n",
       "      <th>Date</th>\n",
       "      <th>Weekly_Sales</th>\n",
       "      <th>Holiday_Flag</th>\n",
       "      <th>Temperature</th>\n",
       "      <th>Fuel_Price</th>\n",
       "      <th>CPI</th>\n",
       "      <th>Unemployment</th>\n",
       "    </tr>\n",
       "  </thead>\n",
       "  <tbody>\n",
       "    <tr>\n",
       "      <th>135</th>\n",
       "      <td>12.0</td>\n",
       "      <td>2010-10-09 00:00:00</td>\n",
       "      <td>903119.03</td>\n",
       "      <td>yes</td>\n",
       "      <td>83.63</td>\n",
       "      <td>3.044</td>\n",
       "      <td>126.114581</td>\n",
       "      <td>14.180</td>\n",
       "    </tr>\n",
       "    <tr>\n",
       "      <th>62</th>\n",
       "      <td>12.0</td>\n",
       "      <td>2010-12-17 00:00:00</td>\n",
       "      <td>1295605.35</td>\n",
       "      <td>no</td>\n",
       "      <td>52.77</td>\n",
       "      <td>3.236</td>\n",
       "      <td>126.879484</td>\n",
       "      <td>14.313</td>\n",
       "    </tr>\n",
       "    <tr>\n",
       "      <th>93</th>\n",
       "      <td>12.0</td>\n",
       "      <td>2011-05-27 00:00:00</td>\n",
       "      <td>964332.51</td>\n",
       "      <td>no</td>\n",
       "      <td>52.77</td>\n",
       "      <td>4.087</td>\n",
       "      <td>129.062355</td>\n",
       "      <td>13.736</td>\n",
       "    </tr>\n",
       "    <tr>\n",
       "      <th>30</th>\n",
       "      <td>12.0</td>\n",
       "      <td>2011-06-05 00:00:00</td>\n",
       "      <td>1021154.48</td>\n",
       "      <td>no</td>\n",
       "      <td>68.40</td>\n",
       "      <td>4.193</td>\n",
       "      <td>129.044433</td>\n",
       "      <td>13.736</td>\n",
       "    </tr>\n",
       "    <tr>\n",
       "      <th>68</th>\n",
       "      <td>12.0</td>\n",
       "      <td>2011-12-08 00:00:00</td>\n",
       "      <td>955913.68</td>\n",
       "      <td>no</td>\n",
       "      <td>91.04</td>\n",
       "      <td>3.701</td>\n",
       "      <td>129.201581</td>\n",
       "      <td>13.503</td>\n",
       "    </tr>\n",
       "  </tbody>\n",
       "</table>\n",
       "</div>"
      ],
      "text/plain": [
       "     Store                 Date  Weekly_Sales Holiday_Flag  Temperature  \\\n",
       "135   12.0  2010-10-09 00:00:00     903119.03          yes        83.63   \n",
       "62    12.0  2010-12-17 00:00:00    1295605.35           no        52.77   \n",
       "93    12.0  2011-05-27 00:00:00     964332.51           no        52.77   \n",
       "30    12.0  2011-06-05 00:00:00    1021154.48           no        68.40   \n",
       "68    12.0  2011-12-08 00:00:00     955913.68           no        91.04   \n",
       "\n",
       "     Fuel_Price         CPI  Unemployment  \n",
       "135       3.044  126.114581        14.180  \n",
       "62        3.236  126.879484        14.313  \n",
       "93        4.087  129.062355        13.736  \n",
       "30        4.193  129.044433        13.736  \n",
       "68        3.701  129.201581        13.503  "
      ]
     },
     "metadata": {},
     "output_type": "display_data"
    },
    {
     "name": "stdout",
     "output_type": "stream",
     "text": [
      " \n",
      "Mean :\n",
      "--------------------------------\n"
     ]
    },
    {
     "data": {
      "text/plain": [
       "Store           1.200000e+01\n",
       "Weekly_Sales    1.028025e+06\n",
       "Temperature     6.972200e+01\n",
       "Fuel_Price      3.652200e+00\n",
       "CPI             1.280605e+02\n",
       "Unemployment    1.389360e+01\n",
       "dtype: float64"
      ]
     },
     "metadata": {},
     "output_type": "display_data"
    },
    {
     "name": "stdout",
     "output_type": "stream",
     "text": [
      " \n",
      "Min :\n",
      "--------------------------------\n"
     ]
    },
    {
     "data": {
      "text/plain": [
       "Store                            12\n",
       "Date            2010-10-09 00:00:00\n",
       "Weekly_Sales                 903119\n",
       "Holiday_Flag                     no\n",
       "Temperature                   52.77\n",
       "Fuel_Price                    3.044\n",
       "CPI                         126.115\n",
       "Unemployment                 13.503\n",
       "dtype: object"
      ]
     },
     "metadata": {},
     "output_type": "display_data"
    },
    {
     "name": "stdout",
     "output_type": "stream",
     "text": [
      " \n",
      "Max :\n",
      "--------------------------------\n"
     ]
    },
    {
     "data": {
      "text/plain": [
       "Store                            12\n",
       "Date            2011-12-08 00:00:00\n",
       "Weekly_Sales            1.29561e+06\n",
       "Holiday_Flag                    yes\n",
       "Temperature                   91.04\n",
       "Fuel_Price                    4.193\n",
       "CPI                         129.202\n",
       "Unemployment                 14.313\n",
       "dtype: object"
      ]
     },
     "metadata": {},
     "output_type": "display_data"
    }
   ],
   "source": [
    "#Filter on store 12 to assess the possible outliers\n",
    "display(df_clean.query('Store == 12'))\n",
    "print(' ')\n",
    "print('Mean :')\n",
    "print('--------------------------------')\n",
    "display(df_clean.query('Store == 12').mean())\n",
    "print(' ')\n",
    "print('Min :')\n",
    "print('--------------------------------')\n",
    "display(df_clean.query('Store == 12').min())\n",
    "print(' ')\n",
    "print('Max :')\n",
    "print('--------------------------------')\n",
    "display(df_clean.query('Store == 12').max())"
   ]
  },
  {
   "cell_type": "code",
   "execution_count": 26,
   "metadata": {},
   "outputs": [
    {
     "name": "stdout",
     "output_type": "stream",
     "text": [
      "THRESHOLD FOR OUTLIERS\n",
      "--------------------------------------------\n",
      "The max threshold for Temperature is 115.9.\n",
      "The min threshold for Temperature is 5.6.\n",
      " \n",
      "--------------------------------------------\n",
      "THRESHOLD FOR OUTLIERS\n",
      "--------------------------------------------\n",
      "The max threshold for Fuel_Price is 4.7.\n",
      "The min threshold for Fuel_Price is 1.9.\n",
      " \n",
      "--------------------------------------------\n",
      "THRESHOLD FOR OUTLIERS\n",
      "--------------------------------------------\n",
      "The max threshold for CPI is 297.8.\n",
      "The min threshold for CPI is 57.9.\n",
      " \n",
      "--------------------------------------------\n",
      "THRESHOLD FOR OUTLIERS\n",
      "--------------------------------------------\n",
      "The max threshold for Unemployment is 12.4.\n",
      "The min threshold for Unemployment is 2.8.\n",
      " \n",
      "--------------------------------------------\n"
     ]
    }
   ],
   "source": [
    "#Select and remove outliers for the below columns into a list\n",
    "outlier_columuns = ['Temperature','Fuel_Price','CPI','Unemployment']\n",
    "#mask = True\n",
    "for i in outlier_columuns: \n",
    "    #Determination of mean / Standard deviation range\n",
    "    mean = df_clean[i].mean()\n",
    "    std = df_clean[i].std()\n",
    "    range_outliers = 3*std\n",
    "    \n",
    "    #Determine the max and min outliers' limit\n",
    "    max_out = mean + range_outliers\n",
    "    min_out = mean - range_outliers\n",
    "    \n",
    "    print('THRESHOLD FOR OUTLIERS')\n",
    "    print('--------------------------------------------')\n",
    "    print('The max threshold for {} is {}.'.format(i,round(max_out,1)))\n",
    "    print('The min threshold for {} is {}.'.format(i,round(min_out,1)))\n",
    "    print(' ')\n",
    "    print('--------------------------------------------')\n",
    "    \n",
    "    #Determine the masks' parameters\n",
    "    cond1 = df_clean[i] < max_out\n",
    "    cond2 = df_clean[i] > min_out\n",
    "    \n",
    "    #Determine the mask to apply on the dataset\n",
    "    mask = df_clean[(cond1) & (cond2)]\n",
    "    \n",
    "df_clean = mask"
   ]
  },
  {
   "cell_type": "code",
   "execution_count": 27,
   "metadata": {},
   "outputs": [
    {
     "name": "stdout",
     "output_type": "stream",
     "text": [
      "Dataset : df(max)\n",
      "---\n",
      "Temperature      91.650000\n",
      "Fuel_Price        4.193000\n",
      "CPI             226.968844\n",
      "Unemployment     14.313000\n",
      "dtype: float64\n",
      " \n",
      "--------------------------------------------\n",
      " \n",
      "Dataset : df_clean(max)\n",
      "Temperature      91.650000\n",
      "Fuel_Price        4.170000\n",
      "CPI             226.968844\n",
      "Unemployment      9.524000\n",
      "dtype: float64\n"
     ]
    }
   ],
   "source": [
    "print('Dataset : df(max)')\n",
    "print('---')\n",
    "print(df[outlier_columuns].max())\n",
    "print(' ')\n",
    "print('--------------------------------------------')\n",
    "print(' ')\n",
    "print('Dataset : df_clean(max)')\n",
    "print(df_clean[outlier_columuns].max())"
   ]
  },
  {
   "cell_type": "code",
   "execution_count": 28,
   "metadata": {},
   "outputs": [
    {
     "name": "stdout",
     "output_type": "stream",
     "text": [
      "Dataset : df(min)\n",
      "---\n",
      "Temperature      18.790000\n",
      "Fuel_Price        2.514000\n",
      "CPI             126.111903\n",
      "Unemployment      5.143000\n",
      "dtype: float64\n",
      " \n",
      "--------------------------------------------\n",
      " \n",
      "Dataset : df_clean(min)\n",
      "Temperature      18.790000\n",
      "Fuel_Price        2.514000\n",
      "CPI             126.111903\n",
      "Unemployment      5.143000\n",
      "dtype: float64\n"
     ]
    }
   ],
   "source": [
    "print('Dataset : df(min)')\n",
    "print('---')\n",
    "print(df[outlier_columuns].min())\n",
    "print(' ')\n",
    "print('--------------------------------------------')\n",
    "print(' ')\n",
    "print('Dataset : df_clean(min)')\n",
    "print(df_clean[outlier_columuns].min())"
   ]
  },
  {
   "cell_type": "code",
   "execution_count": 29,
   "metadata": {},
   "outputs": [
    {
     "name": "stdout",
     "output_type": "stream",
     "text": [
      "Dataset : df(shape)\n",
      "---\n",
      "(150, 8)\n",
      " \n",
      "--------------------------------------------\n",
      " \n",
      "Dataset : df_clean(shape)\n",
      "(131, 8)\n"
     ]
    }
   ],
   "source": [
    "print('Dataset : df(shape)')\n",
    "print('---')\n",
    "print(df.shape)\n",
    "print(' ')\n",
    "print('--------------------------------------------')\n",
    "print(' ')\n",
    "print('Dataset : df_clean(shape)')\n",
    "print(df_clean.shape)\n",
    "\n"
   ]
  },
  {
   "cell_type": "code",
   "execution_count": 30,
   "metadata": {},
   "outputs": [
    {
     "name": "stdout",
     "output_type": "stream",
     "text": [
      "* We have removed 5 rows by excluding outliers.\n",
      "* All those outliers come from the 'Store 12' due to a high Unemployment rate > 10.44%.\n",
      "* We overall have removed 19 rows so far.\n"
     ]
    }
   ],
   "source": [
    "#Calculation of outliers removals\n",
    "deleted_rows_outliers = len(df)-len(df_clean)-deleted_rows_WS\n",
    "max_out_Unemployment = df_clean.describe().loc['mean','Unemployment'] + (3*(df_clean.describe().loc['std','Unemployment']))\n",
    "print('* We have removed {} rows by excluding outliers.'.format(deleted_rows_outliers))\n",
    "print('* All those outliers come from the \\'Store 12\\' due to a high Unemployment rate > {}%.'.format(round(max_out_Unemployment,2)))\n",
    "print('* We overall have removed {} rows so far.'.format(len(df)-len(df_clean)))"
   ]
  },
  {
   "cell_type": "markdown",
   "metadata": {},
   "source": [
    "### 7. Analysis on sales without 'Store 12'"
   ]
  },
  {
   "cell_type": "code",
   "execution_count": 31,
   "metadata": {},
   "outputs": [],
   "source": [
    "\n",
    "list_WS_all = []\n",
    "list_WS_store = []\n",
    "list_WS_percentage = []\n",
    "\n",
    "for i in list_store:\n",
    "    filter_ = df_clean['Store']==i\n",
    "    filter_ = df_clean.loc[filter_,:]\n",
    "    sum_WS_store = filter_['Weekly_Sales'].sum()\n",
    "    sum_WS_all = df_clean['Weekly_Sales'].sum()\n",
    "    percentage_WS_store = (sum_WS_store / sum_WS_all)*100\n",
    "    percentage_WS_store\n",
    "    \n",
    "    list_WS_all.append(sum_WS_all)\n",
    "    list_WS_store.append(sum_WS_store)\n",
    "    list_WS_percentage.append(percentage_WS_store)"
   ]
  },
  {
   "cell_type": "code",
   "execution_count": 32,
   "metadata": {},
   "outputs": [
    {
     "data": {
      "text/html": [
       "<div>\n",
       "<style scoped>\n",
       "    .dataframe tbody tr th:only-of-type {\n",
       "        vertical-align: middle;\n",
       "    }\n",
       "\n",
       "    .dataframe tbody tr th {\n",
       "        vertical-align: top;\n",
       "    }\n",
       "\n",
       "    .dataframe thead th {\n",
       "        text-align: right;\n",
       "    }\n",
       "</style>\n",
       "<table border=\"1\" class=\"dataframe\">\n",
       "  <thead>\n",
       "    <tr style=\"text-align: right;\">\n",
       "      <th></th>\n",
       "      <th>Store</th>\n",
       "      <th>Weekly_Sales_Total_clean</th>\n",
       "      <th>WS_Store_clean</th>\n",
       "      <th>WS_percentage_clean (%)</th>\n",
       "    </tr>\n",
       "  </thead>\n",
       "  <tbody>\n",
       "    <tr>\n",
       "      <th>0</th>\n",
       "      <td>1.0</td>\n",
       "      <td>1.647967e+08</td>\n",
       "      <td>14062574.86</td>\n",
       "      <td>8.533284</td>\n",
       "    </tr>\n",
       "    <tr>\n",
       "      <th>1</th>\n",
       "      <td>2.0</td>\n",
       "      <td>1.647967e+08</td>\n",
       "      <td>15544268.98</td>\n",
       "      <td>9.432388</td>\n",
       "    </tr>\n",
       "    <tr>\n",
       "      <th>2</th>\n",
       "      <td>3.0</td>\n",
       "      <td>1.647967e+08</td>\n",
       "      <td>4836659.35</td>\n",
       "      <td>2.934924</td>\n",
       "    </tr>\n",
       "    <tr>\n",
       "      <th>3</th>\n",
       "      <td>4.0</td>\n",
       "      <td>1.647967e+08</td>\n",
       "      <td>13042553.90</td>\n",
       "      <td>7.914327</td>\n",
       "    </tr>\n",
       "    <tr>\n",
       "      <th>4</th>\n",
       "      <td>5.0</td>\n",
       "      <td>1.647967e+08</td>\n",
       "      <td>2419997.47</td>\n",
       "      <td>1.468474</td>\n",
       "    </tr>\n",
       "    <tr>\n",
       "      <th>5</th>\n",
       "      <td>6.0</td>\n",
       "      <td>1.647967e+08</td>\n",
       "      <td>9306741.48</td>\n",
       "      <td>5.647406</td>\n",
       "    </tr>\n",
       "    <tr>\n",
       "      <th>6</th>\n",
       "      <td>7.0</td>\n",
       "      <td>1.647967e+08</td>\n",
       "      <td>4473039.62</td>\n",
       "      <td>2.714277</td>\n",
       "    </tr>\n",
       "    <tr>\n",
       "      <th>7</th>\n",
       "      <td>8.0</td>\n",
       "      <td>1.647967e+08</td>\n",
       "      <td>5332524.79</td>\n",
       "      <td>3.235819</td>\n",
       "    </tr>\n",
       "    <tr>\n",
       "      <th>8</th>\n",
       "      <td>9.0</td>\n",
       "      <td>1.647967e+08</td>\n",
       "      <td>2027549.60</td>\n",
       "      <td>1.230334</td>\n",
       "    </tr>\n",
       "    <tr>\n",
       "      <th>9</th>\n",
       "      <td>10.0</td>\n",
       "      <td>1.647967e+08</td>\n",
       "      <td>9110529.05</td>\n",
       "      <td>5.528343</td>\n",
       "    </tr>\n",
       "    <tr>\n",
       "      <th>10</th>\n",
       "      <td>11.0</td>\n",
       "      <td>1.647967e+08</td>\n",
       "      <td>4571240.48</td>\n",
       "      <td>2.773866</td>\n",
       "    </tr>\n",
       "    <tr>\n",
       "      <th>11</th>\n",
       "      <td>12.0</td>\n",
       "      <td>1.647967e+08</td>\n",
       "      <td>0.00</td>\n",
       "      <td>0.000000</td>\n",
       "    </tr>\n",
       "    <tr>\n",
       "      <th>12</th>\n",
       "      <td>13.0</td>\n",
       "      <td>1.647967e+08</td>\n",
       "      <td>17975118.68</td>\n",
       "      <td>10.907447</td>\n",
       "    </tr>\n",
       "    <tr>\n",
       "      <th>13</th>\n",
       "      <td>14.0</td>\n",
       "      <td>1.647967e+08</td>\n",
       "      <td>18835905.73</td>\n",
       "      <td>11.429780</td>\n",
       "    </tr>\n",
       "    <tr>\n",
       "      <th>14</th>\n",
       "      <td>15.0</td>\n",
       "      <td>1.647967e+08</td>\n",
       "      <td>2534321.61</td>\n",
       "      <td>1.537847</td>\n",
       "    </tr>\n",
       "    <tr>\n",
       "      <th>15</th>\n",
       "      <td>16.0</td>\n",
       "      <td>1.647967e+08</td>\n",
       "      <td>2061271.09</td>\n",
       "      <td>1.250796</td>\n",
       "    </tr>\n",
       "    <tr>\n",
       "      <th>16</th>\n",
       "      <td>17.0</td>\n",
       "      <td>1.647967e+08</td>\n",
       "      <td>6241241.68</td>\n",
       "      <td>3.787236</td>\n",
       "    </tr>\n",
       "    <tr>\n",
       "      <th>17</th>\n",
       "      <td>18.0</td>\n",
       "      <td>1.647967e+08</td>\n",
       "      <td>11404365.40</td>\n",
       "      <td>6.920261</td>\n",
       "    </tr>\n",
       "    <tr>\n",
       "      <th>18</th>\n",
       "      <td>19.0</td>\n",
       "      <td>1.647967e+08</td>\n",
       "      <td>11204921.72</td>\n",
       "      <td>6.799237</td>\n",
       "    </tr>\n",
       "    <tr>\n",
       "      <th>19</th>\n",
       "      <td>20.0</td>\n",
       "      <td>1.647967e+08</td>\n",
       "      <td>9811922.06</td>\n",
       "      <td>5.953954</td>\n",
       "    </tr>\n",
       "  </tbody>\n",
       "</table>\n",
       "</div>"
      ],
      "text/plain": [
       "    Store  Weekly_Sales_Total_clean  WS_Store_clean  WS_percentage_clean (%)\n",
       "0     1.0              1.647967e+08     14062574.86                 8.533284\n",
       "1     2.0              1.647967e+08     15544268.98                 9.432388\n",
       "2     3.0              1.647967e+08      4836659.35                 2.934924\n",
       "3     4.0              1.647967e+08     13042553.90                 7.914327\n",
       "4     5.0              1.647967e+08      2419997.47                 1.468474\n",
       "5     6.0              1.647967e+08      9306741.48                 5.647406\n",
       "6     7.0              1.647967e+08      4473039.62                 2.714277\n",
       "7     8.0              1.647967e+08      5332524.79                 3.235819\n",
       "8     9.0              1.647967e+08      2027549.60                 1.230334\n",
       "9    10.0              1.647967e+08      9110529.05                 5.528343\n",
       "10   11.0              1.647967e+08      4571240.48                 2.773866\n",
       "11   12.0              1.647967e+08            0.00                 0.000000\n",
       "12   13.0              1.647967e+08     17975118.68                10.907447\n",
       "13   14.0              1.647967e+08     18835905.73                11.429780\n",
       "14   15.0              1.647967e+08      2534321.61                 1.537847\n",
       "15   16.0              1.647967e+08      2061271.09                 1.250796\n",
       "16   17.0              1.647967e+08      6241241.68                 3.787236\n",
       "17   18.0              1.647967e+08     11404365.40                 6.920261\n",
       "18   19.0              1.647967e+08     11204921.72                 6.799237\n",
       "19   20.0              1.647967e+08      9811922.06                 5.953954"
      ]
     },
     "metadata": {},
     "output_type": "display_data"
    },
    {
     "name": "stdout",
     "output_type": "stream",
     "text": [
      " \n",
      "--------------------------------------------------------------------------------------\n",
      " \n"
     ]
    },
    {
     "data": {
      "image/png": "[encoded data removed]",
      "text/plain": [
       "<Figure size 720x720 with 1 Axes>"
      ]
     },
     "metadata": {},
     "output_type": "display_data"
    }
   ],
   "source": [
    "#Create a table where we store the Weekly_Sales amount & percentage per store\n",
    "\n",
    "percentage_WS_wtore = pd.DataFrame(list_store)\n",
    "percentage_WS_wtore = percentage_WS_wtore.rename(columns= {0:'Store'})\n",
    "\n",
    "percentage_WS_wtore['Weekly_Sales_Total_clean'] = list_WS_all\n",
    "percentage_WS_wtore['WS_Store_clean'] = list_WS_store\n",
    "percentage_WS_wtore['WS_percentage_clean (%)'] = list_WS_percentage\n",
    "\n",
    "percentage_WS_wtore = percentage_WS_wtore.sort_values(by=['Store'])\n",
    "percentage_WS_wtore = percentage_WS_wtore.reset_index(drop=True)\n",
    "display(percentage_WS_wtore)\n",
    "print(' ')\n",
    "print('--------------------------------------------------------------------------------------')\n",
    "print(' ')\n",
    "#Percentage of sales per store\n",
    "WS_percentage_clean = percentage_WS_wtore.groupby(['Store'])['WS_percentage_clean (%)'].sum()\n",
    "\n",
    "# Declaring indexes and values\n",
    "WS_percentage_clean_values = WS_percentage_clean.values\n",
    "WS_percentage_clean_index = WS_percentage_clean.index\n",
    "\n",
    "#The pie chart provides the relative weight of each 'Store' in terme of weekly sales\n",
    "plt.figure(figsize = (10, 10))\n",
    "plt.pie(WS_percentage_clean, \n",
    "        autopct = '%1.1f%%',\n",
    "        labels = WS_percentage_clean_index,\n",
    "        labeldistance = 0.8,\n",
    "        \n",
    "        explode = (0.05,0.05,0.0,0.05,0.0,\n",
    "                   0.0,0.0,0.0,0.0,0.0,\n",
    "                   0.0,0.0,0.05,0.05,0.0,\n",
    "                   0.0,0.0,0.0,0.0,0.0),\n",
    "        \n",
    "        startangle= 90\n",
    "           )\n",
    "\n",
    "plt.legend(WS_percentage_clean_index, bbox_to_anchor=(1.0, 1.05))\n",
    "plt.title(\"Sales weight per Stores (%) - Excluding Outliers\")\n",
    "plt.show()\n"
   ]
  },
  {
   "cell_type": "code",
   "execution_count": 33,
   "metadata": {},
   "outputs": [
    {
     "name": "stdout",
     "output_type": "stream",
     "text": [
      "We see now that the Top 5 stores represente 48.22% of the whole sales.\n",
      "Meaning that 25% of the stores represente 48.22% of all sales, there is an even bigger concentration on some stores.\n"
     ]
    }
   ],
   "source": [
    "top5_store_clean = WS_percentage_clean.loc[1] + WS_percentage_clean.loc[2] + WS_percentage_clean.loc[4] + WS_percentage_clean.loc[13] + WS_percentage_clean.loc[14]\n",
    "print('We see now that the Top 5 stores represente {}% of the whole sales.'.format(round(top5_store_clean,2)))\n",
    "print('Meaning that 25% of the stores represente {}% of all sales, there is an even bigger concentration on some stores.'.format(round(top5_store_clean,2)))"
   ]
  },
  {
   "cell_type": "markdown",
   "metadata": {},
   "source": [
    "### 8. Columns creation"
   ]
  },
  {
   "cell_type": "markdown",
   "metadata": {},
   "source": [
    "### a). CREATE CELSIUS COLUMNS"
   ]
  },
  {
   "cell_type": "code",
   "execution_count": 34,
   "metadata": {},
   "outputs": [],
   "source": [
    "#Transform the temperature from fahrenheit to celsius\n",
    "df_clean['Temperature_C'] = df_clean['Temperature'].apply(lambda x : ((1*x) - 32) * (5/9) )"
   ]
  },
  {
   "cell_type": "code",
   "execution_count": null,
   "metadata": {},
   "outputs": [],
   "source": []
  },
  {
   "cell_type": "markdown",
   "metadata": {},
   "source": [
    "### b). CREATE DATE TYPE COLUMNS"
   ]
  },
  {
   "cell_type": "code",
   "execution_count": 35,
   "metadata": {},
   "outputs": [],
   "source": [
    "df_clean['date_time'] = df_clean['Date']"
   ]
  },
  {
   "cell_type": "code",
   "execution_count": 36,
   "metadata": {},
   "outputs": [],
   "source": [
    "df_clean['day'] = pd.DatetimeIndex(df_clean['date_time']).day\n",
    "df_clean['day'] = pd.to_numeric(df_clean['day'], downcast='integer')"
   ]
  },
  {
   "cell_type": "code",
   "execution_count": 37,
   "metadata": {},
   "outputs": [],
   "source": [
    "#Creating a month column from column date_time\n",
    "df_clean['month'] = pd.DatetimeIndex(df_clean['date_time']).month\n",
    "df_clean['month'] = pd.to_numeric(df_clean['month'], downcast='integer')\n",
    "\n",
    "#Encoding the months as categorial\n",
    "df_clean['month'] = df_clean['month'].apply(lambda x : '1 - January' if x == 1\n",
    "                                                    else '2 - February' if x == 2\n",
    "                                                    else '3 - March' if x == 3\n",
    "                                                    else '4 - April' if x == 4\n",
    "                                                    else '5 - May' if x == 5\n",
    "                                                    else '6 - June' if x == 6\n",
    "                                                    else '7 - July' if x == 7\n",
    "                                                    else '8 - August' if x == 8\n",
    "                                                    else '9 - September' if x == 9\n",
    "                                                    else 'a - October' if x == 10\n",
    "                                                    else 'b - November' if x == 11\n",
    "                                                    else 'c - December' if x == 12\n",
    "                                                    else x)"
   ]
  },
  {
   "cell_type": "code",
   "execution_count": 38,
   "metadata": {},
   "outputs": [],
   "source": [
    "#Creating a year column from column date_time\n",
    "df_clean['year'] = pd.DatetimeIndex(df_clean['date_time']).year\n",
    "df_clean['year'] = pd.to_numeric(df_clean['year'], downcast='integer')\n",
    "\n",
    "#Encoding the year as categorial\n",
    "df_clean['year'] = df_clean['year'].apply(lambda x : 'Y2010' if x == 2010\n",
    "                                                else 'Y2011' if x == 2011\n",
    "                                                else 'Y2012' if x == 2012\n",
    "                                                else x)"
   ]
  },
  {
   "cell_type": "code",
   "execution_count": 39,
   "metadata": {},
   "outputs": [],
   "source": [
    "#Creating a quarter column from column date_time\n",
    "df_clean['quarter'] = pd.DatetimeIndex(df_clean['date_time']).quarter\n",
    "df_clean['quarter'] = pd.to_numeric(df_clean['quarter'], downcast='integer')\n",
    "\n",
    "#Encoding the year as categorial\n",
    "df_clean['quarter'] = df_clean['quarter'].apply(lambda x : 'Q1' if x == 1\n",
    "                                                        else 'Q2' if x == 2\n",
    "                                                        else 'Q3' if x == 3\n",
    "                                                        else 'Q4' if x == 4\n",
    "                                                        else x)"
   ]
  },
  {
   "cell_type": "code",
   "execution_count": 40,
   "metadata": {},
   "outputs": [],
   "source": [
    "#Creating a day_week column from column date_time\n",
    "df_clean['day_week'] = pd.DatetimeIndex(df_clean['date_time']).dayofweek\n",
    "df_clean['day_week'] = pd.to_numeric(df_clean['day_week'], downcast='integer')\n",
    "df_clean['day_week']\n",
    "\n",
    "#Encoding the year as categorial\n",
    "df_clean['day_week'] = df_clean['day_week'].apply(lambda x : '1 - Monday' if x == 0\n",
    "                                                        else '2 - Tuesday' if x == 1\n",
    "                                                        else '3 - Wednesday' if x == 2\n",
    "                                                        else '4 - Thursday' if x == 3\n",
    "                                                        else '5 - Friday' if x == 4\n",
    "                                                        else '6 - Saturday' if x == 5\n",
    "                                                        else '7 - Sunday' if x == 6\n",
    "                                                        else x)"
   ]
  },
  {
   "cell_type": "code",
   "execution_count": 41,
   "metadata": {},
   "outputs": [
    {
     "data": {
      "text/html": [
       "<div>\n",
       "<style scoped>\n",
       "    .dataframe tbody tr th:only-of-type {\n",
       "        vertical-align: middle;\n",
       "    }\n",
       "\n",
       "    .dataframe tbody tr th {\n",
       "        vertical-align: top;\n",
       "    }\n",
       "\n",
       "    .dataframe thead th {\n",
       "        text-align: right;\n",
       "    }\n",
       "</style>\n",
       "<table border=\"1\" class=\"dataframe\">\n",
       "  <thead>\n",
       "    <tr style=\"text-align: right;\">\n",
       "      <th></th>\n",
       "      <th>Store</th>\n",
       "      <th>Date</th>\n",
       "      <th>Weekly_Sales</th>\n",
       "      <th>Holiday_Flag</th>\n",
       "      <th>Temperature</th>\n",
       "      <th>Fuel_Price</th>\n",
       "      <th>CPI</th>\n",
       "      <th>Unemployment</th>\n",
       "      <th>Temperature_C</th>\n",
       "      <th>date_time</th>\n",
       "      <th>day</th>\n",
       "      <th>month</th>\n",
       "      <th>year</th>\n",
       "      <th>quarter</th>\n",
       "      <th>day_week</th>\n",
       "    </tr>\n",
       "  </thead>\n",
       "  <tbody>\n",
       "    <tr>\n",
       "      <th>0</th>\n",
       "      <td>6.0</td>\n",
       "      <td>2011-02-18 00:00:00</td>\n",
       "      <td>1572117.54</td>\n",
       "      <td>no</td>\n",
       "      <td>59.61</td>\n",
       "      <td>3.045</td>\n",
       "      <td>214.777523</td>\n",
       "      <td>6.858</td>\n",
       "      <td>15.338889</td>\n",
       "      <td>2011-02-18 00:00:00</td>\n",
       "      <td>18</td>\n",
       "      <td>2 - February</td>\n",
       "      <td>Y2011</td>\n",
       "      <td>Q1</td>\n",
       "      <td>5 - Friday</td>\n",
       "    </tr>\n",
       "    <tr>\n",
       "      <th>1</th>\n",
       "      <td>13.0</td>\n",
       "      <td>2011-03-25 00:00:00</td>\n",
       "      <td>1807545.43</td>\n",
       "      <td>no</td>\n",
       "      <td>42.38</td>\n",
       "      <td>3.435</td>\n",
       "      <td>128.616064</td>\n",
       "      <td>7.470</td>\n",
       "      <td>5.766667</td>\n",
       "      <td>2011-03-25 00:00:00</td>\n",
       "      <td>25</td>\n",
       "      <td>3 - March</td>\n",
       "      <td>Y2011</td>\n",
       "      <td>Q1</td>\n",
       "      <td>5 - Friday</td>\n",
       "    </tr>\n",
       "    <tr>\n",
       "      <th>3</th>\n",
       "      <td>11.0</td>\n",
       "      <td>2011-04-05</td>\n",
       "      <td>1244390.03</td>\n",
       "      <td>no</td>\n",
       "      <td>84.57</td>\n",
       "      <td>2.735</td>\n",
       "      <td>214.556497</td>\n",
       "      <td>7.346</td>\n",
       "      <td>29.205556</td>\n",
       "      <td>2011-04-05</td>\n",
       "      <td>5</td>\n",
       "      <td>4 - April</td>\n",
       "      <td>Y2011</td>\n",
       "      <td>Q2</td>\n",
       "      <td>2 - Tuesday</td>\n",
       "    </tr>\n",
       "    <tr>\n",
       "      <th>4</th>\n",
       "      <td>6.0</td>\n",
       "      <td>2010-05-28 00:00:00</td>\n",
       "      <td>1644470.66</td>\n",
       "      <td>no</td>\n",
       "      <td>78.89</td>\n",
       "      <td>2.759</td>\n",
       "      <td>212.412888</td>\n",
       "      <td>7.092</td>\n",
       "      <td>26.050000</td>\n",
       "      <td>2010-05-28 00:00:00</td>\n",
       "      <td>28</td>\n",
       "      <td>5 - May</td>\n",
       "      <td>Y2010</td>\n",
       "      <td>Q2</td>\n",
       "      <td>5 - Friday</td>\n",
       "    </tr>\n",
       "    <tr>\n",
       "      <th>5</th>\n",
       "      <td>4.0</td>\n",
       "      <td>2010-05-28 00:00:00</td>\n",
       "      <td>1857533.70</td>\n",
       "      <td>no</td>\n",
       "      <td>75.19</td>\n",
       "      <td>2.756</td>\n",
       "      <td>126.160226</td>\n",
       "      <td>7.896</td>\n",
       "      <td>23.994444</td>\n",
       "      <td>2010-05-28 00:00:00</td>\n",
       "      <td>28</td>\n",
       "      <td>5 - May</td>\n",
       "      <td>Y2010</td>\n",
       "      <td>Q2</td>\n",
       "      <td>5 - Friday</td>\n",
       "    </tr>\n",
       "  </tbody>\n",
       "</table>\n",
       "</div>"
      ],
      "text/plain": [
       "   Store                 Date  Weekly_Sales Holiday_Flag  Temperature  \\\n",
       "0    6.0  2011-02-18 00:00:00    1572117.54           no        59.61   \n",
       "1   13.0  2011-03-25 00:00:00    1807545.43           no        42.38   \n",
       "3   11.0           2011-04-05    1244390.03           no        84.57   \n",
       "4    6.0  2010-05-28 00:00:00    1644470.66           no        78.89   \n",
       "5    4.0  2010-05-28 00:00:00    1857533.70           no        75.19   \n",
       "\n",
       "   Fuel_Price         CPI  Unemployment  Temperature_C            date_time  \\\n",
       "0       3.045  214.777523         6.858      15.338889  2011-02-18 00:00:00   \n",
       "1       3.435  128.616064         7.470       5.766667  2011-03-25 00:00:00   \n",
       "3       2.735  214.556497         7.346      29.205556           2011-04-05   \n",
       "4       2.759  212.412888         7.092      26.050000  2010-05-28 00:00:00   \n",
       "5       2.756  126.160226         7.896      23.994444  2010-05-28 00:00:00   \n",
       "\n",
       "   day         month   year quarter     day_week  \n",
       "0   18  2 - February  Y2011      Q1   5 - Friday  \n",
       "1   25     3 - March  Y2011      Q1   5 - Friday  \n",
       "3    5     4 - April  Y2011      Q2  2 - Tuesday  \n",
       "4   28       5 - May  Y2010      Q2   5 - Friday  \n",
       "5   28       5 - May  Y2010      Q2   5 - Friday  "
      ]
     },
     "execution_count": 41,
     "metadata": {},
     "output_type": "execute_result"
    }
   ],
   "source": [
    "#Restore the order by the index\n",
    "df_clean = df_clean.sort_index()\n",
    "df_clean.head()"
   ]
  },
  {
   "cell_type": "code",
   "execution_count": 42,
   "metadata": {},
   "outputs": [
    {
     "name": "stdout",
     "output_type": "stream",
     "text": [
      "Percentage of missing values: \n",
      "---\n"
     ]
    },
    {
     "data": {
      "text/plain": [
       "Store            0.0\n",
       "Date             0.0\n",
       "Weekly_Sales     0.0\n",
       "Holiday_Flag     0.0\n",
       "Temperature      0.0\n",
       "Fuel_Price       0.0\n",
       "CPI              0.0\n",
       "Unemployment     0.0\n",
       "Temperature_C    0.0\n",
       "date_time        0.0\n",
       "day              0.0\n",
       "month            0.0\n",
       "year             0.0\n",
       "quarter          0.0\n",
       "day_week         0.0\n",
       "dtype: float64"
      ]
     },
     "metadata": {},
     "output_type": "display_data"
    }
   ],
   "source": [
    "print(\"Percentage of missing values: \")\n",
    "print(\"---\")\n",
    "display(100*df_clean.isnull().sum()/df_clean.shape[0])"
   ]
  },
  {
   "cell_type": "markdown",
   "metadata": {},
   "source": [
    "\n",
    "### **3. Data visualization**\n",
    "---"
   ]
  },
  {
   "cell_type": "markdown",
   "metadata": {},
   "source": [
    "### *Unemployment rate per Stores (incl. Outliers)*"
   ]
  },
  {
   "cell_type": "code",
   "execution_count": 43,
   "metadata": {},
   "outputs": [
    {
     "name": "stdout",
     "output_type": "stream",
     "text": [
      "\n"
     ]
    },
    {
     "data": {
      "image/png": "[encoded data removed]",
      "text/plain": [
       "<Figure size 490.375x432 with 1 Axes>"
      ]
     },
     "metadata": {
      "needs_background": "light"
     },
     "output_type": "display_data"
    }
   ],
   "source": [
    "\n",
    "print('')\n",
    "sns.relplot(x=\"Date\", y=\"Unemployment\", \n",
    "            hue=\"Store\",\n",
    "            sizes=(1000, 1000), \n",
    "            alpha=.5 , \n",
    "            palette='muted',\n",
    "            height=6,\n",
    "            #col='Holiday_Flag',\n",
    "            data=df);"
   ]
  },
  {
   "cell_type": "markdown",
   "metadata": {},
   "source": [
    "### *Unemployment rate per Stores (excl. Outliers)*"
   ]
  },
  {
   "cell_type": "code",
   "execution_count": 44,
   "metadata": {},
   "outputs": [
    {
     "name": "stdout",
     "output_type": "stream",
     "text": [
      "\n"
     ]
    },
    {
     "data": {
      "image/png": "[encoded data removed]",
      "text/plain": [
       "<Figure size 490.375x432 with 1 Axes>"
      ]
     },
     "metadata": {
      "needs_background": "light"
     },
     "output_type": "display_data"
    }
   ],
   "source": [
    "\n",
    "print('')\n",
    "sns.relplot(x=\"Date\", y=\"Unemployment\", \n",
    "            hue=\"Store\",\n",
    "            sizes=(1000, 1000), \n",
    "            alpha=.5 , \n",
    "            palette=\"muted\",\n",
    "            height=6, \n",
    "            data=df_clean);"
   ]
  },
  {
   "cell_type": "code",
   "execution_count": 45,
   "metadata": {},
   "outputs": [
    {
     "data": {
      "text/html": [
       "<iframe\n",
       "    scrolling=\"no\"\n",
       "    width=\"100%\"\n",
       "    height=\"545px\"\n",
       "    src=\"iframe_figures/figure_45.html\"\n",
       "    frameborder=\"0\"\n",
       "    allowfullscreen\n",
       "></iframe>\n"
      ]
     },
     "metadata": {},
     "output_type": "display_data"
    }
   ],
   "source": [
    "px.scatter(data_frame=df, x=\"Date\", y=\"Weekly_Sales\",color='Store',title='Weekly Sales per Date')"
   ]
  },
  {
   "cell_type": "code",
   "execution_count": 46,
   "metadata": {},
   "outputs": [
    {
     "data": {
      "text/html": [
       "<iframe\n",
       "    scrolling=\"no\"\n",
       "    width=\"100%\"\n",
       "    height=\"545px\"\n",
       "    src=\"iframe_figures/figure_46.html\"\n",
       "    frameborder=\"0\"\n",
       "    allowfullscreen\n",
       "></iframe>\n"
      ]
     },
     "metadata": {},
     "output_type": "display_data"
    }
   ],
   "source": [
    "px.scatter(data_frame=df_clean, x=\"Temperature_C\", y=\"Weekly_Sales\",color='Store',title='Weekly Sales on temperature (Celsius)')"
   ]
  },
  {
   "cell_type": "code",
   "execution_count": 47,
   "metadata": {},
   "outputs": [
    {
     "data": {
      "text/html": [
       "<iframe\n",
       "    scrolling=\"no\"\n",
       "    width=\"100%\"\n",
       "    height=\"545px\"\n",
       "    src=\"iframe_figures/figure_47.html\"\n",
       "    frameborder=\"0\"\n",
       "    allowfullscreen\n",
       "></iframe>\n"
      ]
     },
     "metadata": {},
     "output_type": "display_data"
    }
   ],
   "source": [
    "px.scatter(data_frame=df_clean, x=\"Fuel_Price\", y=\"Weekly_Sales\",color='Store',title='Weekly Sales on fuel price')"
   ]
  },
  {
   "cell_type": "code",
   "execution_count": 48,
   "metadata": {},
   "outputs": [
    {
     "data": {
      "text/html": [
       "<iframe\n",
       "    scrolling=\"no\"\n",
       "    width=\"100%\"\n",
       "    height=\"545px\"\n",
       "    src=\"iframe_figures/figure_48.html\"\n",
       "    frameborder=\"0\"\n",
       "    allowfullscreen\n",
       "></iframe>\n"
      ]
     },
     "metadata": {},
     "output_type": "display_data"
    }
   ],
   "source": [
    "px.scatter(data_frame=df_clean, x=\"CPI\", y=\"Weekly_Sales\",color='Store',title='Weekly Sales on CPI')"
   ]
  },
  {
   "cell_type": "code",
   "execution_count": 49,
   "metadata": {},
   "outputs": [
    {
     "data": {
      "text/html": [
       "<iframe\n",
       "    scrolling=\"no\"\n",
       "    width=\"100%\"\n",
       "    height=\"545px\"\n",
       "    src=\"iframe_figures/figure_49.html\"\n",
       "    frameborder=\"0\"\n",
       "    allowfullscreen\n",
       "></iframe>\n"
      ]
     },
     "metadata": {},
     "output_type": "display_data"
    }
   ],
   "source": [
    "px.scatter(data_frame=df, x=\"Unemployment\", y=\"Weekly_Sales\",color='Store',title='Weekly Sales on unemployment')"
   ]
  },
  {
   "cell_type": "code",
   "execution_count": 50,
   "metadata": {},
   "outputs": [
    {
     "data": {
      "text/html": [
       "<iframe\n",
       "    scrolling=\"no\"\n",
       "    width=\"100%\"\n",
       "    height=\"545px\"\n",
       "    src=\"iframe_figures/figure_50.html\"\n",
       "    frameborder=\"0\"\n",
       "    allowfullscreen\n",
       "></iframe>\n"
      ]
     },
     "metadata": {},
     "output_type": "display_data"
    }
   ],
   "source": [
    "avg_sale_store = df.groupby('Store')['Weekly_Sales'].mean().reset_index()\n",
    "px.bar(avg_sale_store, x = 'Store', y = 'Weekly_Sales',title=\"Average weekly sales per Store (initial dataset)\", color='Store')"
   ]
  },
  {
   "cell_type": "code",
   "execution_count": 51,
   "metadata": {},
   "outputs": [
    {
     "data": {
      "text/html": [
       "<iframe\n",
       "    scrolling=\"no\"\n",
       "    width=\"100%\"\n",
       "    height=\"545px\"\n",
       "    src=\"iframe_figures/figure_51.html\"\n",
       "    frameborder=\"0\"\n",
       "    allowfullscreen\n",
       "></iframe>\n"
      ]
     },
     "metadata": {},
     "output_type": "display_data"
    }
   ],
   "source": [
    "avg_sale_store2 = df_clean.groupby('Store')['Weekly_Sales'].mean().reset_index()\n",
    "px.bar(avg_sale_store2, x = 'Store', y = 'Weekly_Sales',title=\"Average weekly sales per Store (cleaned dataset)\", color='Store')"
   ]
  },
  {
   "cell_type": "code",
   "execution_count": 52,
   "metadata": {},
   "outputs": [
    {
     "data": {
      "image/png": "[encoded data removed]",
      "text/plain": [
       "<Figure size 1800x432 with 1 Axes>"
      ]
     },
     "metadata": {
      "needs_background": "light"
     },
     "output_type": "display_data"
    }
   ],
   "source": [
    "amount_sale_date = df_clean.groupby('Date')['Weekly_Sales'].sum().reset_index()\n",
    "avg_sale_CPI = df_clean.groupby('Date')['Temperature'].mean().reset_index()\n",
    "\n",
    "# plot\n",
    "plt.figure(figsize=(25,6))\n",
    "plt.plot(amount_sale_date['Date'],amount_sale_date['Weekly_Sales'])\n",
    "#plt.plot(avg_sale_CPI['Date'],avg_sale_CPI['Temperature'], secondary_y = True)\n",
    "plt.xlabel(\"Date\")\n",
    "plt.ylabel(\"Sales\")\n",
    "# beautify the x-labels\n",
    "plt.gcf().autofmt_xdate()\n",
    "plt.title('Weekly sales over the period')\n",
    "plt.xticks(rotation=45)\n",
    "plt.show()\n"
   ]
  },
  {
   "cell_type": "markdown",
   "metadata": {},
   "source": [
    "\n",
    "### **4. Preprocessing & Machine Learning**\n",
    "---"
   ]
  },
  {
   "cell_type": "markdown",
   "metadata": {},
   "source": [
    "## A) CORRELATION MATRIX"
   ]
  },
  {
   "cell_type": "code",
   "execution_count": 53,
   "metadata": {},
   "outputs": [],
   "source": [
    "#Delete column date as it has been spread in years, months, weeks etc\n",
    "#Delete date and date_time column in order to avoid colinearity\n",
    "df_clean = df_clean.drop(columns=['Date','date_time','Temperature','day'],axis=1)"
   ]
  },
  {
   "cell_type": "code",
   "execution_count": 54,
   "metadata": {},
   "outputs": [
    {
     "data": {
      "text/html": [
       "<div>\n",
       "<style scoped>\n",
       "    .dataframe tbody tr th:only-of-type {\n",
       "        vertical-align: middle;\n",
       "    }\n",
       "\n",
       "    .dataframe tbody tr th {\n",
       "        vertical-align: top;\n",
       "    }\n",
       "\n",
       "    .dataframe thead th {\n",
       "        text-align: right;\n",
       "    }\n",
       "</style>\n",
       "<table border=\"1\" class=\"dataframe\">\n",
       "  <thead>\n",
       "    <tr style=\"text-align: right;\">\n",
       "      <th></th>\n",
       "      <th>Weekly_Sales</th>\n",
       "      <th>Fuel_Price</th>\n",
       "      <th>CPI</th>\n",
       "      <th>Unemployment</th>\n",
       "      <th>Temperature_C</th>\n",
       "    </tr>\n",
       "  </thead>\n",
       "  <tbody>\n",
       "    <tr>\n",
       "      <th>Weekly_Sales</th>\n",
       "      <td>1.000000</td>\n",
       "      <td>0.021704</td>\n",
       "      <td>-0.310638</td>\n",
       "      <td>0.228782</td>\n",
       "      <td>-0.129325</td>\n",
       "    </tr>\n",
       "    <tr>\n",
       "      <th>Fuel_Price</th>\n",
       "      <td>0.021704</td>\n",
       "      <td>1.000000</td>\n",
       "      <td>-0.161764</td>\n",
       "      <td>-0.007314</td>\n",
       "      <td>-0.069351</td>\n",
       "    </tr>\n",
       "    <tr>\n",
       "      <th>CPI</th>\n",
       "      <td>-0.310638</td>\n",
       "      <td>-0.161764</td>\n",
       "      <td>1.000000</td>\n",
       "      <td>-0.210853</td>\n",
       "      <td>0.185865</td>\n",
       "    </tr>\n",
       "    <tr>\n",
       "      <th>Unemployment</th>\n",
       "      <td>0.228782</td>\n",
       "      <td>-0.007314</td>\n",
       "      <td>-0.210853</td>\n",
       "      <td>1.000000</td>\n",
       "      <td>-0.252399</td>\n",
       "    </tr>\n",
       "    <tr>\n",
       "      <th>Temperature_C</th>\n",
       "      <td>-0.129325</td>\n",
       "      <td>-0.069351</td>\n",
       "      <td>0.185865</td>\n",
       "      <td>-0.252399</td>\n",
       "      <td>1.000000</td>\n",
       "    </tr>\n",
       "  </tbody>\n",
       "</table>\n",
       "</div>"
      ],
      "text/plain": [
       "               Weekly_Sales  Fuel_Price       CPI  Unemployment  Temperature_C\n",
       "Weekly_Sales       1.000000    0.021704 -0.310638      0.228782      -0.129325\n",
       "Fuel_Price         0.021704    1.000000 -0.161764     -0.007314      -0.069351\n",
       "CPI               -0.310638   -0.161764  1.000000     -0.210853       0.185865\n",
       "Unemployment       0.228782   -0.007314 -0.210853      1.000000      -0.252399\n",
       "Temperature_C     -0.129325   -0.069351  0.185865     -0.252399       1.000000"
      ]
     },
     "metadata": {},
     "output_type": "display_data"
    },
    {
     "data": {
      "image/png": "[encoded data removed]",
      "text/plain": [
       "<Figure size 432x288 with 2 Axes>"
      ]
     },
     "metadata": {
      "needs_background": "light"
     },
     "output_type": "display_data"
    },
    {
     "name": "stdout",
     "output_type": "stream",
     "text": [
      " *The heatmap does not show any correlation between the numerical variables\n"
     ]
    }
   ],
   "source": [
    "# Correlation matrix\n",
    "corr_matrix = df_clean.drop(columns=['Store'],axis=1) #We remove the column 'Store' because it's a categorial feature\n",
    "corr_matrix = corr_matrix.corr()\n",
    "display(corr_matrix)\n",
    "\n",
    "#Corr_matrix heatmap\n",
    "sns.heatmap(corr_matrix, annot=True)\n",
    "plt.show()\n",
    "print(' *The heatmap does not show any correlation between the numerical variables')"
   ]
  },
  {
   "cell_type": "code",
   "execution_count": 55,
   "metadata": {},
   "outputs": [
    {
     "data": {
      "text/plain": [
       "(131, 11)"
      ]
     },
     "execution_count": 55,
     "metadata": {},
     "output_type": "execute_result"
    }
   ],
   "source": [
    "df_clean.shape"
   ]
  },
  {
   "cell_type": "markdown",
   "metadata": {},
   "source": [
    "## B) MODEL PREPROCESSING"
   ]
  },
  {
   "cell_type": "markdown",
   "metadata": {},
   "source": [
    "### 1. Split train / test set"
   ]
  },
  {
   "cell_type": "code",
   "execution_count": 56,
   "metadata": {},
   "outputs": [
    {
     "name": "stdout",
     "output_type": "stream",
     "text": [
      "Separating labels from features...\n",
      "...Done.\n"
     ]
    },
    {
     "data": {
      "text/plain": [
       "0    1572117.54\n",
       "1    1807545.43\n",
       "3    1244390.03\n",
       "4    1644470.66\n",
       "5    1857533.70\n",
       "Name: Weekly_Sales, dtype: float64"
      ]
     },
     "metadata": {},
     "output_type": "display_data"
    },
    {
     "name": "stdout",
     "output_type": "stream",
     "text": [
      "\n"
     ]
    },
    {
     "data": {
      "text/html": [
       "<div>\n",
       "<style scoped>\n",
       "    .dataframe tbody tr th:only-of-type {\n",
       "        vertical-align: middle;\n",
       "    }\n",
       "\n",
       "    .dataframe tbody tr th {\n",
       "        vertical-align: top;\n",
       "    }\n",
       "\n",
       "    .dataframe thead th {\n",
       "        text-align: right;\n",
       "    }\n",
       "</style>\n",
       "<table border=\"1\" class=\"dataframe\">\n",
       "  <thead>\n",
       "    <tr style=\"text-align: right;\">\n",
       "      <th></th>\n",
       "      <th>Store</th>\n",
       "      <th>Holiday_Flag</th>\n",
       "      <th>Fuel_Price</th>\n",
       "      <th>CPI</th>\n",
       "      <th>Unemployment</th>\n",
       "      <th>Temperature_C</th>\n",
       "      <th>month</th>\n",
       "      <th>year</th>\n",
       "      <th>quarter</th>\n",
       "      <th>day_week</th>\n",
       "    </tr>\n",
       "  </thead>\n",
       "  <tbody>\n",
       "    <tr>\n",
       "      <th>0</th>\n",
       "      <td>6.0</td>\n",
       "      <td>no</td>\n",
       "      <td>3.045</td>\n",
       "      <td>214.777523</td>\n",
       "      <td>6.858</td>\n",
       "      <td>15.338889</td>\n",
       "      <td>2 - February</td>\n",
       "      <td>Y2011</td>\n",
       "      <td>Q1</td>\n",
       "      <td>5 - Friday</td>\n",
       "    </tr>\n",
       "    <tr>\n",
       "      <th>1</th>\n",
       "      <td>13.0</td>\n",
       "      <td>no</td>\n",
       "      <td>3.435</td>\n",
       "      <td>128.616064</td>\n",
       "      <td>7.470</td>\n",
       "      <td>5.766667</td>\n",
       "      <td>3 - March</td>\n",
       "      <td>Y2011</td>\n",
       "      <td>Q1</td>\n",
       "      <td>5 - Friday</td>\n",
       "    </tr>\n",
       "    <tr>\n",
       "      <th>3</th>\n",
       "      <td>11.0</td>\n",
       "      <td>no</td>\n",
       "      <td>2.735</td>\n",
       "      <td>214.556497</td>\n",
       "      <td>7.346</td>\n",
       "      <td>29.205556</td>\n",
       "      <td>4 - April</td>\n",
       "      <td>Y2011</td>\n",
       "      <td>Q2</td>\n",
       "      <td>2 - Tuesday</td>\n",
       "    </tr>\n",
       "    <tr>\n",
       "      <th>4</th>\n",
       "      <td>6.0</td>\n",
       "      <td>no</td>\n",
       "      <td>2.759</td>\n",
       "      <td>212.412888</td>\n",
       "      <td>7.092</td>\n",
       "      <td>26.050000</td>\n",
       "      <td>5 - May</td>\n",
       "      <td>Y2010</td>\n",
       "      <td>Q2</td>\n",
       "      <td>5 - Friday</td>\n",
       "    </tr>\n",
       "    <tr>\n",
       "      <th>5</th>\n",
       "      <td>4.0</td>\n",
       "      <td>no</td>\n",
       "      <td>2.756</td>\n",
       "      <td>126.160226</td>\n",
       "      <td>7.896</td>\n",
       "      <td>23.994444</td>\n",
       "      <td>5 - May</td>\n",
       "      <td>Y2010</td>\n",
       "      <td>Q2</td>\n",
       "      <td>5 - Friday</td>\n",
       "    </tr>\n",
       "  </tbody>\n",
       "</table>\n",
       "</div>"
      ],
      "text/plain": [
       "   Store Holiday_Flag  Fuel_Price         CPI  Unemployment  Temperature_C  \\\n",
       "0    6.0           no       3.045  214.777523         6.858      15.338889   \n",
       "1   13.0           no       3.435  128.616064         7.470       5.766667   \n",
       "3   11.0           no       2.735  214.556497         7.346      29.205556   \n",
       "4    6.0           no       2.759  212.412888         7.092      26.050000   \n",
       "5    4.0           no       2.756  126.160226         7.896      23.994444   \n",
       "\n",
       "          month   year quarter     day_week  \n",
       "0  2 - February  Y2011      Q1   5 - Friday  \n",
       "1     3 - March  Y2011      Q1   5 - Friday  \n",
       "3     4 - April  Y2011      Q2  2 - Tuesday  \n",
       "4       5 - May  Y2010      Q2   5 - Friday  \n",
       "5       5 - May  Y2010      Q2   5 - Friday  "
      ]
     },
     "metadata": {},
     "output_type": "display_data"
    },
    {
     "name": "stdout",
     "output_type": "stream",
     "text": [
      "\n"
     ]
    }
   ],
   "source": [
    "# Separate target variable Y from features X\n",
    "target_name = 'Weekly_Sales'\n",
    "\n",
    "print(\"Separating labels from features...\")\n",
    "Y = df_clean.loc[:,target_name]\n",
    "X = df_clean.loc[:,[c for c in df_clean.columns if c!=target_name]] # Keeping all columns\n",
    "print(\"...Done.\")\n",
    "display(Y.head())\n",
    "print()\n",
    "display(X.head())\n",
    "print()"
   ]
  },
  {
   "cell_type": "code",
   "execution_count": 57,
   "metadata": {},
   "outputs": [
    {
     "name": "stdout",
     "output_type": "stream",
     "text": [
      "Dividing into train and test sets...\n",
      "...Done.\n",
      "\n"
     ]
    }
   ],
   "source": [
    "print(\"Dividing into train and test sets...\")\n",
    "X_train, X_test, Y_train, Y_test = train_test_split(X, Y, test_size=0.2, random_state=0#, stratify=Y\n",
    "                                                   )\n",
    "print(\"...Done.\")\n",
    "print()"
   ]
  },
  {
   "cell_type": "markdown",
   "metadata": {},
   "source": [
    "<span style=\"color:black\">**Note** : No need to implement a SimpleImputer nor OneHotEncoder in the pipeline for numeric nor categorial columns as we already have treated the missing values into our EDA analysis !</span>"
   ]
  },
  {
   "cell_type": "code",
   "execution_count": 58,
   "metadata": {},
   "outputs": [
    {
     "name": "stdout",
     "output_type": "stream",
     "text": [
      "Empty DataFrame\n",
      "Columns: [Store, Holiday_Flag, Fuel_Price, CPI, Unemployment, Temperature_C, month, year, quarter, day_week]\n",
      "Index: []\n"
     ]
    }
   ],
   "source": [
    "print(X_train.loc[0:5,:]) # see where the numeric columns are in X_train\n",
    "\n",
    "# Create pipeline for numeric features\n",
    "numeric_features = [2, 3, 4, 5] # Positions of numeric columns in X_train/X_test\n",
    "numeric_transformer = Pipeline(steps=[\n",
    "    ('imputer', SimpleImputer(strategy='mean')), # if still missing values we will replace by the average of the column\n",
    "    ('scaler', StandardScaler())\n",
    "    ])"
   ]
  },
  {
   "cell_type": "code",
   "execution_count": 59,
   "metadata": {},
   "outputs": [],
   "source": [
    "# Create pipeline for categorical features\n",
    "categorical_features = [0, 1, 6, 7, 8, 9] # Positions of categorical columns in X_train/X_test\n",
    "categorical_transformer = Pipeline(\n",
    "    steps=[\n",
    "    ('imputer', SimpleImputer(strategy='most_frequent')), # if still missing values we will replace by most frequent value\n",
    "    ('encoder', OneHotEncoder(drop='first')) # first column will be dropped to avoid creating correlations between features\n",
    "    ])"
   ]
  },
  {
   "cell_type": "code",
   "execution_count": 60,
   "metadata": {},
   "outputs": [
    {
     "name": "stdout",
     "output_type": "stream",
     "text": [
      "Performing preprocessings on train set...\n",
      "...Done.\n",
      "\n",
      "Performing preprocessings on test set...\n",
      "...Done.\n",
      "\n"
     ]
    }
   ],
   "source": [
    "# Use 'ColumnTranformer' to make a preprocessor object that describes all the treatments to be done\n",
    "preprocessor = ColumnTransformer(\n",
    "                transformers=[\n",
    "                    ('num', numeric_transformer, numeric_features),\n",
    "                        ('cat', categorical_transformer, categorical_features)\n",
    "                            ])\n",
    "\n",
    "# Preprocessings on train set\n",
    "print(\"Performing preprocessings on train set...\")\n",
    "X_train = preprocessor.fit_transform(X_train)\n",
    "print('...Done.')\n",
    "print()\n",
    "\n",
    "# Preprocessings on test set\n",
    "print(\"Performing preprocessings on test set...\")\n",
    "X_test = preprocessor.transform(X_test) # Don't fit again !!\n",
    "print('...Done.')\n",
    "print()"
   ]
  },
  {
   "cell_type": "markdown",
   "metadata": {},
   "source": [
    "### 2. Model training & predictions"
   ]
  },
  {
   "cell_type": "markdown",
   "metadata": {},
   "source": [
    "### a). Training model"
   ]
  },
  {
   "cell_type": "code",
   "execution_count": 61,
   "metadata": {},
   "outputs": [
    {
     "name": "stdout",
     "output_type": "stream",
     "text": [
      "Training model...\n",
      "...Done.\n"
     ]
    }
   ],
   "source": [
    "# Train model\n",
    "regressor = LinearRegression()\n",
    "\n",
    "print(\"Training model...\")\n",
    "regressor.fit(X_train, Y_train) # Training is always done on train set !!\n",
    "print(\"...Done.\")"
   ]
  },
  {
   "cell_type": "markdown",
   "metadata": {},
   "source": [
    "### b). Predictions"
   ]
  },
  {
   "cell_type": "code",
   "execution_count": 62,
   "metadata": {},
   "outputs": [
    {
     "name": "stdout",
     "output_type": "stream",
     "text": [
      "Predictions on training set...\n",
      "...Done.\n",
      "[2149847.11228802 1621577.22568669 1224777.68907464 1324403.67916389\n",
      "  321823.95155291]\n",
      "\n"
     ]
    }
   ],
   "source": [
    "# Predictions on traing set\n",
    "print(\"Predictions on training set...\")\n",
    "Y_train_pred = regressor.predict(X_train)\n",
    "print(\"...Done.\")\n",
    "print(Y_train_pred[0:5])\n",
    "print()"
   ]
  },
  {
   "cell_type": "code",
   "execution_count": 63,
   "metadata": {},
   "outputs": [
    {
     "name": "stdout",
     "output_type": "stream",
     "text": [
      "Predictions on test set...\n",
      "...Done.\n",
      "[339660.50674538 382042.80457807 999872.43564359 787799.82026671\n",
      " 388619.45451862]\n",
      "\n"
     ]
    }
   ],
   "source": [
    "# Predictions on test set\n",
    "print(\"Predictions on test set...\")\n",
    "Y_test_pred = regressor.predict(X_test)\n",
    "print(\"...Done.\")\n",
    "print(Y_test_pred[0:5])\n",
    "print()"
   ]
  },
  {
   "cell_type": "markdown",
   "metadata": {},
   "source": [
    "### c). Performances evaluation"
   ]
  },
  {
   "cell_type": "code",
   "execution_count": 64,
   "metadata": {},
   "outputs": [
    {
     "name": "stdout",
     "output_type": "stream",
     "text": [
      "R2 score on training set : 0.971\n",
      "R2 score on test set : 0.944\n"
     ]
    }
   ],
   "source": [
    "# Print R^2 scores\n",
    "print('R2 score on training set : %.3f' % r2_score(Y_train, Y_train_pred,multioutput='variance_weighted'))\n",
    "print('R2 score on test set : %.3f' % r2_score(Y_test, Y_test_pred,multioutput='variance_weighted'))\n"
   ]
  },
  {
   "cell_type": "code",
   "execution_count": 65,
   "metadata": {},
   "outputs": [
    {
     "name": "stdout",
     "output_type": "stream",
     "text": [
      "Mean squared error on train: 12477260353.47\n",
      "Variance score on train: 0.9714\n"
     ]
    }
   ],
   "source": [
    "# The mean squared error on train\n",
    "print(\"Mean squared error on train: %.2f\" % np.mean((regressor.predict(X_train) - Y_train) ** 2))\n",
    "# Explained variance score: 1 is perfect prediction\n",
    "print('Variance score on train: %.4f' % regressor.score(X_train, Y_train))"
   ]
  },
  {
   "cell_type": "code",
   "execution_count": 66,
   "metadata": {},
   "outputs": [
    {
     "name": "stdout",
     "output_type": "stream",
     "text": [
      "Mean squared error on test: 21271559035.41\n",
      "Variance score on test: 0.9440\n"
     ]
    }
   ],
   "source": [
    "# The mean squared error on test\n",
    "print(\"Mean squared error on test: %.2f\" % np.mean((regressor.predict(X_test) - Y_test) ** 2))\n",
    "# Explained variance score: 1 is perfect prediction\n",
    "print('Variance score on test: %.4f' % regressor.score(X_test, Y_test))"
   ]
  },
  {
   "cell_type": "markdown",
   "metadata": {},
   "source": [
    "\n",
    "### **5. Model assessment & Regularization**\n",
    "---"
   ]
  },
  {
   "cell_type": "markdown",
   "metadata": {},
   "source": [
    "## A) Assess feature impact (relative weight)"
   ]
  },
  {
   "cell_type": "code",
   "execution_count": 67,
   "metadata": {},
   "outputs": [],
   "source": [
    "categorial_features = list(preprocessor.transformers_[1][1]['encoder'].get_feature_names())\n",
    "numerical_features = ['Fuel_Price','CPI','Unemployment','Temperature_C']\n",
    "X_features = categorial_features + numerical_features"
   ]
  },
  {
   "cell_type": "code",
   "execution_count": 68,
   "metadata": {},
   "outputs": [],
   "source": [
    "X_features_clean = ['Store_2','Store_3','Store_4','Store_5','Store_6','Store_7','Store_8','Store_9','Store_10','Store_11','Store_13','Store_14','Store_15','Store_16','Store_17','Store_18','Store_19','Store_20',\n",
    "                     'holiday_yes',\n",
    "                     '2 - February','3 - March','4 - April','5 - May','6 - June','7 - July','8 - August','9 - September','a - October','b - November','c - December',\n",
    "                     'Y2011','Y2012',\n",
    "                     'Q2','Q3', 'Q4',\n",
    "                     '2 - Tuesday','3 - Wednesday','4 - Thursday','5 - Friday','6 - Saturday','7 - Sunday',\n",
    "                     'Fuel_Price',\n",
    "                     'CPI',\n",
    "                     'Unemployment',\n",
    "                     'Temperature_C']"
   ]
  },
  {
   "cell_type": "code",
   "execution_count": 69,
   "metadata": {},
   "outputs": [
    {
     "data": {
      "text/html": [
       "<div>\n",
       "<style scoped>\n",
       "    .dataframe tbody tr th:only-of-type {\n",
       "        vertical-align: middle;\n",
       "    }\n",
       "\n",
       "    .dataframe tbody tr th {\n",
       "        vertical-align: top;\n",
       "    }\n",
       "\n",
       "    .dataframe thead th {\n",
       "        text-align: right;\n",
       "    }\n",
       "</style>\n",
       "<table border=\"1\" class=\"dataframe\">\n",
       "  <thead>\n",
       "    <tr style=\"text-align: right;\">\n",
       "      <th></th>\n",
       "      <th>Labels</th>\n",
       "      <th>Coefficients</th>\n",
       "    </tr>\n",
       "  </thead>\n",
       "  <tbody>\n",
       "    <tr>\n",
       "      <th>0</th>\n",
       "      <td>Store_2</td>\n",
       "      <td>-0.140679</td>\n",
       "    </tr>\n",
       "    <tr>\n",
       "      <th>1</th>\n",
       "      <td>Store_3</td>\n",
       "      <td>-0.202388</td>\n",
       "    </tr>\n",
       "    <tr>\n",
       "      <th>2</th>\n",
       "      <td>Store_4</td>\n",
       "      <td>-0.688657</td>\n",
       "    </tr>\n",
       "    <tr>\n",
       "      <th>3</th>\n",
       "      <td>Store_5</td>\n",
       "      <td>-0.082938</td>\n",
       "    </tr>\n",
       "    <tr>\n",
       "      <th>4</th>\n",
       "      <td>Store_6</td>\n",
       "      <td>3.495720</td>\n",
       "    </tr>\n",
       "    <tr>\n",
       "      <th>5</th>\n",
       "      <td>Store_7</td>\n",
       "      <td>-12.205606</td>\n",
       "    </tr>\n",
       "    <tr>\n",
       "      <th>6</th>\n",
       "      <td>Store_8</td>\n",
       "      <td>4.091635</td>\n",
       "    </tr>\n",
       "    <tr>\n",
       "      <th>7</th>\n",
       "      <td>Store_9</td>\n",
       "      <td>-13.592933</td>\n",
       "    </tr>\n",
       "    <tr>\n",
       "      <th>8</th>\n",
       "      <td>Store_10</td>\n",
       "      <td>-0.270130</td>\n",
       "    </tr>\n",
       "    <tr>\n",
       "      <th>9</th>\n",
       "      <td>Store_11</td>\n",
       "      <td>-9.409630</td>\n",
       "    </tr>\n",
       "    <tr>\n",
       "      <th>10</th>\n",
       "      <td>Store_13</td>\n",
       "      <td>-8.726405</td>\n",
       "    </tr>\n",
       "    <tr>\n",
       "      <th>11</th>\n",
       "      <td>Store_14</td>\n",
       "      <td>-12.477894</td>\n",
       "    </tr>\n",
       "    <tr>\n",
       "      <th>12</th>\n",
       "      <td>Store_15</td>\n",
       "      <td>2.427508</td>\n",
       "    </tr>\n",
       "    <tr>\n",
       "      <th>13</th>\n",
       "      <td>Store_16</td>\n",
       "      <td>0.395379</td>\n",
       "    </tr>\n",
       "    <tr>\n",
       "      <th>14</th>\n",
       "      <td>Store_17</td>\n",
       "      <td>3.214978</td>\n",
       "    </tr>\n",
       "    <tr>\n",
       "      <th>15</th>\n",
       "      <td>Store_18</td>\n",
       "      <td>5.001982</td>\n",
       "    </tr>\n",
       "    <tr>\n",
       "      <th>16</th>\n",
       "      <td>Store_19</td>\n",
       "      <td>-9.250954</td>\n",
       "    </tr>\n",
       "    <tr>\n",
       "      <th>17</th>\n",
       "      <td>Store_20</td>\n",
       "      <td>-11.357568</td>\n",
       "    </tr>\n",
       "    <tr>\n",
       "      <th>18</th>\n",
       "      <td>holiday_yes</td>\n",
       "      <td>-8.546857</td>\n",
       "    </tr>\n",
       "    <tr>\n",
       "      <th>19</th>\n",
       "      <td>2 - February</td>\n",
       "      <td>-3.968191</td>\n",
       "    </tr>\n",
       "    <tr>\n",
       "      <th>20</th>\n",
       "      <td>3 - March</td>\n",
       "      <td>-1.791267</td>\n",
       "    </tr>\n",
       "    <tr>\n",
       "      <th>21</th>\n",
       "      <td>4 - April</td>\n",
       "      <td>3.031214</td>\n",
       "    </tr>\n",
       "    <tr>\n",
       "      <th>22</th>\n",
       "      <td>5 - May</td>\n",
       "      <td>-0.425031</td>\n",
       "    </tr>\n",
       "    <tr>\n",
       "      <th>23</th>\n",
       "      <td>6 - June</td>\n",
       "      <td>0.563947</td>\n",
       "    </tr>\n",
       "    <tr>\n",
       "      <th>24</th>\n",
       "      <td>7 - July</td>\n",
       "      <td>0.117437</td>\n",
       "    </tr>\n",
       "    <tr>\n",
       "      <th>25</th>\n",
       "      <td>8 - August</td>\n",
       "      <td>-0.655937</td>\n",
       "    </tr>\n",
       "    <tr>\n",
       "      <th>26</th>\n",
       "      <td>9 - September</td>\n",
       "      <td>-0.330024</td>\n",
       "    </tr>\n",
       "    <tr>\n",
       "      <th>27</th>\n",
       "      <td>a - October</td>\n",
       "      <td>0.796377</td>\n",
       "    </tr>\n",
       "    <tr>\n",
       "      <th>28</th>\n",
       "      <td>b - November</td>\n",
       "      <td>-0.088129</td>\n",
       "    </tr>\n",
       "    <tr>\n",
       "      <th>29</th>\n",
       "      <td>c - December</td>\n",
       "      <td>0.047494</td>\n",
       "    </tr>\n",
       "    <tr>\n",
       "      <th>30</th>\n",
       "      <td>Y2011</td>\n",
       "      <td>-0.088891</td>\n",
       "    </tr>\n",
       "    <tr>\n",
       "      <th>31</th>\n",
       "      <td>Y2012</td>\n",
       "      <td>-0.199776</td>\n",
       "    </tr>\n",
       "    <tr>\n",
       "      <th>32</th>\n",
       "      <td>Q2</td>\n",
       "      <td>0.030392</td>\n",
       "    </tr>\n",
       "    <tr>\n",
       "      <th>33</th>\n",
       "      <td>Q3</td>\n",
       "      <td>1.041049</td>\n",
       "    </tr>\n",
       "    <tr>\n",
       "      <th>34</th>\n",
       "      <td>Q4</td>\n",
       "      <td>-0.253992</td>\n",
       "    </tr>\n",
       "    <tr>\n",
       "      <th>35</th>\n",
       "      <td>2 - Tuesday</td>\n",
       "      <td>-0.518027</td>\n",
       "    </tr>\n",
       "    <tr>\n",
       "      <th>36</th>\n",
       "      <td>3 - Wednesday</td>\n",
       "      <td>-0.189584</td>\n",
       "    </tr>\n",
       "    <tr>\n",
       "      <th>37</th>\n",
       "      <td>4 - Thursday</td>\n",
       "      <td>-0.129526</td>\n",
       "    </tr>\n",
       "    <tr>\n",
       "      <th>38</th>\n",
       "      <td>5 - Friday</td>\n",
       "      <td>0.871665</td>\n",
       "    </tr>\n",
       "    <tr>\n",
       "      <th>39</th>\n",
       "      <td>6 - Saturday</td>\n",
       "      <td>1.981503</td>\n",
       "    </tr>\n",
       "    <tr>\n",
       "      <th>40</th>\n",
       "      <td>7 - Sunday</td>\n",
       "      <td>3.116079</td>\n",
       "    </tr>\n",
       "    <tr>\n",
       "      <th>41</th>\n",
       "      <td>Fuel_Price</td>\n",
       "      <td>0.533314</td>\n",
       "    </tr>\n",
       "    <tr>\n",
       "      <th>42</th>\n",
       "      <td>CPI</td>\n",
       "      <td>0.790748</td>\n",
       "    </tr>\n",
       "    <tr>\n",
       "      <th>43</th>\n",
       "      <td>Unemployment</td>\n",
       "      <td>-0.872203</td>\n",
       "    </tr>\n",
       "    <tr>\n",
       "      <th>44</th>\n",
       "      <td>Temperature_C</td>\n",
       "      <td>1.106029</td>\n",
       "    </tr>\n",
       "  </tbody>\n",
       "</table>\n",
       "</div>"
      ],
      "text/plain": [
       "           Labels  Coefficients\n",
       "0         Store_2     -0.140679\n",
       "1         Store_3     -0.202388\n",
       "2         Store_4     -0.688657\n",
       "3         Store_5     -0.082938\n",
       "4         Store_6      3.495720\n",
       "5         Store_7    -12.205606\n",
       "6         Store_8      4.091635\n",
       "7         Store_9    -13.592933\n",
       "8        Store_10     -0.270130\n",
       "9        Store_11     -9.409630\n",
       "10       Store_13     -8.726405\n",
       "11       Store_14    -12.477894\n",
       "12       Store_15      2.427508\n",
       "13       Store_16      0.395379\n",
       "14       Store_17      3.214978\n",
       "15       Store_18      5.001982\n",
       "16       Store_19     -9.250954\n",
       "17       Store_20    -11.357568\n",
       "18    holiday_yes     -8.546857\n",
       "19   2 - February     -3.968191\n",
       "20      3 - March     -1.791267\n",
       "21      4 - April      3.031214\n",
       "22        5 - May     -0.425031\n",
       "23       6 - June      0.563947\n",
       "24       7 - July      0.117437\n",
       "25     8 - August     -0.655937\n",
       "26  9 - September     -0.330024\n",
       "27    a - October      0.796377\n",
       "28   b - November     -0.088129\n",
       "29   c - December      0.047494\n",
       "30          Y2011     -0.088891\n",
       "31          Y2012     -0.199776\n",
       "32             Q2      0.030392\n",
       "33             Q3      1.041049\n",
       "34             Q4     -0.253992\n",
       "35    2 - Tuesday     -0.518027\n",
       "36  3 - Wednesday     -0.189584\n",
       "37   4 - Thursday     -0.129526\n",
       "38     5 - Friday      0.871665\n",
       "39   6 - Saturday      1.981503\n",
       "40     7 - Sunday      3.116079\n",
       "41     Fuel_Price      0.533314\n",
       "42            CPI      0.790748\n",
       "43   Unemployment     -0.872203\n",
       "44  Temperature_C      1.106029"
      ]
     },
     "execution_count": 69,
     "metadata": {},
     "output_type": "execute_result"
    }
   ],
   "source": [
    "labels_coefs = pd.DataFrame(X_features_clean)\n",
    "\n",
    "coefs = pd.DataFrame(data = regressor.coef_.transpose(), columns=[\"Coefficients\"])\n",
    "\n",
    "coef_matrice = pd.concat([labels_coefs,coefs], axis=1)\n",
    "\n",
    "coef_matrice = coef_matrice.rename(columns={0:'Labels'})\n",
    "coef_matrice['Coefficients'] = coef_matrice['Coefficients']/100000\n",
    "\n",
    "coef_matrice"
   ]
  },
  {
   "cell_type": "code",
   "execution_count": 70,
   "metadata": {},
   "outputs": [],
   "source": [
    "#Transforming Scipy Sparse Matrix to Numpy array for X_train and X_test\n",
    "X_train = X_train.toarray()\n",
    "X_test = X_test.toarray()"
   ]
  },
  {
   "cell_type": "code",
   "execution_count": 71,
   "metadata": {},
   "outputs": [
    {
     "data": {
      "text/html": [
       "<table class=\"simpletable\">\n",
       "<caption>OLS Regression Results</caption>\n",
       "<tr>\n",
       "  <th>Dep. Variable:</th>      <td>Weekly_Sales</td>   <th>  R-squared:         </th> <td>   0.971</td>\n",
       "</tr>\n",
       "<tr>\n",
       "  <th>Model:</th>                   <td>OLS</td>       <th>  Adj. R-squared:    </th> <td>   0.952</td>\n",
       "</tr>\n",
       "<tr>\n",
       "  <th>Method:</th>             <td>Least Squares</td>  <th>  F-statistic:       </th> <td>   49.25</td>\n",
       "</tr>\n",
       "<tr>\n",
       "  <th>Date:</th>             <td>Mon, 27 Sep 2021</td> <th>  Prob (F-statistic):</th> <td>3.01e-34</td>\n",
       "</tr>\n",
       "<tr>\n",
       "  <th>Time:</th>                 <td>23:34:24</td>     <th>  Log-Likelihood:    </th> <td> -1356.4</td>\n",
       "</tr>\n",
       "<tr>\n",
       "  <th>No. Observations:</th>      <td>   104</td>      <th>  AIC:               </th> <td>   2799.</td>\n",
       "</tr>\n",
       "<tr>\n",
       "  <th>Df Residuals:</th>          <td>    61</td>      <th>  BIC:               </th> <td>   2913.</td>\n",
       "</tr>\n",
       "<tr>\n",
       "  <th>Df Model:</th>              <td>    42</td>      <th>                     </th>     <td> </td>   \n",
       "</tr>\n",
       "<tr>\n",
       "  <th>Covariance Type:</th>      <td>nonrobust</td>    <th>                     </th>     <td> </td>   \n",
       "</tr>\n",
       "</table>\n",
       "<table class=\"simpletable\">\n",
       "<tr>\n",
       "    <td></td>       <th>coef</th>     <th>std err</th>      <th>t</th>      <th>P>|t|</th>  <th>[0.025</th>    <th>0.975]</th>  \n",
       "</tr>\n",
       "<tr>\n",
       "  <th>const</th> <td> 1.537e+06</td> <td> 1.88e+05</td> <td>    8.191</td> <td> 0.000</td> <td> 1.16e+06</td> <td> 1.91e+06</td>\n",
       "</tr>\n",
       "<tr>\n",
       "  <th>x1</th>    <td>-1.407e+04</td> <td> 3.54e+04</td> <td>   -0.397</td> <td> 0.692</td> <td>-8.48e+04</td> <td> 5.67e+04</td>\n",
       "</tr>\n",
       "<tr>\n",
       "  <th>x2</th>    <td>-2.024e+04</td> <td> 1.23e+05</td> <td>   -0.164</td> <td> 0.870</td> <td>-2.67e+05</td> <td> 2.26e+05</td>\n",
       "</tr>\n",
       "<tr>\n",
       "  <th>x3</th>    <td>-6.887e+04</td> <td> 3.13e+04</td> <td>   -2.198</td> <td> 0.032</td> <td>-1.32e+05</td> <td>-6213.986</td>\n",
       "</tr>\n",
       "<tr>\n",
       "  <th>x4</th>    <td>-8293.8394</td> <td> 2.75e+04</td> <td>   -0.301</td> <td> 0.764</td> <td>-6.33e+04</td> <td> 4.67e+04</td>\n",
       "</tr>\n",
       "<tr>\n",
       "  <th>x5</th>    <td> 3.496e+05</td> <td> 1.01e+05</td> <td>    3.475</td> <td> 0.001</td> <td> 1.48e+05</td> <td> 5.51e+05</td>\n",
       "</tr>\n",
       "<tr>\n",
       "  <th>x6</th>    <td>-1.221e+06</td> <td> 9.04e+04</td> <td>  -13.502</td> <td> 0.000</td> <td> -1.4e+06</td> <td>-1.04e+06</td>\n",
       "</tr>\n",
       "<tr>\n",
       "  <th>x7</th>    <td> 4.092e+05</td> <td> 2.95e+05</td> <td>    1.388</td> <td> 0.170</td> <td> -1.8e+05</td> <td> 9.99e+05</td>\n",
       "</tr>\n",
       "<tr>\n",
       "  <th>x8</th>    <td>-1.359e+06</td> <td> 9.86e+04</td> <td>  -13.780</td> <td> 0.000</td> <td>-1.56e+06</td> <td>-1.16e+06</td>\n",
       "</tr>\n",
       "<tr>\n",
       "  <th>x9</th>    <td>-2.701e+04</td> <td> 9.59e+04</td> <td>   -0.282</td> <td> 0.779</td> <td>-2.19e+05</td> <td> 1.65e+05</td>\n",
       "</tr>\n",
       "<tr>\n",
       "  <th>x10</th>   <td> -9.41e+05</td> <td>  1.2e+05</td> <td>   -7.854</td> <td> 0.000</td> <td>-1.18e+06</td> <td>-7.01e+05</td>\n",
       "</tr>\n",
       "<tr>\n",
       "  <th>x11</th>   <td>-8.726e+05</td> <td> 1.16e+05</td> <td>   -7.521</td> <td> 0.000</td> <td> -1.1e+06</td> <td>-6.41e+05</td>\n",
       "</tr>\n",
       "<tr>\n",
       "  <th>x12</th>   <td>-1.248e+06</td> <td> 1.28e+05</td> <td>   -9.743</td> <td> 0.000</td> <td> -1.5e+06</td> <td>-9.92e+05</td>\n",
       "</tr>\n",
       "<tr>\n",
       "  <th>x13</th>   <td> 2.428e+05</td> <td> 2.95e+05</td> <td>    0.823</td> <td> 0.414</td> <td>-3.47e+05</td> <td> 8.32e+05</td>\n",
       "</tr>\n",
       "<tr>\n",
       "  <th>x14</th>   <td> 3.954e+04</td> <td> 1.35e+05</td> <td>    0.293</td> <td> 0.771</td> <td>-2.31e+05</td> <td>  3.1e+05</td>\n",
       "</tr>\n",
       "<tr>\n",
       "  <th>x15</th>   <td> 3.215e+05</td> <td> 2.86e+05</td> <td>    1.125</td> <td> 0.265</td> <td> -2.5e+05</td> <td> 8.93e+05</td>\n",
       "</tr>\n",
       "<tr>\n",
       "  <th>x16</th>   <td> 5.002e+05</td> <td>  1.5e+05</td> <td>    3.345</td> <td> 0.001</td> <td> 2.01e+05</td> <td> 7.99e+05</td>\n",
       "</tr>\n",
       "<tr>\n",
       "  <th>x17</th>   <td>-9.251e+05</td> <td> 2.74e+05</td> <td>   -3.378</td> <td> 0.001</td> <td>-1.47e+06</td> <td>-3.77e+05</td>\n",
       "</tr>\n",
       "<tr>\n",
       "  <th>x18</th>   <td>-1.136e+06</td> <td> 1.39e+05</td> <td>   -8.199</td> <td> 0.000</td> <td>-1.41e+06</td> <td>-8.59e+05</td>\n",
       "</tr>\n",
       "<tr>\n",
       "  <th>x19</th>   <td>-8.547e+05</td> <td> 2.94e+05</td> <td>   -2.904</td> <td> 0.005</td> <td>-1.44e+06</td> <td>-2.66e+05</td>\n",
       "</tr>\n",
       "<tr>\n",
       "  <th>x20</th>   <td>-3.968e+05</td> <td> 2.68e+05</td> <td>   -1.482</td> <td> 0.144</td> <td>-9.32e+05</td> <td> 1.39e+05</td>\n",
       "</tr>\n",
       "<tr>\n",
       "  <th>x21</th>   <td>-1.791e+05</td> <td> 2.66e+05</td> <td>   -0.673</td> <td> 0.504</td> <td>-7.12e+05</td> <td> 3.53e+05</td>\n",
       "</tr>\n",
       "<tr>\n",
       "  <th>x22</th>   <td> 3.031e+05</td> <td> 1.08e+05</td> <td>    2.795</td> <td> 0.007</td> <td> 8.62e+04</td> <td>  5.2e+05</td>\n",
       "</tr>\n",
       "<tr>\n",
       "  <th>x23</th>   <td> -4.25e+04</td> <td> 7.92e+04</td> <td>   -0.537</td> <td> 0.594</td> <td>-2.01e+05</td> <td> 1.16e+05</td>\n",
       "</tr>\n",
       "<tr>\n",
       "  <th>x24</th>   <td> 5.639e+04</td> <td>    1e+05</td> <td>    0.562</td> <td> 0.576</td> <td>-1.44e+05</td> <td> 2.57e+05</td>\n",
       "</tr>\n",
       "<tr>\n",
       "  <th>x25</th>   <td> 1.174e+04</td> <td> 1.02e+05</td> <td>    0.116</td> <td> 0.908</td> <td>-1.92e+05</td> <td> 2.15e+05</td>\n",
       "</tr>\n",
       "<tr>\n",
       "  <th>x26</th>   <td>-6.559e+04</td> <td> 6.09e+04</td> <td>   -1.077</td> <td> 0.286</td> <td>-1.87e+05</td> <td> 5.62e+04</td>\n",
       "</tr>\n",
       "<tr>\n",
       "  <th>x27</th>   <td>  -3.3e+04</td> <td> 5.34e+04</td> <td>   -0.618</td> <td> 0.539</td> <td> -1.4e+05</td> <td> 7.38e+04</td>\n",
       "</tr>\n",
       "<tr>\n",
       "  <th>x28</th>   <td> 7.964e+04</td> <td> 5.22e+04</td> <td>    1.527</td> <td> 0.132</td> <td>-2.46e+04</td> <td> 1.84e+05</td>\n",
       "</tr>\n",
       "<tr>\n",
       "  <th>x29</th>   <td>-8812.9364</td> <td> 5.38e+04</td> <td>   -0.164</td> <td> 0.870</td> <td>-1.16e+05</td> <td> 9.87e+04</td>\n",
       "</tr>\n",
       "<tr>\n",
       "  <th>x30</th>   <td> 4749.3643</td> <td> 6.07e+04</td> <td>    0.078</td> <td> 0.938</td> <td>-1.17e+05</td> <td> 1.26e+05</td>\n",
       "</tr>\n",
       "<tr>\n",
       "  <th>x31</th>   <td>-8889.0729</td> <td> 6.98e+04</td> <td>   -0.127</td> <td> 0.899</td> <td>-1.48e+05</td> <td> 1.31e+05</td>\n",
       "</tr>\n",
       "<tr>\n",
       "  <th>x32</th>   <td>-1.998e+04</td> <td> 6.06e+04</td> <td>   -0.330</td> <td> 0.743</td> <td>-1.41e+05</td> <td> 1.01e+05</td>\n",
       "</tr>\n",
       "<tr>\n",
       "  <th>x33</th>   <td> 3039.2322</td> <td> 6.23e+04</td> <td>    0.049</td> <td> 0.961</td> <td>-1.22e+05</td> <td> 1.28e+05</td>\n",
       "</tr>\n",
       "<tr>\n",
       "  <th>x34</th>   <td> 1.041e+05</td> <td> 5.22e+04</td> <td>    1.995</td> <td> 0.051</td> <td> -262.908</td> <td> 2.08e+05</td>\n",
       "</tr>\n",
       "<tr>\n",
       "  <th>x35</th>   <td> -2.54e+04</td> <td> 7.32e+04</td> <td>   -0.347</td> <td> 0.730</td> <td>-1.72e+05</td> <td> 1.21e+05</td>\n",
       "</tr>\n",
       "<tr>\n",
       "  <th>x36</th>   <td> -5.18e+04</td> <td> 8.23e+04</td> <td>   -0.629</td> <td> 0.531</td> <td>-2.16e+05</td> <td> 1.13e+05</td>\n",
       "</tr>\n",
       "<tr>\n",
       "  <th>x37</th>   <td>-1.896e+04</td> <td> 7.78e+04</td> <td>   -0.244</td> <td> 0.808</td> <td>-1.75e+05</td> <td> 1.37e+05</td>\n",
       "</tr>\n",
       "<tr>\n",
       "  <th>x38</th>   <td>-1.295e+04</td> <td> 8.34e+04</td> <td>   -0.155</td> <td> 0.877</td> <td> -1.8e+05</td> <td> 1.54e+05</td>\n",
       "</tr>\n",
       "<tr>\n",
       "  <th>x39</th>   <td> 8.717e+04</td> <td> 7.24e+04</td> <td>    1.203</td> <td> 0.234</td> <td>-5.77e+04</td> <td> 2.32e+05</td>\n",
       "</tr>\n",
       "<tr>\n",
       "  <th>x40</th>   <td> 1.982e+05</td> <td> 1.21e+05</td> <td>    1.639</td> <td> 0.106</td> <td>-4.36e+04</td> <td>  4.4e+05</td>\n",
       "</tr>\n",
       "<tr>\n",
       "  <th>x41</th>   <td> 3.116e+05</td> <td>  2.3e+05</td> <td>    1.356</td> <td> 0.180</td> <td>-1.48e+05</td> <td> 7.71e+05</td>\n",
       "</tr>\n",
       "<tr>\n",
       "  <th>x42</th>   <td> 5.333e+04</td> <td> 1.23e+05</td> <td>    0.434</td> <td> 0.666</td> <td>-1.92e+05</td> <td> 2.99e+05</td>\n",
       "</tr>\n",
       "<tr>\n",
       "  <th>x43</th>   <td> 7.907e+04</td> <td> 1.03e+05</td> <td>    0.768</td> <td> 0.446</td> <td>-1.27e+05</td> <td> 2.85e+05</td>\n",
       "</tr>\n",
       "<tr>\n",
       "  <th>x44</th>   <td>-8.722e+04</td> <td> 1.24e+05</td> <td>   -0.704</td> <td> 0.484</td> <td>-3.35e+05</td> <td> 1.61e+05</td>\n",
       "</tr>\n",
       "<tr>\n",
       "  <th>x45</th>   <td> 1.106e+05</td> <td> 1.21e+05</td> <td>    0.911</td> <td> 0.366</td> <td>-1.32e+05</td> <td> 3.53e+05</td>\n",
       "</tr>\n",
       "</table>\n",
       "<table class=\"simpletable\">\n",
       "<tr>\n",
       "  <th>Omnibus:</th>       <td>20.611</td> <th>  Durbin-Watson:     </th> <td>   2.059</td>\n",
       "</tr>\n",
       "<tr>\n",
       "  <th>Prob(Omnibus):</th> <td> 0.000</td> <th>  Jarque-Bera (JB):  </th> <td>  28.277</td>\n",
       "</tr>\n",
       "<tr>\n",
       "  <th>Skew:</th>          <td> 0.969</td> <th>  Prob(JB):          </th> <td>7.24e-07</td>\n",
       "</tr>\n",
       "<tr>\n",
       "  <th>Kurtosis:</th>      <td> 4.665</td> <th>  Cond. No.          </th> <td>1.44e+16</td>\n",
       "</tr>\n",
       "</table><br/><br/>Notes:<br/>[1] Standard Errors assume that the covariance matrix of the errors is correctly specified.<br/>[2] The smallest eigenvalue is 1.04e-30. This might indicate that there are<br/>strong multicollinearity problems or that the design matrix is singular."
      ],
      "text/plain": [
       "<class 'statsmodels.iolib.summary.Summary'>\n",
       "\"\"\"\n",
       "                            OLS Regression Results                            \n",
       "==============================================================================\n",
       "Dep. Variable:           Weekly_Sales   R-squared:                       0.971\n",
       "Model:                            OLS   Adj. R-squared:                  0.952\n",
       "Method:                 Least Squares   F-statistic:                     49.25\n",
       "Date:                Mon, 27 Sep 2021   Prob (F-statistic):           3.01e-34\n",
       "Time:                        23:34:24   Log-Likelihood:                -1356.4\n",
       "No. Observations:                 104   AIC:                             2799.\n",
       "Df Residuals:                      61   BIC:                             2913.\n",
       "Df Model:                          42                                         \n",
       "Covariance Type:            nonrobust                                         \n",
       "==============================================================================\n",
       "                 coef    std err          t      P>|t|      [0.025      0.975]\n",
       "------------------------------------------------------------------------------\n",
       "const       1.537e+06   1.88e+05      8.191      0.000    1.16e+06    1.91e+06\n",
       "x1         -1.407e+04   3.54e+04     -0.397      0.692   -8.48e+04    5.67e+04\n",
       "x2         -2.024e+04   1.23e+05     -0.164      0.870   -2.67e+05    2.26e+05\n",
       "x3         -6.887e+04   3.13e+04     -2.198      0.032   -1.32e+05   -6213.986\n",
       "x4         -8293.8394   2.75e+04     -0.301      0.764   -6.33e+04    4.67e+04\n",
       "x5          3.496e+05   1.01e+05      3.475      0.001    1.48e+05    5.51e+05\n",
       "x6         -1.221e+06   9.04e+04    -13.502      0.000    -1.4e+06   -1.04e+06\n",
       "x7          4.092e+05   2.95e+05      1.388      0.170    -1.8e+05    9.99e+05\n",
       "x8         -1.359e+06   9.86e+04    -13.780      0.000   -1.56e+06   -1.16e+06\n",
       "x9         -2.701e+04   9.59e+04     -0.282      0.779   -2.19e+05    1.65e+05\n",
       "x10         -9.41e+05    1.2e+05     -7.854      0.000   -1.18e+06   -7.01e+05\n",
       "x11        -8.726e+05   1.16e+05     -7.521      0.000    -1.1e+06   -6.41e+05\n",
       "x12        -1.248e+06   1.28e+05     -9.743      0.000    -1.5e+06   -9.92e+05\n",
       "x13         2.428e+05   2.95e+05      0.823      0.414   -3.47e+05    8.32e+05\n",
       "x14         3.954e+04   1.35e+05      0.293      0.771   -2.31e+05     3.1e+05\n",
       "x15         3.215e+05   2.86e+05      1.125      0.265    -2.5e+05    8.93e+05\n",
       "x16         5.002e+05    1.5e+05      3.345      0.001    2.01e+05    7.99e+05\n",
       "x17        -9.251e+05   2.74e+05     -3.378      0.001   -1.47e+06   -3.77e+05\n",
       "x18        -1.136e+06   1.39e+05     -8.199      0.000   -1.41e+06   -8.59e+05\n",
       "x19        -8.547e+05   2.94e+05     -2.904      0.005   -1.44e+06   -2.66e+05\n",
       "x20        -3.968e+05   2.68e+05     -1.482      0.144   -9.32e+05    1.39e+05\n",
       "x21        -1.791e+05   2.66e+05     -0.673      0.504   -7.12e+05    3.53e+05\n",
       "x22         3.031e+05   1.08e+05      2.795      0.007    8.62e+04     5.2e+05\n",
       "x23         -4.25e+04   7.92e+04     -0.537      0.594   -2.01e+05    1.16e+05\n",
       "x24         5.639e+04      1e+05      0.562      0.576   -1.44e+05    2.57e+05\n",
       "x25         1.174e+04   1.02e+05      0.116      0.908   -1.92e+05    2.15e+05\n",
       "x26        -6.559e+04   6.09e+04     -1.077      0.286   -1.87e+05    5.62e+04\n",
       "x27          -3.3e+04   5.34e+04     -0.618      0.539    -1.4e+05    7.38e+04\n",
       "x28         7.964e+04   5.22e+04      1.527      0.132   -2.46e+04    1.84e+05\n",
       "x29        -8812.9364   5.38e+04     -0.164      0.870   -1.16e+05    9.87e+04\n",
       "x30         4749.3643   6.07e+04      0.078      0.938   -1.17e+05    1.26e+05\n",
       "x31        -8889.0729   6.98e+04     -0.127      0.899   -1.48e+05    1.31e+05\n",
       "x32        -1.998e+04   6.06e+04     -0.330      0.743   -1.41e+05    1.01e+05\n",
       "x33         3039.2322   6.23e+04      0.049      0.961   -1.22e+05    1.28e+05\n",
       "x34         1.041e+05   5.22e+04      1.995      0.051    -262.908    2.08e+05\n",
       "x35         -2.54e+04   7.32e+04     -0.347      0.730   -1.72e+05    1.21e+05\n",
       "x36         -5.18e+04   8.23e+04     -0.629      0.531   -2.16e+05    1.13e+05\n",
       "x37        -1.896e+04   7.78e+04     -0.244      0.808   -1.75e+05    1.37e+05\n",
       "x38        -1.295e+04   8.34e+04     -0.155      0.877    -1.8e+05    1.54e+05\n",
       "x39         8.717e+04   7.24e+04      1.203      0.234   -5.77e+04    2.32e+05\n",
       "x40         1.982e+05   1.21e+05      1.639      0.106   -4.36e+04     4.4e+05\n",
       "x41         3.116e+05    2.3e+05      1.356      0.180   -1.48e+05    7.71e+05\n",
       "x42         5.333e+04   1.23e+05      0.434      0.666   -1.92e+05    2.99e+05\n",
       "x43         7.907e+04   1.03e+05      0.768      0.446   -1.27e+05    2.85e+05\n",
       "x44        -8.722e+04   1.24e+05     -0.704      0.484   -3.35e+05    1.61e+05\n",
       "x45         1.106e+05   1.21e+05      0.911      0.366   -1.32e+05    3.53e+05\n",
       "==============================================================================\n",
       "Omnibus:                       20.611   Durbin-Watson:                   2.059\n",
       "Prob(Omnibus):                  0.000   Jarque-Bera (JB):               28.277\n",
       "Skew:                           0.969   Prob(JB):                     7.24e-07\n",
       "Kurtosis:                       4.665   Cond. No.                     1.44e+16\n",
       "==============================================================================\n",
       "\n",
       "Notes:\n",
       "[1] Standard Errors assume that the covariance matrix of the errors is correctly specified.\n",
       "[2] The smallest eigenvalue is 1.04e-30. This might indicate that there are\n",
       "strong multicollinearity problems or that the design matrix is singular.\n",
       "\"\"\""
      ]
     },
     "execution_count": 71,
     "metadata": {},
     "output_type": "execute_result"
    }
   ],
   "source": [
    "import statsmodels.api as st\n",
    "\n",
    "X_train = st.add_constant(X_train)\n",
    "X_test = st.add_constant(X_test)\n",
    "ols = st.OLS(Y_train, X_train)\n",
    "ols_fit = ols.fit()\n",
    "ols_fit.summary()\n"
   ]
  },
  {
   "cell_type": "markdown",
   "metadata": {},
   "source": [
    "## B) REGULARIZATION"
   ]
  },
  {
   "cell_type": "markdown",
   "metadata": {},
   "source": [
    "### 1. Regularization LASSO"
   ]
  },
  {
   "cell_type": "code",
   "execution_count": 72,
   "metadata": {},
   "outputs": [],
   "source": [
    "lin = LinearRegression()\n",
    "lasso1 = Lasso(alpha = 1)\n",
    "lasso001 = Lasso(alpha = 0.01)\n",
    "lasso00001 = Lasso(alpha = 0.0001)"
   ]
  },
  {
   "cell_type": "code",
   "execution_count": 73,
   "metadata": {},
   "outputs": [
    {
     "name": "stderr",
     "output_type": "stream",
     "text": [
      "/opt/conda/lib/python3.8/site-packages/sklearn/linear_model/_coordinate_descent.py:529: ConvergenceWarning:\n",
      "\n",
      "Objective did not converge. You might want to increase the number of iterations. Duality gap: 161059676049.38684, tolerance: 4530012946.550416\n",
      "\n",
      "/opt/conda/lib/python3.8/site-packages/sklearn/linear_model/_coordinate_descent.py:529: ConvergenceWarning:\n",
      "\n",
      "Objective did not converge. You might want to increase the number of iterations. Duality gap: 171974501865.12207, tolerance: 4530012946.550416\n",
      "\n",
      "/opt/conda/lib/python3.8/site-packages/sklearn/linear_model/_coordinate_descent.py:529: ConvergenceWarning:\n",
      "\n",
      "Objective did not converge. You might want to increase the number of iterations. Duality gap: 644571481110.4778, tolerance: 4530012946.550416\n",
      "\n"
     ]
    },
    {
     "data": {
      "text/plain": [
       "Lasso(alpha=0.0001)"
      ]
     },
     "execution_count": 73,
     "metadata": {},
     "output_type": "execute_result"
    }
   ],
   "source": [
    "lin.fit(X_train, Y_train)\n",
    "lasso1.fit(X_train, Y_train)\n",
    "lasso001.fit(X_train, Y_train)\n",
    "lasso00001.fit(X_train, Y_train)"
   ]
  },
  {
   "cell_type": "code",
   "execution_count": 74,
   "metadata": {},
   "outputs": [
    {
     "name": "stdout",
     "output_type": "stream",
     "text": [
      "Test scores \n",
      "\n",
      "Score Baseline : 0.0 \n",
      "Score Lin : 0.9440105571120025 \n",
      "Score Lasso1 : 0.9440250501069535 \n",
      "Score Lasso001 : 0.944010561040684 \n",
      "Score Lasso00001 : 0.9440104157044747\n"
     ]
    }
   ],
   "source": [
    "baseline_pred = [Y_test.values.mean()]*len(Y_test)\n",
    "print(\"Test scores \\n\")\n",
    "print(\"Score Baseline : {} \\nScore Lin : {} \\nScore Lasso1 : {} \\nScore Lasso001 : {} \\nScore Lasso00001 : {}\".format(r2_score(Y_test, baseline_pred),\n",
    "lin.score(X_test, Y_test),\n",
    "lasso1.score(X_test, Y_test),\n",
    "lasso001.score(X_test, Y_test),\n",
    "lasso00001.score(X_test,Y_test)))"
   ]
  },
  {
   "cell_type": "code",
   "execution_count": 75,
   "metadata": {},
   "outputs": [
    {
     "name": "stdout",
     "output_type": "stream",
     "text": [
      "Train MSE \n",
      "\n",
      "MSE Baseline : 379920890049.3889 \n",
      "MSE Lin : 12477260353.466923 \n",
      "MSE Lasso1 : 12477264278.66735 \n",
      "MSE Lasso001 : 12477260353.822346 \n",
      "MSE Lasso00001 : 12477260353.615408\n"
     ]
    }
   ],
   "source": [
    "print(\"Train MSE \\n\")\n",
    "\n",
    "print(\"MSE Baseline : {} \\nMSE Lin : {} \\nMSE Lasso1 : {} \\nMSE Lasso001 : {} \\nMSE Lasso00001 : {}\".format(mean_squared_error(Y_test, baseline_pred),\n",
    "mean_squared_error(Y_train,lin.predict(X_train)),\n",
    "mean_squared_error(Y_train,lasso1.predict(X_train)),\n",
    "mean_squared_error(Y_train,lasso001.predict(X_train)),\n",
    "mean_squared_error(Y_train,lasso00001.predict(X_train))))"
   ]
  },
  {
   "cell_type": "code",
   "execution_count": 76,
   "metadata": {},
   "outputs": [
    {
     "name": "stdout",
     "output_type": "stream",
     "text": [
      "Test MSE \n",
      "\n",
      "MSE Baseline : 379920890049.3889 \n",
      "MSE Lin : 21271558975.37741 \n",
      "MSE Lasso1 : 21266052783.83618 \n",
      "MSE Lasso001 : 21271557482.789257 \n",
      "MSE Lasso00001 : 21271612699.051247\n"
     ]
    }
   ],
   "source": [
    "print(\"Test MSE \\n\")\n",
    "\n",
    "print(\"MSE Baseline : {} \\nMSE Lin : {} \\nMSE Lasso1 : {} \\nMSE Lasso001 : {} \\nMSE Lasso00001 : {}\".format(mean_squared_error(Y_test, baseline_pred),\n",
    "mean_squared_error(Y_test,lin.predict(X_test)),\n",
    "mean_squared_error(Y_test,lasso1.predict(X_test)),\n",
    "mean_squared_error(Y_test,lasso001.predict(X_test)),\n",
    "mean_squared_error(Y_test,lasso00001.predict(X_test))))\n"
   ]
  },
  {
   "cell_type": "code",
   "execution_count": 77,
   "metadata": {},
   "outputs": [
    {
     "name": "stdout",
     "output_type": "stream",
     "text": [
      "Linear Regression \n",
      " Proportion of coefficients equal to zero\n",
      "0.0\n",
      "\n",
      " Distribution of coefficients \n",
      "\n"
     ]
    },
    {
     "data": {
      "text/html": [
       "<iframe\n",
       "    scrolling=\"no\"\n",
       "    width=\"100%\"\n",
       "    height=\"545px\"\n",
       "    src=\"iframe_figures/figure_77.html\"\n",
       "    frameborder=\"0\"\n",
       "    allowfullscreen\n",
       "></iframe>\n"
      ]
     },
     "metadata": {},
     "output_type": "display_data"
    }
   ],
   "source": [
    "print(\"Linear Regression \\n Proportion of coefficients equal to zero\")\n",
    "print(np.sum(lin.coef_==0)/len(lin.coef_))\n",
    "print(\"\\n Distribution of coefficients \\n\")\n",
    "px.histogram(lin.coef_)"
   ]
  },
  {
   "cell_type": "markdown",
   "metadata": {},
   "source": [
    "### 2. GridSearchCV (LASSO)"
   ]
  },
  {
   "cell_type": "code",
   "execution_count": 78,
   "metadata": {},
   "outputs": [
    {
     "name": "stderr",
     "output_type": "stream",
     "text": [
      "[Parallel(n_jobs=1)]: Using backend SequentialBackend with 1 concurrent workers.\n",
      "/opt/conda/lib/python3.8/site-packages/sklearn/linear_model/_coordinate_descent.py:529: ConvergenceWarning:\n",
      "\n",
      "Objective did not converge. You might want to increase the number of iterations. Duality gap: 196166247387.5195, tolerance: 3054609141.5538435\n",
      "\n",
      "/opt/conda/lib/python3.8/site-packages/sklearn/linear_model/_coordinate_descent.py:529: ConvergenceWarning:\n",
      "\n",
      "Objective did not converge. You might want to increase the number of iterations. Duality gap: 49085759099.065186, tolerance: 2877585168.342598\n",
      "\n",
      "/opt/conda/lib/python3.8/site-packages/sklearn/linear_model/_coordinate_descent.py:529: ConvergenceWarning:\n",
      "\n",
      "Objective did not converge. You might want to increase the number of iterations. Duality gap: 72406516967.64435, tolerance: 3031738977.7370577\n",
      "\n",
      "/opt/conda/lib/python3.8/site-packages/sklearn/linear_model/_coordinate_descent.py:529: ConvergenceWarning:\n",
      "\n",
      "Objective did not converge. You might want to increase the number of iterations. Duality gap: 201852085257.84058, tolerance: 3054609141.5538435\n",
      "\n",
      "/opt/conda/lib/python3.8/site-packages/sklearn/linear_model/_coordinate_descent.py:529: ConvergenceWarning:\n",
      "\n",
      "Objective did not converge. You might want to increase the number of iterations. Duality gap: 103804159106.80136, tolerance: 2877585168.342598\n",
      "\n",
      "/opt/conda/lib/python3.8/site-packages/sklearn/linear_model/_coordinate_descent.py:529: ConvergenceWarning:\n",
      "\n",
      "Objective did not converge. You might want to increase the number of iterations. Duality gap: 72106340412.31787, tolerance: 3031738977.7370577\n",
      "\n",
      "/opt/conda/lib/python3.8/site-packages/sklearn/linear_model/_coordinate_descent.py:529: ConvergenceWarning:\n",
      "\n",
      "Objective did not converge. You might want to increase the number of iterations. Duality gap: 202438950108.26892, tolerance: 3054609141.5538435\n",
      "\n"
     ]
    },
    {
     "name": "stdout",
     "output_type": "stream",
     "text": [
      "Fitting 3 folds for each of 5 candidates, totalling 15 fits\n"
     ]
    },
    {
     "name": "stderr",
     "output_type": "stream",
     "text": [
      "/opt/conda/lib/python3.8/site-packages/sklearn/linear_model/_coordinate_descent.py:529: ConvergenceWarning:\n",
      "\n",
      "Objective did not converge. You might want to increase the number of iterations. Duality gap: 264217677685.73343, tolerance: 2877585168.342598\n",
      "\n",
      "/opt/conda/lib/python3.8/site-packages/sklearn/linear_model/_coordinate_descent.py:529: ConvergenceWarning:\n",
      "\n",
      "Objective did not converge. You might want to increase the number of iterations. Duality gap: 73005409828.9065, tolerance: 3031738977.7370577\n",
      "\n",
      "/opt/conda/lib/python3.8/site-packages/sklearn/linear_model/_coordinate_descent.py:529: ConvergenceWarning:\n",
      "\n",
      "Objective did not converge. You might want to increase the number of iterations. Duality gap: 202497814954.15585, tolerance: 3054609141.5538435\n",
      "\n",
      "/opt/conda/lib/python3.8/site-packages/sklearn/linear_model/_coordinate_descent.py:529: ConvergenceWarning:\n",
      "\n",
      "Objective did not converge. You might want to increase the number of iterations. Duality gap: 298722061119.6253, tolerance: 2877585168.342598\n",
      "\n",
      "/opt/conda/lib/python3.8/site-packages/sklearn/linear_model/_coordinate_descent.py:529: ConvergenceWarning:\n",
      "\n",
      "Objective did not converge. You might want to increase the number of iterations. Duality gap: 238510829343.4381, tolerance: 3031738977.7370577\n",
      "\n",
      "/opt/conda/lib/python3.8/site-packages/sklearn/linear_model/_coordinate_descent.py:529: ConvergenceWarning:\n",
      "\n",
      "Objective did not converge. You might want to increase the number of iterations. Duality gap: 202503703222.95615, tolerance: 3054609141.5538435\n",
      "\n",
      "/opt/conda/lib/python3.8/site-packages/sklearn/linear_model/_coordinate_descent.py:529: ConvergenceWarning:\n",
      "\n",
      "Objective did not converge. You might want to increase the number of iterations. Duality gap: 302539476221.75, tolerance: 2877585168.342598\n",
      "\n",
      "/opt/conda/lib/python3.8/site-packages/sklearn/linear_model/_coordinate_descent.py:529: ConvergenceWarning:\n",
      "\n",
      "Objective did not converge. You might want to increase the number of iterations. Duality gap: 344427260219.8423, tolerance: 3031738977.7370577\n",
      "\n",
      "[Parallel(n_jobs=1)]: Done  15 out of  15 | elapsed:    0.1s finished\n",
      "/opt/conda/lib/python3.8/site-packages/sklearn/linear_model/_coordinate_descent.py:529: ConvergenceWarning:\n",
      "\n",
      "Objective did not converge. You might want to increase the number of iterations. Duality gap: 161059676049.38684, tolerance: 4530012946.550416\n",
      "\n"
     ]
    },
    {
     "data": {
      "text/plain": [
       "GridSearchCV(cv=3, estimator=Lasso(),\n",
       "             param_grid={'alpha': [1, 0.1, 0.01, 0.001, 0.0001]}, verbose=1)"
      ]
     },
     "execution_count": 78,
     "metadata": {},
     "output_type": "execute_result"
    }
   ],
   "source": [
    "params = {'alpha' : [10**(-a) for a in range(5)]}\n",
    "lasso = Lasso()\n",
    "grid = GridSearchCV(lasso,param_grid=params, cv = 3, verbose=1)\n",
    "\n",
    "grid.fit(X_train,Y_train)"
   ]
  },
  {
   "cell_type": "code",
   "execution_count": 79,
   "metadata": {},
   "outputs": [
    {
     "data": {
      "text/plain": [
       "{'alpha': 1}"
      ]
     },
     "execution_count": 79,
     "metadata": {},
     "output_type": "execute_result"
    }
   ],
   "source": [
    "grid.best_params_"
   ]
  },
  {
   "cell_type": "code",
   "execution_count": 80,
   "metadata": {},
   "outputs": [
    {
     "name": "stdout",
     "output_type": "stream",
     "text": [
      "The best parameter alpha is 1.\n"
     ]
    }
   ],
   "source": [
    "print('The best parameter alpha is {}.'.format(grid.best_params_['alpha']))"
   ]
  },
  {
   "cell_type": "code",
   "execution_count": 81,
   "metadata": {},
   "outputs": [
    {
     "name": "stdout",
     "output_type": "stream",
     "text": [
      "BEST ESTIMATOR \n",
      "\n",
      "train $R^2$ \n",
      "\n",
      "0.9713547069226469\n",
      "\n",
      "\n",
      "test $R^2$ \n",
      "\n",
      "0.9440250501069535\n",
      "\n",
      " \n",
      "\n",
      "train MSE \n",
      "\n",
      "12477264278.66735\n",
      "\n",
      "\n",
      "test MSE \n",
      "\n",
      "21266052783.83618\n"
     ]
    }
   ],
   "source": [
    "print(\"BEST ESTIMATOR \\n\")\n",
    "print(\"train $R^2$ \\n\")\n",
    "best_model = grid.best_estimator_\n",
    "print(best_model.score(X_train, Y_train))\n",
    "print(\"\\n\")\n",
    "print(\"test $R^2$ \\n\")\n",
    "print(best_model.score(X_test, Y_test))\n",
    "print(\"\\n \\n\")\n",
    "print(\"train MSE \\n\")\n",
    "print(mean_squared_error(Y_train,best_model.predict(X_train)))\n",
    "print(\"\\n\")\n",
    "print(\"test MSE \\n\")\n",
    "print(mean_squared_error(Y_test,best_model.predict(X_test)))\n"
   ]
  },
  {
   "cell_type": "markdown",
   "metadata": {},
   "source": [
    "### 3. Regularization RIDGE"
   ]
  },
  {
   "cell_type": "code",
   "execution_count": 82,
   "metadata": {},
   "outputs": [],
   "source": [
    "linear_regressor = LinearRegression()\n",
    "ridge_regressor_small_alpha = Ridge(alpha = 10)\n",
    "ridge_regressor_large_alpha = Ridge(alpha = 10000)"
   ]
  },
  {
   "cell_type": "code",
   "execution_count": 83,
   "metadata": {},
   "outputs": [
    {
     "data": {
      "text/plain": [
       "Ridge(alpha=10000)"
      ]
     },
     "execution_count": 83,
     "metadata": {},
     "output_type": "execute_result"
    }
   ],
   "source": [
    "linear_regressor.fit(X_train, Y_train)\n",
    "ridge_regressor_small_alpha.fit(X_train, Y_train)\n",
    "ridge_regressor_large_alpha.fit(X_train, Y_train)"
   ]
  },
  {
   "cell_type": "code",
   "execution_count": 84,
   "metadata": {},
   "outputs": [
    {
     "name": "stdout",
     "output_type": "stream",
     "text": [
      "Score on training: \n",
      "Linear Regression score : 0.9713547159341188\n",
      "Ridge with small Alpha score : 0.630533659953078\n",
      "Ridge with large Alpha score : 0.004181086083465013\n"
     ]
    }
   ],
   "source": [
    "print(\"Score on training: \")\n",
    "print(\"Linear Regression score : {}\".format(linear_regressor.score(X_train, Y_train)))\n",
    "print(\"Ridge with small Alpha score : {}\".format(ridge_regressor_small_alpha.score(X_train, Y_train)))\n",
    "print(\"Ridge with large Alpha score : {}\".format(ridge_regressor_large_alpha.score(X_train,Y_train)))"
   ]
  },
  {
   "cell_type": "code",
   "execution_count": 85,
   "metadata": {},
   "outputs": [
    {
     "name": "stdout",
     "output_type": "stream",
     "text": [
      "Score on test: \n",
      "Linear Regression score: 0.9440105571120025\n",
      "Ridge with small Alpha score: 0.5212352798650437\n",
      "Ridge with large Alpha score: -0.0780022430721139\n"
     ]
    }
   ],
   "source": [
    "print(\"Score on test: \")\n",
    "print(\"Linear Regression score: {}\".format(linear_regressor.score(X_test, Y_test)))\n",
    "print(\"Ridge with small Alpha score: {}\".format(ridge_regressor_small_alpha.score(X_test, Y_test)))\n",
    "print(\"Ridge with large Alpha score: {}\".format(ridge_regressor_large_alpha.score(X_test,Y_test)))"
   ]
  },
  {
   "cell_type": "markdown",
   "metadata": {},
   "source": [
    "### 4. GridSearchCV (RIDGE)"
   ]
  },
  {
   "cell_type": "code",
   "execution_count": 86,
   "metadata": {},
   "outputs": [
    {
     "name": "stderr",
     "output_type": "stream",
     "text": [
      "[Parallel(n_jobs=1)]: Using backend SequentialBackend with 1 concurrent workers.\n"
     ]
    },
    {
     "name": "stdout",
     "output_type": "stream",
     "text": [
      "Fitting 10 folds for each of 100 candidates, totalling 1000 fits\n"
     ]
    },
    {
     "name": "stderr",
     "output_type": "stream",
     "text": [
      "[Parallel(n_jobs=1)]: Done 1000 out of 1000 | elapsed:    4.5s finished\n"
     ]
    }
   ],
   "source": [
    "params = {'alpha': np.arange(0,10000,100,)} # determine the range of parameters to try\n",
    "ridge = Ridge() # create an instance of the model\n",
    "\n",
    "grid = GridSearchCV(ridge, params, cv = 10, verbose = 1)\n",
    "grid_fit = grid.fit(X_train, Y_train)"
   ]
  },
  {
   "cell_type": "code",
   "execution_count": 87,
   "metadata": {},
   "outputs": [
    {
     "name": "stdout",
     "output_type": "stream",
     "text": [
      "Optimal value for alpha :  {'alpha': 100}\n"
     ]
    }
   ],
   "source": [
    "print(\"Optimal value for alpha : \", grid_fit.best_params_)"
   ]
  },
  {
   "cell_type": "code",
   "execution_count": 88,
   "metadata": {},
   "outputs": [
    {
     "name": "stdout",
     "output_type": "stream",
     "text": [
      "Test score for the best model :  0.1476753551162161\n"
     ]
    }
   ],
   "source": [
    "print('Test score for the best model : ', grid_fit.best_estimator_.score(X_test,Y_test))"
   ]
  },
  {
   "cell_type": "code",
   "execution_count": 89,
   "metadata": {},
   "outputs": [
    {
     "name": "stdout",
     "output_type": "stream",
     "text": [
      "The cross-validated R2-score is :  -0.030243329054812938\n",
      "The standard deviation is :  0.35102095807190276\n"
     ]
    }
   ],
   "source": [
    "scores = cross_val_score(grid_fit.best_estimator_, X_train, Y_train, cv = 10)\n",
    "\n",
    "print('The cross-validated R2-score is : ', scores.mean())\n",
    "print('The standard deviation is : ', scores.std())"
   ]
  },
  {
   "cell_type": "markdown",
   "metadata": {},
   "source": [
    "\n",
    "### **5. Conclusion**\n",
    "---"
   ]
  },
  {
   "cell_type": "markdown",
   "metadata": {},
   "source": [
    "This models developped are quite good to predict the weekly sales. Even when we apply regularization technics to fight overfitting."
   ]
  },
  {
   "cell_type": "code",
   "execution_count": null,
   "metadata": {},
   "outputs": [],
   "source": []
  }
 ],
 "metadata": {
  "kernelspec": {
   "display_name": "Python 3",
   "language": "python",
   "name": "python3"
  },
  "language_info": {
   "codemirror_mode": {
    "name": "ipython",
    "version": 3
   },
   "file_extension": ".py",
   "mimetype": "text/x-python",
   "name": "python",
   "nbconvert_exporter": "python",
   "pygments_lexer": "ipython3",
   "version": "3.8.6"
  }
 },
 "nbformat": 4,
 "nbformat_minor": 4
}
