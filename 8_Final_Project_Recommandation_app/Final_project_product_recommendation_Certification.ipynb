{
 "cells": [
  {
   "cell_type": "markdown",
   "metadata": {},
   "source": [
    "# <span style=\"color:#37464f\"><center>**Yannick NOUDJOUKOUANG**</center></span>\n",
    "### **<center>JEDHA (FULLSTACK - 2021)</center>**\n",
    "# **<center>RECOMMANDATION APPLICATION</center>**"
   ]
  },
  {
   "cell_type": "markdown",
   "metadata": {},
   "source": [
    "---"
   ]
  },
  {
   "cell_type": "markdown",
   "metadata": {},
   "source": [
    "\n",
    "### **1. Introduction**"
   ]
  },
  {
   "cell_type": "markdown",
   "metadata": {},
   "source": [
    "The purpose of this project is to provide an handy tool for the customer. <br>\n",
    "This tool would allow the client to find any product (ex: a Car) or service around him.\n",
    "\n",
    "This project uses : \n",
    "- Web scraping\n",
    "- Machine Learning : Deep Learning\n",
    "- Web application deployment\n",
    "- Data visualization\n",
    "- Data Management : EDA, ETL\n",
    "- Project Management"
   ]
  },
  {
   "cell_type": "markdown",
   "metadata": {},
   "source": [
    "---"
   ]
  },
  {
   "cell_type": "code",
   "execution_count": null,
   "metadata": {},
   "outputs": [],
   "source": []
  },
  {
   "cell_type": "code",
   "execution_count": 3,
   "metadata": {},
   "outputs": [],
   "source": [
    "import pandas as pd\n",
    "import requests\n",
    "import matplotlib.pyplot as plt #To provide data visualization\n",
    "\n",
    "# Import BeautifulSoup\n",
    "from bs4 import BeautifulSoup\n",
    "import requests\n",
    "\n",
    "#Organize text\n",
    "from collections import defaultdict"
   ]
  },
  {
   "cell_type": "code",
   "execution_count": 4,
   "metadata": {},
   "outputs": [],
   "source": [
    "# Use '!' only if you are installing directly from your notebook. \n",
    "# '!' sign tells Jupyter Notebook to interpret the following code as bash code (what you use in your terminal)\n",
    "!pip install beautifulsoup4 -q"
   ]
  },
  {
   "cell_type": "code",
   "execution_count": 5,
   "metadata": {},
   "outputs": [],
   "source": [
    "# Use '!' only if you are installing directly from your notebook. \n",
    "# '!' sign tells Jupyter Notebook to interpret the following code as bash courlde (what you use in your terminal)\n",
    "!pip install lxml -q\n",
    "!pip install html5lib -q"
   ]
  },
  {
   "cell_type": "code",
   "execution_count": null,
   "metadata": {},
   "outputs": [],
   "source": []
  },
  {
   "cell_type": "markdown",
   "metadata": {},
   "source": [
    "# LA CENTRALE - CARS"
   ]
  },
  {
   "cell_type": "code",
   "execution_count": 41,
   "metadata": {},
   "outputs": [],
   "source": [
    "LaCentrale_https = 'https://www.lacentrale.fr'"
   ]
  },
  {
   "cell_type": "code",
   "execution_count": 42,
   "metadata": {},
   "outputs": [],
   "source": [
    "brands = ['renault','peugeot','citroen','toyota','volkswagen']"
   ]
  },
  {
   "cell_type": "code",
   "execution_count": 43,
   "metadata": {},
   "outputs": [],
   "source": [
    "#Scraping settings\n",
    "page_to_scrap = 150\n",
    "nbr_car = 16"
   ]
  },
  {
   "cell_type": "code",
   "execution_count": null,
   "metadata": {},
   "outputs": [],
   "source": []
  },
  {
   "cell_type": "code",
   "execution_count": null,
   "metadata": {},
   "outputs": [],
   "source": [
    "link_car = []\n",
    "list_brand = []\n",
    "list_model = []\n",
    "list_price = []\n",
    "list_year = []\n",
    "list_km = []\n",
    "list_transition = []\n",
    "list_energie = []\n",
    "list_longitude = []\n",
    "list_latitude = []\n",
    "list_zipcode = []\n",
    "\n",
    "\n",
    "count=0\n",
    "for p in range(page_to_scrap):\n",
    "    \n",
    "    \n",
    "  \n",
    "    for i in range(len(brands)):\n",
    "        r_LaCentrale = requests.get('https://www.lacentrale.fr/occasion-voiture-marque-{}-{}.html'.format(brands[i],p),headers = {'User-Agent': 'Mozilla/4.0 (compatible; MSIE 7.0; Windows NT 5.1)'})\n",
    "        soup_page = BeautifulSoup(r_LaCentrale.content)\n",
    "        \n",
    "        \n",
    "        \n",
    "        for e in range(nbr_car):\n",
    "\n",
    "            try:\n",
    "\n",
    "                link = soup_page.select('div.searchCard')[e].find_all('a')[0].get('href')\n",
    "                car_link = LaCentrale_https+link\n",
    "\n",
    "                response_car = requests.get(car_link, headers = {'User-Agent': 'Mozilla/4.0 (compatible; MSIE 7.0; Windows NT 5.1)'})\n",
    "                sc = BeautifulSoup(response_car.content)\n",
    "\n",
    "\n",
    "                brand = sc.find_all('div',\"cbm-tab__content\")[1].find_all('input')[1].get('value')\n",
    "\n",
    "                model = sc.find_all('div',\"cbm-tab__content\")[1].find_all('input')[2].get('value')\n",
    "\n",
    "                price = sc.find_all('div',\"cbm-tab__content\")[1].find_all('input')[3].get('value')\n",
    "\n",
    "                car_description = defaultdict()\n",
    "\n",
    "                soup_car_description = sc.select(\"div.cbm-moduleInfos__informationList.cbm-moduleInfos__information_column_break ul li\")\n",
    "\n",
    "                for elt in soup_car_description:\n",
    "                    feature = elt.get_text().split(':')\n",
    "                    car_description[feature[0].strip()] = feature[1].strip()\n",
    "\n",
    "                year = car_description['Année']\n",
    "\n",
    "                km = car_description['Kilométrage compteur?']\n",
    "                km = km.replace('Km','').replace(' ','').strip()\n",
    "\n",
    "                trans = car_description['Boîte de vitesse']\n",
    "\n",
    "                energie = car_description['Énergie']\n",
    "\n",
    "\n",
    "                #location\n",
    "                soup_latlon = sc.select('div.cbm-mainInfos script')[9]\n",
    "                \n",
    "                #location (ZipCode)\n",
    "                soup_popin_car = sc.select('div script')[1]\n",
    "                for elt in soup_popin_car:\n",
    "            \n",
    "                    feature = elt.split(',')\n",
    "                    zipcode = feature[26].split(':')[1].replace('\"','').replace('}','')\n",
    "                \n",
    "                  \n",
    "                #location (Lat, Lon)\n",
    "                for elt in soup_latlon:\n",
    "                    feature = elt.split(',')\n",
    "                    longitude = feature[24].split(':')[2].replace('\"','')\n",
    "                    latitude = feature[25].split(':')[1].replace('\"','').replace('}','')\n",
    "                \n",
    "                count +=1\n",
    "                print('N°{} - Scraping brand : {} for Page {} '.format(count,brands[i],p+1))                 \n",
    "\n",
    "            except:\n",
    "                continue\n",
    "\n",
    "            link_car.append(car_link)\n",
    "            list_brand.append(brand)\n",
    "            list_model.append(model)\n",
    "            list_price.append(price)\n",
    "            list_year.append(year)\n",
    "            list_km.append(km)\n",
    "            list_transition.append(trans)\n",
    "            list_energie.append(energie)\n",
    "            list_longitude.append(longitude)\n",
    "            list_latitude.append(latitude)\n",
    "            list_zipcode.append(zipcode)\n"
   ]
  },
  {
   "cell_type": "code",
   "execution_count": 48,
   "metadata": {},
   "outputs": [],
   "source": [
    "list_car = {'Brand' : list_brand,\n",
    "                 'Model': list_model,\n",
    "                    'Gear' : list_transition,\n",
    "                        'KM' : list_km,\n",
    "                        'Energie' : list_energie,\n",
    "                                 'Year' : list_year,\n",
    "                                     'Price' : list_price,\n",
    "                                        'Zip_code' : list_zipcode,\n",
    "                                         'longitude' : list_longitude, \n",
    "                                             'latitude' : list_latitude,\n",
    "                                                'link_car' : link_car,\n",
    "                 \n",
    "                }\n",
    "\n",
    "#list_car"
   ]
  },
  {
   "cell_type": "code",
   "execution_count": null,
   "metadata": {},
   "outputs": [],
   "source": []
  },
  {
   "cell_type": "code",
   "execution_count": 49,
   "metadata": {},
   "outputs": [
    {
     "data": {
      "text/html": [
       "<div>\n",
       "<style scoped>\n",
       "    .dataframe tbody tr th:only-of-type {\n",
       "        vertical-align: middle;\n",
       "    }\n",
       "\n",
       "    .dataframe tbody tr th {\n",
       "        vertical-align: top;\n",
       "    }\n",
       "\n",
       "    .dataframe thead th {\n",
       "        text-align: right;\n",
       "    }\n",
       "</style>\n",
       "<table border=\"1\" class=\"dataframe\">\n",
       "  <thead>\n",
       "    <tr style=\"text-align: right;\">\n",
       "      <th></th>\n",
       "      <th>Brand</th>\n",
       "      <th>Model</th>\n",
       "      <th>Gear</th>\n",
       "      <th>KM</th>\n",
       "      <th>Energie</th>\n",
       "      <th>Year</th>\n",
       "      <th>Price</th>\n",
       "      <th>Zip_code</th>\n",
       "      <th>longitude</th>\n",
       "      <th>latitude</th>\n",
       "      <th>link_car</th>\n",
       "    </tr>\n",
       "  </thead>\n",
       "  <tbody>\n",
       "    <tr>\n",
       "      <th>0</th>\n",
       "      <td>RENAULT</td>\n",
       "      <td>CLIO</td>\n",
       "      <td>mécanique</td>\n",
       "      <td>7577</td>\n",
       "      <td>Diesel</td>\n",
       "      <td>2020</td>\n",
       "      <td>17830</td>\n",
       "      <td>33310</td>\n",
       "      <td>-0.5104989999999999</td>\n",
       "      <td>44.878583</td>\n",
       "      <td>https://www.lacentrale.fr/auto-occasion-annonc...</td>\n",
       "    </tr>\n",
       "    <tr>\n",
       "      <th>1</th>\n",
       "      <td>RENAULT</td>\n",
       "      <td>GRAND SCENIC</td>\n",
       "      <td>automatique</td>\n",
       "      <td>30201</td>\n",
       "      <td>Diesel</td>\n",
       "      <td>2020</td>\n",
       "      <td>23070</td>\n",
       "      <td>76120</td>\n",
       "      <td>1.0465014</td>\n",
       "      <td>49.4180309</td>\n",
       "      <td>https://www.lacentrale.fr/auto-occasion-annonc...</td>\n",
       "    </tr>\n",
       "    <tr>\n",
       "      <th>2</th>\n",
       "      <td>RENAULT</td>\n",
       "      <td>CLIO</td>\n",
       "      <td>mécanique</td>\n",
       "      <td>49851</td>\n",
       "      <td>Diesel</td>\n",
       "      <td>2019</td>\n",
       "      <td>11540</td>\n",
       "      <td>24400</td>\n",
       "      <td>0.3698788</td>\n",
       "      <td>45.0440403</td>\n",
       "      <td>https://www.lacentrale.fr/auto-occasion-annonc...</td>\n",
       "    </tr>\n",
       "    <tr>\n",
       "      <th>3</th>\n",
       "      <td>RENAULT</td>\n",
       "      <td>CLIO</td>\n",
       "      <td>mécanique</td>\n",
       "      <td>19318</td>\n",
       "      <td>Essence</td>\n",
       "      <td>2020</td>\n",
       "      <td>13360</td>\n",
       "      <td>24400</td>\n",
       "      <td>0.3698788</td>\n",
       "      <td>45.0440403</td>\n",
       "      <td>https://www.lacentrale.fr/auto-occasion-annonc...</td>\n",
       "    </tr>\n",
       "    <tr>\n",
       "      <th>4</th>\n",
       "      <td>RENAULT</td>\n",
       "      <td>KADJAR</td>\n",
       "      <td>mécanique</td>\n",
       "      <td>17010</td>\n",
       "      <td>Diesel</td>\n",
       "      <td>2021</td>\n",
       "      <td>27280</td>\n",
       "      <td>31120</td>\n",
       "      <td>1.3900007</td>\n",
       "      <td>43.51913769999999</td>\n",
       "      <td>https://www.lacentrale.fr/auto-occasion-annonc...</td>\n",
       "    </tr>\n",
       "    <tr>\n",
       "      <th>...</th>\n",
       "      <td>...</td>\n",
       "      <td>...</td>\n",
       "      <td>...</td>\n",
       "      <td>...</td>\n",
       "      <td>...</td>\n",
       "      <td>...</td>\n",
       "      <td>...</td>\n",
       "      <td>...</td>\n",
       "      <td>...</td>\n",
       "      <td>...</td>\n",
       "      <td>...</td>\n",
       "    </tr>\n",
       "    <tr>\n",
       "      <th>11526</th>\n",
       "      <td>VOLKSWAGEN</td>\n",
       "      <td>UP!</td>\n",
       "      <td>mécanique</td>\n",
       "      <td>126181</td>\n",
       "      <td>Essence</td>\n",
       "      <td>2013</td>\n",
       "      <td>7670</td>\n",
       "      <td>94110</td>\n",
       "      <td>2.327393</td>\n",
       "      <td>48.8097639</td>\n",
       "      <td>https://www.lacentrale.fr/auto-occasion-annonc...</td>\n",
       "    </tr>\n",
       "    <tr>\n",
       "      <th>11527</th>\n",
       "      <td>VOLKSWAGEN</td>\n",
       "      <td>POLO</td>\n",
       "      <td>mécanique</td>\n",
       "      <td>12</td>\n",
       "      <td>Essence</td>\n",
       "      <td>2022</td>\n",
       "      <td>22660</td>\n",
       "      <td>33310</td>\n",
       "      <td>-0.5121479</td>\n",
       "      <td>44.88030149999999</td>\n",
       "      <td>https://www.lacentrale.fr/auto-occasion-annonc...</td>\n",
       "    </tr>\n",
       "    <tr>\n",
       "      <th>11528</th>\n",
       "      <td>VOLKSWAGEN</td>\n",
       "      <td>T-ROC</td>\n",
       "      <td>automatique</td>\n",
       "      <td>4929</td>\n",
       "      <td>Essence</td>\n",
       "      <td>2021</td>\n",
       "      <td>33020</td>\n",
       "      <td>31670</td>\n",
       "      <td>1.5177695</td>\n",
       "      <td>43.54516710000001</td>\n",
       "      <td>https://www.lacentrale.fr/auto-occasion-annonc...</td>\n",
       "    </tr>\n",
       "    <tr>\n",
       "      <th>11529</th>\n",
       "      <td>VOLKSWAGEN</td>\n",
       "      <td>TIGUAN</td>\n",
       "      <td>automatique</td>\n",
       "      <td>23207</td>\n",
       "      <td>Diesel</td>\n",
       "      <td>2022</td>\n",
       "      <td>47180</td>\n",
       "      <td>31200</td>\n",
       "      <td>1.4208297</td>\n",
       "      <td>43.6587377</td>\n",
       "      <td>https://www.lacentrale.fr/auto-occasion-annonc...</td>\n",
       "    </tr>\n",
       "    <tr>\n",
       "      <th>11530</th>\n",
       "      <td>VOLKSWAGEN</td>\n",
       "      <td>TIGUAN</td>\n",
       "      <td>mécanique</td>\n",
       "      <td>245790</td>\n",
       "      <td>Diesel</td>\n",
       "      <td>2013</td>\n",
       "      <td>10810</td>\n",
       "      <td>78330</td>\n",
       "      <td>2.0458809</td>\n",
       "      <td>48.8086541</td>\n",
       "      <td>https://www.lacentrale.fr/auto-occasion-annonc...</td>\n",
       "    </tr>\n",
       "  </tbody>\n",
       "</table>\n",
       "<p>11531 rows × 11 columns</p>\n",
       "</div>"
      ],
      "text/plain": [
       "            Brand         Model         Gear      KM  Energie  Year  Price  \\\n",
       "0         RENAULT          CLIO    mécanique    7577   Diesel  2020  17830   \n",
       "1         RENAULT  GRAND SCENIC  automatique   30201   Diesel  2020  23070   \n",
       "2         RENAULT          CLIO    mécanique   49851   Diesel  2019  11540   \n",
       "3         RENAULT          CLIO    mécanique   19318  Essence  2020  13360   \n",
       "4         RENAULT        KADJAR    mécanique   17010   Diesel  2021  27280   \n",
       "...           ...           ...          ...     ...      ...   ...    ...   \n",
       "11526  VOLKSWAGEN           UP!    mécanique  126181  Essence  2013   7670   \n",
       "11527  VOLKSWAGEN          POLO    mécanique      12  Essence  2022  22660   \n",
       "11528  VOLKSWAGEN         T-ROC  automatique    4929  Essence  2021  33020   \n",
       "11529  VOLKSWAGEN        TIGUAN  automatique   23207   Diesel  2022  47180   \n",
       "11530  VOLKSWAGEN        TIGUAN    mécanique  245790   Diesel  2013  10810   \n",
       "\n",
       "      Zip_code            longitude           latitude  \\\n",
       "0        33310  -0.5104989999999999          44.878583   \n",
       "1        76120            1.0465014         49.4180309   \n",
       "2        24400            0.3698788         45.0440403   \n",
       "3        24400            0.3698788         45.0440403   \n",
       "4        31120            1.3900007  43.51913769999999   \n",
       "...        ...                  ...                ...   \n",
       "11526    94110             2.327393         48.8097639   \n",
       "11527    33310           -0.5121479  44.88030149999999   \n",
       "11528    31670            1.5177695  43.54516710000001   \n",
       "11529    31200            1.4208297         43.6587377   \n",
       "11530    78330            2.0458809         48.8086541   \n",
       "\n",
       "                                                link_car  \n",
       "0      https://www.lacentrale.fr/auto-occasion-annonc...  \n",
       "1      https://www.lacentrale.fr/auto-occasion-annonc...  \n",
       "2      https://www.lacentrale.fr/auto-occasion-annonc...  \n",
       "3      https://www.lacentrale.fr/auto-occasion-annonc...  \n",
       "4      https://www.lacentrale.fr/auto-occasion-annonc...  \n",
       "...                                                  ...  \n",
       "11526  https://www.lacentrale.fr/auto-occasion-annonc...  \n",
       "11527  https://www.lacentrale.fr/auto-occasion-annonc...  \n",
       "11528  https://www.lacentrale.fr/auto-occasion-annonc...  \n",
       "11529  https://www.lacentrale.fr/auto-occasion-annonc...  \n",
       "11530  https://www.lacentrale.fr/auto-occasion-annonc...  \n",
       "\n",
       "[11531 rows x 11 columns]"
      ]
     },
     "execution_count": 49,
     "metadata": {},
     "output_type": "execute_result"
    }
   ],
   "source": [
    "df_car = pd.DataFrame(list_car)"
   ]
  },
  {
   "cell_type": "code",
   "execution_count": null,
   "metadata": {},
   "outputs": [],
   "source": []
  },
  {
   "cell_type": "markdown",
   "metadata": {},
   "source": [
    "# OBTAIN DATASET FROM LA CENTRALE SCRAPING"
   ]
  },
  {
   "cell_type": "code",
   "execution_count": null,
   "metadata": {},
   "outputs": [],
   "source": [
    "df_car.to_csv('LaCentrale_car150.csv',encoding='utf-8-sig',index=False)"
   ]
  },
  {
   "cell_type": "code",
   "execution_count": null,
   "metadata": {},
   "outputs": [],
   "source": []
  },
  {
   "cell_type": "markdown",
   "metadata": {},
   "source": [
    "# ANALYSIS ON DATASET FROM LA CENTRALE SCRAPING"
   ]
  },
  {
   "cell_type": "code",
   "execution_count": null,
   "metadata": {},
   "outputs": [],
   "source": [
    "df_car.groupby('Brand')['Model'].count()"
   ]
  },
  {
   "cell_type": "code",
   "execution_count": null,
   "metadata": {},
   "outputs": [],
   "source": [
    "df_car.groupby('Brand')['Model'].nunique()"
   ]
  },
  {
   "cell_type": "code",
   "execution_count": null,
   "metadata": {},
   "outputs": [],
   "source": [
    "df_car.groupby(['Brand','Model'])['KM'].nunique()"
   ]
  },
  {
   "cell_type": "code",
   "execution_count": null,
   "metadata": {},
   "outputs": [],
   "source": []
  },
  {
   "cell_type": "markdown",
   "metadata": {},
   "source": [
    "# LOAD DATASET FROM AUTOSPHERE & JOIN WITH LA CENTRALE"
   ]
  },
  {
   "cell_type": "code",
   "execution_count": 4,
   "metadata": {},
   "outputs": [
    {
     "data": {
      "text/html": [
       "<div>\n",
       "<style scoped>\n",
       "    .dataframe tbody tr th:only-of-type {\n",
       "        vertical-align: middle;\n",
       "    }\n",
       "\n",
       "    .dataframe tbody tr th {\n",
       "        vertical-align: top;\n",
       "    }\n",
       "\n",
       "    .dataframe thead th {\n",
       "        text-align: right;\n",
       "    }\n",
       "</style>\n",
       "<table border=\"1\" class=\"dataframe\">\n",
       "  <thead>\n",
       "    <tr style=\"text-align: right;\">\n",
       "      <th></th>\n",
       "      <th>Brand</th>\n",
       "      <th>Model</th>\n",
       "      <th>Gear</th>\n",
       "      <th>KM</th>\n",
       "      <th>Energie</th>\n",
       "      <th>Year</th>\n",
       "      <th>Price</th>\n",
       "      <th>Zip_code</th>\n",
       "      <th>longitude</th>\n",
       "      <th>latitude</th>\n",
       "      <th>link_car</th>\n",
       "    </tr>\n",
       "  </thead>\n",
       "  <tbody>\n",
       "    <tr>\n",
       "      <th>8254</th>\n",
       "      <td>VOLKSWAGEN</td>\n",
       "      <td>POLO</td>\n",
       "      <td>automatique</td>\n",
       "      <td>29520</td>\n",
       "      <td>Essence</td>\n",
       "      <td>2017</td>\n",
       "      <td>17820</td>\n",
       "      <td>64480</td>\n",
       "      <td>-1.431418</td>\n",
       "      <td>43.372951</td>\n",
       "      <td>https://www.lacentrale.fr/auto-occasion-annonc...</td>\n",
       "    </tr>\n",
       "    <tr>\n",
       "      <th>2718</th>\n",
       "      <td>PEUGEOT</td>\n",
       "      <td>108</td>\n",
       "      <td>mécanique</td>\n",
       "      <td>5346</td>\n",
       "      <td>Essence</td>\n",
       "      <td>2021</td>\n",
       "      <td>10150</td>\n",
       "      <td>92250</td>\n",
       "      <td>2.238421</td>\n",
       "      <td>48.903225</td>\n",
       "      <td>https://www.lacentrale.fr/auto-occasion-annonc...</td>\n",
       "    </tr>\n",
       "    <tr>\n",
       "      <th>7716</th>\n",
       "      <td>TOYOTA</td>\n",
       "      <td>YARIS</td>\n",
       "      <td>mécanique</td>\n",
       "      <td>32294</td>\n",
       "      <td>Essence</td>\n",
       "      <td>2019</td>\n",
       "      <td>11640</td>\n",
       "      <td>44700</td>\n",
       "      <td>-1.622639</td>\n",
       "      <td>47.257004</td>\n",
       "      <td>https://www.lacentrale.fr/auto-occasion-annonc...</td>\n",
       "    </tr>\n",
       "    <tr>\n",
       "      <th>10952</th>\n",
       "      <td>CITROEN</td>\n",
       "      <td>C4 CACTUS</td>\n",
       "      <td>mécanique</td>\n",
       "      <td>4300</td>\n",
       "      <td>Essence</td>\n",
       "      <td>2021</td>\n",
       "      <td>18040</td>\n",
       "      <td>42210</td>\n",
       "      <td>4.231142</td>\n",
       "      <td>45.651439</td>\n",
       "      <td>https://www.lacentrale.fr/auto-occasion-annonc...</td>\n",
       "    </tr>\n",
       "    <tr>\n",
       "      <th>9471</th>\n",
       "      <td>TOYOTA</td>\n",
       "      <td>C-HR</td>\n",
       "      <td>automatique</td>\n",
       "      <td>34812</td>\n",
       "      <td>Hybride essence électrique</td>\n",
       "      <td>2019</td>\n",
       "      <td>23860</td>\n",
       "      <td>56000</td>\n",
       "      <td>-2.785979</td>\n",
       "      <td>47.669626</td>\n",
       "      <td>https://www.lacentrale.fr/auto-occasion-annonc...</td>\n",
       "    </tr>\n",
       "  </tbody>\n",
       "</table>\n",
       "</div>"
      ],
      "text/plain": [
       "            Brand      Model         Gear     KM                     Energie  \\\n",
       "8254   VOLKSWAGEN       POLO  automatique  29520                     Essence   \n",
       "2718      PEUGEOT        108    mécanique   5346                     Essence   \n",
       "7716       TOYOTA      YARIS    mécanique  32294                     Essence   \n",
       "10952     CITROEN  C4 CACTUS    mécanique   4300                     Essence   \n",
       "9471       TOYOTA       C-HR  automatique  34812  Hybride essence électrique   \n",
       "\n",
       "       Year  Price  Zip_code  longitude   latitude  \\\n",
       "8254   2017  17820     64480  -1.431418  43.372951   \n",
       "2718   2021  10150     92250   2.238421  48.903225   \n",
       "7716   2019  11640     44700  -1.622639  47.257004   \n",
       "10952  2021  18040     42210   4.231142  45.651439   \n",
       "9471   2019  23860     56000  -2.785979  47.669626   \n",
       "\n",
       "                                                link_car  \n",
       "8254   https://www.lacentrale.fr/auto-occasion-annonc...  \n",
       "2718   https://www.lacentrale.fr/auto-occasion-annonc...  \n",
       "7716   https://www.lacentrale.fr/auto-occasion-annonc...  \n",
       "10952  https://www.lacentrale.fr/auto-occasion-annonc...  \n",
       "9471   https://www.lacentrale.fr/auto-occasion-annonc...  "
      ]
     },
     "execution_count": 4,
     "metadata": {},
     "output_type": "execute_result"
    }
   ],
   "source": [
    "df_car = pd.read_csv('LaCentrale_car150.csv')\n",
    "df_car.sample(5)"
   ]
  },
  {
   "cell_type": "code",
   "execution_count": null,
   "metadata": {},
   "outputs": [],
   "source": []
  },
  {
   "cell_type": "markdown",
   "metadata": {},
   "source": [
    "# LOAD DATASET FROM AUTOSPHERE & JOIN WITH LA CENTRALE"
   ]
  },
  {
   "cell_type": "code",
   "execution_count": 7,
   "metadata": {},
   "outputs": [
    {
     "data": {
      "text/html": [
       "<div>\n",
       "<style scoped>\n",
       "    .dataframe tbody tr th:only-of-type {\n",
       "        vertical-align: middle;\n",
       "    }\n",
       "\n",
       "    .dataframe tbody tr th {\n",
       "        vertical-align: top;\n",
       "    }\n",
       "\n",
       "    .dataframe thead th {\n",
       "        text-align: right;\n",
       "    }\n",
       "</style>\n",
       "<table border=\"1\" class=\"dataframe\">\n",
       "  <thead>\n",
       "    <tr style=\"text-align: right;\">\n",
       "      <th></th>\n",
       "      <th>Unnamed: 0</th>\n",
       "      <th>Marque</th>\n",
       "      <th>Modele</th>\n",
       "      <th>Transmission</th>\n",
       "      <th>Kilometre</th>\n",
       "      <th>Energie</th>\n",
       "      <th>Annee</th>\n",
       "      <th>Prix</th>\n",
       "      <th>Code_postal</th>\n",
       "      <th>longitude</th>\n",
       "      <th>latitude</th>\n",
       "    </tr>\n",
       "  </thead>\n",
       "  <tbody>\n",
       "    <tr>\n",
       "      <th>4306</th>\n",
       "      <td>4306</td>\n",
       "      <td>RENAULT</td>\n",
       "      <td>Grand scenic</td>\n",
       "      <td>Manuelle</td>\n",
       "      <td>66146</td>\n",
       "      <td>Diesel</td>\n",
       "      <td>2017</td>\n",
       "      <td>14 767</td>\n",
       "      <td>69200</td>\n",
       "      <td>4.871500</td>\n",
       "      <td>45.7025</td>\n",
       "    </tr>\n",
       "    <tr>\n",
       "      <th>4202</th>\n",
       "      <td>4202</td>\n",
       "      <td>RENAULT</td>\n",
       "      <td>Captur</td>\n",
       "      <td>Manuelle</td>\n",
       "      <td>11306</td>\n",
       "      <td>Diesel</td>\n",
       "      <td>2020</td>\n",
       "      <td>19 980</td>\n",
       "      <td>1000</td>\n",
       "      <td>5.207500</td>\n",
       "      <td>46.2022</td>\n",
       "    </tr>\n",
       "    <tr>\n",
       "      <th>2532</th>\n",
       "      <td>2532</td>\n",
       "      <td>PEUGEOT</td>\n",
       "      <td>508</td>\n",
       "      <td>Automatique</td>\n",
       "      <td>72621</td>\n",
       "      <td>Diesel</td>\n",
       "      <td>2019</td>\n",
       "      <td>27 490</td>\n",
       "      <td>63200</td>\n",
       "      <td>3.116187</td>\n",
       "      <td>45.9341</td>\n",
       "    </tr>\n",
       "    <tr>\n",
       "      <th>406</th>\n",
       "      <td>406</td>\n",
       "      <td>PEUGEOT</td>\n",
       "      <td>3008</td>\n",
       "      <td>Manuelle</td>\n",
       "      <td>80447</td>\n",
       "      <td>Essence</td>\n",
       "      <td>2018</td>\n",
       "      <td>19 900</td>\n",
       "      <td>30133</td>\n",
       "      <td>4.763400</td>\n",
       "      <td>43.9581</td>\n",
       "    </tr>\n",
       "    <tr>\n",
       "      <th>6418</th>\n",
       "      <td>6418</td>\n",
       "      <td>VOLKSWAGEN</td>\n",
       "      <td>Polo</td>\n",
       "      <td>Manuelle</td>\n",
       "      <td>5000</td>\n",
       "      <td>Essence</td>\n",
       "      <td>2021</td>\n",
       "      <td>17 700</td>\n",
       "      <td>63170</td>\n",
       "      <td>3.126350</td>\n",
       "      <td>45.7516</td>\n",
       "    </tr>\n",
       "  </tbody>\n",
       "</table>\n",
       "</div>"
      ],
      "text/plain": [
       "      Unnamed: 0      Marque        Modele Transmission  Kilometre  Energie  \\\n",
       "4306        4306     RENAULT  Grand scenic     Manuelle      66146   Diesel   \n",
       "4202        4202     RENAULT        Captur     Manuelle      11306   Diesel   \n",
       "2532        2532     PEUGEOT           508  Automatique      72621   Diesel   \n",
       "406          406     PEUGEOT          3008     Manuelle      80447  Essence   \n",
       "6418        6418  VOLKSWAGEN          Polo     Manuelle       5000  Essence   \n",
       "\n",
       "      Annee    Prix  Code_postal  longitude  latitude  \n",
       "4306   2017  14 767        69200   4.871500   45.7025  \n",
       "4202   2020  19 980         1000   5.207500   46.2022  \n",
       "2532   2019  27 490        63200   3.116187   45.9341  \n",
       "406    2018  19 900        30133   4.763400   43.9581  \n",
       "6418   2021  17 700        63170   3.126350   45.7516  "
      ]
     },
     "execution_count": 7,
     "metadata": {},
     "output_type": "execute_result"
    }
   ],
   "source": [
    "scrap_autosphere = pd.read_csv('autosphere.csv')\n",
    "scrap_autosphere.sample(5)"
   ]
  },
  {
   "cell_type": "code",
   "execution_count": null,
   "metadata": {},
   "outputs": [],
   "source": []
  },
  {
   "cell_type": "code",
   "execution_count": 8,
   "metadata": {},
   "outputs": [
    {
     "data": {
      "text/html": [
       "<div>\n",
       "<style scoped>\n",
       "    .dataframe tbody tr th:only-of-type {\n",
       "        vertical-align: middle;\n",
       "    }\n",
       "\n",
       "    .dataframe tbody tr th {\n",
       "        vertical-align: top;\n",
       "    }\n",
       "\n",
       "    .dataframe thead th {\n",
       "        text-align: right;\n",
       "    }\n",
       "</style>\n",
       "<table border=\"1\" class=\"dataframe\">\n",
       "  <thead>\n",
       "    <tr style=\"text-align: right;\">\n",
       "      <th></th>\n",
       "      <th>Marque</th>\n",
       "      <th>Modele</th>\n",
       "      <th>Transmission</th>\n",
       "      <th>Kilometre</th>\n",
       "      <th>Energie</th>\n",
       "      <th>Annee</th>\n",
       "      <th>Prix</th>\n",
       "      <th>Code_postal</th>\n",
       "      <th>longitude</th>\n",
       "      <th>latitude</th>\n",
       "    </tr>\n",
       "  </thead>\n",
       "  <tbody>\n",
       "    <tr>\n",
       "      <th>0</th>\n",
       "      <td>CITROEN</td>\n",
       "      <td>C4</td>\n",
       "      <td>Manuelle</td>\n",
       "      <td>28561</td>\n",
       "      <td>Essence</td>\n",
       "      <td>2018</td>\n",
       "      <td>14 890</td>\n",
       "      <td>60200</td>\n",
       "      <td>2.826100</td>\n",
       "      <td>49.4179</td>\n",
       "    </tr>\n",
       "    <tr>\n",
       "      <th>1</th>\n",
       "      <td>CITROEN</td>\n",
       "      <td>C4 cactus</td>\n",
       "      <td>Manuelle</td>\n",
       "      <td>14702</td>\n",
       "      <td>Essence</td>\n",
       "      <td>2020</td>\n",
       "      <td>15 999</td>\n",
       "      <td>86000</td>\n",
       "      <td>0.333300</td>\n",
       "      <td>46.5833</td>\n",
       "    </tr>\n",
       "    <tr>\n",
       "      <th>2</th>\n",
       "      <td>CITROEN</td>\n",
       "      <td>C4 picasso</td>\n",
       "      <td>Manuelle</td>\n",
       "      <td>88300</td>\n",
       "      <td>Diesel</td>\n",
       "      <td>2015</td>\n",
       "      <td>12 479</td>\n",
       "      <td>51100</td>\n",
       "      <td>4.033300</td>\n",
       "      <td>49.2500</td>\n",
       "    </tr>\n",
       "    <tr>\n",
       "      <th>3</th>\n",
       "      <td>CITROEN</td>\n",
       "      <td>C5 aircross</td>\n",
       "      <td>Automatique</td>\n",
       "      <td>1742</td>\n",
       "      <td>Diesel</td>\n",
       "      <td>2021</td>\n",
       "      <td>32 990</td>\n",
       "      <td>16430</td>\n",
       "      <td>0.145933</td>\n",
       "      <td>45.7167</td>\n",
       "    </tr>\n",
       "    <tr>\n",
       "      <th>4</th>\n",
       "      <td>CITROEN</td>\n",
       "      <td>C5 aircross</td>\n",
       "      <td>Automatique</td>\n",
       "      <td>50</td>\n",
       "      <td>Diesel</td>\n",
       "      <td>2020</td>\n",
       "      <td>30 880</td>\n",
       "      <td>38320</td>\n",
       "      <td>5.768200</td>\n",
       "      <td>45.1374</td>\n",
       "    </tr>\n",
       "  </tbody>\n",
       "</table>\n",
       "</div>"
      ],
      "text/plain": [
       "    Marque       Modele Transmission  Kilometre  Energie  Annee    Prix  \\\n",
       "0  CITROEN           C4     Manuelle      28561  Essence   2018  14 890   \n",
       "1  CITROEN    C4 cactus     Manuelle      14702  Essence   2020  15 999   \n",
       "2  CITROEN   C4 picasso     Manuelle      88300   Diesel   2015  12 479   \n",
       "3  CITROEN  C5 aircross  Automatique       1742   Diesel   2021  32 990   \n",
       "4  CITROEN  C5 aircross  Automatique         50   Diesel   2020  30 880   \n",
       "\n",
       "   Code_postal  longitude  latitude  \n",
       "0        60200   2.826100   49.4179  \n",
       "1        86000   0.333300   46.5833  \n",
       "2        51100   4.033300   49.2500  \n",
       "3        16430   0.145933   45.7167  \n",
       "4        38320   5.768200   45.1374  "
      ]
     },
     "execution_count": 8,
     "metadata": {},
     "output_type": "execute_result"
    }
   ],
   "source": [
    "#Remove column 'Unnamed' from autosphere dataset\n",
    "scrap_autosphere_2 = scrap_autosphere.drop(columns=['Unnamed: 0',],axis=1)\n",
    "scrap_autosphere_2.head()"
   ]
  },
  {
   "cell_type": "code",
   "execution_count": null,
   "metadata": {},
   "outputs": [],
   "source": []
  },
  {
   "cell_type": "code",
   "execution_count": 9,
   "metadata": {},
   "outputs": [],
   "source": [
    "scrap_autosphere_2 = scrap_autosphere_2.rename(columns={\"Marque\": \"Brand\",\n",
    "                                                         \"Modele\": \"Model\",\n",
    "                                                         \"Transmission\": \"Gear\",\n",
    "                                                            \"Kilometre\" : \"KM\",\n",
    "                                                               \"Annee\" : \"Year\",\n",
    "                                                                \"Prix\" : \"Price\",\n",
    "                                                                    \"Code_postal\" : \"Zip_code\"\n",
    "                                                                                                  })\n",
    "                                                 \n",
    "                                   \n",
    "                                   "
   ]
  },
  {
   "cell_type": "code",
   "execution_count": 10,
   "metadata": {},
   "outputs": [],
   "source": [
    "scrap_autosphere_2.to_csv('autosphere2.csv',encoding='utf-8-sig',index=False)"
   ]
  },
  {
   "cell_type": "code",
   "execution_count": 12,
   "metadata": {},
   "outputs": [
    {
     "data": {
      "text/html": [
       "<div>\n",
       "<style scoped>\n",
       "    .dataframe tbody tr th:only-of-type {\n",
       "        vertical-align: middle;\n",
       "    }\n",
       "\n",
       "    .dataframe tbody tr th {\n",
       "        vertical-align: top;\n",
       "    }\n",
       "\n",
       "    .dataframe thead th {\n",
       "        text-align: right;\n",
       "    }\n",
       "</style>\n",
       "<table border=\"1\" class=\"dataframe\">\n",
       "  <thead>\n",
       "    <tr style=\"text-align: right;\">\n",
       "      <th></th>\n",
       "      <th>Brand</th>\n",
       "      <th>Model</th>\n",
       "      <th>Gear</th>\n",
       "      <th>KM</th>\n",
       "      <th>Energie</th>\n",
       "      <th>Year</th>\n",
       "      <th>Price</th>\n",
       "      <th>Zip_code</th>\n",
       "      <th>longitude</th>\n",
       "      <th>latitude</th>\n",
       "    </tr>\n",
       "  </thead>\n",
       "  <tbody>\n",
       "    <tr>\n",
       "      <th>2446</th>\n",
       "      <td>PEUGEOT</td>\n",
       "      <td>208</td>\n",
       "      <td>Automatique</td>\n",
       "      <td>21562</td>\n",
       "      <td>Electrique</td>\n",
       "      <td>2020</td>\n",
       "      <td>23 780</td>\n",
       "      <td>73000</td>\n",
       "      <td>5.92370</td>\n",
       "      <td>45.6216</td>\n",
       "    </tr>\n",
       "    <tr>\n",
       "      <th>4754</th>\n",
       "      <td>RENAULT</td>\n",
       "      <td>Espace</td>\n",
       "      <td>Automatique</td>\n",
       "      <td>100</td>\n",
       "      <td>Diesel</td>\n",
       "      <td>2021</td>\n",
       "      <td>48 990</td>\n",
       "      <td>57180</td>\n",
       "      <td>6.13350</td>\n",
       "      <td>49.3467</td>\n",
       "    </tr>\n",
       "    <tr>\n",
       "      <th>462</th>\n",
       "      <td>PEUGEOT</td>\n",
       "      <td>3008</td>\n",
       "      <td>Manuelle</td>\n",
       "      <td>42000</td>\n",
       "      <td>Diesel</td>\n",
       "      <td>2018</td>\n",
       "      <td>21 900</td>\n",
       "      <td>38000</td>\n",
       "      <td>5.72240</td>\n",
       "      <td>45.1715</td>\n",
       "    </tr>\n",
       "    <tr>\n",
       "      <th>6094</th>\n",
       "      <td>VOLKSWAGEN</td>\n",
       "      <td>Touran</td>\n",
       "      <td>Automatique</td>\n",
       "      <td>90573</td>\n",
       "      <td>Diesel</td>\n",
       "      <td>2017</td>\n",
       "      <td>23 990</td>\n",
       "      <td>57740</td>\n",
       "      <td>6.64330</td>\n",
       "      <td>49.1169</td>\n",
       "    </tr>\n",
       "    <tr>\n",
       "      <th>3329</th>\n",
       "      <td>RENAULT</td>\n",
       "      <td>Kadjar</td>\n",
       "      <td>Manuelle</td>\n",
       "      <td>20293</td>\n",
       "      <td>Diesel</td>\n",
       "      <td>2020</td>\n",
       "      <td>22 990</td>\n",
       "      <td>59160</td>\n",
       "      <td>3.01025</td>\n",
       "      <td>50.6330</td>\n",
       "    </tr>\n",
       "  </tbody>\n",
       "</table>\n",
       "</div>"
      ],
      "text/plain": [
       "           Brand   Model         Gear     KM     Energie  Year   Price  \\\n",
       "2446     PEUGEOT     208  Automatique  21562  Electrique  2020  23 780   \n",
       "4754     RENAULT  Espace  Automatique    100      Diesel  2021  48 990   \n",
       "462      PEUGEOT    3008     Manuelle  42000      Diesel  2018  21 900   \n",
       "6094  VOLKSWAGEN  Touran  Automatique  90573      Diesel  2017  23 990   \n",
       "3329     RENAULT  Kadjar     Manuelle  20293      Diesel  2020  22 990   \n",
       "\n",
       "      Zip_code  longitude  latitude  \n",
       "2446     73000    5.92370   45.6216  \n",
       "4754     57180    6.13350   49.3467  \n",
       "462      38000    5.72240   45.1715  \n",
       "6094     57740    6.64330   49.1169  \n",
       "3329     59160    3.01025   50.6330  "
      ]
     },
     "execution_count": 12,
     "metadata": {},
     "output_type": "execute_result"
    }
   ],
   "source": [
    "scrap_autosphere_2.sample(5)"
   ]
  },
  {
   "cell_type": "code",
   "execution_count": 13,
   "metadata": {},
   "outputs": [],
   "source": [
    "df_car2 = df_car.drop(columns=['link_car'],axis=1)"
   ]
  },
  {
   "cell_type": "code",
   "execution_count": null,
   "metadata": {},
   "outputs": [],
   "source": []
  },
  {
   "cell_type": "code",
   "execution_count": 14,
   "metadata": {},
   "outputs": [
    {
     "data": {
      "text/html": [
       "<div>\n",
       "<style scoped>\n",
       "    .dataframe tbody tr th:only-of-type {\n",
       "        vertical-align: middle;\n",
       "    }\n",
       "\n",
       "    .dataframe tbody tr th {\n",
       "        vertical-align: top;\n",
       "    }\n",
       "\n",
       "    .dataframe thead th {\n",
       "        text-align: right;\n",
       "    }\n",
       "</style>\n",
       "<table border=\"1\" class=\"dataframe\">\n",
       "  <thead>\n",
       "    <tr style=\"text-align: right;\">\n",
       "      <th></th>\n",
       "      <th>Brand</th>\n",
       "      <th>Model</th>\n",
       "      <th>Gear</th>\n",
       "      <th>KM</th>\n",
       "      <th>Energie</th>\n",
       "      <th>Year</th>\n",
       "      <th>Price</th>\n",
       "      <th>Zip_code</th>\n",
       "      <th>longitude</th>\n",
       "      <th>latitude</th>\n",
       "    </tr>\n",
       "  </thead>\n",
       "  <tbody>\n",
       "    <tr>\n",
       "      <th>0</th>\n",
       "      <td>RENAULT</td>\n",
       "      <td>CLIO</td>\n",
       "      <td>mécanique</td>\n",
       "      <td>7577</td>\n",
       "      <td>Diesel</td>\n",
       "      <td>2020</td>\n",
       "      <td>17830</td>\n",
       "      <td>33310</td>\n",
       "      <td>-0.510499</td>\n",
       "      <td>44.878583</td>\n",
       "    </tr>\n",
       "    <tr>\n",
       "      <th>1</th>\n",
       "      <td>RENAULT</td>\n",
       "      <td>GRAND SCENIC</td>\n",
       "      <td>automatique</td>\n",
       "      <td>30201</td>\n",
       "      <td>Diesel</td>\n",
       "      <td>2020</td>\n",
       "      <td>23070</td>\n",
       "      <td>76120</td>\n",
       "      <td>1.046501</td>\n",
       "      <td>49.418031</td>\n",
       "    </tr>\n",
       "    <tr>\n",
       "      <th>2</th>\n",
       "      <td>RENAULT</td>\n",
       "      <td>CLIO</td>\n",
       "      <td>mécanique</td>\n",
       "      <td>49851</td>\n",
       "      <td>Diesel</td>\n",
       "      <td>2019</td>\n",
       "      <td>11540</td>\n",
       "      <td>24400</td>\n",
       "      <td>0.369879</td>\n",
       "      <td>45.044040</td>\n",
       "    </tr>\n",
       "    <tr>\n",
       "      <th>3</th>\n",
       "      <td>RENAULT</td>\n",
       "      <td>CLIO</td>\n",
       "      <td>mécanique</td>\n",
       "      <td>19318</td>\n",
       "      <td>Essence</td>\n",
       "      <td>2020</td>\n",
       "      <td>13360</td>\n",
       "      <td>24400</td>\n",
       "      <td>0.369879</td>\n",
       "      <td>45.044040</td>\n",
       "    </tr>\n",
       "    <tr>\n",
       "      <th>4</th>\n",
       "      <td>RENAULT</td>\n",
       "      <td>KADJAR</td>\n",
       "      <td>mécanique</td>\n",
       "      <td>17010</td>\n",
       "      <td>Diesel</td>\n",
       "      <td>2021</td>\n",
       "      <td>27280</td>\n",
       "      <td>31120</td>\n",
       "      <td>1.390001</td>\n",
       "      <td>43.519138</td>\n",
       "    </tr>\n",
       "  </tbody>\n",
       "</table>\n",
       "</div>"
      ],
      "text/plain": [
       "     Brand         Model         Gear     KM  Energie  Year  Price  Zip_code  \\\n",
       "0  RENAULT          CLIO    mécanique   7577   Diesel  2020  17830     33310   \n",
       "1  RENAULT  GRAND SCENIC  automatique  30201   Diesel  2020  23070     76120   \n",
       "2  RENAULT          CLIO    mécanique  49851   Diesel  2019  11540     24400   \n",
       "3  RENAULT          CLIO    mécanique  19318  Essence  2020  13360     24400   \n",
       "4  RENAULT        KADJAR    mécanique  17010   Diesel  2021  27280     31120   \n",
       "\n",
       "   longitude   latitude  \n",
       "0  -0.510499  44.878583  \n",
       "1   1.046501  49.418031  \n",
       "2   0.369879  45.044040  \n",
       "3   0.369879  45.044040  \n",
       "4   1.390001  43.519138  "
      ]
     },
     "execution_count": 14,
     "metadata": {},
     "output_type": "execute_result"
    }
   ],
   "source": [
    "df_car2.head()"
   ]
  },
  {
   "cell_type": "code",
   "execution_count": null,
   "metadata": {},
   "outputs": [],
   "source": []
  },
  {
   "cell_type": "code",
   "execution_count": 15,
   "metadata": {},
   "outputs": [],
   "source": [
    "#Join the two dataset\n",
    "frames = [df_car2,scrap_autosphere_2]"
   ]
  },
  {
   "cell_type": "code",
   "execution_count": 17,
   "metadata": {},
   "outputs": [
    {
     "data": {
      "text/html": [
       "<div>\n",
       "<style scoped>\n",
       "    .dataframe tbody tr th:only-of-type {\n",
       "        vertical-align: middle;\n",
       "    }\n",
       "\n",
       "    .dataframe tbody tr th {\n",
       "        vertical-align: top;\n",
       "    }\n",
       "\n",
       "    .dataframe thead th {\n",
       "        text-align: right;\n",
       "    }\n",
       "</style>\n",
       "<table border=\"1\" class=\"dataframe\">\n",
       "  <thead>\n",
       "    <tr style=\"text-align: right;\">\n",
       "      <th></th>\n",
       "      <th>Brand</th>\n",
       "      <th>Model</th>\n",
       "      <th>Gear</th>\n",
       "      <th>KM</th>\n",
       "      <th>Energie</th>\n",
       "      <th>Year</th>\n",
       "      <th>Price</th>\n",
       "      <th>Zip_code</th>\n",
       "      <th>longitude</th>\n",
       "      <th>latitude</th>\n",
       "    </tr>\n",
       "  </thead>\n",
       "  <tbody>\n",
       "    <tr>\n",
       "      <th>9127</th>\n",
       "      <td>PEUGEOT</td>\n",
       "      <td>2008</td>\n",
       "      <td>mécanique</td>\n",
       "      <td>13250</td>\n",
       "      <td>Diesel</td>\n",
       "      <td>2016</td>\n",
       "      <td>24980</td>\n",
       "      <td>31100</td>\n",
       "      <td>1.398690</td>\n",
       "      <td>43.558487</td>\n",
       "    </tr>\n",
       "    <tr>\n",
       "      <th>11419</th>\n",
       "      <td>CITROEN</td>\n",
       "      <td>C4 SPACETOURER</td>\n",
       "      <td>mécanique</td>\n",
       "      <td>29880</td>\n",
       "      <td>Essence</td>\n",
       "      <td>2019</td>\n",
       "      <td>22400</td>\n",
       "      <td>84200</td>\n",
       "      <td>5.052231</td>\n",
       "      <td>44.034068</td>\n",
       "    </tr>\n",
       "    <tr>\n",
       "      <th>5356</th>\n",
       "      <td>TOYOTA</td>\n",
       "      <td>VERSO</td>\n",
       "      <td>automatique</td>\n",
       "      <td>161491</td>\n",
       "      <td>Diesel</td>\n",
       "      <td>2010</td>\n",
       "      <td>11570</td>\n",
       "      <td>54270</td>\n",
       "      <td>6.230482</td>\n",
       "      <td>48.705315</td>\n",
       "    </tr>\n",
       "    <tr>\n",
       "      <th>11552</th>\n",
       "      <td>CITROEN</td>\n",
       "      <td>C5 aircross</td>\n",
       "      <td>Automatique</td>\n",
       "      <td>4305</td>\n",
       "      <td>Diesel</td>\n",
       "      <td>2021</td>\n",
       "      <td>28 990</td>\n",
       "      <td>73000</td>\n",
       "      <td>5.923700</td>\n",
       "      <td>45.621600</td>\n",
       "    </tr>\n",
       "    <tr>\n",
       "      <th>16145</th>\n",
       "      <td>RENAULT</td>\n",
       "      <td>Megane</td>\n",
       "      <td>Manuelle</td>\n",
       "      <td>18083</td>\n",
       "      <td>Diesel</td>\n",
       "      <td>2020</td>\n",
       "      <td>16 790</td>\n",
       "      <td>13700</td>\n",
       "      <td>5.223900</td>\n",
       "      <td>43.416000</td>\n",
       "    </tr>\n",
       "  </tbody>\n",
       "</table>\n",
       "</div>"
      ],
      "text/plain": [
       "         Brand           Model         Gear      KM  Energie  Year   Price  \\\n",
       "9127   PEUGEOT            2008    mécanique   13250   Diesel  2016   24980   \n",
       "11419  CITROEN  C4 SPACETOURER    mécanique   29880  Essence  2019   22400   \n",
       "5356    TOYOTA           VERSO  automatique  161491   Diesel  2010   11570   \n",
       "11552  CITROEN     C5 aircross  Automatique    4305   Diesel  2021  28 990   \n",
       "16145  RENAULT          Megane     Manuelle   18083   Diesel  2020  16 790   \n",
       "\n",
       "       Zip_code  longitude   latitude  \n",
       "9127      31100   1.398690  43.558487  \n",
       "11419     84200   5.052231  44.034068  \n",
       "5356      54270   6.230482  48.705315  \n",
       "11552     73000   5.923700  45.621600  \n",
       "16145     13700   5.223900  43.416000  "
      ]
     },
     "execution_count": 17,
     "metadata": {},
     "output_type": "execute_result"
    }
   ],
   "source": [
    "df_conso = pd.concat(frames,ignore_index=True)\n",
    "df_conso.sample(5)"
   ]
  },
  {
   "cell_type": "code",
   "execution_count": null,
   "metadata": {},
   "outputs": [],
   "source": []
  },
  {
   "cell_type": "code",
   "execution_count": 16,
   "metadata": {},
   "outputs": [],
   "source": [
    "df_conso.to_csv('LaCentrale+autosphere.csv',encoding='utf-8-sig',index=False)"
   ]
  },
  {
   "cell_type": "code",
   "execution_count": null,
   "metadata": {},
   "outputs": [],
   "source": []
  },
  {
   "cell_type": "markdown",
   "metadata": {},
   "source": [
    "# JOINING THE 2 DATASETS"
   ]
  },
  {
   "cell_type": "code",
   "execution_count": 17,
   "metadata": {},
   "outputs": [],
   "source": [
    "dfa = pd.read_csv('LaCentrale+autosphere.csv')"
   ]
  },
  {
   "cell_type": "code",
   "execution_count": null,
   "metadata": {},
   "outputs": [],
   "source": []
  },
  {
   "cell_type": "markdown",
   "metadata": {},
   "source": [
    "# CLEANING & FILTERING OF THE DATASET"
   ]
  },
  {
   "cell_type": "code",
   "execution_count": 19,
   "metadata": {},
   "outputs": [
    {
     "name": "stdout",
     "output_type": "stream",
     "text": [
      "<class 'pandas.core.frame.DataFrame'>\n",
      "RangeIndex: 18795 entries, 0 to 18794\n",
      "Data columns (total 10 columns):\n",
      " #   Column     Non-Null Count  Dtype  \n",
      "---  ------     --------------  -----  \n",
      " 0   Brand      18795 non-null  object \n",
      " 1   Model      18795 non-null  object \n",
      " 2   Gear       18773 non-null  object \n",
      " 3   KM         18795 non-null  int64  \n",
      " 4   Energie    18792 non-null  object \n",
      " 5   Year       18795 non-null  int64  \n",
      " 6   Price      18795 non-null  object \n",
      " 7   Zip_code   18795 non-null  int64  \n",
      " 8   longitude  18574 non-null  float64\n",
      " 9   latitude   18574 non-null  float64\n",
      "dtypes: float64(2), int64(3), object(5)\n",
      "memory usage: 1.4+ MB\n"
     ]
    }
   ],
   "source": [
    "dfa.info()"
   ]
  },
  {
   "cell_type": "code",
   "execution_count": null,
   "metadata": {},
   "outputs": [],
   "source": []
  },
  {
   "cell_type": "code",
   "execution_count": 20,
   "metadata": {},
   "outputs": [
    {
     "name": "stdout",
     "output_type": "stream",
     "text": [
      "Percentage of missing values:(%)\n",
      "--------------------------------\n"
     ]
    },
    {
     "data": {
      "text/plain": [
       "Brand        0.000000\n",
       "Model        0.000000\n",
       "Gear         0.117052\n",
       "KM           0.000000\n",
       "Energie      0.015962\n",
       "Year         0.000000\n",
       "Price        0.000000\n",
       "Zip_code     0.000000\n",
       "longitude    1.175845\n",
       "latitude     1.175845\n",
       "dtype: float64"
      ]
     },
     "metadata": {},
     "output_type": "display_data"
    }
   ],
   "source": [
    "print(\"Percentage of missing values:(%)\")\n",
    "\n",
    "print('--------------------------------')\n",
    "\n",
    "display(100*dfa.isnull().sum()/dfa.shape[0])"
   ]
  },
  {
   "cell_type": "code",
   "execution_count": null,
   "metadata": {},
   "outputs": [],
   "source": []
  },
  {
   "cell_type": "code",
   "execution_count": 21,
   "metadata": {},
   "outputs": [],
   "source": [
    "#remove the space from string type\n",
    "dfa['Price'] = dfa['Price'].str.replace(\" \",\"\")\n",
    "\n",
    "#Change column \"Price\" to float\n",
    "dfa['Price'] = dfa['Price'].astype('float')"
   ]
  },
  {
   "cell_type": "code",
   "execution_count": null,
   "metadata": {},
   "outputs": [],
   "source": []
  },
  {
   "cell_type": "code",
   "execution_count": 23,
   "metadata": {},
   "outputs": [
    {
     "name": "stdout",
     "output_type": "stream",
     "text": [
      "Dataset cleaning:(%)\n",
      "--------------------------------\n",
      "We have removed 0 rows from the initial dataset\n",
      "It represents the equivalent of 0 % of the initial dataset\n"
     ]
    }
   ],
   "source": [
    "print(\"Dataset cleaning:(%)\")\n",
    "\n",
    "print('--------------------------------')\n",
    "\n",
    "print('We have removed {} rows from the initial dataset'.format(-(dfa.shape[0]-df_conso.shape[0])))\n",
    "print('It represents the equivalent of {} % of the initial dataset'.format(round(-(dfa.shape[0]-df_conso.shape[0])/df_conso.shape[0])*100,4))"
   ]
  },
  {
   "cell_type": "code",
   "execution_count": null,
   "metadata": {},
   "outputs": [],
   "source": []
  },
  {
   "cell_type": "markdown",
   "metadata": {},
   "source": [
    "## BRAND CLEANING"
   ]
  },
  {
   "cell_type": "code",
   "execution_count": null,
   "metadata": {},
   "outputs": [],
   "source": [
    "dfa.groupby('Brand')['KM'].count()"
   ]
  },
  {
   "cell_type": "code",
   "execution_count": null,
   "metadata": {},
   "outputs": [],
   "source": [
    "#Filter per brand\n",
    "mask2 = dfa['Brand'].isin(['RENAULT','PEUGEOT','CITROEN','TOYOTA','VOLKSWAGEN'])\n",
    "dfa = dfa.loc[mask2,:]"
   ]
  },
  {
   "cell_type": "code",
   "execution_count": null,
   "metadata": {},
   "outputs": [],
   "source": [
    "dfa.groupby('Brand')['Model'].count()"
   ]
  },
  {
   "cell_type": "code",
   "execution_count": null,
   "metadata": {},
   "outputs": [],
   "source": [
    "100*dfa.Brand.value_counts()/dfa['Model'].count()"
   ]
  },
  {
   "cell_type": "code",
   "execution_count": 28,
   "metadata": {},
   "outputs": [
    {
     "name": "stdout",
     "output_type": "stream",
     "text": [
      "Dataset cleaning:(%)\n",
      "--------------------------------\n",
      "We have removed 55 rows from the initial dataset\n",
      "It represents the equivalent of 0.29 % of the initial dataset\n"
     ]
    }
   ],
   "source": [
    "print(\"Dataset cleaning:(%)\")\n",
    "\n",
    "print('--------------------------------')\n",
    "\n",
    "print('We have removed {} rows from the initial dataset'.format(-(dfa.shape[0]-df_conso.shape[0])))\n",
    "print('It represents the equivalent of {} % of the initial dataset'.format(round(-(dfa.shape[0]-df_conso.shape[0])/df_conso.shape[0],4)*100))"
   ]
  },
  {
   "cell_type": "code",
   "execution_count": null,
   "metadata": {},
   "outputs": [],
   "source": []
  },
  {
   "cell_type": "markdown",
   "metadata": {},
   "source": [
    "## MODEL CLEANING"
   ]
  },
  {
   "cell_type": "code",
   "execution_count": 29,
   "metadata": {},
   "outputs": [],
   "source": [
    "# Transform the column Model with Uppercase\n",
    "dfa['Model'] = dfa['Model'].str.upper()\n",
    "\n",
    "# Transform the column Gear with Uppercase\n",
    "dfa['Gear'] = dfa['Gear'].str.upper()\n",
    "\n",
    "# Transform the column Energie with Uppercase\n",
    "dfa['Energie'] = dfa['Energie'].str.upper()\n",
    "\n",
    "#Correcting one specific model for Toyota\n",
    "dfa['Model'] = dfa['Model'].str.replace(\"RAV 4\",\"RAV4\")"
   ]
  },
  {
   "cell_type": "code",
   "execution_count": null,
   "metadata": {},
   "outputs": [],
   "source": []
  },
  {
   "cell_type": "code",
   "execution_count": 30,
   "metadata": {},
   "outputs": [
    {
     "name": "stdout",
     "output_type": "stream",
     "text": [
      "The brand CITROEN has 26 models.\n",
      "The brand PEUGEOT has 27 models.\n",
      "The brand RENAULT has 29 models.\n",
      "The brand TOYOTA has 30 models.\n",
      "The brand VOLKSWAGEN has 44 models.\n",
      "--------------------------------------------------------------------------------\n",
      " \n",
      "We are going to reduce the number of models to stick with the 5 most relevant ones.\n"
     ]
    }
   ],
   "source": [
    "#Statistics on brand's models\n",
    "model_brands = dfa.groupby('Brand')['Model'].nunique()\n",
    "for i in range(len(model_brands)):\n",
    "    print('The brand {} has {} models.'.format(model_brands.index[i],model_brands[i]))\n",
    "print('--------------------------------------------------------------------------------')\n",
    "print(' ')\n",
    "print('We are going to reduce the number of models to stick with the 5 most relevant ones.')"
   ]
  },
  {
   "cell_type": "code",
   "execution_count": null,
   "metadata": {},
   "outputs": [],
   "source": []
  },
  {
   "cell_type": "code",
   "execution_count": 31,
   "metadata": {},
   "outputs": [],
   "source": [
    "#Filter most relevant models\n",
    "mask3 = dfa['Model'].isin(['C3','C4','C4 CACTUS','C5 AIRCROSS','BERLINGO',\n",
    "                           '208','308','2008','3008','108',\n",
    "                           'CLIO','CAPTUR','MEGANE','MEGANE COUPE','TWINGO','ZOE',\n",
    "                           'YARIS','C-HR','AYGO','COROLLA','RAV4',\n",
    "                           'GOLF','POLO','T-ROC','TIGUAN','UP!'])\n",
    "dfa = dfa.loc[mask3,:]"
   ]
  },
  {
   "cell_type": "code",
   "execution_count": null,
   "metadata": {},
   "outputs": [],
   "source": []
  },
  {
   "cell_type": "code",
   "execution_count": 32,
   "metadata": {},
   "outputs": [
    {
     "name": "stdout",
     "output_type": "stream",
     "text": [
      "The brand CITROEN now has 5 models.\n",
      "The brand PEUGEOT now has 5 models.\n",
      "The brand RENAULT now has 6 models.\n",
      "The brand TOYOTA now has 5 models.\n",
      "The brand VOLKSWAGEN now has 5 models.\n"
     ]
    }
   ],
   "source": [
    "model_brands = dfa.groupby('Brand')['Model'].nunique()\n",
    "for i in range(len(model_brands)):\n",
    "    print('The brand {} now has {} models.'.format(model_brands.index[i],model_brands[i]))"
   ]
  },
  {
   "cell_type": "code",
   "execution_count": null,
   "metadata": {},
   "outputs": [],
   "source": []
  },
  {
   "cell_type": "code",
   "execution_count": 33,
   "metadata": {},
   "outputs": [
    {
     "name": "stdout",
     "output_type": "stream",
     "text": [
      "Dataset cleaning:(%)\n",
      "--------------------------------\n",
      "We have removed 4587 rows from the initial dataset\n",
      "It represents the equivalent of 24.41 % of the initial dataset\n"
     ]
    }
   ],
   "source": [
    "print(\"Dataset cleaning:(%)\")\n",
    "\n",
    "print('--------------------------------')\n",
    "\n",
    "print('We have removed {} rows from the initial dataset'.format(-(dfa.shape[0]-df_conso.shape[0])))\n",
    "print('It represents the equivalent of {} % of the initial dataset'.format(round(-(dfa.shape[0]-df_conso.shape[0])/df_conso.shape[0],4)*100))"
   ]
  },
  {
   "cell_type": "code",
   "execution_count": null,
   "metadata": {},
   "outputs": [],
   "source": []
  },
  {
   "cell_type": "markdown",
   "metadata": {},
   "source": [
    "## GEAR CLEANING"
   ]
  },
  {
   "cell_type": "code",
   "execution_count": null,
   "metadata": {},
   "outputs": [],
   "source": [
    "dfa.groupby(['Brand','Gear'],observed=True)['KM'].nunique()"
   ]
  },
  {
   "cell_type": "code",
   "execution_count": 35,
   "metadata": {},
   "outputs": [],
   "source": [
    "#Remove rows with '/'\n",
    "mask4 = dfa['Gear'] != '/'\n",
    "dfa = dfa.loc[mask4,:]\n",
    "\n",
    "#Clean the column 'Gear'\n",
    "dfa['Gear'] = dfa['Gear'].str.replace(\"MÉCANIQUE\",\"MANUELLE\")\n",
    "\n",
    "#Removed all the rows with 'NaN'\n",
    "dfa['Gear'] = dfa['Gear'].dropna()"
   ]
  },
  {
   "cell_type": "code",
   "execution_count": null,
   "metadata": {},
   "outputs": [],
   "source": [
    "dfa.groupby('Gear')['KM'].nunique()"
   ]
  },
  {
   "cell_type": "code",
   "execution_count": null,
   "metadata": {},
   "outputs": [],
   "source": [
    "dfa.groupby(['Brand','Gear'],observed=True)['KM'].nunique()"
   ]
  },
  {
   "cell_type": "code",
   "execution_count": 38,
   "metadata": {},
   "outputs": [],
   "source": [
    "#Creating a new column which classify 'new' and 'used' cars\n",
    "dfa['Category'] = dfa['KM'].apply(lambda x: 'New' if x <= 100 \n",
    "                                                else 'Second-Hand' if x > 100 \n",
    "                                                else  x\n",
    "                                                )\n",
    "#Move column 'Category'\n",
    "columns = list(dfa)\n",
    "mov_col = dfa.pop('Category')\n",
    "dfa.insert(4, 'Category', mov_col)"
   ]
  },
  {
   "cell_type": "code",
   "execution_count": 39,
   "metadata": {},
   "outputs": [
    {
     "name": "stdout",
     "output_type": "stream",
     "text": [
      "Dataset cleaning:(%)\n",
      "--------------------------------\n",
      "We have removed 4597 rows from the initial dataset\n",
      "It represents the equivalent of 24.46 % of the initial dataset\n"
     ]
    }
   ],
   "source": [
    "print(\"Dataset cleaning:(%)\")\n",
    "\n",
    "print('--------------------------------')\n",
    "\n",
    "print('We have removed {} rows from the initial dataset'.format(-(dfa.shape[0]-df_conso.shape[0])))\n",
    "print('It represents the equivalent of {} % of the initial dataset'.format(round(-(dfa.shape[0]-df_conso.shape[0])/df_conso.shape[0],4)*100))"
   ]
  },
  {
   "cell_type": "code",
   "execution_count": null,
   "metadata": {},
   "outputs": [],
   "source": []
  },
  {
   "cell_type": "markdown",
   "metadata": {},
   "source": [
    "## ENERGIE CLEANING"
   ]
  },
  {
   "cell_type": "code",
   "execution_count": null,
   "metadata": {},
   "outputs": [],
   "source": [
    "dfa.groupby('Energie')['KM'].nunique()"
   ]
  },
  {
   "cell_type": "code",
   "execution_count": null,
   "metadata": {},
   "outputs": [],
   "source": []
  },
  {
   "cell_type": "code",
   "execution_count": null,
   "metadata": {},
   "outputs": [],
   "source": [
    "#Merging to a specific gear type for Toyota\n",
    "dfa['Energie'] = dfa['Energie'].str.replace(\"HYBRIDE DIESEL ÉLECTRIQUE\",\"HYBRIDE\")\n",
    "dfa['Energie'] = dfa['Energie'].str.replace(\"HYBRIDE ESSENCE ÉLECTRIQUE\",\"HYBRIDE\")\n",
    "dfa['Energie'] = dfa['Energie'].str.replace(\"HYBRIDE R\",\"HYBRIDE\")\n",
    "\n",
    "#Dropping the rows with 'GNV' and 'GPL'\n",
    "mask5 = dfa['Energie'].isin(['DIESEL','ELECTRIQUE','ESSENCE','HYBRIDE'])\n",
    "dfa = dfa.loc[mask5,:]"
   ]
  },
  {
   "cell_type": "code",
   "execution_count": null,
   "metadata": {},
   "outputs": [],
   "source": [
    "dfa.groupby('Energie')['KM'].nunique()"
   ]
  },
  {
   "cell_type": "code",
   "execution_count": null,
   "metadata": {},
   "outputs": [],
   "source": []
  },
  {
   "cell_type": "code",
   "execution_count": 43,
   "metadata": {},
   "outputs": [
    {
     "name": "stdout",
     "output_type": "stream",
     "text": [
      "Dataset cleaning:(%)\n",
      "--------------------------------\n",
      "We have removed 4610 rows from the initial dataset\n",
      "It represents the equivalent of 24.529999999999998 % of the initial dataset\n"
     ]
    }
   ],
   "source": [
    "print(\"Dataset cleaning:(%)\")\n",
    "\n",
    "print('--------------------------------')\n",
    "\n",
    "print('We have removed {} rows from the initial dataset'.format(-(dfa.shape[0]-df_conso.shape[0])))\n",
    "print('It represents the equivalent of {} % of the initial dataset'.format(round(-(dfa.shape[0]-df_conso.shape[0])/df_conso.shape[0],4)*100))"
   ]
  },
  {
   "cell_type": "code",
   "execution_count": null,
   "metadata": {},
   "outputs": [],
   "source": []
  },
  {
   "cell_type": "markdown",
   "metadata": {},
   "source": [
    "## YEAR CLEANING"
   ]
  },
  {
   "cell_type": "code",
   "execution_count": 44,
   "metadata": {},
   "outputs": [],
   "source": [
    "# Change the Date 2022 for 2021, it might have been an error\n",
    "dfa['Year'] = dfa['Year'].apply(lambda x: 2021 if x == 2022 else x)"
   ]
  },
  {
   "cell_type": "code",
   "execution_count": null,
   "metadata": {},
   "outputs": [],
   "source": []
  },
  {
   "cell_type": "code",
   "execution_count": 45,
   "metadata": {},
   "outputs": [
    {
     "name": "stdout",
     "output_type": "stream",
     "text": [
      "Dataset cleaning:(%)\n",
      "--------------------------------\n",
      "We have removed 4610 rows from the initial dataset\n",
      "It represents the equivalent of 0 % of the initial dataset\n"
     ]
    }
   ],
   "source": [
    "print(\"Dataset cleaning:(%)\")\n",
    "\n",
    "print('--------------------------------')\n",
    "\n",
    "print('We have removed {} rows from the initial dataset'.format(-(dfa.shape[0]-df_conso.shape[0])))\n",
    "print('It represents the equivalent of {} % of the initial dataset'.format(round(-(dfa.shape[0]-df_conso.shape[0])/df_conso.shape[0])*100,4))"
   ]
  },
  {
   "cell_type": "code",
   "execution_count": null,
   "metadata": {},
   "outputs": [],
   "source": []
  },
  {
   "cell_type": "markdown",
   "metadata": {},
   "source": [
    "## ZIPCODE CLEANING"
   ]
  },
  {
   "cell_type": "markdown",
   "metadata": {},
   "source": [
    "No cleanin required on this feature"
   ]
  },
  {
   "cell_type": "code",
   "execution_count": null,
   "metadata": {},
   "outputs": [],
   "source": []
  },
  {
   "cell_type": "markdown",
   "metadata": {},
   "source": [
    "## LONGITUDE & LATITUDE CLEANING"
   ]
  },
  {
   "cell_type": "code",
   "execution_count": 46,
   "metadata": {},
   "outputs": [],
   "source": [
    "#Removed all the rows with 'NaN'\n",
    "dfa['longitude'] = dfa['longitude'].dropna()\n",
    "dfa['latitude'] = dfa['latitude'].dropna()"
   ]
  },
  {
   "cell_type": "code",
   "execution_count": 48,
   "metadata": {},
   "outputs": [
    {
     "name": "stdout",
     "output_type": "stream",
     "text": [
      "Dataset cleaning:(%)\n",
      "--------------------------------\n",
      "We have removed 4610 rows from the initial dataset\n",
      "It represents the equivalent of 0 % of the initial dataset\n"
     ]
    }
   ],
   "source": [
    "print(\"Dataset cleaning:(%)\")\n",
    "\n",
    "print('--------------------------------')\n",
    "\n",
    "print('We have removed {} rows from the initial dataset'.format(-(dfa.shape[0]-df_conso.shape[0])))\n",
    "print('It represents the equivalent of {} % of the initial dataset'.format(round(-(dfa.shape[0]-df_conso.shape[0])/df_conso.shape[0])*100,4))"
   ]
  },
  {
   "cell_type": "code",
   "execution_count": null,
   "metadata": {},
   "outputs": [],
   "source": []
  },
  {
   "cell_type": "markdown",
   "metadata": {},
   "source": [
    "## CLEAN ALL THE REMAINING ROWS WITH 'Non value'"
   ]
  },
  {
   "cell_type": "code",
   "execution_count": 49,
   "metadata": {},
   "outputs": [
    {
     "data": {
      "text/plain": [
       "(13978, 11)"
      ]
     },
     "execution_count": 49,
     "metadata": {},
     "output_type": "execute_result"
    }
   ],
   "source": [
    "dfa = dfa.dropna()\n",
    "dfa.shape"
   ]
  },
  {
   "cell_type": "code",
   "execution_count": 50,
   "metadata": {},
   "outputs": [
    {
     "name": "stdout",
     "output_type": "stream",
     "text": [
      "Dataset cleaning:(%)\n",
      "--------------------------------\n",
      "We have removed 4817 rows from the initial dataset\n",
      "It represents the equivalent of 25.629999999999995 % of the initial dataset\n"
     ]
    }
   ],
   "source": [
    "print(\"Dataset cleaning:(%)\")\n",
    "\n",
    "print('--------------------------------')\n",
    "\n",
    "print('We have removed {} rows from the initial dataset'.format(-(dfa.shape[0]-df_conso.shape[0])))\n",
    "print('It represents the equivalent of {} % of the initial dataset'.format(round(-(dfa.shape[0]-df_conso.shape[0])/df_conso.shape[0],4)*100))"
   ]
  },
  {
   "cell_type": "code",
   "execution_count": null,
   "metadata": {},
   "outputs": [],
   "source": []
  },
  {
   "cell_type": "markdown",
   "metadata": {},
   "source": [
    "## CLEAN DUPLICATED VALUES"
   ]
  },
  {
   "cell_type": "code",
   "execution_count": 51,
   "metadata": {},
   "outputs": [
    {
     "data": {
      "text/plain": [
       "(12309, 11)"
      ]
     },
     "execution_count": 51,
     "metadata": {},
     "output_type": "execute_result"
    }
   ],
   "source": [
    "dfa = dfa.drop_duplicates(subset=['Brand','Model','Gear','KM','Category','Energie','Year','Price','Zip_code'], keep='first')\n",
    "dfa.shape"
   ]
  },
  {
   "cell_type": "code",
   "execution_count": 52,
   "metadata": {},
   "outputs": [
    {
     "name": "stdout",
     "output_type": "stream",
     "text": [
      "Dataset cleaning:(%)\n",
      "--------------------------------\n",
      "We have removed 6486 rows from the initial dataset\n",
      "It represents the equivalent of 34.510000000000005 % of the initial dataset\n"
     ]
    }
   ],
   "source": [
    "print(\"Dataset cleaning:(%)\")\n",
    "\n",
    "print('--------------------------------')\n",
    "\n",
    "print('We have removed {} rows from the initial dataset'.format(-(dfa.shape[0]-df_conso.shape[0])))\n",
    "print('It represents the equivalent of {} % of the initial dataset'.format(round(-(dfa.shape[0]-df_conso.shape[0])/df_conso.shape[0],4)*100))"
   ]
  },
  {
   "cell_type": "code",
   "execution_count": null,
   "metadata": {},
   "outputs": [],
   "source": []
  },
  {
   "cell_type": "code",
   "execution_count": null,
   "metadata": {},
   "outputs": [],
   "source": [
    "dfa.groupby(['Year'],observed=True)['KM'].nunique()"
   ]
  },
  {
   "cell_type": "code",
   "execution_count": null,
   "metadata": {},
   "outputs": [],
   "source": [
    "dfa.isnull().sum()"
   ]
  },
  {
   "cell_type": "code",
   "execution_count": null,
   "metadata": {},
   "outputs": [],
   "source": [
    "dfa.info()"
   ]
  },
  {
   "cell_type": "code",
   "execution_count": null,
   "metadata": {},
   "outputs": [],
   "source": [
    "dfa.describe(include='all')"
   ]
  },
  {
   "cell_type": "code",
   "execution_count": null,
   "metadata": {},
   "outputs": [],
   "source": []
  },
  {
   "cell_type": "markdown",
   "metadata": {},
   "source": [
    "# INPUTING STATE & REGION"
   ]
  },
  {
   "cell_type": "code",
   "execution_count": 57,
   "metadata": {},
   "outputs": [],
   "source": [
    "!pip install pgeocode -q"
   ]
  },
  {
   "cell_type": "code",
   "execution_count": 58,
   "metadata": {},
   "outputs": [],
   "source": [
    "import pgeocode"
   ]
  },
  {
   "cell_type": "code",
   "execution_count": 59,
   "metadata": {},
   "outputs": [],
   "source": [
    "city = []\n",
    "state = []\n",
    "region = []\n",
    "\n",
    "for x in dfa['Zip_code']:\n",
    "    #print(‘PROCESSING _____ ‘, x , ’ _____‘)\n",
    "    \n",
    "    zipcountry  =  pgeocode.Nominatim ('fr')\n",
    "    zip_details = zipcountry.query_postal_code(x)\n",
    "    \n",
    "    city.append(zip_details['place_name'])\n",
    "    state.append(zip_details['state_name'])\n",
    "    region.append(zip_details['county_name'])\n",
    "    \n",
    "    \n",
    "dfa['City'] = city\n",
    "dfa['State'] = state\n",
    "dfa['Region'] = region\n"
   ]
  },
  {
   "cell_type": "code",
   "execution_count": 60,
   "metadata": {},
   "outputs": [],
   "source": [
    "dfa = dfa.dropna()"
   ]
  },
  {
   "cell_type": "code",
   "execution_count": 61,
   "metadata": {},
   "outputs": [
    {
     "name": "stdout",
     "output_type": "stream",
     "text": [
      "Dataset cleaning:(%)\n",
      "--------------------------------\n",
      "We have removed 7217 rows from the initial dataset\n",
      "It represents the equivalent of 38.4 % of the initial dataset\n"
     ]
    }
   ],
   "source": [
    "print(\"Dataset cleaning:(%)\")\n",
    "\n",
    "print('--------------------------------')\n",
    "\n",
    "print('We have removed {} rows from the initial dataset'.format(-(dfa.shape[0]-df_conso.shape[0])))\n",
    "print('It represents the equivalent of {} % of the initial dataset'.format(round(-(dfa.shape[0]-df_conso.shape[0])/df_conso.shape[0],4)*100))"
   ]
  },
  {
   "cell_type": "code",
   "execution_count": 62,
   "metadata": {},
   "outputs": [],
   "source": [
    "# Transform the column City with Uppercase\n",
    "dfa['City'] = dfa['City'].str.upper()\n",
    "\n",
    "# Transform the column State with Uppercase\n",
    "dfa['State'] = dfa['State'].str.upper()\n",
    "\n",
    "# Transform the column Region with Uppercase\n",
    "dfa['Region'] = dfa['Region'].str.upper()"
   ]
  },
  {
   "cell_type": "code",
   "execution_count": null,
   "metadata": {},
   "outputs": [],
   "source": []
  },
  {
   "cell_type": "code",
   "execution_count": null,
   "metadata": {},
   "outputs": [],
   "source": [
    "#Cleaning index\n",
    "dfa = dfa.reset_index()\n",
    "dfa = dfa.drop(columns=['index',],axis=1)"
   ]
  },
  {
   "cell_type": "code",
   "execution_count": 64,
   "metadata": {},
   "outputs": [],
   "source": [
    "#Creating csv from 2 scraping after cleaning\n",
    "dfa.to_csv('LaCentrale+autosphere+GPS.csv')"
   ]
  },
  {
   "cell_type": "code",
   "execution_count": null,
   "metadata": {},
   "outputs": [],
   "source": []
  },
  {
   "cell_type": "markdown",
   "metadata": {},
   "source": [
    "# OPEN FINAL DATASET"
   ]
  },
  {
   "cell_type": "code",
   "execution_count": 18,
   "metadata": {},
   "outputs": [],
   "source": [
    "!pip install plotly==4.9.0 -q #import Plotly"
   ]
  },
  {
   "cell_type": "code",
   "execution_count": 19,
   "metadata": {},
   "outputs": [],
   "source": [
    "import pandas as pd\n",
    "\n",
    "import matplotlib.pyplot as plt\n",
    "import plotly.io as pio\n",
    "pio.renderers.default = \"iframe_connected\"\n",
    "import plotly.express as px\n"
   ]
  },
  {
   "cell_type": "code",
   "execution_count": 20,
   "metadata": {},
   "outputs": [],
   "source": [
    "df_conso = pd.read_csv('LaCentrale+autosphere.csv')\n",
    "df_final = pd.read_csv('LaCentrale+autosphere+GPS.csv')\n",
    "df_final = df_final.drop(columns=['Unnamed: 0',],axis=1)"
   ]
  },
  {
   "cell_type": "code",
   "execution_count": 21,
   "metadata": {},
   "outputs": [],
   "source": [
    "brand_nbr = df_final.groupby('Brand')['Model'].count()"
   ]
  },
  {
   "cell_type": "code",
   "execution_count": 22,
   "metadata": {},
   "outputs": [
    {
     "data": {
      "image/png": "[encoded data removed]",
      "text/plain": [
       "<Figure size 864x360 with 1 Axes>"
      ]
     },
     "metadata": {},
     "output_type": "display_data"
    }
   ],
   "source": [
    "\n",
    "plt.figure(figsize = (12,5))\n",
    "plt.pie(\n",
    "    brand_nbr, \n",
    "    autopct = '%1.1f%%',\n",
    "    shadow = True, \n",
    "    startangle = 90,\n",
    "    explode = (0.05, 0.1, 0.1,0.05,0.05),\n",
    "    radius = 1.5 \n",
    "       )\n",
    "\n",
    "plt.legend(brand_nbr.index, bbox_to_anchor=(1.2, 0.90));"
   ]
  },
  {
   "cell_type": "code",
   "execution_count": null,
   "metadata": {},
   "outputs": [],
   "source": []
  },
  {
   "cell_type": "code",
   "execution_count": 23,
   "metadata": {},
   "outputs": [],
   "source": [
    "energie_weight = df_final.groupby('Energie')['KM'].nunique()"
   ]
  },
  {
   "cell_type": "code",
   "execution_count": 24,
   "metadata": {},
   "outputs": [
    {
     "data": {
      "image/png": "[encoded data removed]",
      "text/plain": [
       "<Figure size 864x360 with 1 Axes>"
      ]
     },
     "metadata": {},
     "output_type": "display_data"
    }
   ],
   "source": [
    "plt.figure(figsize = (12,5))\n",
    "plt.pie(\n",
    "    energie_weight, \n",
    "    autopct = '%1.1f%%',\n",
    "    shadow = True, \n",
    "    startangle = 90,\n",
    "    explode = (0.1, 0.01, 0.1,0.01),\n",
    "    radius = 1.5 \n",
    "       )\n",
    "\n",
    "plt.legend(energie_weight.index, bbox_to_anchor=(1.2, 0.90));"
   ]
  },
  {
   "cell_type": "code",
   "execution_count": null,
   "metadata": {},
   "outputs": [],
   "source": []
  },
  {
   "cell_type": "markdown",
   "metadata": {},
   "source": [
    "# CLIENT SELECTOR"
   ]
  },
  {
   "cell_type": "code",
   "execution_count": 25,
   "metadata": {},
   "outputs": [],
   "source": [
    "data = df_final"
   ]
  },
  {
   "cell_type": "code",
   "execution_count": 26,
   "metadata": {},
   "outputs": [],
   "source": [
    "Brand = 'TOYOTA'\n",
    "Model = 'YARIS'\n",
    "Gear = 'AUTOMATIQUE'\n",
    "KrM = 50000\n",
    "Energie = 'HYBRIDE'\n",
    "Year = 2019\n",
    "Price = 30000\n",
    "State = 'AUVERGNE-RHÔNE-ALPES'"
   ]
  },
  {
   "cell_type": "code",
   "execution_count": null,
   "metadata": {},
   "outputs": [],
   "source": []
  },
  {
   "cell_type": "code",
   "execution_count": 27,
   "metadata": {},
   "outputs": [
    {
     "data": {
      "text/html": [
       "<div>\n",
       "<style scoped>\n",
       "    .dataframe tbody tr th:only-of-type {\n",
       "        vertical-align: middle;\n",
       "    }\n",
       "\n",
       "    .dataframe tbody tr th {\n",
       "        vertical-align: top;\n",
       "    }\n",
       "\n",
       "    .dataframe thead th {\n",
       "        text-align: right;\n",
       "    }\n",
       "</style>\n",
       "<table border=\"1\" class=\"dataframe\">\n",
       "  <thead>\n",
       "    <tr style=\"text-align: right;\">\n",
       "      <th></th>\n",
       "      <th>Brand</th>\n",
       "      <th>Model</th>\n",
       "      <th>Gear</th>\n",
       "      <th>KM</th>\n",
       "      <th>Category</th>\n",
       "      <th>Energie</th>\n",
       "      <th>Year</th>\n",
       "      <th>Price</th>\n",
       "      <th>Zip_code</th>\n",
       "      <th>longitude</th>\n",
       "      <th>latitude</th>\n",
       "      <th>City</th>\n",
       "      <th>State</th>\n",
       "      <th>Region</th>\n",
       "    </tr>\n",
       "  </thead>\n",
       "  <tbody>\n",
       "    <tr>\n",
       "      <th>4850</th>\n",
       "      <td>TOYOTA</td>\n",
       "      <td>YARIS</td>\n",
       "      <td>AUTOMATIQUE</td>\n",
       "      <td>18785</td>\n",
       "      <td>Second-Hand</td>\n",
       "      <td>HYBRIDE</td>\n",
       "      <td>2019</td>\n",
       "      <td>16470.0</td>\n",
       "      <td>69200</td>\n",
       "      <td>4.866374</td>\n",
       "      <td>45.717537</td>\n",
       "      <td>VÉNISSIEUX</td>\n",
       "      <td>AUVERGNE-RHÔNE-ALPES</td>\n",
       "      <td>RHÔNE</td>\n",
       "    </tr>\n",
       "    <tr>\n",
       "      <th>6067</th>\n",
       "      <td>TOYOTA</td>\n",
       "      <td>YARIS</td>\n",
       "      <td>AUTOMATIQUE</td>\n",
       "      <td>6840</td>\n",
       "      <td>Second-Hand</td>\n",
       "      <td>HYBRIDE</td>\n",
       "      <td>2021</td>\n",
       "      <td>29580.0</td>\n",
       "      <td>69700</td>\n",
       "      <td>4.764451</td>\n",
       "      <td>45.586888</td>\n",
       "      <td>SAINT-JEAN-DE-TOUSLAS, CHASSAGNY, MONTAGNY, SA...</td>\n",
       "      <td>AUVERGNE-RHÔNE-ALPES</td>\n",
       "      <td>RHÔNE</td>\n",
       "    </tr>\n",
       "    <tr>\n",
       "      <th>4675</th>\n",
       "      <td>TOYOTA</td>\n",
       "      <td>YARIS</td>\n",
       "      <td>AUTOMATIQUE</td>\n",
       "      <td>36608</td>\n",
       "      <td>Second-Hand</td>\n",
       "      <td>HYBRIDE</td>\n",
       "      <td>2019</td>\n",
       "      <td>16920.0</td>\n",
       "      <td>74330</td>\n",
       "      <td>6.081750</td>\n",
       "      <td>45.932294</td>\n",
       "      <td>NONGLARD, SILLINGY, LOVAGNY, EPAGNY METZ-TESSY...</td>\n",
       "      <td>AUVERGNE-RHÔNE-ALPES</td>\n",
       "      <td>HAUTE-SAVOIE</td>\n",
       "    </tr>\n",
       "    <tr>\n",
       "      <th>163</th>\n",
       "      <td>TOYOTA</td>\n",
       "      <td>YARIS</td>\n",
       "      <td>AUTOMATIQUE</td>\n",
       "      <td>12</td>\n",
       "      <td>New</td>\n",
       "      <td>HYBRIDE</td>\n",
       "      <td>2021</td>\n",
       "      <td>25810.0</td>\n",
       "      <td>69960</td>\n",
       "      <td>4.920700</td>\n",
       "      <td>45.668576</td>\n",
       "      <td>CORBAS</td>\n",
       "      <td>AUVERGNE-RHÔNE-ALPES</td>\n",
       "      <td>RHÔNE</td>\n",
       "    </tr>\n",
       "    <tr>\n",
       "      <th>158</th>\n",
       "      <td>TOYOTA</td>\n",
       "      <td>YARIS</td>\n",
       "      <td>AUTOMATIQUE</td>\n",
       "      <td>11</td>\n",
       "      <td>New</td>\n",
       "      <td>HYBRIDE</td>\n",
       "      <td>2021</td>\n",
       "      <td>21610.0</td>\n",
       "      <td>69960</td>\n",
       "      <td>4.920700</td>\n",
       "      <td>45.668576</td>\n",
       "      <td>CORBAS</td>\n",
       "      <td>AUVERGNE-RHÔNE-ALPES</td>\n",
       "      <td>RHÔNE</td>\n",
       "    </tr>\n",
       "  </tbody>\n",
       "</table>\n",
       "</div>"
      ],
      "text/plain": [
       "       Brand  Model         Gear     KM     Category  Energie  Year    Price  \\\n",
       "4850  TOYOTA  YARIS  AUTOMATIQUE  18785  Second-Hand  HYBRIDE  2019  16470.0   \n",
       "6067  TOYOTA  YARIS  AUTOMATIQUE   6840  Second-Hand  HYBRIDE  2021  29580.0   \n",
       "4675  TOYOTA  YARIS  AUTOMATIQUE  36608  Second-Hand  HYBRIDE  2019  16920.0   \n",
       "163   TOYOTA  YARIS  AUTOMATIQUE     12          New  HYBRIDE  2021  25810.0   \n",
       "158   TOYOTA  YARIS  AUTOMATIQUE     11          New  HYBRIDE  2021  21610.0   \n",
       "\n",
       "      Zip_code  longitude   latitude  \\\n",
       "4850     69200   4.866374  45.717537   \n",
       "6067     69700   4.764451  45.586888   \n",
       "4675     74330   6.081750  45.932294   \n",
       "163      69960   4.920700  45.668576   \n",
       "158      69960   4.920700  45.668576   \n",
       "\n",
       "                                                   City                 State  \\\n",
       "4850                                         VÉNISSIEUX  AUVERGNE-RHÔNE-ALPES   \n",
       "6067  SAINT-JEAN-DE-TOUSLAS, CHASSAGNY, MONTAGNY, SA...  AUVERGNE-RHÔNE-ALPES   \n",
       "4675  NONGLARD, SILLINGY, LOVAGNY, EPAGNY METZ-TESSY...  AUVERGNE-RHÔNE-ALPES   \n",
       "163                                              CORBAS  AUVERGNE-RHÔNE-ALPES   \n",
       "158                                              CORBAS  AUVERGNE-RHÔNE-ALPES   \n",
       "\n",
       "            Region  \n",
       "4850         RHÔNE  \n",
       "6067         RHÔNE  \n",
       "4675  HAUTE-SAVOIE  \n",
       "163          RHÔNE  \n",
       "158          RHÔNE  "
      ]
     },
     "execution_count": 27,
     "metadata": {},
     "output_type": "execute_result"
    }
   ],
   "source": [
    "maskall = (data['Brand'] == Brand) &\\\n",
    "            (data['Model'] == Model) &\\\n",
    "            (data['Gear'] == Gear) &\\\n",
    "            (data['KM'] <= KrM) &\\\n",
    "            (data['Energie'] == Energie) &\\\n",
    "            (data['Year'] >= Year) & \\\n",
    "            (data['Price'] <= Price) &\\\n",
    "            (data['State'] == State)\n",
    "\n",
    "data = data.loc[maskall,:]\n",
    "data.sample(5)"
   ]
  },
  {
   "cell_type": "code",
   "execution_count": null,
   "metadata": {},
   "outputs": [],
   "source": []
  },
  {
   "cell_type": "code",
   "execution_count": 28,
   "metadata": {},
   "outputs": [
    {
     "data": {
      "text/html": [
       "<iframe\n",
       "    scrolling=\"no\"\n",
       "    width=\"100%\"\n",
       "    height=\"545px\"\n",
       "    src=\"iframe_figures/figure_110.html\"\n",
       "    frameborder=\"0\"\n",
       "    allowfullscreen\n",
       "></iframe>\n"
      ]
     },
     "metadata": {},
     "output_type": "display_data"
    }
   ],
   "source": [
    "fig = px.scatter_mapbox(data, \n",
    "                        lat=\"latitude\", \n",
    "                        lon=\"longitude\", \n",
    "                        color=\"Category\", \n",
    "                        zoom=7.5, \n",
    "                        mapbox_style=\"carto-positron\",\n",
    "                        hover_name='Brand',\n",
    "                        text='City',\n",
    "                        #size='KM',\n",
    "                        title='Cars recommendation : TEST')\n",
    "fig.show()"
   ]
  },
  {
   "cell_type": "code",
   "execution_count": null,
   "metadata": {},
   "outputs": [],
   "source": []
  },
  {
   "cell_type": "code",
   "execution_count": 29,
   "metadata": {},
   "outputs": [
    {
     "data": {
      "text/plain": [
       "(11578, 14)"
      ]
     },
     "execution_count": 29,
     "metadata": {},
     "output_type": "execute_result"
    }
   ],
   "source": [
    "df_final.shape"
   ]
  },
  {
   "cell_type": "code",
   "execution_count": null,
   "metadata": {},
   "outputs": [],
   "source": [
    "#Car per State\n",
    "df_final.groupby('State')['KM'].count()"
   ]
  },
  {
   "cell_type": "code",
   "execution_count": null,
   "metadata": {},
   "outputs": [],
   "source": [
    "#Car per State (%)\n",
    "df_final.groupby('State')['KM'].count()/df_final.shape[0]"
   ]
  },
  {
   "cell_type": "code",
   "execution_count": null,
   "metadata": {},
   "outputs": [],
   "source": [
    "#Car per Category\n",
    "df_final.groupby('Category')['KM'].count()"
   ]
  },
  {
   "cell_type": "code",
   "execution_count": null,
   "metadata": {},
   "outputs": [],
   "source": [
    "#Car per Category (%)\n",
    "df_final.groupby('Category')['KM'].count()/df_final.shape[0]"
   ]
  },
  {
   "cell_type": "code",
   "execution_count": null,
   "metadata": {},
   "outputs": [],
   "source": []
  },
  {
   "cell_type": "markdown",
   "metadata": {},
   "source": [
    "# VISUALIZATIONS"
   ]
  },
  {
   "cell_type": "code",
   "execution_count": 83,
   "metadata": {},
   "outputs": [
    {
     "data": {
      "text/html": [
       "<iframe\n",
       "    scrolling=\"no\"\n",
       "    width=\"100%\"\n",
       "    height=\"545px\"\n",
       "    src=\"iframe_figures/figure_83.html\"\n",
       "    frameborder=\"0\"\n",
       "    allowfullscreen\n",
       "></iframe>\n"
      ]
     },
     "metadata": {},
     "output_type": "display_data"
    }
   ],
   "source": [
    "fig = px.scatter_mapbox(df_final, \n",
    "                        lat=\"latitude\", \n",
    "                        lon=\"longitude\", \n",
    "                        color=\"Category\", \n",
    "                        zoom=4.2, \n",
    "                        mapbox_style=\"carto-positron\",\n",
    "                        hover_name='Brand',\n",
    "                        text='City',\n",
    "                        #size='KM',\n",
    "                        title='Cars recommendation in France per category')\n",
    "fig.show()"
   ]
  },
  {
   "cell_type": "code",
   "execution_count": null,
   "metadata": {},
   "outputs": [],
   "source": []
  },
  {
   "cell_type": "code",
   "execution_count": 84,
   "metadata": {},
   "outputs": [
    {
     "data": {
      "text/html": [
       "<iframe\n",
       "    scrolling=\"no\"\n",
       "    width=\"100%\"\n",
       "    height=\"545px\"\n",
       "    src=\"iframe_figures/figure_84.html\"\n",
       "    frameborder=\"0\"\n",
       "    allowfullscreen\n",
       "></iframe>\n"
      ]
     },
     "metadata": {},
     "output_type": "display_data"
    }
   ],
   "source": [
    "fig = px.scatter_mapbox(df_final, \n",
    "                        lat=\"latitude\", \n",
    "                        lon=\"longitude\", \n",
    "                        color=\"Energie\", \n",
    "                        zoom=4.2, \n",
    "                        mapbox_style=\"carto-positron\",\n",
    "                        hover_name='Brand',\n",
    "                        text='City',\n",
    "                        #size='KM',\n",
    "                        title='Cars recommendation in France per energy')\n",
    "fig.show()"
   ]
  },
  {
   "cell_type": "code",
   "execution_count": null,
   "metadata": {},
   "outputs": [],
   "source": []
  },
  {
   "cell_type": "code",
   "execution_count": 85,
   "metadata": {},
   "outputs": [
    {
     "data": {
      "text/html": [
       "<iframe\n",
       "    scrolling=\"no\"\n",
       "    width=\"100%\"\n",
       "    height=\"545px\"\n",
       "    src=\"iframe_figures/figure_85.html\"\n",
       "    frameborder=\"0\"\n",
       "    allowfullscreen\n",
       "></iframe>\n"
      ]
     },
     "metadata": {},
     "output_type": "display_data"
    }
   ],
   "source": [
    "fig = px.scatter_mapbox(df_final, \n",
    "                        lat=\"latitude\", \n",
    "                        lon=\"longitude\", \n",
    "                        color=\"Brand\", \n",
    "                        zoom=4.2, \n",
    "                        mapbox_style=\"carto-positron\",\n",
    "                        hover_name='Brand',\n",
    "                        text='City',\n",
    "                        #size='KM',\n",
    "                        title='Cars recommendation in France per brand')\n",
    "fig.show()"
   ]
  },
  {
   "cell_type": "code",
   "execution_count": null,
   "metadata": {},
   "outputs": [],
   "source": []
  },
  {
   "cell_type": "markdown",
   "metadata": {},
   "source": [
    "# CLIENT SELECTION & FILTERS"
   ]
  },
  {
   "cell_type": "code",
   "execution_count": null,
   "metadata": {},
   "outputs": [],
   "source": []
  },
  {
   "cell_type": "code",
   "execution_count": 86,
   "metadata": {},
   "outputs": [
    {
     "name": "stdout",
     "output_type": "stream",
     "text": [
      "The final dataset has 11578 rows and 14 columns.\n",
      "We have cleaned 7217 rows (38.4%) and add 4 columns.\n"
     ]
    }
   ],
   "source": [
    "print('The final dataset has {} rows and {} columns.'.format(df_final.shape[0],df_final.shape[1]))\n",
    "print('We have cleaned {} rows ({}%) and add {} columns.'.format(-(df_final.shape[0]-df_conso.shape[0]),round(-(df_final.shape[0]-df_conso.shape[0])/df_conso.shape[0]*100,2),df_final.shape[1]-df_conso.shape[1]))"
   ]
  },
  {
   "cell_type": "code",
   "execution_count": 87,
   "metadata": {},
   "outputs": [
    {
     "data": {
      "text/plain": [
       "(11578, 14)"
      ]
     },
     "execution_count": 87,
     "metadata": {},
     "output_type": "execute_result"
    }
   ],
   "source": [
    "df_final.shape"
   ]
  },
  {
   "cell_type": "code",
   "execution_count": null,
   "metadata": {},
   "outputs": [],
   "source": []
  },
  {
   "cell_type": "markdown",
   "metadata": {},
   "source": [
    "## A) SCORING"
   ]
  },
  {
   "cell_type": "code",
   "execution_count": 88,
   "metadata": {},
   "outputs": [
    {
     "data": {
      "text/html": [
       "<div>\n",
       "<style scoped>\n",
       "    .dataframe tbody tr th:only-of-type {\n",
       "        vertical-align: middle;\n",
       "    }\n",
       "\n",
       "    .dataframe tbody tr th {\n",
       "        vertical-align: top;\n",
       "    }\n",
       "\n",
       "    .dataframe thead th {\n",
       "        text-align: right;\n",
       "    }\n",
       "</style>\n",
       "<table border=\"1\" class=\"dataframe\">\n",
       "  <thead>\n",
       "    <tr style=\"text-align: right;\">\n",
       "      <th></th>\n",
       "      <th>Brand</th>\n",
       "      <th>Model</th>\n",
       "      <th>Gear</th>\n",
       "      <th>KM</th>\n",
       "      <th>Category</th>\n",
       "      <th>Energie</th>\n",
       "      <th>Year</th>\n",
       "      <th>Price</th>\n",
       "      <th>Zip_code</th>\n",
       "      <th>longitude</th>\n",
       "      <th>latitude</th>\n",
       "      <th>City</th>\n",
       "      <th>State</th>\n",
       "      <th>Region</th>\n",
       "      <th>Scoring</th>\n",
       "    </tr>\n",
       "  </thead>\n",
       "  <tbody>\n",
       "    <tr>\n",
       "      <th>4219</th>\n",
       "      <td>RENAULT</td>\n",
       "      <td>MEGANE</td>\n",
       "      <td>MANUELLE</td>\n",
       "      <td>6851</td>\n",
       "      <td>Second-Hand</td>\n",
       "      <td>DIESEL</td>\n",
       "      <td>2021</td>\n",
       "      <td>22180.0</td>\n",
       "      <td>76000</td>\n",
       "      <td>1.066394</td>\n",
       "      <td>49.448129</td>\n",
       "      <td>ROUEN</td>\n",
       "      <td>NORMANDIE</td>\n",
       "      <td>SEINE-MARITIME</td>\n",
       "      <td>7.73</td>\n",
       "    </tr>\n",
       "    <tr>\n",
       "      <th>1936</th>\n",
       "      <td>PEUGEOT</td>\n",
       "      <td>108</td>\n",
       "      <td>MANUELLE</td>\n",
       "      <td>11</td>\n",
       "      <td>New</td>\n",
       "      <td>ESSENCE</td>\n",
       "      <td>2021</td>\n",
       "      <td>14480.0</td>\n",
       "      <td>33700</td>\n",
       "      <td>-0.688450</td>\n",
       "      <td>44.822822</td>\n",
       "      <td>MÉRIGNAC</td>\n",
       "      <td>NOUVELLE-AQUITAINE</td>\n",
       "      <td>GIRONDE</td>\n",
       "      <td>8.64</td>\n",
       "    </tr>\n",
       "    <tr>\n",
       "      <th>3476</th>\n",
       "      <td>VOLKSWAGEN</td>\n",
       "      <td>GOLF</td>\n",
       "      <td>AUTOMATIQUE</td>\n",
       "      <td>18096</td>\n",
       "      <td>Second-Hand</td>\n",
       "      <td>DIESEL</td>\n",
       "      <td>2021</td>\n",
       "      <td>38100.0</td>\n",
       "      <td>64230</td>\n",
       "      <td>-0.439551</td>\n",
       "      <td>43.324777</td>\n",
       "      <td>AUBIN, AUSSEVIELLE, SIROS, UZEIN, BOUGARBER, M...</td>\n",
       "      <td>NOUVELLE-AQUITAINE</td>\n",
       "      <td>PYRÉNÉES-ATLANTIQUES</td>\n",
       "      <td>7.73</td>\n",
       "    </tr>\n",
       "    <tr>\n",
       "      <th>7329</th>\n",
       "      <td>PEUGEOT</td>\n",
       "      <td>2008</td>\n",
       "      <td>AUTOMATIQUE</td>\n",
       "      <td>3000</td>\n",
       "      <td>Second-Hand</td>\n",
       "      <td>ELECTRIQUE</td>\n",
       "      <td>2021</td>\n",
       "      <td>32890.0</td>\n",
       "      <td>63000</td>\n",
       "      <td>3.086300</td>\n",
       "      <td>45.779700</td>\n",
       "      <td>CLERMONT-FERRAND</td>\n",
       "      <td>AUVERGNE-RHÔNE-ALPES</td>\n",
       "      <td>PUY-DE-DÔME</td>\n",
       "      <td>9.55</td>\n",
       "    </tr>\n",
       "    <tr>\n",
       "      <th>7790</th>\n",
       "      <td>PEUGEOT</td>\n",
       "      <td>208</td>\n",
       "      <td>MANUELLE</td>\n",
       "      <td>14010</td>\n",
       "      <td>Second-Hand</td>\n",
       "      <td>ESSENCE</td>\n",
       "      <td>2019</td>\n",
       "      <td>12980.0</td>\n",
       "      <td>69200</td>\n",
       "      <td>4.871500</td>\n",
       "      <td>45.702500</td>\n",
       "      <td>VÉNISSIEUX</td>\n",
       "      <td>AUVERGNE-RHÔNE-ALPES</td>\n",
       "      <td>RHÔNE</td>\n",
       "      <td>6.82</td>\n",
       "    </tr>\n",
       "  </tbody>\n",
       "</table>\n",
       "</div>"
      ],
      "text/plain": [
       "           Brand   Model         Gear     KM     Category     Energie  Year  \\\n",
       "4219     RENAULT  MEGANE     MANUELLE   6851  Second-Hand      DIESEL  2021   \n",
       "1936     PEUGEOT     108     MANUELLE     11          New     ESSENCE  2021   \n",
       "3476  VOLKSWAGEN    GOLF  AUTOMATIQUE  18096  Second-Hand      DIESEL  2021   \n",
       "7329     PEUGEOT    2008  AUTOMATIQUE   3000  Second-Hand  ELECTRIQUE  2021   \n",
       "7790     PEUGEOT     208     MANUELLE  14010  Second-Hand     ESSENCE  2019   \n",
       "\n",
       "        Price  Zip_code  longitude   latitude  \\\n",
       "4219  22180.0     76000   1.066394  49.448129   \n",
       "1936  14480.0     33700  -0.688450  44.822822   \n",
       "3476  38100.0     64230  -0.439551  43.324777   \n",
       "7329  32890.0     63000   3.086300  45.779700   \n",
       "7790  12980.0     69200   4.871500  45.702500   \n",
       "\n",
       "                                                   City                 State  \\\n",
       "4219                                              ROUEN             NORMANDIE   \n",
       "1936                                           MÉRIGNAC    NOUVELLE-AQUITAINE   \n",
       "3476  AUBIN, AUSSEVIELLE, SIROS, UZEIN, BOUGARBER, M...    NOUVELLE-AQUITAINE   \n",
       "7329                                   CLERMONT-FERRAND  AUVERGNE-RHÔNE-ALPES   \n",
       "7790                                         VÉNISSIEUX  AUVERGNE-RHÔNE-ALPES   \n",
       "\n",
       "                    Region  Scoring  \n",
       "4219        SEINE-MARITIME     7.73  \n",
       "1936               GIRONDE     8.64  \n",
       "3476  PYRÉNÉES-ATLANTIQUES     7.73  \n",
       "7329           PUY-DE-DÔME     9.55  \n",
       "7790                 RHÔNE     6.82  "
      ]
     },
     "execution_count": 88,
     "metadata": {},
     "output_type": "execute_result"
    }
   ],
   "source": [
    "def scoring(df_final):\n",
    "    \n",
    "    scoring = 0\n",
    "    \n",
    "    if df_final['Gear'] == 'MANUELLE':\n",
    "        scoring += 1\n",
    "    elif df_final['Gear'] != 'MANUELLE':\n",
    "        scoring += 2\n",
    "\n",
    "    scoring\n",
    "        \n",
    "        \n",
    "    if df_final['KM'] <= 100:\n",
    "        scoring += 10\n",
    "    elif df_final['KM'] >100 and df_final['KM'] <= 8000:# au debut la voiture decote plus vite \n",
    "        scoring += 9\n",
    "    elif df_final['KM'] > 8000 and df_final['KM'] <= 22893:\n",
    "        scoring += 8\n",
    "    elif df_final['KM'] > 22893 and df_final['KM'] <= 51123:\n",
    "        scoring += 7\n",
    "    elif df_final['KM'] > 51123 and df_final['KM'] <= 80000: # a plus de 80milles il y a les courois a changer entretient plus gros plus cher \n",
    "        scoring += 6 \n",
    "    elif df_final['KM'] > 80000 and df_final['KM'] <= 110000: \n",
    "        scoring += 5  \n",
    "    elif df_final['KM'] > 110000 and df_final['KM'] <= 130000: \n",
    "        scoring += 4\n",
    "    elif df_final['KM'] > 130000 and df_final['KM'] <= 150000: \n",
    "        scoring += 3\n",
    "    elif df_final['KM'] > 150000 and df_final['KM'] <= 200000: \n",
    "        scoring += 2\n",
    "    elif df_final['KM'] > 200000 : \n",
    "        scoring += 1\n",
    "   \n",
    "    if df_final['Energie'] == 'ESSENCE' :\n",
    "        scoring +=3\n",
    "    elif df_final['Energie'] =='DIESEL':# 2024 plus de diesel a paris \n",
    "        scoring += 2\n",
    "    elif df_final['Energie'] =='HYBRIDE':# norrme wltp = rejete un co2 inferieur a 90gr et 0gr pour l'electrique\n",
    "        scoring += 4\n",
    "    elif df_final['Energie'] == 'ELECTRIQUE':\n",
    "        scoring += 5\n",
    "    \n",
    "    if df_final['Year'] < 2000 :\n",
    "        scoring += 0\n",
    "    elif df_final['Year'] >= 2000 and df_final['Year'] <= 2013 :\n",
    "        scoring += 1\n",
    "    elif df_final['Year'] >= 2014 and df_final['Year'] <= 2018 :\n",
    "        scoring += 2\n",
    "    elif df_final['Year'] > 2018 and df_final['Year'] <= 2019 : # 2019 a 2020\n",
    "        scoring += 3\n",
    "    elif df_final['Year'] > 2019 and df_final['Year'] <= 2020 :\n",
    "        scoring += 4\n",
    "    elif df_final['Year'] > 2020 :\n",
    "        scoring += 5\n",
    "        \n",
    "    scoring = round((scoring/22)*10,2)\n",
    "        \n",
    "    return scoring\n",
    "\n",
    "df_final['Scoring'] = df_final.apply(scoring, axis=1)\n",
    "df_final.sample(5)"
   ]
  },
  {
   "cell_type": "code",
   "execution_count": 89,
   "metadata": {},
   "outputs": [],
   "source": [
    "#Creating csv from 2 scraping after cleaning\n",
    "df_final.to_csv('LaCentrale+autosphere+GPS+Scoring.csv')"
   ]
  },
  {
   "cell_type": "code",
   "execution_count": null,
   "metadata": {},
   "outputs": [],
   "source": []
  },
  {
   "cell_type": "code",
   "execution_count": 90,
   "metadata": {},
   "outputs": [],
   "source": [
    "#Create a specific dataset to perform the client's recommendation\n",
    "df_rec = df_final"
   ]
  },
  {
   "cell_type": "code",
   "execution_count": null,
   "metadata": {},
   "outputs": [],
   "source": []
  },
  {
   "cell_type": "markdown",
   "metadata": {},
   "source": [
    "## B) FILTER PER REGION"
   ]
  },
  {
   "cell_type": "code",
   "execution_count": 91,
   "metadata": {},
   "outputs": [
    {
     "data": {
      "text/html": [
       "<iframe\n",
       "    scrolling=\"no\"\n",
       "    width=\"100%\"\n",
       "    height=\"545px\"\n",
       "    src=\"iframe_figures/figure_91.html\"\n",
       "    frameborder=\"0\"\n",
       "    allowfullscreen\n",
       "></iframe>\n"
      ]
     },
     "metadata": {},
     "output_type": "display_data"
    }
   ],
   "source": [
    "fig = px.scatter_mapbox(df_rec, \n",
    "                        lat=\"latitude\", \n",
    "                        lon=\"longitude\", \n",
    "                        color=\"State\", \n",
    "                        zoom=4.2, \n",
    "                        mapbox_style=\"carto-positron\",\n",
    "                        hover_name='Brand',\n",
    "                        text='City',\n",
    "                        #size='KM',\n",
    "                        title='Cars recommendation: Region')\n",
    "fig.show()"
   ]
  },
  {
   "cell_type": "code",
   "execution_count": null,
   "metadata": {},
   "outputs": [],
   "source": []
  },
  {
   "cell_type": "code",
   "execution_count": null,
   "metadata": {},
   "outputs": [],
   "source": [
    "list_state = df_rec['State'].unique()\n",
    "list_state = list(list_state)\n",
    "list_state"
   ]
  },
  {
   "cell_type": "code",
   "execution_count": null,
   "metadata": {},
   "outputs": [],
   "source": [
    "q0 = input('Quelle votre région?')\n",
    "mask_state = df_rec['State'] == q0\n",
    "df_rec = df_rec.loc[mask_state,:]\n",
    "df_rec.shape\n"
   ]
  },
  {
   "cell_type": "code",
   "execution_count": 94,
   "metadata": {},
   "outputs": [
    {
     "data": {
      "text/html": [
       "<iframe\n",
       "    scrolling=\"no\"\n",
       "    width=\"100%\"\n",
       "    height=\"545px\"\n",
       "    src=\"iframe_figures/figure_94.html\"\n",
       "    frameborder=\"0\"\n",
       "    allowfullscreen\n",
       "></iframe>\n"
      ]
     },
     "metadata": {},
     "output_type": "display_data"
    }
   ],
   "source": [
    "fig = px.scatter_mapbox(df_rec, \n",
    "                        lat=\"latitude\", \n",
    "                        lon=\"longitude\", \n",
    "                        color=\"Category\", \n",
    "                        zoom=5.0, \n",
    "                        mapbox_style=\"carto-positron\",\n",
    "                        hover_name='Brand',\n",
    "                        text='City',\n",
    "                        #size='KM',\n",
    "                        title='Cars recommendation : Region & category')\n",
    "fig.show()"
   ]
  },
  {
   "cell_type": "code",
   "execution_count": null,
   "metadata": {},
   "outputs": [],
   "source": []
  },
  {
   "cell_type": "code",
   "execution_count": 95,
   "metadata": {},
   "outputs": [
    {
     "data": {
      "text/html": [
       "<iframe\n",
       "    scrolling=\"no\"\n",
       "    width=\"100%\"\n",
       "    height=\"545px\"\n",
       "    src=\"iframe_figures/figure_95.html\"\n",
       "    frameborder=\"0\"\n",
       "    allowfullscreen\n",
       "></iframe>\n"
      ]
     },
     "metadata": {},
     "output_type": "display_data"
    }
   ],
   "source": [
    "fig = px.scatter_mapbox(df_rec, \n",
    "                        lat=\"latitude\", \n",
    "                        lon=\"longitude\", \n",
    "                        color=\"Brand\", \n",
    "                        zoom=5.0, \n",
    "                        mapbox_style=\"carto-positron\",\n",
    "                        hover_name='Brand',\n",
    "                        text='City',\n",
    "                        #size='KM',\n",
    "                        title='Cars recommendation : Model')\n",
    "fig.show()"
   ]
  },
  {
   "cell_type": "code",
   "execution_count": null,
   "metadata": {},
   "outputs": [],
   "source": []
  },
  {
   "cell_type": "code",
   "execution_count": 96,
   "metadata": {},
   "outputs": [
    {
     "data": {
      "text/plain": [
       "['RENAULT', 'PEUGEOT', 'CITROEN', 'TOYOTA', 'VOLKSWAGEN']"
      ]
     },
     "execution_count": 96,
     "metadata": {},
     "output_type": "execute_result"
    }
   ],
   "source": [
    "list_brand = df_rec['Brand'].unique()\n",
    "list_brand = list(list_brand)\n",
    "list_brand"
   ]
  },
  {
   "cell_type": "code",
   "execution_count": null,
   "metadata": {},
   "outputs": [],
   "source": []
  },
  {
   "cell_type": "code",
   "execution_count": 97,
   "metadata": {},
   "outputs": [
    {
     "name": "stdin",
     "output_type": "stream",
     "text": [
      "Quelle marque de voiture désirez-vous? PEUGEOT\n"
     ]
    },
    {
     "data": {
      "text/plain": [
       "(312, 15)"
      ]
     },
     "execution_count": 97,
     "metadata": {},
     "output_type": "execute_result"
    }
   ],
   "source": [
    "q1 = input('Quelle marque de voiture désirez-vous?')\n",
    "mask_brand = df_rec['Brand'] == q1\n",
    "df_rec = df_rec.loc[mask_brand,:]\n",
    "df_rec.shape"
   ]
  },
  {
   "cell_type": "code",
   "execution_count": null,
   "metadata": {},
   "outputs": [],
   "source": []
  },
  {
   "cell_type": "code",
   "execution_count": 98,
   "metadata": {},
   "outputs": [
    {
     "data": {
      "text/html": [
       "<iframe\n",
       "    scrolling=\"no\"\n",
       "    width=\"100%\"\n",
       "    height=\"545px\"\n",
       "    src=\"iframe_figures/figure_98.html\"\n",
       "    frameborder=\"0\"\n",
       "    allowfullscreen\n",
       "></iframe>\n"
      ]
     },
     "metadata": {},
     "output_type": "display_data"
    }
   ],
   "source": [
    "fig = px.scatter_mapbox(df_rec, \n",
    "                        lat=\"latitude\", \n",
    "                        lon=\"longitude\", \n",
    "                        color=\"Model\", \n",
    "                        zoom=5.0, \n",
    "                        mapbox_style=\"carto-positron\",\n",
    "                        hover_name='Brand',\n",
    "                        text='City',\n",
    "                        #size='KM',\n",
    "                        title='Cars recommendation: Model selection')\n",
    "fig.show()"
   ]
  },
  {
   "cell_type": "code",
   "execution_count": null,
   "metadata": {},
   "outputs": [],
   "source": []
  },
  {
   "cell_type": "code",
   "execution_count": 99,
   "metadata": {},
   "outputs": [
    {
     "data": {
      "text/plain": [
       "['3008', '308', '2008', '108', '208']"
      ]
     },
     "execution_count": 99,
     "metadata": {},
     "output_type": "execute_result"
    }
   ],
   "source": [
    "list_model = df_rec['Model'].unique()\n",
    "list_model = list(list_model)\n",
    "list_model"
   ]
  },
  {
   "cell_type": "code",
   "execution_count": null,
   "metadata": {},
   "outputs": [],
   "source": []
  },
  {
   "cell_type": "code",
   "execution_count": 100,
   "metadata": {},
   "outputs": [
    {
     "name": "stdin",
     "output_type": "stream",
     "text": [
      "Quel modèle de cette marque voiture désirez-vous? 208\n"
     ]
    },
    {
     "data": {
      "text/plain": [
       "(92, 15)"
      ]
     },
     "execution_count": 100,
     "metadata": {},
     "output_type": "execute_result"
    }
   ],
   "source": [
    "q2 = input('Quel modèle de cette marque voiture désirez-vous?')\n",
    "mask_model = df_rec['Model'] == q2\n",
    "df_rec = df_rec.loc[mask_model,:]\n",
    "df_rec.shape"
   ]
  },
  {
   "cell_type": "code",
   "execution_count": null,
   "metadata": {},
   "outputs": [],
   "source": []
  },
  {
   "cell_type": "code",
   "execution_count": 101,
   "metadata": {},
   "outputs": [
    {
     "data": {
      "text/html": [
       "<iframe\n",
       "    scrolling=\"no\"\n",
       "    width=\"100%\"\n",
       "    height=\"545px\"\n",
       "    src=\"iframe_figures/figure_101.html\"\n",
       "    frameborder=\"0\"\n",
       "    allowfullscreen\n",
       "></iframe>\n"
      ]
     },
     "metadata": {},
     "output_type": "display_data"
    }
   ],
   "source": [
    "fig = px.scatter_mapbox(df_rec, \n",
    "                        lat=\"latitude\", \n",
    "                        lon=\"longitude\", \n",
    "                        color=\"Gear\", \n",
    "                        zoom=5.0, \n",
    "                        mapbox_style=\"carto-positron\",\n",
    "                        hover_name='Brand',\n",
    "                        text='City',\n",
    "                        #size='KM',\n",
    "                        title='Cars recommendation: Gear')\n",
    "fig.show()"
   ]
  },
  {
   "cell_type": "code",
   "execution_count": null,
   "metadata": {},
   "outputs": [],
   "source": []
  },
  {
   "cell_type": "code",
   "execution_count": 102,
   "metadata": {},
   "outputs": [
    {
     "data": {
      "text/plain": [
       "['MANUELLE', 'AUTOMATIQUE']"
      ]
     },
     "execution_count": 102,
     "metadata": {},
     "output_type": "execute_result"
    }
   ],
   "source": [
    "list_gear = df_rec['Gear'].unique()\n",
    "list_gear = list(list_gear)\n",
    "list_gear"
   ]
  },
  {
   "cell_type": "code",
   "execution_count": null,
   "metadata": {},
   "outputs": [],
   "source": []
  },
  {
   "cell_type": "code",
   "execution_count": 103,
   "metadata": {},
   "outputs": [
    {
     "name": "stdin",
     "output_type": "stream",
     "text": [
      "Quel type de boîte de vitesse désirez-vous? MANUELLE\n"
     ]
    },
    {
     "data": {
      "text/plain": [
       "(72, 15)"
      ]
     },
     "execution_count": 103,
     "metadata": {},
     "output_type": "execute_result"
    }
   ],
   "source": [
    "q3 = input('Quel type de boîte de vitesse désirez-vous?')\n",
    "mask_gear = df_rec['Gear'] == q3\n",
    "df_rec = df_rec.loc[mask_gear,:]\n",
    "df_rec.shape"
   ]
  },
  {
   "cell_type": "code",
   "execution_count": null,
   "metadata": {},
   "outputs": [],
   "source": []
  },
  {
   "cell_type": "code",
   "execution_count": 104,
   "metadata": {},
   "outputs": [
    {
     "data": {
      "text/html": [
       "<iframe\n",
       "    scrolling=\"no\"\n",
       "    width=\"100%\"\n",
       "    height=\"545px\"\n",
       "    src=\"iframe_figures/figure_104.html\"\n",
       "    frameborder=\"0\"\n",
       "    allowfullscreen\n",
       "></iframe>\n"
      ]
     },
     "metadata": {},
     "output_type": "display_data"
    }
   ],
   "source": [
    "fig = px.scatter_mapbox(df_rec, \n",
    "                        lat=\"latitude\", \n",
    "                        lon=\"longitude\", \n",
    "                        color=\"Scoring\", \n",
    "                        zoom=5.0, \n",
    "                        mapbox_style=\"carto-positron\",\n",
    "                        hover_name='Brand',\n",
    "                        text='City',\n",
    "                        #size='Scoring',\n",
    "                        title='Cars recommendation: Scoring')\n",
    "fig.show()"
   ]
  },
  {
   "cell_type": "code",
   "execution_count": 105,
   "metadata": {},
   "outputs": [
    {
     "data": {
      "text/html": [
       "<div>\n",
       "<style scoped>\n",
       "    .dataframe tbody tr th:only-of-type {\n",
       "        vertical-align: middle;\n",
       "    }\n",
       "\n",
       "    .dataframe tbody tr th {\n",
       "        vertical-align: top;\n",
       "    }\n",
       "\n",
       "    .dataframe thead th {\n",
       "        text-align: right;\n",
       "    }\n",
       "</style>\n",
       "<table border=\"1\" class=\"dataframe\">\n",
       "  <thead>\n",
       "    <tr style=\"text-align: right;\">\n",
       "      <th></th>\n",
       "      <th>Brand</th>\n",
       "      <th>Model</th>\n",
       "      <th>Gear</th>\n",
       "      <th>KM</th>\n",
       "      <th>Category</th>\n",
       "      <th>Energie</th>\n",
       "      <th>Year</th>\n",
       "      <th>Price</th>\n",
       "      <th>Zip_code</th>\n",
       "      <th>longitude</th>\n",
       "      <th>latitude</th>\n",
       "      <th>City</th>\n",
       "      <th>State</th>\n",
       "      <th>Region</th>\n",
       "      <th>Scoring</th>\n",
       "    </tr>\n",
       "  </thead>\n",
       "  <tbody>\n",
       "    <tr>\n",
       "      <th>1113</th>\n",
       "      <td>PEUGEOT</td>\n",
       "      <td>208</td>\n",
       "      <td>MANUELLE</td>\n",
       "      <td>12</td>\n",
       "      <td>New</td>\n",
       "      <td>ESSENCE</td>\n",
       "      <td>2021</td>\n",
       "      <td>22980.0</td>\n",
       "      <td>94120</td>\n",
       "      <td>2.456175</td>\n",
       "      <td>48.850186</td>\n",
       "      <td>FONTENAY-SOUS-BOIS</td>\n",
       "      <td>ÎLE-DE-FRANCE</td>\n",
       "      <td>VAL-DE-MARNE</td>\n",
       "      <td>8.64</td>\n",
       "    </tr>\n",
       "    <tr>\n",
       "      <th>6900</th>\n",
       "      <td>PEUGEOT</td>\n",
       "      <td>208</td>\n",
       "      <td>MANUELLE</td>\n",
       "      <td>11</td>\n",
       "      <td>New</td>\n",
       "      <td>ESSENCE</td>\n",
       "      <td>2021</td>\n",
       "      <td>24060.0</td>\n",
       "      <td>92250</td>\n",
       "      <td>2.238421</td>\n",
       "      <td>48.903225</td>\n",
       "      <td>LA GARENNE-COLOMBES</td>\n",
       "      <td>ÎLE-DE-FRANCE</td>\n",
       "      <td>HAUTS-DE-SEINE</td>\n",
       "      <td>8.64</td>\n",
       "    </tr>\n",
       "    <tr>\n",
       "      <th>2366</th>\n",
       "      <td>PEUGEOT</td>\n",
       "      <td>208</td>\n",
       "      <td>MANUELLE</td>\n",
       "      <td>11</td>\n",
       "      <td>New</td>\n",
       "      <td>ESSENCE</td>\n",
       "      <td>2021</td>\n",
       "      <td>21710.0</td>\n",
       "      <td>94100</td>\n",
       "      <td>2.483583</td>\n",
       "      <td>48.798321</td>\n",
       "      <td>SAINT-MAUR-DES-FOSSÉS</td>\n",
       "      <td>ÎLE-DE-FRANCE</td>\n",
       "      <td>VAL-DE-MARNE</td>\n",
       "      <td>8.64</td>\n",
       "    </tr>\n",
       "    <tr>\n",
       "      <th>2126</th>\n",
       "      <td>PEUGEOT</td>\n",
       "      <td>208</td>\n",
       "      <td>MANUELLE</td>\n",
       "      <td>12</td>\n",
       "      <td>New</td>\n",
       "      <td>DIESEL</td>\n",
       "      <td>2021</td>\n",
       "      <td>24990.0</td>\n",
       "      <td>94120</td>\n",
       "      <td>2.456175</td>\n",
       "      <td>48.850186</td>\n",
       "      <td>FONTENAY-SOUS-BOIS</td>\n",
       "      <td>ÎLE-DE-FRANCE</td>\n",
       "      <td>VAL-DE-MARNE</td>\n",
       "      <td>8.18</td>\n",
       "    </tr>\n",
       "    <tr>\n",
       "      <th>323</th>\n",
       "      <td>PEUGEOT</td>\n",
       "      <td>208</td>\n",
       "      <td>MANUELLE</td>\n",
       "      <td>12</td>\n",
       "      <td>New</td>\n",
       "      <td>DIESEL</td>\n",
       "      <td>2021</td>\n",
       "      <td>24790.0</td>\n",
       "      <td>94120</td>\n",
       "      <td>2.456175</td>\n",
       "      <td>48.850186</td>\n",
       "      <td>FONTENAY-SOUS-BOIS</td>\n",
       "      <td>ÎLE-DE-FRANCE</td>\n",
       "      <td>VAL-DE-MARNE</td>\n",
       "      <td>8.18</td>\n",
       "    </tr>\n",
       "    <tr>\n",
       "      <th>6512</th>\n",
       "      <td>PEUGEOT</td>\n",
       "      <td>208</td>\n",
       "      <td>MANUELLE</td>\n",
       "      <td>12</td>\n",
       "      <td>New</td>\n",
       "      <td>DIESEL</td>\n",
       "      <td>2021</td>\n",
       "      <td>26770.0</td>\n",
       "      <td>92250</td>\n",
       "      <td>2.238421</td>\n",
       "      <td>48.903225</td>\n",
       "      <td>LA GARENNE-COLOMBES</td>\n",
       "      <td>ÎLE-DE-FRANCE</td>\n",
       "      <td>HAUTS-DE-SEINE</td>\n",
       "      <td>8.18</td>\n",
       "    </tr>\n",
       "    <tr>\n",
       "      <th>459</th>\n",
       "      <td>PEUGEOT</td>\n",
       "      <td>208</td>\n",
       "      <td>MANUELLE</td>\n",
       "      <td>5350</td>\n",
       "      <td>Second-Hand</td>\n",
       "      <td>ESSENCE</td>\n",
       "      <td>2021</td>\n",
       "      <td>20220.0</td>\n",
       "      <td>93600</td>\n",
       "      <td>2.521687</td>\n",
       "      <td>48.950336</td>\n",
       "      <td>AULNAY-SOUS-BOIS</td>\n",
       "      <td>ÎLE-DE-FRANCE</td>\n",
       "      <td>SEINE-SAINT-DENIS</td>\n",
       "      <td>8.18</td>\n",
       "    </tr>\n",
       "    <tr>\n",
       "      <th>4171</th>\n",
       "      <td>PEUGEOT</td>\n",
       "      <td>208</td>\n",
       "      <td>MANUELLE</td>\n",
       "      <td>1665</td>\n",
       "      <td>Second-Hand</td>\n",
       "      <td>ESSENCE</td>\n",
       "      <td>2021</td>\n",
       "      <td>23970.0</td>\n",
       "      <td>92250</td>\n",
       "      <td>2.238421</td>\n",
       "      <td>48.903225</td>\n",
       "      <td>LA GARENNE-COLOMBES</td>\n",
       "      <td>ÎLE-DE-FRANCE</td>\n",
       "      <td>HAUTS-DE-SEINE</td>\n",
       "      <td>8.18</td>\n",
       "    </tr>\n",
       "    <tr>\n",
       "      <th>1390</th>\n",
       "      <td>PEUGEOT</td>\n",
       "      <td>208</td>\n",
       "      <td>MANUELLE</td>\n",
       "      <td>5400</td>\n",
       "      <td>Second-Hand</td>\n",
       "      <td>ESSENCE</td>\n",
       "      <td>2021</td>\n",
       "      <td>20410.0</td>\n",
       "      <td>93600</td>\n",
       "      <td>2.521687</td>\n",
       "      <td>48.950336</td>\n",
       "      <td>AULNAY-SOUS-BOIS</td>\n",
       "      <td>ÎLE-DE-FRANCE</td>\n",
       "      <td>SEINE-SAINT-DENIS</td>\n",
       "      <td>8.18</td>\n",
       "    </tr>\n",
       "    <tr>\n",
       "      <th>1492</th>\n",
       "      <td>PEUGEOT</td>\n",
       "      <td>208</td>\n",
       "      <td>MANUELLE</td>\n",
       "      <td>4659</td>\n",
       "      <td>Second-Hand</td>\n",
       "      <td>ESSENCE</td>\n",
       "      <td>2021</td>\n",
       "      <td>21510.0</td>\n",
       "      <td>75015</td>\n",
       "      <td>2.293987</td>\n",
       "      <td>48.830741</td>\n",
       "      <td>PARIS 15, PARIS</td>\n",
       "      <td>ÎLE-DE-FRANCE</td>\n",
       "      <td>PARIS</td>\n",
       "      <td>8.18</td>\n",
       "    </tr>\n",
       "  </tbody>\n",
       "</table>\n",
       "</div>"
      ],
      "text/plain": [
       "        Brand Model      Gear    KM     Category  Energie  Year    Price  \\\n",
       "1113  PEUGEOT   208  MANUELLE    12          New  ESSENCE  2021  22980.0   \n",
       "6900  PEUGEOT   208  MANUELLE    11          New  ESSENCE  2021  24060.0   \n",
       "2366  PEUGEOT   208  MANUELLE    11          New  ESSENCE  2021  21710.0   \n",
       "2126  PEUGEOT   208  MANUELLE    12          New   DIESEL  2021  24990.0   \n",
       "323   PEUGEOT   208  MANUELLE    12          New   DIESEL  2021  24790.0   \n",
       "6512  PEUGEOT   208  MANUELLE    12          New   DIESEL  2021  26770.0   \n",
       "459   PEUGEOT   208  MANUELLE  5350  Second-Hand  ESSENCE  2021  20220.0   \n",
       "4171  PEUGEOT   208  MANUELLE  1665  Second-Hand  ESSENCE  2021  23970.0   \n",
       "1390  PEUGEOT   208  MANUELLE  5400  Second-Hand  ESSENCE  2021  20410.0   \n",
       "1492  PEUGEOT   208  MANUELLE  4659  Second-Hand  ESSENCE  2021  21510.0   \n",
       "\n",
       "      Zip_code  longitude   latitude                   City          State  \\\n",
       "1113     94120   2.456175  48.850186     FONTENAY-SOUS-BOIS  ÎLE-DE-FRANCE   \n",
       "6900     92250   2.238421  48.903225    LA GARENNE-COLOMBES  ÎLE-DE-FRANCE   \n",
       "2366     94100   2.483583  48.798321  SAINT-MAUR-DES-FOSSÉS  ÎLE-DE-FRANCE   \n",
       "2126     94120   2.456175  48.850186     FONTENAY-SOUS-BOIS  ÎLE-DE-FRANCE   \n",
       "323      94120   2.456175  48.850186     FONTENAY-SOUS-BOIS  ÎLE-DE-FRANCE   \n",
       "6512     92250   2.238421  48.903225    LA GARENNE-COLOMBES  ÎLE-DE-FRANCE   \n",
       "459      93600   2.521687  48.950336       AULNAY-SOUS-BOIS  ÎLE-DE-FRANCE   \n",
       "4171     92250   2.238421  48.903225    LA GARENNE-COLOMBES  ÎLE-DE-FRANCE   \n",
       "1390     93600   2.521687  48.950336       AULNAY-SOUS-BOIS  ÎLE-DE-FRANCE   \n",
       "1492     75015   2.293987  48.830741        PARIS 15, PARIS  ÎLE-DE-FRANCE   \n",
       "\n",
       "                 Region  Scoring  \n",
       "1113       VAL-DE-MARNE     8.64  \n",
       "6900     HAUTS-DE-SEINE     8.64  \n",
       "2366       VAL-DE-MARNE     8.64  \n",
       "2126       VAL-DE-MARNE     8.18  \n",
       "323        VAL-DE-MARNE     8.18  \n",
       "6512     HAUTS-DE-SEINE     8.18  \n",
       "459   SEINE-SAINT-DENIS     8.18  \n",
       "4171     HAUTS-DE-SEINE     8.18  \n",
       "1390  SEINE-SAINT-DENIS     8.18  \n",
       "1492              PARIS     8.18  "
      ]
     },
     "execution_count": 105,
     "metadata": {},
     "output_type": "execute_result"
    }
   ],
   "source": [
    "#Set a TOP 10 scoring\n",
    "top10 = df_rec.sort_values(by=['Scoring'], ascending=False).head(10)\n",
    "top10"
   ]
  },
  {
   "cell_type": "code",
   "execution_count": 106,
   "metadata": {},
   "outputs": [
    {
     "data": {
      "text/html": [
       "<div>\n",
       "<style scoped>\n",
       "    .dataframe tbody tr th:only-of-type {\n",
       "        vertical-align: middle;\n",
       "    }\n",
       "\n",
       "    .dataframe tbody tr th {\n",
       "        vertical-align: top;\n",
       "    }\n",
       "\n",
       "    .dataframe thead th {\n",
       "        text-align: right;\n",
       "    }\n",
       "</style>\n",
       "<table border=\"1\" class=\"dataframe\">\n",
       "  <thead>\n",
       "    <tr style=\"text-align: right;\">\n",
       "      <th></th>\n",
       "      <th>Brand</th>\n",
       "      <th>Model</th>\n",
       "      <th>Gear</th>\n",
       "      <th>KM</th>\n",
       "      <th>Category</th>\n",
       "      <th>Energie</th>\n",
       "      <th>Year</th>\n",
       "      <th>Price</th>\n",
       "      <th>Zip_code</th>\n",
       "      <th>longitude</th>\n",
       "      <th>latitude</th>\n",
       "      <th>City</th>\n",
       "      <th>State</th>\n",
       "      <th>Region</th>\n",
       "      <th>Scoring</th>\n",
       "    </tr>\n",
       "  </thead>\n",
       "  <tbody>\n",
       "    <tr>\n",
       "      <th>1113</th>\n",
       "      <td>PEUGEOT</td>\n",
       "      <td>208</td>\n",
       "      <td>MANUELLE</td>\n",
       "      <td>12</td>\n",
       "      <td>New</td>\n",
       "      <td>ESSENCE</td>\n",
       "      <td>2021</td>\n",
       "      <td>22980.0</td>\n",
       "      <td>94120</td>\n",
       "      <td>2.456175</td>\n",
       "      <td>48.850186</td>\n",
       "      <td>FONTENAY-SOUS-BOIS</td>\n",
       "      <td>ÎLE-DE-FRANCE</td>\n",
       "      <td>VAL-DE-MARNE</td>\n",
       "      <td>8.64</td>\n",
       "    </tr>\n",
       "    <tr>\n",
       "      <th>6900</th>\n",
       "      <td>PEUGEOT</td>\n",
       "      <td>208</td>\n",
       "      <td>MANUELLE</td>\n",
       "      <td>11</td>\n",
       "      <td>New</td>\n",
       "      <td>ESSENCE</td>\n",
       "      <td>2021</td>\n",
       "      <td>24060.0</td>\n",
       "      <td>92250</td>\n",
       "      <td>2.238421</td>\n",
       "      <td>48.903225</td>\n",
       "      <td>LA GARENNE-COLOMBES</td>\n",
       "      <td>ÎLE-DE-FRANCE</td>\n",
       "      <td>HAUTS-DE-SEINE</td>\n",
       "      <td>8.64</td>\n",
       "    </tr>\n",
       "    <tr>\n",
       "      <th>2366</th>\n",
       "      <td>PEUGEOT</td>\n",
       "      <td>208</td>\n",
       "      <td>MANUELLE</td>\n",
       "      <td>11</td>\n",
       "      <td>New</td>\n",
       "      <td>ESSENCE</td>\n",
       "      <td>2021</td>\n",
       "      <td>21710.0</td>\n",
       "      <td>94100</td>\n",
       "      <td>2.483583</td>\n",
       "      <td>48.798321</td>\n",
       "      <td>SAINT-MAUR-DES-FOSSÉS</td>\n",
       "      <td>ÎLE-DE-FRANCE</td>\n",
       "      <td>VAL-DE-MARNE</td>\n",
       "      <td>8.64</td>\n",
       "    </tr>\n",
       "    <tr>\n",
       "      <th>2126</th>\n",
       "      <td>PEUGEOT</td>\n",
       "      <td>208</td>\n",
       "      <td>MANUELLE</td>\n",
       "      <td>12</td>\n",
       "      <td>New</td>\n",
       "      <td>DIESEL</td>\n",
       "      <td>2021</td>\n",
       "      <td>24990.0</td>\n",
       "      <td>94120</td>\n",
       "      <td>2.456175</td>\n",
       "      <td>48.850186</td>\n",
       "      <td>FONTENAY-SOUS-BOIS</td>\n",
       "      <td>ÎLE-DE-FRANCE</td>\n",
       "      <td>VAL-DE-MARNE</td>\n",
       "      <td>8.18</td>\n",
       "    </tr>\n",
       "    <tr>\n",
       "      <th>323</th>\n",
       "      <td>PEUGEOT</td>\n",
       "      <td>208</td>\n",
       "      <td>MANUELLE</td>\n",
       "      <td>12</td>\n",
       "      <td>New</td>\n",
       "      <td>DIESEL</td>\n",
       "      <td>2021</td>\n",
       "      <td>24790.0</td>\n",
       "      <td>94120</td>\n",
       "      <td>2.456175</td>\n",
       "      <td>48.850186</td>\n",
       "      <td>FONTENAY-SOUS-BOIS</td>\n",
       "      <td>ÎLE-DE-FRANCE</td>\n",
       "      <td>VAL-DE-MARNE</td>\n",
       "      <td>8.18</td>\n",
       "    </tr>\n",
       "  </tbody>\n",
       "</table>\n",
       "</div>"
      ],
      "text/plain": [
       "        Brand Model      Gear  KM Category  Energie  Year    Price  Zip_code  \\\n",
       "1113  PEUGEOT   208  MANUELLE  12      New  ESSENCE  2021  22980.0     94120   \n",
       "6900  PEUGEOT   208  MANUELLE  11      New  ESSENCE  2021  24060.0     92250   \n",
       "2366  PEUGEOT   208  MANUELLE  11      New  ESSENCE  2021  21710.0     94100   \n",
       "2126  PEUGEOT   208  MANUELLE  12      New   DIESEL  2021  24990.0     94120   \n",
       "323   PEUGEOT   208  MANUELLE  12      New   DIESEL  2021  24790.0     94120   \n",
       "\n",
       "      longitude   latitude                   City          State  \\\n",
       "1113   2.456175  48.850186     FONTENAY-SOUS-BOIS  ÎLE-DE-FRANCE   \n",
       "6900   2.238421  48.903225    LA GARENNE-COLOMBES  ÎLE-DE-FRANCE   \n",
       "2366   2.483583  48.798321  SAINT-MAUR-DES-FOSSÉS  ÎLE-DE-FRANCE   \n",
       "2126   2.456175  48.850186     FONTENAY-SOUS-BOIS  ÎLE-DE-FRANCE   \n",
       "323    2.456175  48.850186     FONTENAY-SOUS-BOIS  ÎLE-DE-FRANCE   \n",
       "\n",
       "              Region  Scoring  \n",
       "1113    VAL-DE-MARNE     8.64  \n",
       "6900  HAUTS-DE-SEINE     8.64  \n",
       "2366    VAL-DE-MARNE     8.64  \n",
       "2126    VAL-DE-MARNE     8.18  \n",
       "323     VAL-DE-MARNE     8.18  "
      ]
     },
     "execution_count": 106,
     "metadata": {},
     "output_type": "execute_result"
    }
   ],
   "source": [
    "#Set a TOP 5 scoring\n",
    "top5 = df_rec.sort_values(by=['Scoring'], ascending=False).head(5)\n",
    "top5"
   ]
  },
  {
   "cell_type": "code",
   "execution_count": 107,
   "metadata": {},
   "outputs": [
    {
     "name": "stdout",
     "output_type": "stream",
     "text": [
      "The average distance done is 36920.07 Km.\n",
      "--------------------------------\n",
      "The std distance is 14553.13 Km\n",
      "--------------------------------\n",
      "The maximum distance done available is 123355 Km.\n",
      "--------------------------------\n",
      "The minimum distance done available is 11 Km.\n",
      "--------------------------------\n",
      " \n",
      "KM RECOMMENDATION\n",
      "The market shows that a KM in a range of 22366.94 Km and 51473.19 Km is acceptable\n"
     ]
    }
   ],
   "source": [
    "km_avg = df_rec['KM'].mean()\n",
    "print('The average distance done is {} Km.'.format(round(km_avg,2)))\n",
    "print('--------------------------------')\n",
    "km_std = df_rec['KM'].std()/2\n",
    "print('The std distance is {} Km'.format(round(km_std,2)))\n",
    "print('--------------------------------')\n",
    "km_max = df_rec['KM'].max()\n",
    "print('The maximum distance done available is {} Km.'.format(round(km_max,2)))\n",
    "print('--------------------------------')\n",
    "km_min = df_rec['KM'].min()\n",
    "print('The minimum distance done available is {} Km.'.format(round(km_min,2)))\n",
    "print('--------------------------------')\n",
    "print(' ')\n",
    "print('KM RECOMMENDATION')\n",
    "max_interval_km = km_avg+km_std\n",
    "min_interval_km = km_avg-km_std\n",
    "print('The market shows that a KM in a range of {} Km and {} Km is acceptable'.format(round(min_interval_km,2),round(max_interval_km,2)))"
   ]
  },
  {
   "cell_type": "code",
   "execution_count": null,
   "metadata": {},
   "outputs": [],
   "source": []
  },
  {
   "cell_type": "code",
   "execution_count": 108,
   "metadata": {},
   "outputs": [
    {
     "name": "stdin",
     "output_type": "stream",
     "text": [
      "Nombre maximum de kilomètre(s) souhaité(s)? 40000\n"
     ]
    },
    {
     "data": {
      "text/plain": [
       "(46, 15)"
      ]
     },
     "execution_count": 108,
     "metadata": {},
     "output_type": "execute_result"
    }
   ],
   "source": [
    "q4 = input('Nombre maximum de kilomètre(s) souhaité(s)?')\n",
    "q4 = int(q4)\n",
    "mask_KM = df_rec['KM'] <= q4\n",
    "df_rec = df_rec.loc[mask_KM,:]\n",
    "\n",
    "df_rec.shape"
   ]
  },
  {
   "cell_type": "code",
   "execution_count": null,
   "metadata": {},
   "outputs": [],
   "source": []
  },
  {
   "cell_type": "code",
   "execution_count": 109,
   "metadata": {},
   "outputs": [
    {
     "data": {
      "text/html": [
       "<iframe\n",
       "    scrolling=\"no\"\n",
       "    width=\"100%\"\n",
       "    height=\"545px\"\n",
       "    src=\"iframe_figures/figure_109.html\"\n",
       "    frameborder=\"0\"\n",
       "    allowfullscreen\n",
       "></iframe>\n"
      ]
     },
     "metadata": {},
     "output_type": "display_data"
    }
   ],
   "source": [
    "fig = px.scatter_mapbox(df_rec, \n",
    "                        lat=\"latitude\", \n",
    "                        lon=\"longitude\", \n",
    "                        color=\"Energie\", \n",
    "                        zoom=5.0, \n",
    "                        mapbox_style=\"carto-positron\",\n",
    "                        hover_name='Brand',\n",
    "                        text='City',\n",
    "                        #size='Scoring',\n",
    "                        title='Cars recommendation: Energy')\n",
    "fig.show()"
   ]
  },
  {
   "cell_type": "code",
   "execution_count": null,
   "metadata": {},
   "outputs": [],
   "source": []
  },
  {
   "cell_type": "code",
   "execution_count": 110,
   "metadata": {},
   "outputs": [
    {
     "data": {
      "text/plain": [
       "['ESSENCE', 'DIESEL']"
      ]
     },
     "execution_count": 110,
     "metadata": {},
     "output_type": "execute_result"
    }
   ],
   "source": [
    "list_energie = df_rec['Energie'].unique()\n",
    "list_energie = list(list_energie)\n",
    "list_energie"
   ]
  },
  {
   "cell_type": "code",
   "execution_count": null,
   "metadata": {},
   "outputs": [],
   "source": []
  },
  {
   "cell_type": "code",
   "execution_count": 111,
   "metadata": {},
   "outputs": [
    {
     "name": "stdin",
     "output_type": "stream",
     "text": [
      "Quel type d'énergie souhaitez-vous? ESSENCE\n"
     ]
    },
    {
     "data": {
      "text/plain": [
       "(38, 15)"
      ]
     },
     "execution_count": 111,
     "metadata": {},
     "output_type": "execute_result"
    }
   ],
   "source": [
    "q5 = input('Quel type d\\'énergie souhaitez-vous?')\n",
    "mask_energie = df_rec['Energie'] == q5\n",
    "df_rec = df_rec.loc[mask_energie,:]\n",
    "df_rec.shape"
   ]
  },
  {
   "cell_type": "code",
   "execution_count": null,
   "metadata": {},
   "outputs": [],
   "source": []
  },
  {
   "cell_type": "code",
   "execution_count": 112,
   "metadata": {},
   "outputs": [
    {
     "data": {
      "text/html": [
       "<iframe\n",
       "    scrolling=\"no\"\n",
       "    width=\"100%\"\n",
       "    height=\"545px\"\n",
       "    src=\"iframe_figures/figure_112.html\"\n",
       "    frameborder=\"0\"\n",
       "    allowfullscreen\n",
       "></iframe>\n"
      ]
     },
     "metadata": {},
     "output_type": "display_data"
    }
   ],
   "source": [
    "fig = px.scatter_mapbox(df_rec, \n",
    "                        lat=\"latitude\", \n",
    "                        lon=\"longitude\", \n",
    "                        color=\"Year\", \n",
    "                        zoom=5.0, \n",
    "                        mapbox_style=\"carto-positron\",\n",
    "                        hover_name='Brand',\n",
    "                        text='City',\n",
    "                        #size='KM',\n",
    "                        title='Cars recommendation: Brand selection')\n",
    "fig.show()"
   ]
  },
  {
   "cell_type": "code",
   "execution_count": null,
   "metadata": {},
   "outputs": [],
   "source": []
  },
  {
   "cell_type": "code",
   "execution_count": 113,
   "metadata": {},
   "outputs": [
    {
     "data": {
      "text/plain": [
       "[2019, 2021, 2020, 2015]"
      ]
     },
     "execution_count": 113,
     "metadata": {},
     "output_type": "execute_result"
    }
   ],
   "source": [
    "list_year = df_rec['Year'].unique()\n",
    "list_year = list(list_year)\n",
    "list_year"
   ]
  },
  {
   "cell_type": "code",
   "execution_count": null,
   "metadata": {},
   "outputs": [],
   "source": []
  },
  {
   "cell_type": "code",
   "execution_count": 114,
   "metadata": {},
   "outputs": [
    {
     "name": "stdin",
     "output_type": "stream",
     "text": [
      "Quelle ancienneté maximum? 2019\n"
     ]
    },
    {
     "data": {
      "text/plain": [
       "(37, 15)"
      ]
     },
     "execution_count": 114,
     "metadata": {},
     "output_type": "execute_result"
    }
   ],
   "source": [
    "q6 = input('Quelle ancienneté maximum?')\n",
    "q6 = int(q6)\n",
    "mask_year = df_rec['Year'] >= q6\n",
    "df_rec = df_rec.loc[mask_year,:]\n",
    "df_rec.shape"
   ]
  },
  {
   "cell_type": "code",
   "execution_count": 115,
   "metadata": {},
   "outputs": [
    {
     "data": {
      "text/html": [
       "<div>\n",
       "<style scoped>\n",
       "    .dataframe tbody tr th:only-of-type {\n",
       "        vertical-align: middle;\n",
       "    }\n",
       "\n",
       "    .dataframe tbody tr th {\n",
       "        vertical-align: top;\n",
       "    }\n",
       "\n",
       "    .dataframe thead th {\n",
       "        text-align: right;\n",
       "    }\n",
       "</style>\n",
       "<table border=\"1\" class=\"dataframe\">\n",
       "  <thead>\n",
       "    <tr style=\"text-align: right;\">\n",
       "      <th></th>\n",
       "      <th>Brand</th>\n",
       "      <th>Model</th>\n",
       "      <th>Gear</th>\n",
       "      <th>KM</th>\n",
       "      <th>Category</th>\n",
       "      <th>Energie</th>\n",
       "      <th>Year</th>\n",
       "      <th>Price</th>\n",
       "      <th>Zip_code</th>\n",
       "      <th>longitude</th>\n",
       "      <th>latitude</th>\n",
       "      <th>City</th>\n",
       "      <th>State</th>\n",
       "      <th>Region</th>\n",
       "      <th>Scoring</th>\n",
       "    </tr>\n",
       "  </thead>\n",
       "  <tbody>\n",
       "    <tr>\n",
       "      <th>1113</th>\n",
       "      <td>PEUGEOT</td>\n",
       "      <td>208</td>\n",
       "      <td>MANUELLE</td>\n",
       "      <td>12</td>\n",
       "      <td>New</td>\n",
       "      <td>ESSENCE</td>\n",
       "      <td>2021</td>\n",
       "      <td>22980.0</td>\n",
       "      <td>94120</td>\n",
       "      <td>2.456175</td>\n",
       "      <td>48.850186</td>\n",
       "      <td>FONTENAY-SOUS-BOIS</td>\n",
       "      <td>ÎLE-DE-FRANCE</td>\n",
       "      <td>VAL-DE-MARNE</td>\n",
       "      <td>8.64</td>\n",
       "    </tr>\n",
       "    <tr>\n",
       "      <th>6900</th>\n",
       "      <td>PEUGEOT</td>\n",
       "      <td>208</td>\n",
       "      <td>MANUELLE</td>\n",
       "      <td>11</td>\n",
       "      <td>New</td>\n",
       "      <td>ESSENCE</td>\n",
       "      <td>2021</td>\n",
       "      <td>24060.0</td>\n",
       "      <td>92250</td>\n",
       "      <td>2.238421</td>\n",
       "      <td>48.903225</td>\n",
       "      <td>LA GARENNE-COLOMBES</td>\n",
       "      <td>ÎLE-DE-FRANCE</td>\n",
       "      <td>HAUTS-DE-SEINE</td>\n",
       "      <td>8.64</td>\n",
       "    </tr>\n",
       "    <tr>\n",
       "      <th>2366</th>\n",
       "      <td>PEUGEOT</td>\n",
       "      <td>208</td>\n",
       "      <td>MANUELLE</td>\n",
       "      <td>11</td>\n",
       "      <td>New</td>\n",
       "      <td>ESSENCE</td>\n",
       "      <td>2021</td>\n",
       "      <td>21710.0</td>\n",
       "      <td>94100</td>\n",
       "      <td>2.483583</td>\n",
       "      <td>48.798321</td>\n",
       "      <td>SAINT-MAUR-DES-FOSSÉS</td>\n",
       "      <td>ÎLE-DE-FRANCE</td>\n",
       "      <td>VAL-DE-MARNE</td>\n",
       "      <td>8.64</td>\n",
       "    </tr>\n",
       "    <tr>\n",
       "      <th>2126</th>\n",
       "      <td>PEUGEOT</td>\n",
       "      <td>208</td>\n",
       "      <td>MANUELLE</td>\n",
       "      <td>12</td>\n",
       "      <td>New</td>\n",
       "      <td>DIESEL</td>\n",
       "      <td>2021</td>\n",
       "      <td>24990.0</td>\n",
       "      <td>94120</td>\n",
       "      <td>2.456175</td>\n",
       "      <td>48.850186</td>\n",
       "      <td>FONTENAY-SOUS-BOIS</td>\n",
       "      <td>ÎLE-DE-FRANCE</td>\n",
       "      <td>VAL-DE-MARNE</td>\n",
       "      <td>8.18</td>\n",
       "    </tr>\n",
       "    <tr>\n",
       "      <th>323</th>\n",
       "      <td>PEUGEOT</td>\n",
       "      <td>208</td>\n",
       "      <td>MANUELLE</td>\n",
       "      <td>12</td>\n",
       "      <td>New</td>\n",
       "      <td>DIESEL</td>\n",
       "      <td>2021</td>\n",
       "      <td>24790.0</td>\n",
       "      <td>94120</td>\n",
       "      <td>2.456175</td>\n",
       "      <td>48.850186</td>\n",
       "      <td>FONTENAY-SOUS-BOIS</td>\n",
       "      <td>ÎLE-DE-FRANCE</td>\n",
       "      <td>VAL-DE-MARNE</td>\n",
       "      <td>8.18</td>\n",
       "    </tr>\n",
       "  </tbody>\n",
       "</table>\n",
       "</div>"
      ],
      "text/plain": [
       "        Brand Model      Gear  KM Category  Energie  Year    Price  Zip_code  \\\n",
       "1113  PEUGEOT   208  MANUELLE  12      New  ESSENCE  2021  22980.0     94120   \n",
       "6900  PEUGEOT   208  MANUELLE  11      New  ESSENCE  2021  24060.0     92250   \n",
       "2366  PEUGEOT   208  MANUELLE  11      New  ESSENCE  2021  21710.0     94100   \n",
       "2126  PEUGEOT   208  MANUELLE  12      New   DIESEL  2021  24990.0     94120   \n",
       "323   PEUGEOT   208  MANUELLE  12      New   DIESEL  2021  24790.0     94120   \n",
       "\n",
       "      longitude   latitude                   City          State  \\\n",
       "1113   2.456175  48.850186     FONTENAY-SOUS-BOIS  ÎLE-DE-FRANCE   \n",
       "6900   2.238421  48.903225    LA GARENNE-COLOMBES  ÎLE-DE-FRANCE   \n",
       "2366   2.483583  48.798321  SAINT-MAUR-DES-FOSSÉS  ÎLE-DE-FRANCE   \n",
       "2126   2.456175  48.850186     FONTENAY-SOUS-BOIS  ÎLE-DE-FRANCE   \n",
       "323    2.456175  48.850186     FONTENAY-SOUS-BOIS  ÎLE-DE-FRANCE   \n",
       "\n",
       "              Region  Scoring  \n",
       "1113    VAL-DE-MARNE     8.64  \n",
       "6900  HAUTS-DE-SEINE     8.64  \n",
       "2366    VAL-DE-MARNE     8.64  \n",
       "2126    VAL-DE-MARNE     8.18  \n",
       "323     VAL-DE-MARNE     8.18  "
      ]
     },
     "execution_count": 115,
     "metadata": {},
     "output_type": "execute_result"
    }
   ],
   "source": [
    "top5"
   ]
  },
  {
   "cell_type": "code",
   "execution_count": 116,
   "metadata": {},
   "outputs": [
    {
     "name": "stdout",
     "output_type": "stream",
     "text": [
      "--------------------------------\n",
      "The average price is 15290.54€\n",
      "--------------------------------\n",
      "The std price is 3768.27€\n",
      "--------------------------------\n",
      "The maximum price is 24060.0€\n",
      "--------------------------------\n",
      "The minimum price is 11490.0€\n",
      "--------------------------------\n",
      " \n",
      "PRICE RECOMMENDATION\n",
      "We recommend you to select a car into a range between 11522.28€ and 19058.81€\n"
     ]
    }
   ],
   "source": [
    "print('--------------------------------')\n",
    "price_avg = df_rec['Price'].mean()\n",
    "print('The average price is {}€'.format(round(price_avg,2)))\n",
    "print('--------------------------------')\n",
    "price_std = df_rec['Price'].std()\n",
    "print('The std price is {}€'.format(round(price_std,2)))\n",
    "\n",
    "print('--------------------------------')\n",
    "\n",
    "price_max = df_rec['Price'].max()\n",
    "print('The maximum price is {}€'.format(round(price_max,2)))\n",
    "print('--------------------------------')\n",
    "price_min = df_rec['Price'].min()\n",
    "print('The minimum price is {}€'.format(round(price_min,2)))\n",
    "print('--------------------------------')\n",
    "print(' ')\n",
    "print('PRICE RECOMMENDATION')\n",
    "max_interval = price_avg+price_std\n",
    "min_interval = price_avg-price_std\n",
    "print('We recommend you to select a car into a range between {}€ and {}€'.format(round(min_interval,2),round(max_interval,2)))"
   ]
  },
  {
   "cell_type": "code",
   "execution_count": null,
   "metadata": {},
   "outputs": [],
   "source": []
  },
  {
   "cell_type": "code",
   "execution_count": 117,
   "metadata": {},
   "outputs": [],
   "source": [
    "# Label the recommendation\n",
    "df_rec['Price_recommendation'] = df_rec['Price'].apply(lambda x: 'Expensive' if x > max_interval \n",
    "                                                else 'In market' if max_interval >= x >= min_interval \n",
    "                                                else 'Good price' if x < min_interval\n",
    "\n",
    "                                                else x\n",
    "                                                )"
   ]
  },
  {
   "cell_type": "code",
   "execution_count": null,
   "metadata": {},
   "outputs": [],
   "source": []
  },
  {
   "cell_type": "code",
   "execution_count": 118,
   "metadata": {},
   "outputs": [
    {
     "data": {
      "text/html": [
       "<iframe\n",
       "    scrolling=\"no\"\n",
       "    width=\"100%\"\n",
       "    height=\"545px\"\n",
       "    src=\"iframe_figures/figure_118.html\"\n",
       "    frameborder=\"0\"\n",
       "    allowfullscreen\n",
       "></iframe>\n"
      ]
     },
     "metadata": {},
     "output_type": "display_data"
    }
   ],
   "source": [
    "fig = px.scatter_mapbox(df_rec, \n",
    "                        lat=\"latitude\", \n",
    "                        lon=\"longitude\", \n",
    "                        color=\"Price_recommendation\", \n",
    "                        zoom=5.0, \n",
    "                        mapbox_style=\"carto-positron\",\n",
    "                        hover_name='Brand',\n",
    "                        text='City',\n",
    "                        #size='Price_recommendation',\n",
    "                        title='Cars recommendation: Brand selection')\n",
    "fig.show()"
   ]
  },
  {
   "cell_type": "code",
   "execution_count": 119,
   "metadata": {},
   "outputs": [
    {
     "name": "stdin",
     "output_type": "stream",
     "text": [
      "Quel prix maximum souhaitez-vous investir? 25000\n"
     ]
    },
    {
     "data": {
      "text/plain": [
       "(37, 16)"
      ]
     },
     "execution_count": 119,
     "metadata": {},
     "output_type": "execute_result"
    }
   ],
   "source": [
    "q7 = input('Quel prix maximum souhaitez-vous investir?')\n",
    "q7 = float(q7)\n",
    "mask_price = df_rec['Price'] <= q7\n",
    "df_rec = df_rec.loc[mask_price,:]\n",
    "df_rec.shape"
   ]
  },
  {
   "cell_type": "code",
   "execution_count": null,
   "metadata": {},
   "outputs": [],
   "source": []
  },
  {
   "cell_type": "markdown",
   "metadata": {},
   "source": [
    "# C) FINAL RECOMMENDATION"
   ]
  },
  {
   "cell_type": "code",
   "execution_count": 120,
   "metadata": {},
   "outputs": [
    {
     "data": {
      "text/html": [
       "<div>\n",
       "<style scoped>\n",
       "    .dataframe tbody tr th:only-of-type {\n",
       "        vertical-align: middle;\n",
       "    }\n",
       "\n",
       "    .dataframe tbody tr th {\n",
       "        vertical-align: top;\n",
       "    }\n",
       "\n",
       "    .dataframe thead th {\n",
       "        text-align: right;\n",
       "    }\n",
       "</style>\n",
       "<table border=\"1\" class=\"dataframe\">\n",
       "  <thead>\n",
       "    <tr style=\"text-align: right;\">\n",
       "      <th></th>\n",
       "      <th>Brand</th>\n",
       "      <th>Model</th>\n",
       "      <th>Gear</th>\n",
       "      <th>KM</th>\n",
       "      <th>Category</th>\n",
       "      <th>Energie</th>\n",
       "      <th>Year</th>\n",
       "      <th>Price</th>\n",
       "      <th>Zip_code</th>\n",
       "      <th>longitude</th>\n",
       "      <th>latitude</th>\n",
       "      <th>City</th>\n",
       "      <th>State</th>\n",
       "      <th>Region</th>\n",
       "      <th>Scoring</th>\n",
       "      <th>Price_recommendation</th>\n",
       "    </tr>\n",
       "  </thead>\n",
       "  <tbody>\n",
       "    <tr>\n",
       "      <th>6900</th>\n",
       "      <td>PEUGEOT</td>\n",
       "      <td>208</td>\n",
       "      <td>MANUELLE</td>\n",
       "      <td>11</td>\n",
       "      <td>New</td>\n",
       "      <td>ESSENCE</td>\n",
       "      <td>2021</td>\n",
       "      <td>24060.0</td>\n",
       "      <td>92250</td>\n",
       "      <td>2.238421</td>\n",
       "      <td>48.903225</td>\n",
       "      <td>LA GARENNE-COLOMBES</td>\n",
       "      <td>ÎLE-DE-FRANCE</td>\n",
       "      <td>HAUTS-DE-SEINE</td>\n",
       "      <td>8.64</td>\n",
       "      <td>Expensive</td>\n",
       "    </tr>\n",
       "    <tr>\n",
       "      <th>1113</th>\n",
       "      <td>PEUGEOT</td>\n",
       "      <td>208</td>\n",
       "      <td>MANUELLE</td>\n",
       "      <td>12</td>\n",
       "      <td>New</td>\n",
       "      <td>ESSENCE</td>\n",
       "      <td>2021</td>\n",
       "      <td>22980.0</td>\n",
       "      <td>94120</td>\n",
       "      <td>2.456175</td>\n",
       "      <td>48.850186</td>\n",
       "      <td>FONTENAY-SOUS-BOIS</td>\n",
       "      <td>ÎLE-DE-FRANCE</td>\n",
       "      <td>VAL-DE-MARNE</td>\n",
       "      <td>8.64</td>\n",
       "      <td>Expensive</td>\n",
       "    </tr>\n",
       "    <tr>\n",
       "      <th>3757</th>\n",
       "      <td>PEUGEOT</td>\n",
       "      <td>208</td>\n",
       "      <td>MANUELLE</td>\n",
       "      <td>19700</td>\n",
       "      <td>Second-Hand</td>\n",
       "      <td>ESSENCE</td>\n",
       "      <td>2020</td>\n",
       "      <td>14120.0</td>\n",
       "      <td>78000</td>\n",
       "      <td>2.153866</td>\n",
       "      <td>48.812168</td>\n",
       "      <td>VERSAILLES</td>\n",
       "      <td>ÎLE-DE-FRANCE</td>\n",
       "      <td>YVELINES</td>\n",
       "      <td>7.27</td>\n",
       "      <td>In market</td>\n",
       "    </tr>\n",
       "    <tr>\n",
       "      <th>797</th>\n",
       "      <td>PEUGEOT</td>\n",
       "      <td>208</td>\n",
       "      <td>MANUELLE</td>\n",
       "      <td>35387</td>\n",
       "      <td>Second-Hand</td>\n",
       "      <td>ESSENCE</td>\n",
       "      <td>2019</td>\n",
       "      <td>11790.0</td>\n",
       "      <td>78190</td>\n",
       "      <td>2.012375</td>\n",
       "      <td>48.771468</td>\n",
       "      <td>TRAPPES</td>\n",
       "      <td>ÎLE-DE-FRANCE</td>\n",
       "      <td>YVELINES</td>\n",
       "      <td>6.36</td>\n",
       "      <td>In market</td>\n",
       "    </tr>\n",
       "    <tr>\n",
       "      <th>1603</th>\n",
       "      <td>PEUGEOT</td>\n",
       "      <td>208</td>\n",
       "      <td>MANUELLE</td>\n",
       "      <td>28874</td>\n",
       "      <td>Second-Hand</td>\n",
       "      <td>ESSENCE</td>\n",
       "      <td>2019</td>\n",
       "      <td>13730.0</td>\n",
       "      <td>78310</td>\n",
       "      <td>1.933024</td>\n",
       "      <td>48.756704</td>\n",
       "      <td>MAUREPAS, COIGNIÈRES</td>\n",
       "      <td>ÎLE-DE-FRANCE</td>\n",
       "      <td>YVELINES</td>\n",
       "      <td>6.36</td>\n",
       "      <td>In market</td>\n",
       "    </tr>\n",
       "    <tr>\n",
       "      <th>1877</th>\n",
       "      <td>PEUGEOT</td>\n",
       "      <td>208</td>\n",
       "      <td>MANUELLE</td>\n",
       "      <td>31694</td>\n",
       "      <td>Second-Hand</td>\n",
       "      <td>ESSENCE</td>\n",
       "      <td>2019</td>\n",
       "      <td>14370.0</td>\n",
       "      <td>78310</td>\n",
       "      <td>1.933024</td>\n",
       "      <td>48.756704</td>\n",
       "      <td>MAUREPAS, COIGNIÈRES</td>\n",
       "      <td>ÎLE-DE-FRANCE</td>\n",
       "      <td>YVELINES</td>\n",
       "      <td>6.36</td>\n",
       "      <td>In market</td>\n",
       "    </tr>\n",
       "    <tr>\n",
       "      <th>1818</th>\n",
       "      <td>PEUGEOT</td>\n",
       "      <td>208</td>\n",
       "      <td>MANUELLE</td>\n",
       "      <td>17675</td>\n",
       "      <td>Second-Hand</td>\n",
       "      <td>ESSENCE</td>\n",
       "      <td>2019</td>\n",
       "      <td>13300.0</td>\n",
       "      <td>78000</td>\n",
       "      <td>2.153866</td>\n",
       "      <td>48.812168</td>\n",
       "      <td>VERSAILLES</td>\n",
       "      <td>ÎLE-DE-FRANCE</td>\n",
       "      <td>YVELINES</td>\n",
       "      <td>6.82</td>\n",
       "      <td>In market</td>\n",
       "    </tr>\n",
       "    <tr>\n",
       "      <th>1492</th>\n",
       "      <td>PEUGEOT</td>\n",
       "      <td>208</td>\n",
       "      <td>MANUELLE</td>\n",
       "      <td>4659</td>\n",
       "      <td>Second-Hand</td>\n",
       "      <td>ESSENCE</td>\n",
       "      <td>2021</td>\n",
       "      <td>21510.0</td>\n",
       "      <td>75015</td>\n",
       "      <td>2.293987</td>\n",
       "      <td>48.830741</td>\n",
       "      <td>PARIS 15, PARIS</td>\n",
       "      <td>ÎLE-DE-FRANCE</td>\n",
       "      <td>PARIS</td>\n",
       "      <td>8.18</td>\n",
       "      <td>Expensive</td>\n",
       "    </tr>\n",
       "    <tr>\n",
       "      <th>2677</th>\n",
       "      <td>PEUGEOT</td>\n",
       "      <td>208</td>\n",
       "      <td>MANUELLE</td>\n",
       "      <td>30522</td>\n",
       "      <td>Second-Hand</td>\n",
       "      <td>ESSENCE</td>\n",
       "      <td>2020</td>\n",
       "      <td>13300.0</td>\n",
       "      <td>78140</td>\n",
       "      <td>2.182352</td>\n",
       "      <td>48.781029</td>\n",
       "      <td>VÉLIZY-VILLACOUBLAY</td>\n",
       "      <td>ÎLE-DE-FRANCE</td>\n",
       "      <td>YVELINES</td>\n",
       "      <td>6.82</td>\n",
       "      <td>In market</td>\n",
       "    </tr>\n",
       "    <tr>\n",
       "      <th>1390</th>\n",
       "      <td>PEUGEOT</td>\n",
       "      <td>208</td>\n",
       "      <td>MANUELLE</td>\n",
       "      <td>5400</td>\n",
       "      <td>Second-Hand</td>\n",
       "      <td>ESSENCE</td>\n",
       "      <td>2021</td>\n",
       "      <td>20410.0</td>\n",
       "      <td>93600</td>\n",
       "      <td>2.521687</td>\n",
       "      <td>48.950336</td>\n",
       "      <td>AULNAY-SOUS-BOIS</td>\n",
       "      <td>ÎLE-DE-FRANCE</td>\n",
       "      <td>SEINE-SAINT-DENIS</td>\n",
       "      <td>8.18</td>\n",
       "      <td>Expensive</td>\n",
       "    </tr>\n",
       "  </tbody>\n",
       "</table>\n",
       "</div>"
      ],
      "text/plain": [
       "        Brand Model      Gear     KM     Category  Energie  Year    Price  \\\n",
       "6900  PEUGEOT   208  MANUELLE     11          New  ESSENCE  2021  24060.0   \n",
       "1113  PEUGEOT   208  MANUELLE     12          New  ESSENCE  2021  22980.0   \n",
       "3757  PEUGEOT   208  MANUELLE  19700  Second-Hand  ESSENCE  2020  14120.0   \n",
       "797   PEUGEOT   208  MANUELLE  35387  Second-Hand  ESSENCE  2019  11790.0   \n",
       "1603  PEUGEOT   208  MANUELLE  28874  Second-Hand  ESSENCE  2019  13730.0   \n",
       "1877  PEUGEOT   208  MANUELLE  31694  Second-Hand  ESSENCE  2019  14370.0   \n",
       "1818  PEUGEOT   208  MANUELLE  17675  Second-Hand  ESSENCE  2019  13300.0   \n",
       "1492  PEUGEOT   208  MANUELLE   4659  Second-Hand  ESSENCE  2021  21510.0   \n",
       "2677  PEUGEOT   208  MANUELLE  30522  Second-Hand  ESSENCE  2020  13300.0   \n",
       "1390  PEUGEOT   208  MANUELLE   5400  Second-Hand  ESSENCE  2021  20410.0   \n",
       "\n",
       "      Zip_code  longitude   latitude                  City          State  \\\n",
       "6900     92250   2.238421  48.903225   LA GARENNE-COLOMBES  ÎLE-DE-FRANCE   \n",
       "1113     94120   2.456175  48.850186    FONTENAY-SOUS-BOIS  ÎLE-DE-FRANCE   \n",
       "3757     78000   2.153866  48.812168            VERSAILLES  ÎLE-DE-FRANCE   \n",
       "797      78190   2.012375  48.771468               TRAPPES  ÎLE-DE-FRANCE   \n",
       "1603     78310   1.933024  48.756704  MAUREPAS, COIGNIÈRES  ÎLE-DE-FRANCE   \n",
       "1877     78310   1.933024  48.756704  MAUREPAS, COIGNIÈRES  ÎLE-DE-FRANCE   \n",
       "1818     78000   2.153866  48.812168            VERSAILLES  ÎLE-DE-FRANCE   \n",
       "1492     75015   2.293987  48.830741       PARIS 15, PARIS  ÎLE-DE-FRANCE   \n",
       "2677     78140   2.182352  48.781029   VÉLIZY-VILLACOUBLAY  ÎLE-DE-FRANCE   \n",
       "1390     93600   2.521687  48.950336      AULNAY-SOUS-BOIS  ÎLE-DE-FRANCE   \n",
       "\n",
       "                 Region  Scoring Price_recommendation  \n",
       "6900     HAUTS-DE-SEINE     8.64            Expensive  \n",
       "1113       VAL-DE-MARNE     8.64            Expensive  \n",
       "3757           YVELINES     7.27            In market  \n",
       "797            YVELINES     6.36            In market  \n",
       "1603           YVELINES     6.36            In market  \n",
       "1877           YVELINES     6.36            In market  \n",
       "1818           YVELINES     6.82            In market  \n",
       "1492              PARIS     8.18            Expensive  \n",
       "2677           YVELINES     6.82            In market  \n",
       "1390  SEINE-SAINT-DENIS     8.18            Expensive  "
      ]
     },
     "execution_count": 120,
     "metadata": {},
     "output_type": "execute_result"
    }
   ],
   "source": [
    "#The output after the client has selected all his requirements\n",
    "df_rec.sample(10)"
   ]
  },
  {
   "cell_type": "code",
   "execution_count": null,
   "metadata": {},
   "outputs": [],
   "source": []
  },
  {
   "cell_type": "code",
   "execution_count": 121,
   "metadata": {},
   "outputs": [
    {
     "data": {
      "text/html": [
       "<iframe\n",
       "    scrolling=\"no\"\n",
       "    width=\"100%\"\n",
       "    height=\"545px\"\n",
       "    src=\"iframe_figures/figure_121.html\"\n",
       "    frameborder=\"0\"\n",
       "    allowfullscreen\n",
       "></iframe>\n"
      ]
     },
     "metadata": {},
     "output_type": "display_data"
    }
   ],
   "source": [
    "fig = px.scatter_mapbox(df_rec, \n",
    "                        lat=\"latitude\", \n",
    "                        lon=\"longitude\", \n",
    "                        color=\"Price_recommendation\", \n",
    "                        zoom=5.0, \n",
    "                        mapbox_style=\"carto-positron\",\n",
    "                        hover_name='Brand',\n",
    "                        text='City',\n",
    "                        #size='Price_recommendation',\n",
    "                        title='Cars recommendation: Brand selection')\n",
    "fig.show()"
   ]
  },
  {
   "cell_type": "code",
   "execution_count": 122,
   "metadata": {},
   "outputs": [
    {
     "data": {
      "text/html": [
       "<div>\n",
       "<style scoped>\n",
       "    .dataframe tbody tr th:only-of-type {\n",
       "        vertical-align: middle;\n",
       "    }\n",
       "\n",
       "    .dataframe tbody tr th {\n",
       "        vertical-align: top;\n",
       "    }\n",
       "\n",
       "    .dataframe thead th {\n",
       "        text-align: right;\n",
       "    }\n",
       "</style>\n",
       "<table border=\"1\" class=\"dataframe\">\n",
       "  <thead>\n",
       "    <tr style=\"text-align: right;\">\n",
       "      <th></th>\n",
       "      <th>Brand</th>\n",
       "      <th>Model</th>\n",
       "      <th>Gear</th>\n",
       "      <th>KM</th>\n",
       "      <th>Category</th>\n",
       "      <th>Energie</th>\n",
       "      <th>Year</th>\n",
       "      <th>Price</th>\n",
       "      <th>Zip_code</th>\n",
       "      <th>longitude</th>\n",
       "      <th>latitude</th>\n",
       "      <th>City</th>\n",
       "      <th>State</th>\n",
       "      <th>Region</th>\n",
       "      <th>Scoring</th>\n",
       "    </tr>\n",
       "  </thead>\n",
       "  <tbody>\n",
       "    <tr>\n",
       "      <th>0</th>\n",
       "      <td>RENAULT</td>\n",
       "      <td>CLIO</td>\n",
       "      <td>MANUELLE</td>\n",
       "      <td>7577</td>\n",
       "      <td>Second-Hand</td>\n",
       "      <td>DIESEL</td>\n",
       "      <td>2020</td>\n",
       "      <td>17830.0</td>\n",
       "      <td>33310</td>\n",
       "      <td>-0.510499</td>\n",
       "      <td>44.878583</td>\n",
       "      <td>LORMONT</td>\n",
       "      <td>NOUVELLE-AQUITAINE</td>\n",
       "      <td>GIRONDE</td>\n",
       "      <td>7.27</td>\n",
       "    </tr>\n",
       "    <tr>\n",
       "      <th>1</th>\n",
       "      <td>RENAULT</td>\n",
       "      <td>CLIO</td>\n",
       "      <td>MANUELLE</td>\n",
       "      <td>49851</td>\n",
       "      <td>Second-Hand</td>\n",
       "      <td>DIESEL</td>\n",
       "      <td>2019</td>\n",
       "      <td>11540.0</td>\n",
       "      <td>24400</td>\n",
       "      <td>0.369879</td>\n",
       "      <td>45.044040</td>\n",
       "      <td>SAINT-MÉDARD-DE-MUSSIDAN, ÉGLISE-NEUVE-D’ISSAC...</td>\n",
       "      <td>NOUVELLE-AQUITAINE</td>\n",
       "      <td>DORDOGNE</td>\n",
       "      <td>5.91</td>\n",
       "    </tr>\n",
       "    <tr>\n",
       "      <th>2</th>\n",
       "      <td>RENAULT</td>\n",
       "      <td>CLIO</td>\n",
       "      <td>MANUELLE</td>\n",
       "      <td>19318</td>\n",
       "      <td>Second-Hand</td>\n",
       "      <td>ESSENCE</td>\n",
       "      <td>2020</td>\n",
       "      <td>13360.0</td>\n",
       "      <td>24400</td>\n",
       "      <td>0.369879</td>\n",
       "      <td>45.044040</td>\n",
       "      <td>SAINT-MÉDARD-DE-MUSSIDAN, ÉGLISE-NEUVE-D’ISSAC...</td>\n",
       "      <td>NOUVELLE-AQUITAINE</td>\n",
       "      <td>DORDOGNE</td>\n",
       "      <td>7.27</td>\n",
       "    </tr>\n",
       "    <tr>\n",
       "      <th>3</th>\n",
       "      <td>RENAULT</td>\n",
       "      <td>MEGANE</td>\n",
       "      <td>MANUELLE</td>\n",
       "      <td>124202</td>\n",
       "      <td>Second-Hand</td>\n",
       "      <td>DIESEL</td>\n",
       "      <td>2018</td>\n",
       "      <td>11530.0</td>\n",
       "      <td>59650</td>\n",
       "      <td>3.121595</td>\n",
       "      <td>50.631513</td>\n",
       "      <td>VILLENEUVE-D'ASCQ</td>\n",
       "      <td>HAUTS-DE-FRANCE</td>\n",
       "      <td>NORD</td>\n",
       "      <td>4.09</td>\n",
       "    </tr>\n",
       "    <tr>\n",
       "      <th>4</th>\n",
       "      <td>RENAULT</td>\n",
       "      <td>MEGANE</td>\n",
       "      <td>MANUELLE</td>\n",
       "      <td>66729</td>\n",
       "      <td>Second-Hand</td>\n",
       "      <td>DIESEL</td>\n",
       "      <td>2019</td>\n",
       "      <td>19360.0</td>\n",
       "      <td>59260</td>\n",
       "      <td>3.122092</td>\n",
       "      <td>50.626434</td>\n",
       "      <td>LEZENNES, LILLE</td>\n",
       "      <td>HAUTS-DE-FRANCE</td>\n",
       "      <td>NORD</td>\n",
       "      <td>5.45</td>\n",
       "    </tr>\n",
       "  </tbody>\n",
       "</table>\n",
       "</div>"
      ],
      "text/plain": [
       "     Brand   Model      Gear      KM     Category  Energie  Year    Price  \\\n",
       "0  RENAULT    CLIO  MANUELLE    7577  Second-Hand   DIESEL  2020  17830.0   \n",
       "1  RENAULT    CLIO  MANUELLE   49851  Second-Hand   DIESEL  2019  11540.0   \n",
       "2  RENAULT    CLIO  MANUELLE   19318  Second-Hand  ESSENCE  2020  13360.0   \n",
       "3  RENAULT  MEGANE  MANUELLE  124202  Second-Hand   DIESEL  2018  11530.0   \n",
       "4  RENAULT  MEGANE  MANUELLE   66729  Second-Hand   DIESEL  2019  19360.0   \n",
       "\n",
       "   Zip_code  longitude   latitude  \\\n",
       "0     33310  -0.510499  44.878583   \n",
       "1     24400   0.369879  45.044040   \n",
       "2     24400   0.369879  45.044040   \n",
       "3     59650   3.121595  50.631513   \n",
       "4     59260   3.122092  50.626434   \n",
       "\n",
       "                                                City               State  \\\n",
       "0                                            LORMONT  NOUVELLE-AQUITAINE   \n",
       "1  SAINT-MÉDARD-DE-MUSSIDAN, ÉGLISE-NEUVE-D’ISSAC...  NOUVELLE-AQUITAINE   \n",
       "2  SAINT-MÉDARD-DE-MUSSIDAN, ÉGLISE-NEUVE-D’ISSAC...  NOUVELLE-AQUITAINE   \n",
       "3                                  VILLENEUVE-D'ASCQ     HAUTS-DE-FRANCE   \n",
       "4                                    LEZENNES, LILLE     HAUTS-DE-FRANCE   \n",
       "\n",
       "     Region  Scoring  \n",
       "0   GIRONDE     7.27  \n",
       "1  DORDOGNE     5.91  \n",
       "2  DORDOGNE     7.27  \n",
       "3      NORD     4.09  \n",
       "4      NORD     5.45  "
      ]
     },
     "execution_count": 122,
     "metadata": {},
     "output_type": "execute_result"
    }
   ],
   "source": [
    "df_final.head()"
   ]
  },
  {
   "cell_type": "code",
   "execution_count": null,
   "metadata": {},
   "outputs": [],
   "source": []
  },
  {
   "cell_type": "code",
   "execution_count": 123,
   "metadata": {},
   "outputs": [
    {
     "data": {
      "text/html": [
       "<div>\n",
       "<style scoped>\n",
       "    .dataframe tbody tr th:only-of-type {\n",
       "        vertical-align: middle;\n",
       "    }\n",
       "\n",
       "    .dataframe tbody tr th {\n",
       "        vertical-align: top;\n",
       "    }\n",
       "\n",
       "    .dataframe thead th {\n",
       "        text-align: right;\n",
       "    }\n",
       "</style>\n",
       "<table border=\"1\" class=\"dataframe\">\n",
       "  <thead>\n",
       "    <tr style=\"text-align: right;\">\n",
       "      <th></th>\n",
       "      <th>Brand</th>\n",
       "      <th>Model</th>\n",
       "      <th>Gear</th>\n",
       "      <th>KM</th>\n",
       "      <th>Category</th>\n",
       "      <th>Energie</th>\n",
       "      <th>Year</th>\n",
       "      <th>Price</th>\n",
       "      <th>State</th>\n",
       "      <th>Scoring</th>\n",
       "    </tr>\n",
       "  </thead>\n",
       "  <tbody>\n",
       "    <tr>\n",
       "      <th>0</th>\n",
       "      <td>RENAULT</td>\n",
       "      <td>CLIO</td>\n",
       "      <td>MANUELLE</td>\n",
       "      <td>7577</td>\n",
       "      <td>Second-Hand</td>\n",
       "      <td>DIESEL</td>\n",
       "      <td>2020</td>\n",
       "      <td>17830.0</td>\n",
       "      <td>NOUVELLE-AQUITAINE</td>\n",
       "      <td>7.27</td>\n",
       "    </tr>\n",
       "    <tr>\n",
       "      <th>1</th>\n",
       "      <td>RENAULT</td>\n",
       "      <td>CLIO</td>\n",
       "      <td>MANUELLE</td>\n",
       "      <td>49851</td>\n",
       "      <td>Second-Hand</td>\n",
       "      <td>DIESEL</td>\n",
       "      <td>2019</td>\n",
       "      <td>11540.0</td>\n",
       "      <td>NOUVELLE-AQUITAINE</td>\n",
       "      <td>5.91</td>\n",
       "    </tr>\n",
       "    <tr>\n",
       "      <th>2</th>\n",
       "      <td>RENAULT</td>\n",
       "      <td>CLIO</td>\n",
       "      <td>MANUELLE</td>\n",
       "      <td>19318</td>\n",
       "      <td>Second-Hand</td>\n",
       "      <td>ESSENCE</td>\n",
       "      <td>2020</td>\n",
       "      <td>13360.0</td>\n",
       "      <td>NOUVELLE-AQUITAINE</td>\n",
       "      <td>7.27</td>\n",
       "    </tr>\n",
       "    <tr>\n",
       "      <th>3</th>\n",
       "      <td>RENAULT</td>\n",
       "      <td>MEGANE</td>\n",
       "      <td>MANUELLE</td>\n",
       "      <td>124202</td>\n",
       "      <td>Second-Hand</td>\n",
       "      <td>DIESEL</td>\n",
       "      <td>2018</td>\n",
       "      <td>11530.0</td>\n",
       "      <td>HAUTS-DE-FRANCE</td>\n",
       "      <td>4.09</td>\n",
       "    </tr>\n",
       "    <tr>\n",
       "      <th>4</th>\n",
       "      <td>RENAULT</td>\n",
       "      <td>MEGANE</td>\n",
       "      <td>MANUELLE</td>\n",
       "      <td>66729</td>\n",
       "      <td>Second-Hand</td>\n",
       "      <td>DIESEL</td>\n",
       "      <td>2019</td>\n",
       "      <td>19360.0</td>\n",
       "      <td>HAUTS-DE-FRANCE</td>\n",
       "      <td>5.45</td>\n",
       "    </tr>\n",
       "    <tr>\n",
       "      <th>...</th>\n",
       "      <td>...</td>\n",
       "      <td>...</td>\n",
       "      <td>...</td>\n",
       "      <td>...</td>\n",
       "      <td>...</td>\n",
       "      <td>...</td>\n",
       "      <td>...</td>\n",
       "      <td>...</td>\n",
       "      <td>...</td>\n",
       "      <td>...</td>\n",
       "    </tr>\n",
       "    <tr>\n",
       "      <th>11573</th>\n",
       "      <td>VOLKSWAGEN</td>\n",
       "      <td>T-ROC</td>\n",
       "      <td>AUTOMATIQUE</td>\n",
       "      <td>69650</td>\n",
       "      <td>Second-Hand</td>\n",
       "      <td>DIESEL</td>\n",
       "      <td>2019</td>\n",
       "      <td>27990.0</td>\n",
       "      <td>HAUTS-DE-FRANCE</td>\n",
       "      <td>5.91</td>\n",
       "    </tr>\n",
       "    <tr>\n",
       "      <th>11574</th>\n",
       "      <td>VOLKSWAGEN</td>\n",
       "      <td>POLO</td>\n",
       "      <td>AUTOMATIQUE</td>\n",
       "      <td>29736</td>\n",
       "      <td>Second-Hand</td>\n",
       "      <td>DIESEL</td>\n",
       "      <td>2017</td>\n",
       "      <td>15987.0</td>\n",
       "      <td>GRAND EST</td>\n",
       "      <td>5.91</td>\n",
       "    </tr>\n",
       "    <tr>\n",
       "      <th>11575</th>\n",
       "      <td>VOLKSWAGEN</td>\n",
       "      <td>T-ROC</td>\n",
       "      <td>AUTOMATIQUE</td>\n",
       "      <td>55890</td>\n",
       "      <td>Second-Hand</td>\n",
       "      <td>ESSENCE</td>\n",
       "      <td>2018</td>\n",
       "      <td>25900.0</td>\n",
       "      <td>PROVENCE-ALPES-CÔTE D'AZUR</td>\n",
       "      <td>5.91</td>\n",
       "    </tr>\n",
       "    <tr>\n",
       "      <th>11576</th>\n",
       "      <td>VOLKSWAGEN</td>\n",
       "      <td>TIGUAN</td>\n",
       "      <td>MANUELLE</td>\n",
       "      <td>61873</td>\n",
       "      <td>Second-Hand</td>\n",
       "      <td>DIESEL</td>\n",
       "      <td>2018</td>\n",
       "      <td>21990.0</td>\n",
       "      <td>GRAND EST</td>\n",
       "      <td>5.00</td>\n",
       "    </tr>\n",
       "    <tr>\n",
       "      <th>11577</th>\n",
       "      <td>VOLKSWAGEN</td>\n",
       "      <td>TIGUAN</td>\n",
       "      <td>AUTOMATIQUE</td>\n",
       "      <td>17100</td>\n",
       "      <td>Second-Hand</td>\n",
       "      <td>ESSENCE</td>\n",
       "      <td>2020</td>\n",
       "      <td>35995.0</td>\n",
       "      <td>AUVERGNE-RHÔNE-ALPES</td>\n",
       "      <td>7.73</td>\n",
       "    </tr>\n",
       "  </tbody>\n",
       "</table>\n",
       "<p>11578 rows × 10 columns</p>\n",
       "</div>"
      ],
      "text/plain": [
       "            Brand   Model         Gear      KM     Category  Energie  Year  \\\n",
       "0         RENAULT    CLIO     MANUELLE    7577  Second-Hand   DIESEL  2020   \n",
       "1         RENAULT    CLIO     MANUELLE   49851  Second-Hand   DIESEL  2019   \n",
       "2         RENAULT    CLIO     MANUELLE   19318  Second-Hand  ESSENCE  2020   \n",
       "3         RENAULT  MEGANE     MANUELLE  124202  Second-Hand   DIESEL  2018   \n",
       "4         RENAULT  MEGANE     MANUELLE   66729  Second-Hand   DIESEL  2019   \n",
       "...           ...     ...          ...     ...          ...      ...   ...   \n",
       "11573  VOLKSWAGEN   T-ROC  AUTOMATIQUE   69650  Second-Hand   DIESEL  2019   \n",
       "11574  VOLKSWAGEN    POLO  AUTOMATIQUE   29736  Second-Hand   DIESEL  2017   \n",
       "11575  VOLKSWAGEN   T-ROC  AUTOMATIQUE   55890  Second-Hand  ESSENCE  2018   \n",
       "11576  VOLKSWAGEN  TIGUAN     MANUELLE   61873  Second-Hand   DIESEL  2018   \n",
       "11577  VOLKSWAGEN  TIGUAN  AUTOMATIQUE   17100  Second-Hand  ESSENCE  2020   \n",
       "\n",
       "         Price                       State  Scoring  \n",
       "0      17830.0          NOUVELLE-AQUITAINE     7.27  \n",
       "1      11540.0          NOUVELLE-AQUITAINE     5.91  \n",
       "2      13360.0          NOUVELLE-AQUITAINE     7.27  \n",
       "3      11530.0             HAUTS-DE-FRANCE     4.09  \n",
       "4      19360.0             HAUTS-DE-FRANCE     5.45  \n",
       "...        ...                         ...      ...  \n",
       "11573  27990.0             HAUTS-DE-FRANCE     5.91  \n",
       "11574  15987.0                   GRAND EST     5.91  \n",
       "11575  25900.0  PROVENCE-ALPES-CÔTE D'AZUR     5.91  \n",
       "11576  21990.0                   GRAND EST     5.00  \n",
       "11577  35995.0        AUVERGNE-RHÔNE-ALPES     7.73  \n",
       "\n",
       "[11578 rows x 10 columns]"
      ]
     },
     "execution_count": 123,
     "metadata": {},
     "output_type": "execute_result"
    }
   ],
   "source": [
    "df_webapp = df_final.drop(columns=['City','Region','Zip_code','longitude','latitude'],axis=1)\n",
    "df_webapp"
   ]
  },
  {
   "cell_type": "code",
   "execution_count": 124,
   "metadata": {},
   "outputs": [],
   "source": [
    "df_webapp.to_csv('df_webapp.csv')"
   ]
  },
  {
   "cell_type": "code",
   "execution_count": null,
   "metadata": {},
   "outputs": [],
   "source": []
  }
 ],
 "metadata": {
  "kernelspec": {
   "display_name": "Python 3",
   "language": "python",
   "name": "python3"
  },
  "language_info": {
   "codemirror_mode": {
    "name": "ipython",
    "version": 3
   },
   "file_extension": ".py",
   "mimetype": "text/x-python",
   "name": "python",
   "nbconvert_exporter": "python",
   "pygments_lexer": "ipython3",
   "version": "3.8.6"
  }
 },
 "nbformat": 4,
 "nbformat_minor": 4
}
