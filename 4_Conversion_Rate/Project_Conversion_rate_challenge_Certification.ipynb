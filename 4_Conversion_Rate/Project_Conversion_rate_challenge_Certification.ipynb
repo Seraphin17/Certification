{
 "cells": [
  {
   "cell_type": "markdown",
   "metadata": {},
   "source": [
    "# <span style=\"color:#37464f\"><center>**Yannick NOUDJOUKOUANG**</center></span>\n",
    "### **<center>JEDHA (FULLSTACK - 2021)</center>**\n",
    "# **<center>SUPERVISED MACHINE LEARNING</center>**"
   ]
  },
  {
   "cell_type": "code",
   "execution_count": null,
   "metadata": {},
   "outputs": [],
   "source": []
  },
  {
   "cell_type": "markdown",
   "metadata": {},
   "source": [
    "---"
   ]
  },
  {
   "cell_type": "markdown",
   "metadata": {},
   "source": [
    "\n",
    "## <span>**PLAN**</span>\n",
    "\n",
    "1. Introduction\n",
    "2. Data collection & EDA\n",
    "3. Data visualization\n",
    "4. Preprocessing & Machine Learning\n",
    "5. Model assessment & Regularization\n",
    "6. Conclusion\n",
    "\n",
    "---"
   ]
  },
  {
   "cell_type": "markdown",
   "metadata": {},
   "source": [
    "\n",
    "### **1. Introduction**\n",
    "---"
   ]
  },
  {
   "cell_type": "markdown",
   "metadata": {},
   "source": [
    "**Good to know** : Machine learning is a multidisciplinary science that aims at enabling machines to solve complex problems without explicitely coding the decision making process.\n",
    "Supervised machine learning is a branch of this discipline that consists in solving problems for which there are already solved examples."
   ]
  },
  {
   "cell_type": "code",
   "execution_count": null,
   "metadata": {},
   "outputs": [],
   "source": []
  },
  {
   "cell_type": "markdown",
   "metadata": {},
   "source": [
    "<p align=\"center\"><center>\n",
    "  <img width=\"600\" height=\"400\" src=\"https://encrypted-tbn0.gstatic.com/images?q=tbn:ANd9GcS-pqOYlRPtw4Q57jSGSvRgcY4lksjvmq2OXQ&usqp=CAU\">\n",
    "</center>\n",
    "    </p>\n",
    "\n",
    "# Conversion rate "
   ]
  },
  {
   "cell_type": "markdown",
   "metadata": {},
   "source": [
    "# Challenge : predict conversions 🏆🏆\n",
    "In this project, you will participate to a machine learning competition like the ones that are organized by https://www.kaggle.com/. You will be able to work with jupyter notebooks as usual, but in the end you'll have to submit your model's predictions to your teacher/TA, so your model's performances will be evaluated in an independent way. The scores achieved by the different teams will be stored into a leaderboard 🏅🏅\n",
    "\n",
    "\n",
    "<p align=\"center\"><center>\n",
    "    \n",
    "  <img width=\"600\" height=\"200\" src=\"https://i.morioh.com/200810/3149e0ad.webp\">\n",
    "</center>\n",
    "    \n",
    "</p>\n",
    "\n",
    "\n",
    "## Company's Description 📇\n",
    "www.datascienceweekly.org is a famous newsletter curated by independent data scientists. Anyone can register his/her e-mail address on this website to receive weekly news about data science and its applications !\n"
   ]
  },
  {
   "cell_type": "code",
   "execution_count": null,
   "metadata": {},
   "outputs": [],
   "source": []
  },
  {
   "cell_type": "code",
   "execution_count": null,
   "metadata": {},
   "outputs": [],
   "source": []
  },
  {
   "cell_type": "code",
   "execution_count": null,
   "metadata": {},
   "outputs": [],
   "source": []
  },
  {
   "cell_type": "markdown",
   "metadata": {},
   "source": [
    "\n",
    "### **2. Data collection & EDA**\n",
    "---"
   ]
  },
  {
   "cell_type": "markdown",
   "metadata": {},
   "source": [
    "## A) IMPORT LIBRARIES"
   ]
  },
  {
   "cell_type": "code",
   "execution_count": null,
   "metadata": {},
   "outputs": [],
   "source": []
  },
  {
   "cell_type": "code",
   "execution_count": 1,
   "metadata": {},
   "outputs": [],
   "source": [
    "!pip install plotly -q"
   ]
  },
  {
   "cell_type": "code",
   "execution_count": 2,
   "metadata": {},
   "outputs": [],
   "source": [
    "import pandas as pd\n",
    "import numpy as np\n",
    "\n",
    "from sklearn.model_selection import train_test_split\n",
    "from sklearn.impute import SimpleImputer\n",
    "from sklearn.preprocessing import StandardScaler, OneHotEncoder\n",
    "from sklearn.compose import ColumnTransformer\n",
    "from sklearn.linear_model import LogisticRegression\n",
    "from sklearn.metrics import f1_score, confusion_matrix, accuracy_score\n",
    "\n",
    "from sklearn.model_selection import cross_val_score, GridSearchCV\n",
    "from sklearn.pipeline import Pipeline\n",
    "from sklearn.metrics import r2_score, mean_squared_error\n",
    "\n",
    "import warnings\n",
    "\n",
    "import seaborn as sns\n",
    "import matplotlib.pyplot as plt\n",
    "import plotly.express as px\n",
    "import plotly.graph_objects as go\n",
    "import plotly.io as pio\n",
    "# setting Jedha color palette as default\n",
    "pio.templates[\"jedha\"] = go.layout.Template(\n",
    "    layout_colorway=[\"#4B9AC7\", \"#4BE8E0\", \"#9DD4F3\", \"#97FBF6\", \"#2A7FAF\", \"#23B1AB\", \"#0E3449\", \"#015955\"]\n",
    ")\n",
    "pio.templates.default = \"jedha\"\n",
    "pio.renderers.default = \"iframe\" # to be replaced by \"iframe\" if working on JULIE\n",
    "from IPython.display import display"
   ]
  },
  {
   "cell_type": "code",
   "execution_count": null,
   "metadata": {},
   "outputs": [],
   "source": []
  },
  {
   "cell_type": "markdown",
   "metadata": {},
   "source": [
    "## B) EXPLORATORY DATA ANALYSIS"
   ]
  },
  {
   "cell_type": "markdown",
   "metadata": {},
   "source": [
    "### 1. Dataset overview"
   ]
  },
  {
   "cell_type": "code",
   "execution_count": 3,
   "metadata": {},
   "outputs": [
    {
     "data": {
      "text/html": [
       "<div>\n",
       "<style scoped>\n",
       "    .dataframe tbody tr th:only-of-type {\n",
       "        vertical-align: middle;\n",
       "    }\n",
       "\n",
       "    .dataframe tbody tr th {\n",
       "        vertical-align: top;\n",
       "    }\n",
       "\n",
       "    .dataframe thead th {\n",
       "        text-align: right;\n",
       "    }\n",
       "</style>\n",
       "<table border=\"1\" class=\"dataframe\">\n",
       "  <thead>\n",
       "    <tr style=\"text-align: right;\">\n",
       "      <th></th>\n",
       "      <th>country</th>\n",
       "      <th>age</th>\n",
       "      <th>new_user</th>\n",
       "      <th>source</th>\n",
       "      <th>total_pages_visited</th>\n",
       "      <th>converted</th>\n",
       "    </tr>\n",
       "  </thead>\n",
       "  <tbody>\n",
       "    <tr>\n",
       "      <th>0</th>\n",
       "      <td>China</td>\n",
       "      <td>22</td>\n",
       "      <td>1</td>\n",
       "      <td>Direct</td>\n",
       "      <td>2</td>\n",
       "      <td>0</td>\n",
       "    </tr>\n",
       "    <tr>\n",
       "      <th>1</th>\n",
       "      <td>UK</td>\n",
       "      <td>21</td>\n",
       "      <td>1</td>\n",
       "      <td>Ads</td>\n",
       "      <td>3</td>\n",
       "      <td>0</td>\n",
       "    </tr>\n",
       "    <tr>\n",
       "      <th>2</th>\n",
       "      <td>Germany</td>\n",
       "      <td>20</td>\n",
       "      <td>0</td>\n",
       "      <td>Seo</td>\n",
       "      <td>14</td>\n",
       "      <td>1</td>\n",
       "    </tr>\n",
       "    <tr>\n",
       "      <th>3</th>\n",
       "      <td>US</td>\n",
       "      <td>23</td>\n",
       "      <td>1</td>\n",
       "      <td>Seo</td>\n",
       "      <td>3</td>\n",
       "      <td>0</td>\n",
       "    </tr>\n",
       "    <tr>\n",
       "      <th>4</th>\n",
       "      <td>US</td>\n",
       "      <td>28</td>\n",
       "      <td>1</td>\n",
       "      <td>Direct</td>\n",
       "      <td>3</td>\n",
       "      <td>0</td>\n",
       "    </tr>\n",
       "  </tbody>\n",
       "</table>\n",
       "</div>"
      ],
      "text/plain": [
       "   country  age  new_user  source  total_pages_visited  converted\n",
       "0    China   22         1  Direct                    2          0\n",
       "1       UK   21         1     Ads                    3          0\n",
       "2  Germany   20         0     Seo                   14          1\n",
       "3       US   23         1     Seo                    3          0\n",
       "4       US   28         1  Direct                    3          0"
      ]
     },
     "metadata": {},
     "output_type": "display_data"
    }
   ],
   "source": [
    "df = pd.read_csv('conversion_data_train.csv')\n",
    "display(df.head())"
   ]
  },
  {
   "cell_type": "code",
   "execution_count": null,
   "metadata": {},
   "outputs": [],
   "source": []
  },
  {
   "cell_type": "code",
   "execution_count": 4,
   "metadata": {},
   "outputs": [
    {
     "name": "stdout",
     "output_type": "stream",
     "text": [
      "Rough analysis\n",
      "<class 'pandas.core.frame.DataFrame'>\n",
      "RangeIndex: 284580 entries, 0 to 284579\n",
      "Data columns (total 6 columns):\n",
      " #   Column               Non-Null Count   Dtype \n",
      "---  ------               --------------   ----- \n",
      " 0   country              284580 non-null  object\n",
      " 1   age                  284580 non-null  int64 \n",
      " 2   new_user             284580 non-null  int64 \n",
      " 3   source               284580 non-null  object\n",
      " 4   total_pages_visited  284580 non-null  int64 \n",
      " 5   converted            284580 non-null  int64 \n",
      "dtypes: int64(4), object(2)\n",
      "memory usage: 13.0+ MB\n",
      "None\n",
      " \n",
      "------------------\n",
      " \n",
      "country                 4\n",
      "age                    60\n",
      "new_user                2\n",
      "source                  3\n",
      "total_pages_visited    29\n",
      "converted               2\n",
      "dtype: int64\n",
      " \n",
      "------------------\n",
      " \n",
      "* The dataset has initially 284580 rows and 6 columns.\n"
     ]
    }
   ],
   "source": [
    "print('Rough analysis')\n",
    "print(df.info())\n",
    "print(' ')\n",
    "print('------------------')\n",
    "print(' ')\n",
    "print(df.nunique())\n",
    "print(' ')\n",
    "print('------------------')\n",
    "print(' ')\n",
    "print('* The dataset has initially {} rows and {} columns.'.format(df.shape[0],df.shape[1]))"
   ]
  },
  {
   "cell_type": "code",
   "execution_count": null,
   "metadata": {},
   "outputs": [],
   "source": []
  },
  {
   "cell_type": "code",
   "execution_count": 5,
   "metadata": {},
   "outputs": [
    {
     "data": {
      "text/html": [
       "<div>\n",
       "<style scoped>\n",
       "    .dataframe tbody tr th:only-of-type {\n",
       "        vertical-align: middle;\n",
       "    }\n",
       "\n",
       "    .dataframe tbody tr th {\n",
       "        vertical-align: top;\n",
       "    }\n",
       "\n",
       "    .dataframe thead th {\n",
       "        text-align: right;\n",
       "    }\n",
       "</style>\n",
       "<table border=\"1\" class=\"dataframe\">\n",
       "  <thead>\n",
       "    <tr style=\"text-align: right;\">\n",
       "      <th></th>\n",
       "      <th>country</th>\n",
       "      <th>age</th>\n",
       "      <th>new_user</th>\n",
       "      <th>source</th>\n",
       "      <th>total_pages_visited</th>\n",
       "      <th>converted</th>\n",
       "    </tr>\n",
       "  </thead>\n",
       "  <tbody>\n",
       "    <tr>\n",
       "      <th>count</th>\n",
       "      <td>284580</td>\n",
       "      <td>284580.000000</td>\n",
       "      <td>284580.000000</td>\n",
       "      <td>284580</td>\n",
       "      <td>284580.000000</td>\n",
       "      <td>284580.000000</td>\n",
       "    </tr>\n",
       "    <tr>\n",
       "      <th>unique</th>\n",
       "      <td>4</td>\n",
       "      <td>NaN</td>\n",
       "      <td>NaN</td>\n",
       "      <td>3</td>\n",
       "      <td>NaN</td>\n",
       "      <td>NaN</td>\n",
       "    </tr>\n",
       "    <tr>\n",
       "      <th>top</th>\n",
       "      <td>US</td>\n",
       "      <td>NaN</td>\n",
       "      <td>NaN</td>\n",
       "      <td>Seo</td>\n",
       "      <td>NaN</td>\n",
       "      <td>NaN</td>\n",
       "    </tr>\n",
       "    <tr>\n",
       "      <th>freq</th>\n",
       "      <td>160124</td>\n",
       "      <td>NaN</td>\n",
       "      <td>NaN</td>\n",
       "      <td>139477</td>\n",
       "      <td>NaN</td>\n",
       "      <td>NaN</td>\n",
       "    </tr>\n",
       "    <tr>\n",
       "      <th>mean</th>\n",
       "      <td>NaN</td>\n",
       "      <td>30.564203</td>\n",
       "      <td>0.685452</td>\n",
       "      <td>NaN</td>\n",
       "      <td>4.873252</td>\n",
       "      <td>0.032258</td>\n",
       "    </tr>\n",
       "    <tr>\n",
       "      <th>std</th>\n",
       "      <td>NaN</td>\n",
       "      <td>8.266789</td>\n",
       "      <td>0.464336</td>\n",
       "      <td>NaN</td>\n",
       "      <td>3.341995</td>\n",
       "      <td>0.176685</td>\n",
       "    </tr>\n",
       "    <tr>\n",
       "      <th>min</th>\n",
       "      <td>NaN</td>\n",
       "      <td>17.000000</td>\n",
       "      <td>0.000000</td>\n",
       "      <td>NaN</td>\n",
       "      <td>1.000000</td>\n",
       "      <td>0.000000</td>\n",
       "    </tr>\n",
       "    <tr>\n",
       "      <th>25%</th>\n",
       "      <td>NaN</td>\n",
       "      <td>24.000000</td>\n",
       "      <td>0.000000</td>\n",
       "      <td>NaN</td>\n",
       "      <td>2.000000</td>\n",
       "      <td>0.000000</td>\n",
       "    </tr>\n",
       "    <tr>\n",
       "      <th>50%</th>\n",
       "      <td>NaN</td>\n",
       "      <td>30.000000</td>\n",
       "      <td>1.000000</td>\n",
       "      <td>NaN</td>\n",
       "      <td>4.000000</td>\n",
       "      <td>0.000000</td>\n",
       "    </tr>\n",
       "    <tr>\n",
       "      <th>75%</th>\n",
       "      <td>NaN</td>\n",
       "      <td>36.000000</td>\n",
       "      <td>1.000000</td>\n",
       "      <td>NaN</td>\n",
       "      <td>7.000000</td>\n",
       "      <td>0.000000</td>\n",
       "    </tr>\n",
       "    <tr>\n",
       "      <th>max</th>\n",
       "      <td>NaN</td>\n",
       "      <td>123.000000</td>\n",
       "      <td>1.000000</td>\n",
       "      <td>NaN</td>\n",
       "      <td>29.000000</td>\n",
       "      <td>1.000000</td>\n",
       "    </tr>\n",
       "  </tbody>\n",
       "</table>\n",
       "</div>"
      ],
      "text/plain": [
       "       country            age       new_user  source  total_pages_visited  \\\n",
       "count   284580  284580.000000  284580.000000  284580        284580.000000   \n",
       "unique       4            NaN            NaN       3                  NaN   \n",
       "top         US            NaN            NaN     Seo                  NaN   \n",
       "freq    160124            NaN            NaN  139477                  NaN   \n",
       "mean       NaN      30.564203       0.685452     NaN             4.873252   \n",
       "std        NaN       8.266789       0.464336     NaN             3.341995   \n",
       "min        NaN      17.000000       0.000000     NaN             1.000000   \n",
       "25%        NaN      24.000000       0.000000     NaN             2.000000   \n",
       "50%        NaN      30.000000       1.000000     NaN             4.000000   \n",
       "75%        NaN      36.000000       1.000000     NaN             7.000000   \n",
       "max        NaN     123.000000       1.000000     NaN            29.000000   \n",
       "\n",
       "            converted  \n",
       "count   284580.000000  \n",
       "unique            NaN  \n",
       "top               NaN  \n",
       "freq              NaN  \n",
       "mean         0.032258  \n",
       "std          0.176685  \n",
       "min          0.000000  \n",
       "25%          0.000000  \n",
       "50%          0.000000  \n",
       "75%          0.000000  \n",
       "max          1.000000  "
      ]
     },
     "execution_count": 5,
     "metadata": {},
     "output_type": "execute_result"
    }
   ],
   "source": [
    "df.describe(include='all')"
   ]
  },
  {
   "cell_type": "markdown",
   "metadata": {},
   "source": [
    "### 2. Missing values"
   ]
  },
  {
   "cell_type": "code",
   "execution_count": 6,
   "metadata": {},
   "outputs": [
    {
     "name": "stdout",
     "output_type": "stream",
     "text": [
      "country                0\n",
      "age                    0\n",
      "new_user               0\n",
      "source                 0\n",
      "total_pages_visited    0\n",
      "converted              0\n",
      "dtype: int64\n",
      " \n",
      "------------------\n",
      " \n",
      "We can see that except the column \"Store\" all the oother columns have missing values\n",
      " \n",
      "------------------\n",
      " \n",
      "Percentage of missing values:(%)\n"
     ]
    },
    {
     "data": {
      "text/plain": [
       "country                0.0\n",
       "age                    0.0\n",
       "new_user               0.0\n",
       "source                 0.0\n",
       "total_pages_visited    0.0\n",
       "converted              0.0\n",
       "dtype: float64"
      ]
     },
     "metadata": {},
     "output_type": "display_data"
    },
    {
     "name": "stdout",
     "output_type": "stream",
     "text": [
      " \n"
     ]
    }
   ],
   "source": [
    "print(df.isnull().sum())\n",
    "print(' ')\n",
    "print('------------------')\n",
    "print(' ')\n",
    "print('We can see that except the column \"Store\" all the oother columns have missing values')\n",
    "print(' ')\n",
    "print('------------------')\n",
    "print(' ')\n",
    "print(\"Percentage of missing values:(%)\")\n",
    "display(100*df.isnull().sum()/df.shape[0])\n",
    "print(' ')"
   ]
  },
  {
   "cell_type": "code",
   "execution_count": null,
   "metadata": {},
   "outputs": [],
   "source": []
  },
  {
   "cell_type": "markdown",
   "metadata": {},
   "source": [
    "\n",
    "### **3. Data visualization**\n",
    "---"
   ]
  },
  {
   "cell_type": "markdown",
   "metadata": {},
   "source": [
    "## COUNTRY REPARTITION"
   ]
  },
  {
   "cell_type": "code",
   "execution_count": 7,
   "metadata": {},
   "outputs": [
    {
     "data": {
      "text/html": [
       "<div>\n",
       "<style scoped>\n",
       "    .dataframe tbody tr th:only-of-type {\n",
       "        vertical-align: middle;\n",
       "    }\n",
       "\n",
       "    .dataframe tbody tr th {\n",
       "        vertical-align: top;\n",
       "    }\n",
       "\n",
       "    .dataframe thead th {\n",
       "        text-align: right;\n",
       "    }\n",
       "</style>\n",
       "<table border=\"1\" class=\"dataframe\">\n",
       "  <thead>\n",
       "    <tr style=\"text-align: right;\">\n",
       "      <th></th>\n",
       "      <th>country</th>\n",
       "      <th>source</th>\n",
       "      <th>total_country</th>\n",
       "      <th>country_weight (%)</th>\n",
       "    </tr>\n",
       "  </thead>\n",
       "  <tbody>\n",
       "    <tr>\n",
       "      <th>0</th>\n",
       "      <td>China</td>\n",
       "      <td>69122</td>\n",
       "      <td>284580</td>\n",
       "      <td>24.29</td>\n",
       "    </tr>\n",
       "    <tr>\n",
       "      <th>1</th>\n",
       "      <td>Germany</td>\n",
       "      <td>11693</td>\n",
       "      <td>284580</td>\n",
       "      <td>4.11</td>\n",
       "    </tr>\n",
       "    <tr>\n",
       "      <th>2</th>\n",
       "      <td>UK</td>\n",
       "      <td>43641</td>\n",
       "      <td>284580</td>\n",
       "      <td>15.34</td>\n",
       "    </tr>\n",
       "    <tr>\n",
       "      <th>3</th>\n",
       "      <td>US</td>\n",
       "      <td>160124</td>\n",
       "      <td>284580</td>\n",
       "      <td>56.27</td>\n",
       "    </tr>\n",
       "  </tbody>\n",
       "</table>\n",
       "</div>"
      ],
      "text/plain": [
       "   country  source  total_country  country_weight (%)\n",
       "0    China   69122         284580               24.29\n",
       "1  Germany   11693         284580                4.11\n",
       "2       UK   43641         284580               15.34\n",
       "3       US  160124         284580               56.27"
      ]
     },
     "metadata": {},
     "output_type": "display_data"
    },
    {
     "data": {
      "image/png": "[encoded data removed]",
      "text/plain": [
       "<Figure size 720x576 with 1 Axes>"
      ]
     },
     "metadata": {},
     "output_type": "display_data"
    }
   ],
   "source": [
    "nbr_country = df.groupby('country')['source'].count().reset_index()\n",
    "nbr_country\n",
    "\n",
    "#Creation of column with the total of lines\n",
    "nbr_country['total_country'] = nbr_country.sum()[1]\n",
    "\n",
    "#Creation of column with of relative weight for each country (in %)\n",
    "nbr_country['country_weight (%)'] = round((nbr_country['source']/nbr_country['total_country'])*100,2)\n",
    "\n",
    "display(nbr_country)\n",
    "\n",
    "nbr_country_perc = nbr_country.groupby(['country'])['country_weight (%)'].sum()\n",
    "\n",
    "# Declaring indexes and values\n",
    "nbr_country_values = nbr_country_perc.values\n",
    "nbr_country_index = nbr_country_perc.index\n",
    "\n",
    "\n",
    "#Show graph\n",
    "plt.figure(figsize = (10, 8))\n",
    "plt.pie(nbr_country_perc, \n",
    "        autopct = '%1.1f%%',\n",
    "        labels = nbr_country_index,\n",
    "        startangle= 90,\n",
    "            explode = (0.0,0.0,0.0, 0.05),\n",
    "           )\n",
    "\n",
    "plt.legend(nbr_country_index, bbox_to_anchor=(1.0, 1.05))\n",
    "plt.title(\"Country weight (%)\")\n",
    "plt.show()"
   ]
  },
  {
   "cell_type": "code",
   "execution_count": null,
   "metadata": {},
   "outputs": [],
   "source": []
  },
  {
   "cell_type": "code",
   "execution_count": 8,
   "metadata": {},
   "outputs": [
    {
     "data": {
      "text/html": [
       "<iframe\n",
       "    scrolling=\"no\"\n",
       "    width=\"100%\"\n",
       "    height=\"545px\"\n",
       "    src=\"iframe_figures/figure_8.html\"\n",
       "    frameborder=\"0\"\n",
       "    allowfullscreen\n",
       "></iframe>\n"
      ]
     },
     "metadata": {},
     "output_type": "display_data"
    }
   ],
   "source": [
    "px.bar(nbr_country, x = 'country', y = 'source', title='Number of users per country', color = 'source')"
   ]
  },
  {
   "cell_type": "code",
   "execution_count": null,
   "metadata": {},
   "outputs": [],
   "source": []
  },
  {
   "cell_type": "markdown",
   "metadata": {},
   "source": [
    "## CONVERSION"
   ]
  },
  {
   "cell_type": "code",
   "execution_count": 9,
   "metadata": {},
   "outputs": [
    {
     "data": {
      "image/png": "[encoded data removed]",
      "text/plain": [
       "<Figure size 720x720 with 1 Axes>"
      ]
     },
     "metadata": {},
     "output_type": "display_data"
    }
   ],
   "source": [
    "weight_conv = df.groupby('converted')['source'].count()\n",
    "\n",
    "# Declaring indexes and values\n",
    "nbr_converted_values = weight_conv.values\n",
    "nbr_converted_index = weight_conv.index\n",
    "\n",
    "plt.figure(figsize = (10, 10))\n",
    "\n",
    "plt.pie(nbr_converted_values, \n",
    "        autopct = '%1.1f%%',\n",
    "        #labels = nbr_converted_index,\n",
    "        startangle= 15,\n",
    "        explode = (0.1,0.1)\n",
    "           )\n",
    "\n",
    "plt.legend(nbr_converted_index, bbox_to_anchor=(1.0, 1.05))\n",
    "\n",
    "plt.title(\"Weight of user converted (%)\")\n",
    "\n",
    "plt.show()"
   ]
  },
  {
   "cell_type": "code",
   "execution_count": null,
   "metadata": {},
   "outputs": [],
   "source": []
  },
  {
   "cell_type": "code",
   "execution_count": 10,
   "metadata": {},
   "outputs": [],
   "source": [
    "#Encoding the values as categorial\n",
    "df['new_user'] = df['new_user'].apply(lambda x : 'yes' if x == 1 \n",
    "                                                                else 'no' if x == 0\n",
    "                                                                          else x)"
   ]
  },
  {
   "cell_type": "code",
   "execution_count": 11,
   "metadata": {},
   "outputs": [
    {
     "data": {
      "image/png": "[encoded data removed]",
      "text/plain": [
       "<Figure size 720x720 with 1 Axes>"
      ]
     },
     "metadata": {},
     "output_type": "display_data"
    }
   ],
   "source": [
    "#Weight of new vs current users\n",
    "weight_newu = df.groupby('new_user')['converted'].count()\n",
    "\n",
    "# Declaring indexes and values\n",
    "nbr_weight_newu_values = weight_newu.values\n",
    "nbr_weight_newu_index = weight_newu.index\n",
    "\n",
    "plt.figure(figsize = (10, 10))\n",
    "\n",
    "plt.pie(nbr_weight_newu_values, \n",
    "        autopct = '%1.1f%%',\n",
    "        #labels = nbr_weight_newu_index,\n",
    "        startangle= 90,\n",
    "        explode = (0.05,0.0)\n",
    "           )\n",
    "\n",
    "plt.legend(nbr_weight_newu_index, bbox_to_anchor=(1.0, 1.05))\n",
    "\n",
    "plt.title(\"Weight of new user (%)\")\n",
    "\n",
    "plt.show()"
   ]
  },
  {
   "cell_type": "code",
   "execution_count": null,
   "metadata": {},
   "outputs": [],
   "source": []
  },
  {
   "cell_type": "markdown",
   "metadata": {},
   "source": [
    "## VISITED PAGES"
   ]
  },
  {
   "cell_type": "code",
   "execution_count": 12,
   "metadata": {},
   "outputs": [],
   "source": [
    "#Sub sataset per country (count)\n",
    "df_China = df.query('country == \"China\"')\n",
    "df_China_pg = df_China.groupby(['source'])['total_pages_visited'].count()\n",
    "\n",
    "df_Ger = df.query('country == \"Germany\"')\n",
    "df_Ger_pg = df_Ger.groupby(['source'])['total_pages_visited'].count()\n",
    "\n",
    "df_UK = df.query('country == \"UK\"')\n",
    "df_UK_pg = df_UK.groupby(['source'])['total_pages_visited'].count()\n",
    "\n",
    "df_USA = df.query('country == \"US\"')\n",
    "df_USA_pg = df_USA.groupby(['source'])['total_pages_visited'].count()"
   ]
  },
  {
   "cell_type": "code",
   "execution_count": 13,
   "metadata": {},
   "outputs": [
    {
     "data": {
      "image/png": "[encoded data removed]",
      "text/plain": [
       "<Figure size 1800x360 with 4 Axes>"
      ]
     },
     "metadata": {
      "needs_background": "light"
     },
     "output_type": "display_data"
    }
   ],
   "source": [
    "#Show graphs\n",
    "plt.subplot(141) \n",
    "df_China_pg.plot(kind='bar', title='Page visited : China', ylabel='N° Users',\n",
    "         xlabel='Source', figsize=(20, 5), legend = True, color='red')\n",
    "plt.ylim([0, 90000])\n",
    "\n",
    "plt.subplot(142) \n",
    "df_Ger_pg.plot(kind='bar', title='Page visited : Germany', #ylabel='N° Users',\n",
    "         xlabel='Source', figsize=(15, 5), legend = True, color='black')\n",
    "plt.ylim([0, 90000])\n",
    "\n",
    "plt.subplot(143) \n",
    "df_UK_pg.plot(kind='bar', title='Page visited : UK', #ylabel='N° Users',\n",
    "         xlabel='Source', figsize=(15, 5), legend = True, color='blue')\n",
    "plt.ylim([0, 90000])\n",
    "\n",
    "plt.subplot(144) \n",
    "df_USA_pg.plot(kind='bar', title='Page visited : USA', #ylabel='N° Users',\n",
    "         xlabel='Source', figsize=(25, 5), legend = True, color='g')\n",
    "plt.ylim([0, 90000])\n",
    "\n",
    "plt.show()"
   ]
  },
  {
   "cell_type": "code",
   "execution_count": null,
   "metadata": {},
   "outputs": [],
   "source": []
  },
  {
   "cell_type": "code",
   "execution_count": 14,
   "metadata": {},
   "outputs": [],
   "source": [
    "#Creation of subdataset per country (mean)\n",
    "df_China = df.query('country == \"China\"')\n",
    "df_China_conv = df_China.groupby(['country']).mean()\n",
    "\n",
    "df_Ger = df.query('country == \"Germany\"')\n",
    "df_Ger_conv = df_Ger.groupby(['country']).mean()\n",
    "\n",
    "df_UK = df.query('country == \"UK\"')\n",
    "df_UK_conv = df_UK.groupby(['country']).mean()\n",
    "\n",
    "df_USA = df.query('country == \"US\"')\n",
    "df_USA_conv = df_USA.groupby(['country']).mean()"
   ]
  },
  {
   "cell_type": "code",
   "execution_count": 15,
   "metadata": {},
   "outputs": [
    {
     "data": {
      "text/html": [
       "<div>\n",
       "<style scoped>\n",
       "    .dataframe tbody tr th:only-of-type {\n",
       "        vertical-align: middle;\n",
       "    }\n",
       "\n",
       "    .dataframe tbody tr th {\n",
       "        vertical-align: top;\n",
       "    }\n",
       "\n",
       "    .dataframe thead th {\n",
       "        text-align: right;\n",
       "    }\n",
       "</style>\n",
       "<table border=\"1\" class=\"dataframe\">\n",
       "  <thead>\n",
       "    <tr style=\"text-align: right;\">\n",
       "      <th></th>\n",
       "      <th>avg_converted (%)</th>\n",
       "    </tr>\n",
       "  </thead>\n",
       "  <tbody>\n",
       "    <tr>\n",
       "      <th>China</th>\n",
       "      <td>0.128758</td>\n",
       "    </tr>\n",
       "    <tr>\n",
       "      <th>Germany</th>\n",
       "      <td>6.243051</td>\n",
       "    </tr>\n",
       "    <tr>\n",
       "      <th>UK</th>\n",
       "      <td>5.249651</td>\n",
       "    </tr>\n",
       "    <tr>\n",
       "      <th>USA</th>\n",
       "      <td>3.790812</td>\n",
       "    </tr>\n",
       "  </tbody>\n",
       "</table>\n",
       "</div>"
      ],
      "text/plain": [
       "         avg_converted (%)\n",
       "China             0.128758\n",
       "Germany           6.243051\n",
       "UK                5.249651\n",
       "USA               3.790812"
      ]
     },
     "metadata": {},
     "output_type": "display_data"
    },
    {
     "data": {
      "image/png": "[encoded data removed]",
      "text/plain": [
       "<Figure size 1080x360 with 1 Axes>"
      ]
     },
     "metadata": {
      "needs_background": "light"
     },
     "output_type": "display_data"
    }
   ],
   "source": [
    "#Dataframe with average converted (%)\n",
    "\n",
    "avg_conv = {'China' : df_China_conv['converted'][0]*100, \n",
    "            'Germany' : df_Ger_conv['converted'][0]*100,\n",
    "           'UK' : df_UK_conv['converted'][0]*100,\n",
    "            'USA' : df_USA_conv['converted'][0]*100\n",
    "           }\n",
    "\n",
    "df_avg_conv = pd.DataFrame.from_dict(avg_conv,orient='index')\n",
    "df_avg_conv = df_avg_conv.rename(columns={0: 'avg_converted (%)'})\n",
    "display(df_avg_conv)\n",
    "\n",
    "#Show graph\n",
    "df_avg_conv.plot(kind='bar', \n",
    "                     title='Average converted (%) per country', \n",
    "                         ylabel='Avg converted (%)',\n",
    "                             xlabel='Country', \n",
    "                                 figsize=(15, 5), \n",
    "                                     legend = True, \n",
    "                                         color='y'\n",
    "                )\n",
    "plt.show()"
   ]
  },
  {
   "cell_type": "code",
   "execution_count": null,
   "metadata": {},
   "outputs": [],
   "source": []
  },
  {
   "cell_type": "markdown",
   "metadata": {},
   "source": [
    "## CONVERSION OVER VISITED PAGES"
   ]
  },
  {
   "cell_type": "code",
   "execution_count": 16,
   "metadata": {},
   "outputs": [
    {
     "data": {
      "image/png": "[encoded data removed]",
      "text/plain": [
       "<Figure size 1440x360 with 1 Axes>"
      ]
     },
     "metadata": {
      "needs_background": "light"
     },
     "output_type": "display_data"
    }
   ],
   "source": [
    "#General ration for all the countries\n",
    "conv_pviz = df.groupby(['total_pages_visited'])['converted'].mean()\n",
    "\n",
    "conv_pviz.plot(kind='bar', title='Ratio Conversion / page visited (All)', ylabel='Average converted',\n",
    "         xlabel='N° Page visited', figsize=(20, 5), legend = True, color='orange')\n",
    "\n",
    "plt.show()"
   ]
  },
  {
   "cell_type": "code",
   "execution_count": null,
   "metadata": {},
   "outputs": [],
   "source": []
  },
  {
   "cell_type": "code",
   "execution_count": 17,
   "metadata": {},
   "outputs": [],
   "source": [
    "#Converted dataset per country\n",
    "\n",
    "#China\n",
    "conv_pviz_China = df_China.groupby(['total_pages_visited'])['converted'].mean()\n",
    "\n",
    "#Germany\n",
    "conv_pviz_Ger = df_Ger.groupby(['total_pages_visited'])['converted'].mean()\n",
    "\n",
    "#UK\n",
    "conv_pviz_UK = df_UK.groupby(['total_pages_visited'])['converted'].mean()\n",
    "\n",
    "#USA\n",
    "conv_pviz_USA = df_USA.groupby(['total_pages_visited'])['converted'].mean()"
   ]
  },
  {
   "cell_type": "code",
   "execution_count": 18,
   "metadata": {},
   "outputs": [
    {
     "data": {
      "image/png": "[encoded data removed]",
      "text/plain": [
       "<Figure size 1440x864 with 4 Axes>"
      ]
     },
     "metadata": {
      "needs_background": "light"
     },
     "output_type": "display_data"
    }
   ],
   "source": [
    "#Show graphs\n",
    "\n",
    "plt.subplot(221) \n",
    "conv_pviz_China.plot(kind='bar', title='CHINA : Ratio Conversion / page visited', ylabel='Average converted',\n",
    "         xlabel='N° Page visited', \n",
    "                     figsize=(15, 5), legend = True, color='red')\n",
    "\n",
    "plt.subplot(222) \n",
    "conv_pviz_Ger.plot(kind='bar', title='GERMANY : Ratio Conversion / page visited', ylabel='Average converted',\n",
    "         xlabel='N° Page visited', \n",
    "                   figsize=(15, 5), legend = True, color='black')\n",
    "\n",
    "plt.subplot(223) \n",
    "conv_pviz_UK.plot(kind='bar', title='United Kingdom : Ratio Conversion / page visited', ylabel='Average converted',\n",
    "         xlabel='N° Page visited', figsize=(15, 5), legend = True, color='blue')\n",
    "\n",
    "plt.subplot(224) \n",
    "conv_pviz_USA.plot(kind='bar', title='USA : Ratio Conversion / page visited', ylabel='Average converted',\n",
    "         xlabel='N° Page visited', figsize=(20, 12), legend = True, color='green')\n",
    "\n",
    "plt.show()"
   ]
  },
  {
   "cell_type": "markdown",
   "metadata": {},
   "source": [
    "**<span style=\"color:red\">Wrap up : <span>** \n",
    "* **<span style=\"color:black\">Almost nobody<span>** is converted before having seen less than 10 pages.\n",
    "* Based on the above graphs we can make the assumption that there is direct relation between the number of pages visited and the average converted rate.<br>\n",
    "* It allows us to explain why China despite a high number of users has a really low convertion rate and relatively few people getting a subscription.<br>\n",
    "* Chineses are less exploring the website that their counterparts. They are harder to keep scrolling down pages trough the websites.<br>\n",
    "* Even when they do so, ***they get fully convinced only after reviewed 22 pages when Britons, Americans and Germans are all convinced after 18 pages***.\n",
    "This is a gap about **<span style=\"color:black\">18%<span>** . It's quite huge!\n"
   ]
  },
  {
   "cell_type": "code",
   "execution_count": null,
   "metadata": {},
   "outputs": [],
   "source": []
  },
  {
   "cell_type": "markdown",
   "metadata": {},
   "source": [
    "## AGE PYRAMID"
   ]
  },
  {
   "cell_type": "code",
   "execution_count": 19,
   "metadata": {},
   "outputs": [
    {
     "data": {
      "image/png": "[encoded data removed]",
      "text/plain": [
       "<Figure size 2520x432 with 1 Axes>"
      ]
     },
     "metadata": {
      "needs_background": "light"
     },
     "output_type": "display_data"
    },
    {
     "name": "stdout",
     "output_type": "stream",
     "text": [
      "\n",
      "The histogram clearly demonstrates that the population is below 60 years old\n"
     ]
    }
   ],
   "source": [
    "# Variable age distribution\n",
    "plt.figure(figsize = (35, 6))\n",
    "plt.subplot(1,2,2)\n",
    "plt.title(\"Users : Population pyramid by age\")\n",
    "sns.histplot(df['age'], bins=30, kde=True, color='g')\n",
    "plt.show()\n",
    "print('')\n",
    "print('The histogram clearly demonstrates that the population is below 60 years old')"
   ]
  },
  {
   "cell_type": "code",
   "execution_count": null,
   "metadata": {},
   "outputs": [],
   "source": []
  },
  {
   "cell_type": "markdown",
   "metadata": {},
   "source": [
    "\n",
    "### **4. Preprocessing & Machine Learning**\n",
    "---"
   ]
  },
  {
   "cell_type": "markdown",
   "metadata": {},
   "source": [
    "## A) PREPROCESSING"
   ]
  },
  {
   "cell_type": "code",
   "execution_count": 20,
   "metadata": {},
   "outputs": [
    {
     "data": {
      "image/png": "[encoded data removed]",
      "text/plain": [
       "<Figure size 432x288 with 2 Axes>"
      ]
     },
     "metadata": {
      "needs_background": "light"
     },
     "output_type": "display_data"
    }
   ],
   "source": [
    "#Instantiate the correlation matrix\n",
    "corr_matrix = df.corr()\n",
    "\n",
    "#Corr_matrix heatmap\n",
    "sns.heatmap(corr_matrix, annot=True)\n",
    "plt.show()"
   ]
  },
  {
   "cell_type": "code",
   "execution_count": null,
   "metadata": {},
   "outputs": [],
   "source": []
  },
  {
   "cell_type": "code",
   "execution_count": 21,
   "metadata": {},
   "outputs": [
    {
     "name": "stdout",
     "output_type": "stream",
     "text": [
      "Separating labels from features...\n",
      "...Done.\n",
      "\n",
      "\n"
     ]
    }
   ],
   "source": [
    "# Separate target variable Y from features X\n",
    "target_name = 'converted'\n",
    "\n",
    "print(\"Separating labels from features...\")\n",
    "Y = df.loc[:,target_name]\n",
    "X = df.loc[:,[c for c in df.columns if c!=target_name]] # Keeping all columns different from target\n",
    "print(\"...Done.\")\n",
    "#display(Y.head())\n",
    "print()\n",
    "#display(X.head())\n",
    "print()"
   ]
  },
  {
   "cell_type": "code",
   "execution_count": 22,
   "metadata": {},
   "outputs": [
    {
     "name": "stdout",
     "output_type": "stream",
     "text": [
      "...Done\n",
      "\n"
     ]
    }
   ],
   "source": [
    "#Features in X\n",
    "Feature_selection = X.columns\n",
    "\n",
    "# print(\"Convert pandas DataFrames to numpy arrays...\")\n",
    "X = X.values\n",
    "y = Y.values\n",
    "#Y = Y.tolist()\n",
    "print(\"...Done\")\n",
    "#print(X[0:5,:])\n",
    "print()\n",
    "#print(Y[0:5])"
   ]
  },
  {
   "cell_type": "code",
   "execution_count": 23,
   "metadata": {},
   "outputs": [
    {
     "name": "stdout",
     "output_type": "stream",
     "text": [
      "Dividing into train and test sets...\n",
      "...Done.\n",
      "\n"
     ]
    }
   ],
   "source": [
    "print(\"Dividing into train and test sets...\")\n",
    "X_train, X_test, y_train, y_test = train_test_split(X, y, test_size=0.2, random_state=0 #, stratify=Y\n",
    "                                                   )\n",
    "print(\"...Done.\")\n",
    "print()"
   ]
  },
  {
   "cell_type": "code",
   "execution_count": 24,
   "metadata": {},
   "outputs": [],
   "source": [
    "# Create pipeline for numeric features\n",
    "numeric_features = [1, 4] # Positions of numeric columns in X_train/X_test\n",
    "numeric_transformer = Pipeline(steps=[\n",
    "    ('imputer', SimpleImputer(strategy='mean')), # if still missing values we will replace by columns' mean\n",
    "    ('scaler', StandardScaler())\n",
    "])"
   ]
  },
  {
   "cell_type": "code",
   "execution_count": 25,
   "metadata": {},
   "outputs": [],
   "source": [
    "# Create pipeline for categorical features\n",
    "categorical_features = [0, 2, 3] # Positions of categorical columns in X_train/X_test\n",
    "categorical_transformer = Pipeline(\n",
    "    steps=[\n",
    "    ('imputer', SimpleImputer(strategy='most_frequent')), # if still missing values we will replace by most frequent value\n",
    "    ('encoder', OneHotEncoder(drop='first')) # first column will be dropped to avoid creating correlations between features\n",
    "    ])"
   ]
  },
  {
   "cell_type": "code",
   "execution_count": 26,
   "metadata": {},
   "outputs": [
    {
     "name": "stdout",
     "output_type": "stream",
     "text": [
      "Performing preprocessings on train set...\n",
      "...Done.\n",
      "[[-0.19030813 -0.26094223  0.          0.          1.          1.\n",
      "   0.          1.        ]\n",
      " [-0.9161838   0.63598611  0.          0.          1.          0.\n",
      "   1.          0.        ]\n",
      " [ 0.29360899  1.83189056  0.          1.          0.          1.\n",
      "   0.          1.        ]\n",
      " [-0.67422524  0.03803388  0.          0.          0.          1.\n",
      "   0.          1.        ]\n",
      " [ 1.14046394 -1.15787057  0.          0.          1.          0.\n",
      "   0.          1.        ]]\n",
      "\n",
      "Performing preprocessings on test set...\n",
      "...Done.\n",
      "\n"
     ]
    }
   ],
   "source": [
    "# Use ColumnTranformer to make a preprocessor object that describes all the treatments to be done\n",
    "preprocessor = ColumnTransformer(\n",
    "    transformers=[\n",
    "        ('num', numeric_transformer, numeric_features),\n",
    "        ('cat', categorical_transformer, categorical_features)\n",
    "    ])\n",
    "\n",
    "# Preprocessings on train set\n",
    "print(\"Performing preprocessings on train set...\")\n",
    "#print(X_train[0:1,:])\n",
    "X_train = preprocessor.fit_transform(X_train)\n",
    "print('...Done.')\n",
    "print(X_train[0:5,:])\n",
    "print()\n",
    "\n",
    "# Preprocessings on test set\n",
    "print(\"Performing preprocessings on test set...\")\n",
    "#print(X_test[0:1,:])\n",
    "X_test = preprocessor.transform(X_test) # Don't fit again !!\n",
    "print('...Done.')\n",
    "#print(X_test[0:1,:])\n",
    "print()"
   ]
  },
  {
   "cell_type": "code",
   "execution_count": null,
   "metadata": {},
   "outputs": [],
   "source": []
  },
  {
   "cell_type": "markdown",
   "metadata": {},
   "source": [
    "## B) TRAINING MODEL"
   ]
  },
  {
   "cell_type": "code",
   "execution_count": 27,
   "metadata": {},
   "outputs": [
    {
     "name": "stdout",
     "output_type": "stream",
     "text": [
      "Train model...\n",
      "Training model...\n",
      "...Done.\n"
     ]
    }
   ],
   "source": [
    "# Train model\n",
    "print(\"Train model...\")\n",
    "classifier = LogisticRegression()\n",
    "\n",
    "print(\"Training model...\")\n",
    "classifier.fit(X_train, y_train) # Training is always done on train set !!\n",
    "print(\"...Done.\")"
   ]
  },
  {
   "cell_type": "code",
   "execution_count": null,
   "metadata": {},
   "outputs": [],
   "source": []
  },
  {
   "cell_type": "markdown",
   "metadata": {},
   "source": [
    "## C) PREDICTION MODELS"
   ]
  },
  {
   "cell_type": "code",
   "execution_count": 28,
   "metadata": {},
   "outputs": [
    {
     "name": "stdout",
     "output_type": "stream",
     "text": [
      "Predictions on training set...\n",
      "...Done.\n",
      "[0 0 0 0 0]\n",
      "\n"
     ]
    }
   ],
   "source": [
    "# Predictions on training set\n",
    "print(\"Predictions on training set...\")\n",
    "y_train_pred = classifier.predict(X_train)\n",
    "print(\"...Done.\")\n",
    "print(y_train_pred[0:5])\n",
    "print()"
   ]
  },
  {
   "cell_type": "code",
   "execution_count": 29,
   "metadata": {},
   "outputs": [
    {
     "name": "stdout",
     "output_type": "stream",
     "text": [
      "Predictions on test set...\n",
      "...Done.\n",
      "[0 0 0 0 0]\n",
      "\n"
     ]
    }
   ],
   "source": [
    "# Predictions on test set\n",
    "print(\"Predictions on test set...\")\n",
    "y_test_pred = classifier.predict(X_test)\n",
    "print(\"...Done.\")\n",
    "print(y_test_pred[0:5])\n",
    "print()"
   ]
  },
  {
   "cell_type": "code",
   "execution_count": null,
   "metadata": {},
   "outputs": [],
   "source": []
  },
  {
   "cell_type": "markdown",
   "metadata": {},
   "source": [
    "## D) PERFORMANCE ASSESSMENT"
   ]
  },
  {
   "cell_type": "code",
   "execution_count": 30,
   "metadata": {},
   "outputs": [
    {
     "name": "stdout",
     "output_type": "stream",
     "text": [
      "R2 score on training set : 0.561\n",
      "R2 score on test set : 0.552\n"
     ]
    }
   ],
   "source": [
    "# Print R^2 scores\n",
    "print('R2 score on training set : %.3f' % r2_score(y_train, y_train_pred,multioutput='variance_weighted'))\n",
    "print('R2 score on test set : %.3f' % r2_score(y_test, y_test_pred,multioutput='variance_weighted'))"
   ]
  },
  {
   "cell_type": "code",
   "execution_count": 31,
   "metadata": {},
   "outputs": [
    {
     "name": "stdout",
     "output_type": "stream",
     "text": [
      "Mean squared error on test: 0.01\n",
      "Variance score on test: 0.9863\n"
     ]
    }
   ],
   "source": [
    "# The mean squared error on train\n",
    "print(\"Mean squared error on test: %.2f\" % np.mean((classifier.predict(X_train) - y_train) ** 2))\n",
    "# Explained variance score: 1 is perfect prediction\n",
    "print('Variance score on test: %.4f' % classifier.score(X_train, y_train))"
   ]
  },
  {
   "cell_type": "code",
   "execution_count": 32,
   "metadata": {},
   "outputs": [
    {
     "name": "stdout",
     "output_type": "stream",
     "text": [
      "Mean squared error on test: 0.01\n",
      "Variance score on test: 0.9859\n"
     ]
    }
   ],
   "source": [
    "# The mean squared error on test\n",
    "print(\"Mean squared error on test: %.2f\" % np.mean((classifier.predict(X_test) - y_test) ** 2))\n",
    "# Explained variance score: 1 is perfect prediction\n",
    "print('Variance score on test: %.4f' % classifier.score(X_test, y_test))"
   ]
  },
  {
   "cell_type": "code",
   "execution_count": 33,
   "metadata": {},
   "outputs": [
    {
     "name": "stdout",
     "output_type": "stream",
     "text": [
      "f1-score on train set :  0.7650256720024163\n",
      "f1-score on test set :  0.7581423401688782\n"
     ]
    }
   ],
   "source": [
    "# WARNING : Use the same score as the one that will be used by Kaggle !\n",
    "# Here, the f1-score will be used to assess the performances on the leaderboard\n",
    "print(\"f1-score on train set : \", f1_score(y_train, y_train_pred))\n",
    "print(\"f1-score on test set : \", f1_score(y_test, y_test_pred))"
   ]
  },
  {
   "cell_type": "code",
   "execution_count": 34,
   "metadata": {},
   "outputs": [
    {
     "name": "stdout",
     "output_type": "stream",
     "text": [
      "Confusion matrix on train set : \n",
      "[[219486    848]\n",
      " [  2264   5066]]\n",
      "\n",
      "Confusion matrix on test set : \n",
      "[[54857   209]\n",
      " [  593  1257]]\n",
      "\n"
     ]
    }
   ],
   "source": [
    "# You can also check more performance metrics to better understand what your model is doing\n",
    "print(\"Confusion matrix on train set : \")\n",
    "print(confusion_matrix(y_train, y_train_pred))\n",
    "print()\n",
    "print(\"Confusion matrix on test set : \")\n",
    "print(confusion_matrix(y_test, y_test_pred))\n",
    "print()"
   ]
  },
  {
   "cell_type": "code",
   "execution_count": 35,
   "metadata": {},
   "outputs": [
    {
     "name": "stdout",
     "output_type": "stream",
     "text": [
      "TRAIN SET\n",
      "---\n",
      "The confusion matrix shows that the model seems pretty robust on train set!\n"
     ]
    },
    {
     "data": {
      "image/png": "[encoded data removed]",
      "text/plain": [
       "<Figure size 432x288 with 2 Axes>"
      ]
     },
     "metadata": {
      "needs_background": "light"
     },
     "output_type": "display_data"
    }
   ],
   "source": [
    "print('TRAIN SET')\n",
    "print('---')\n",
    "cm = confusion_matrix(y_train, y_train_pred, normalize=\"true\")\n",
    "\n",
    "sns.heatmap(cm, annot=True, fmt=\".3f\");\n",
    "print('The confusion matrix shows that the model seems pretty robust on train set!')"
   ]
  },
  {
   "cell_type": "code",
   "execution_count": null,
   "metadata": {},
   "outputs": [],
   "source": []
  },
  {
   "cell_type": "code",
   "execution_count": 36,
   "metadata": {},
   "outputs": [
    {
     "name": "stdout",
     "output_type": "stream",
     "text": [
      "TEST SET\n",
      "---\n",
      "The confusion matrix shows that the model seems pretty robust on test set either!\n"
     ]
    },
    {
     "data": {
      "image/png": "[encoded data removed]",
      "text/plain": [
       "<Figure size 432x288 with 2 Axes>"
      ]
     },
     "metadata": {
      "needs_background": "light"
     },
     "output_type": "display_data"
    }
   ],
   "source": [
    "print('TEST SET')\n",
    "print('---')\n",
    "cm = confusion_matrix(y_test, y_test_pred, normalize=\"true\")\n",
    "\n",
    "sns.heatmap(cm, annot=True, fmt=\".3f\");\n",
    "print('The confusion matrix shows that the model seems pretty robust on test set either!')"
   ]
  },
  {
   "cell_type": "code",
   "execution_count": null,
   "metadata": {},
   "outputs": [],
   "source": []
  },
  {
   "cell_type": "markdown",
   "metadata": {},
   "source": [
    "## E) RANDOM TREE"
   ]
  },
  {
   "cell_type": "code",
   "execution_count": 37,
   "metadata": {},
   "outputs": [
    {
     "data": {
      "text/plain": [
       "DecisionTreeClassifier()"
      ]
     },
     "execution_count": 37,
     "metadata": {},
     "output_type": "execute_result"
    }
   ],
   "source": [
    "# Create a random tree\n",
    "from sklearn.tree import DecisionTreeClassifier\n",
    "classifier = DecisionTreeClassifier()\n",
    "classifier.fit(X_train, y_train)"
   ]
  },
  {
   "cell_type": "code",
   "execution_count": 38,
   "metadata": {},
   "outputs": [
    {
     "name": "stdout",
     "output_type": "stream",
     "text": [
      "Fitting 5 folds for each of 20 candidates, totalling 100 fits\n",
      "[CV] max_depth=5, min_samples_split=2 ................................\n"
     ]
    },
    {
     "name": "stderr",
     "output_type": "stream",
     "text": [
      "[Parallel(n_jobs=1)]: Using backend SequentialBackend with 1 concurrent workers.\n"
     ]
    },
    {
     "name": "stdout",
     "output_type": "stream",
     "text": [
      "[CV] ................. max_depth=5, min_samples_split=2, total=   0.2s\n",
      "[CV] max_depth=5, min_samples_split=2 ................................\n",
      "[CV] ................. max_depth=5, min_samples_split=2, total=   0.2s\n",
      "[CV] max_depth=5, min_samples_split=2 ................................\n"
     ]
    },
    {
     "name": "stderr",
     "output_type": "stream",
     "text": [
      "[Parallel(n_jobs=1)]: Done   1 out of   1 | elapsed:    0.2s remaining:    0.0s\n"
     ]
    },
    {
     "name": "stdout",
     "output_type": "stream",
     "text": [
      "[CV] ................. max_depth=5, min_samples_split=2, total=   0.2s\n",
      "[CV] max_depth=5, min_samples_split=2 ................................\n",
      "[CV] ................. max_depth=5, min_samples_split=2, total=   0.2s\n",
      "[CV] max_depth=5, min_samples_split=2 ................................\n",
      "[CV] ................. max_depth=5, min_samples_split=2, total=   0.2s\n",
      "[CV] max_depth=5, min_samples_split=5 ................................\n",
      "[CV] ................. max_depth=5, min_samples_split=5, total=   0.2s\n",
      "[CV] max_depth=5, min_samples_split=5 ................................\n",
      "[CV] ................. max_depth=5, min_samples_split=5, total=   0.2s\n",
      "[CV] max_depth=5, min_samples_split=5 ................................\n",
      "[CV] ................. max_depth=5, min_samples_split=5, total=   0.2s\n",
      "[CV] max_depth=5, min_samples_split=5 ................................\n",
      "[CV] ................. max_depth=5, min_samples_split=5, total=   0.2s\n",
      "[CV] max_depth=5, min_samples_split=5 ................................\n",
      "[CV] ................. max_depth=5, min_samples_split=5, total=   0.2s\n",
      "[CV] max_depth=5, min_samples_split=10 ...............................\n",
      "[CV] ................ max_depth=5, min_samples_split=10, total=   0.2s\n",
      "[CV] max_depth=5, min_samples_split=10 ...............................\n",
      "[CV] ................ max_depth=5, min_samples_split=10, total=   0.2s\n",
      "[CV] max_depth=5, min_samples_split=10 ...............................\n",
      "[CV] ................ max_depth=5, min_samples_split=10, total=   0.2s\n",
      "[CV] max_depth=5, min_samples_split=10 ...............................\n",
      "[CV] ................ max_depth=5, min_samples_split=10, total=   0.2s\n",
      "[CV] max_depth=5, min_samples_split=10 ...............................\n",
      "[CV] ................ max_depth=5, min_samples_split=10, total=   0.2s\n",
      "[CV] max_depth=5, min_samples_split=20 ...............................\n",
      "[CV] ................ max_depth=5, min_samples_split=20, total=   0.2s\n",
      "[CV] max_depth=5, min_samples_split=20 ...............................\n",
      "[CV] ................ max_depth=5, min_samples_split=20, total=   0.2s\n",
      "[CV] max_depth=5, min_samples_split=20 ...............................\n",
      "[CV] ................ max_depth=5, min_samples_split=20, total=   0.2s\n",
      "[CV] max_depth=5, min_samples_split=20 ...............................\n",
      "[CV] ................ max_depth=5, min_samples_split=20, total=   0.2s\n",
      "[CV] max_depth=5, min_samples_split=20 ...............................\n",
      "[CV] ................ max_depth=5, min_samples_split=20, total=   0.2s\n",
      "[CV] max_depth=6, min_samples_split=2 ................................\n",
      "[CV] ................. max_depth=6, min_samples_split=2, total=   0.2s\n",
      "[CV] max_depth=6, min_samples_split=2 ................................\n",
      "[CV] ................. max_depth=6, min_samples_split=2, total=   0.2s\n",
      "[CV] max_depth=6, min_samples_split=2 ................................\n",
      "[CV] ................. max_depth=6, min_samples_split=2, total=   0.2s\n",
      "[CV] max_depth=6, min_samples_split=2 ................................\n",
      "[CV] ................. max_depth=6, min_samples_split=2, total=   0.2s\n",
      "[CV] max_depth=6, min_samples_split=2 ................................\n",
      "[CV] ................. max_depth=6, min_samples_split=2, total=   0.2s\n",
      "[CV] max_depth=6, min_samples_split=5 ................................\n",
      "[CV] ................. max_depth=6, min_samples_split=5, total=   0.2s\n",
      "[CV] max_depth=6, min_samples_split=5 ................................\n",
      "[CV] ................. max_depth=6, min_samples_split=5, total=   0.2s\n",
      "[CV] max_depth=6, min_samples_split=5 ................................\n",
      "[CV] ................. max_depth=6, min_samples_split=5, total=   0.2s\n",
      "[CV] max_depth=6, min_samples_split=5 ................................\n",
      "[CV] ................. max_depth=6, min_samples_split=5, total=   0.2s\n",
      "[CV] max_depth=6, min_samples_split=5 ................................\n",
      "[CV] ................. max_depth=6, min_samples_split=5, total=   0.2s\n",
      "[CV] max_depth=6, min_samples_split=10 ...............................\n",
      "[CV] ................ max_depth=6, min_samples_split=10, total=   0.2s\n",
      "[CV] max_depth=6, min_samples_split=10 ...............................\n",
      "[CV] ................ max_depth=6, min_samples_split=10, total=   0.2s\n",
      "[CV] max_depth=6, min_samples_split=10 ...............................\n",
      "[CV] ................ max_depth=6, min_samples_split=10, total=   0.2s\n",
      "[CV] max_depth=6, min_samples_split=10 ...............................\n",
      "[CV] ................ max_depth=6, min_samples_split=10, total=   0.2s\n",
      "[CV] max_depth=6, min_samples_split=10 ...............................\n",
      "[CV] ................ max_depth=6, min_samples_split=10, total=   0.2s\n",
      "[CV] max_depth=6, min_samples_split=20 ...............................\n",
      "[CV] ................ max_depth=6, min_samples_split=20, total=   0.2s\n",
      "[CV] max_depth=6, min_samples_split=20 ...............................\n",
      "[CV] ................ max_depth=6, min_samples_split=20, total=   0.2s\n",
      "[CV] max_depth=6, min_samples_split=20 ...............................\n",
      "[CV] ................ max_depth=6, min_samples_split=20, total=   0.3s\n",
      "[CV] max_depth=6, min_samples_split=20 ...............................\n",
      "[CV] ................ max_depth=6, min_samples_split=20, total=   0.2s\n",
      "[CV] max_depth=6, min_samples_split=20 ...............................\n",
      "[CV] ................ max_depth=6, min_samples_split=20, total=   0.2s\n",
      "[CV] max_depth=7, min_samples_split=2 ................................\n",
      "[CV] ................. max_depth=7, min_samples_split=2, total=   0.3s\n",
      "[CV] max_depth=7, min_samples_split=2 ................................\n",
      "[CV] ................. max_depth=7, min_samples_split=2, total=   0.3s\n",
      "[CV] max_depth=7, min_samples_split=2 ................................\n",
      "[CV] ................. max_depth=7, min_samples_split=2, total=   0.3s\n",
      "[CV] max_depth=7, min_samples_split=2 ................................\n",
      "[CV] ................. max_depth=7, min_samples_split=2, total=   0.3s\n",
      "[CV] max_depth=7, min_samples_split=2 ................................\n",
      "[CV] ................. max_depth=7, min_samples_split=2, total=   0.3s\n",
      "[CV] max_depth=7, min_samples_split=5 ................................\n",
      "[CV] ................. max_depth=7, min_samples_split=5, total=   0.3s\n",
      "[CV] max_depth=7, min_samples_split=5 ................................\n",
      "[CV] ................. max_depth=7, min_samples_split=5, total=   0.3s\n",
      "[CV] max_depth=7, min_samples_split=5 ................................\n",
      "[CV] ................. max_depth=7, min_samples_split=5, total=   0.3s\n",
      "[CV] max_depth=7, min_samples_split=5 ................................\n",
      "[CV] ................. max_depth=7, min_samples_split=5, total=   0.2s\n",
      "[CV] max_depth=7, min_samples_split=5 ................................\n",
      "[CV] ................. max_depth=7, min_samples_split=5, total=   0.2s\n",
      "[CV] max_depth=7, min_samples_split=10 ...............................\n",
      "[CV] ................ max_depth=7, min_samples_split=10, total=   0.2s\n",
      "[CV] max_depth=7, min_samples_split=10 ...............................\n",
      "[CV] ................ max_depth=7, min_samples_split=10, total=   0.3s\n",
      "[CV] max_depth=7, min_samples_split=10 ...............................\n",
      "[CV] ................ max_depth=7, min_samples_split=10, total=   0.3s\n",
      "[CV] max_depth=7, min_samples_split=10 ...............................\n",
      "[CV] ................ max_depth=7, min_samples_split=10, total=   0.3s\n",
      "[CV] max_depth=7, min_samples_split=10 ...............................\n",
      "[CV] ................ max_depth=7, min_samples_split=10, total=   0.3s\n",
      "[CV] max_depth=7, min_samples_split=20 ...............................\n",
      "[CV] ................ max_depth=7, min_samples_split=20, total=   0.3s\n",
      "[CV] max_depth=7, min_samples_split=20 ...............................\n",
      "[CV] ................ max_depth=7, min_samples_split=20, total=   0.2s\n",
      "[CV] max_depth=7, min_samples_split=20 ...............................\n",
      "[CV] ................ max_depth=7, min_samples_split=20, total=   0.2s\n",
      "[CV] max_depth=7, min_samples_split=20 ...............................\n",
      "[CV] ................ max_depth=7, min_samples_split=20, total=   0.3s\n",
      "[CV] max_depth=7, min_samples_split=20 ...............................\n",
      "[CV] ................ max_depth=7, min_samples_split=20, total=   0.3s\n",
      "[CV] max_depth=8, min_samples_split=2 ................................\n",
      "[CV] ................. max_depth=8, min_samples_split=2, total=   0.3s\n",
      "[CV] max_depth=8, min_samples_split=2 ................................\n",
      "[CV] ................. max_depth=8, min_samples_split=2, total=   0.3s\n",
      "[CV] max_depth=8, min_samples_split=2 ................................\n",
      "[CV] ................. max_depth=8, min_samples_split=2, total=   0.3s\n",
      "[CV] max_depth=8, min_samples_split=2 ................................\n",
      "[CV] ................. max_depth=8, min_samples_split=2, total=   0.3s\n",
      "[CV] max_depth=8, min_samples_split=2 ................................\n",
      "[CV] ................. max_depth=8, min_samples_split=2, total=   0.3s\n",
      "[CV] max_depth=8, min_samples_split=5 ................................\n",
      "[CV] ................. max_depth=8, min_samples_split=5, total=   0.3s\n",
      "[CV] max_depth=8, min_samples_split=5 ................................\n",
      "[CV] ................. max_depth=8, min_samples_split=5, total=   0.3s\n",
      "[CV] max_depth=8, min_samples_split=5 ................................\n",
      "[CV] ................. max_depth=8, min_samples_split=5, total=   0.3s\n",
      "[CV] max_depth=8, min_samples_split=5 ................................\n",
      "[CV] ................. max_depth=8, min_samples_split=5, total=   0.3s\n",
      "[CV] max_depth=8, min_samples_split=5 ................................\n",
      "[CV] ................. max_depth=8, min_samples_split=5, total=   0.3s\n",
      "[CV] max_depth=8, min_samples_split=10 ...............................\n",
      "[CV] ................ max_depth=8, min_samples_split=10, total=   0.3s\n",
      "[CV] max_depth=8, min_samples_split=10 ...............................\n",
      "[CV] ................ max_depth=8, min_samples_split=10, total=   0.3s\n",
      "[CV] max_depth=8, min_samples_split=10 ...............................\n",
      "[CV] ................ max_depth=8, min_samples_split=10, total=   0.3s\n",
      "[CV] max_depth=8, min_samples_split=10 ...............................\n",
      "[CV] ................ max_depth=8, min_samples_split=10, total=   0.3s\n",
      "[CV] max_depth=8, min_samples_split=10 ...............................\n",
      "[CV] ................ max_depth=8, min_samples_split=10, total=   0.3s\n",
      "[CV] max_depth=8, min_samples_split=20 ...............................\n",
      "[CV] ................ max_depth=8, min_samples_split=20, total=   0.3s\n",
      "[CV] max_depth=8, min_samples_split=20 ...............................\n",
      "[CV] ................ max_depth=8, min_samples_split=20, total=   0.3s\n",
      "[CV] max_depth=8, min_samples_split=20 ...............................\n",
      "[CV] ................ max_depth=8, min_samples_split=20, total=   0.3s\n",
      "[CV] max_depth=8, min_samples_split=20 ...............................\n",
      "[CV] ................ max_depth=8, min_samples_split=20, total=   0.3s\n",
      "[CV] max_depth=8, min_samples_split=20 ...............................\n",
      "[CV] ................ max_depth=8, min_samples_split=20, total=   0.3s\n",
      "[CV] max_depth=9, min_samples_split=2 ................................\n",
      "[CV] ................. max_depth=9, min_samples_split=2, total=   0.3s\n",
      "[CV] max_depth=9, min_samples_split=2 ................................\n",
      "[CV] ................. max_depth=9, min_samples_split=2, total=   0.3s\n",
      "[CV] max_depth=9, min_samples_split=2 ................................\n",
      "[CV] ................. max_depth=9, min_samples_split=2, total=   0.3s\n",
      "[CV] max_depth=9, min_samples_split=2 ................................\n",
      "[CV] ................. max_depth=9, min_samples_split=2, total=   0.3s\n",
      "[CV] max_depth=9, min_samples_split=2 ................................\n",
      "[CV] ................. max_depth=9, min_samples_split=2, total=   0.3s\n",
      "[CV] max_depth=9, min_samples_split=5 ................................\n",
      "[CV] ................. max_depth=9, min_samples_split=5, total=   0.3s\n",
      "[CV] max_depth=9, min_samples_split=5 ................................\n",
      "[CV] ................. max_depth=9, min_samples_split=5, total=   0.3s\n",
      "[CV] max_depth=9, min_samples_split=5 ................................\n",
      "[CV] ................. max_depth=9, min_samples_split=5, total=   0.3s\n",
      "[CV] max_depth=9, min_samples_split=5 ................................\n",
      "[CV] ................. max_depth=9, min_samples_split=5, total=   0.3s\n",
      "[CV] max_depth=9, min_samples_split=5 ................................\n",
      "[CV] ................. max_depth=9, min_samples_split=5, total=   0.3s\n",
      "[CV] max_depth=9, min_samples_split=10 ...............................\n",
      "[CV] ................ max_depth=9, min_samples_split=10, total=   0.3s\n",
      "[CV] max_depth=9, min_samples_split=10 ...............................\n",
      "[CV] ................ max_depth=9, min_samples_split=10, total=   0.3s\n",
      "[CV] max_depth=9, min_samples_split=10 ...............................\n",
      "[CV] ................ max_depth=9, min_samples_split=10, total=   0.3s\n",
      "[CV] max_depth=9, min_samples_split=10 ...............................\n",
      "[CV] ................ max_depth=9, min_samples_split=10, total=   0.3s\n",
      "[CV] max_depth=9, min_samples_split=10 ...............................\n",
      "[CV] ................ max_depth=9, min_samples_split=10, total=   0.3s\n",
      "[CV] max_depth=9, min_samples_split=20 ...............................\n",
      "[CV] ................ max_depth=9, min_samples_split=20, total=   0.3s\n",
      "[CV] max_depth=9, min_samples_split=20 ...............................\n",
      "[CV] ................ max_depth=9, min_samples_split=20, total=   0.3s\n",
      "[CV] max_depth=9, min_samples_split=20 ...............................\n",
      "[CV] ................ max_depth=9, min_samples_split=20, total=   0.3s\n",
      "[CV] max_depth=9, min_samples_split=20 ...............................\n",
      "[CV] ................ max_depth=9, min_samples_split=20, total=   0.3s\n",
      "[CV] max_depth=9, min_samples_split=20 ...............................\n",
      "[CV] ................ max_depth=9, min_samples_split=20, total=   0.3s\n"
     ]
    },
    {
     "name": "stderr",
     "output_type": "stream",
     "text": [
      "[Parallel(n_jobs=1)]: Done 100 out of 100 | elapsed:   26.0s finished\n"
     ]
    },
    {
     "data": {
      "text/plain": [
       "GridSearchCV(cv=5, estimator=DecisionTreeClassifier(),\n",
       "             param_grid={'max_depth': [5, 6, 7, 8, 9],\n",
       "                         'min_samples_split': [2, 5, 10, 20]},\n",
       "             verbose=2)"
      ]
     },
     "execution_count": 38,
     "metadata": {},
     "output_type": "execute_result"
    }
   ],
   "source": [
    "# Determining best hyperparameters\n",
    "max_depth = [5, 6, 7, 8, 9]\n",
    "min_samples_split = [2, 5, 10, 20]\n",
    "\n",
    "dt_grid = GridSearchCV(estimator=DecisionTreeClassifier(), cv=5,\n",
    "                       param_grid={\"max_depth\":max_depth, \"min_samples_split\":min_samples_split},\n",
    "                      verbose=2)\n",
    "\n",
    "dt_grid.fit(X_train, y_train)"
   ]
  },
  {
   "cell_type": "code",
   "execution_count": 39,
   "metadata": {},
   "outputs": [
    {
     "name": "stdout",
     "output_type": "stream",
     "text": [
      "Hyperparameters that give the best score :  {'max_depth': 9, 'min_samples_split': 10}\n",
      "Best score :  0.9852370154891451\n",
      "...Done.\n"
     ]
    }
   ],
   "source": [
    "print(\"Hyperparameters that give the best score : \", dt_grid.best_params_)\n",
    "print(\"Best score : \", dt_grid.best_score_)\n",
    "\n",
    "print(\"...Done.\")"
   ]
  },
  {
   "cell_type": "code",
   "execution_count": null,
   "metadata": {},
   "outputs": [],
   "source": []
  },
  {
   "cell_type": "code",
   "execution_count": 40,
   "metadata": {},
   "outputs": [
    {
     "data": {
      "text/plain": [
       "DecisionTreeClassifier(max_depth=9, min_samples_split=10)"
      ]
     },
     "execution_count": 40,
     "metadata": {},
     "output_type": "execute_result"
    }
   ],
   "source": [
    "# Apply the grid search outputs into the Decision Tree Classifier\n",
    "dt = DecisionTreeClassifier(max_depth=dt_grid.best_params_['max_depth'],\n",
    "                           min_samples_split=dt_grid.best_params_['min_samples_split'])\n",
    "dt.fit(X_train, y_train)"
   ]
  },
  {
   "cell_type": "code",
   "execution_count": 41,
   "metadata": {},
   "outputs": [
    {
     "name": "stdout",
     "output_type": "stream",
     "text": [
      "Predictions on training set...\n",
      "...Done.\n",
      "[0 0 0 ... 0 0 0]\n",
      "\n",
      "Predictions on test set...\n",
      "...Done.\n",
      "[0 0 0 ... 0 0 0]\n",
      "\n"
     ]
    }
   ],
   "source": [
    "# Predictions on training set\n",
    "print(\"Predictions on training set...\")\n",
    "y_train_pred = dt.predict(X_train)\n",
    "print(\"...Done.\")\n",
    "print(y_train_pred)\n",
    "print()\n",
    "\n",
    "# Predictions on test set\n",
    "print(\"Predictions on test set...\")\n",
    "y_test_pred = dt.predict(X_test)\n",
    "print(\"...Done.\")\n",
    "print(y_test_pred)\n",
    "print()\n"
   ]
  },
  {
   "cell_type": "code",
   "execution_count": null,
   "metadata": {},
   "outputs": [],
   "source": []
  },
  {
   "cell_type": "code",
   "execution_count": 42,
   "metadata": {},
   "outputs": [],
   "source": [
    "# Performing predictions with Random Tree and creating a csv file\n",
    "\n",
    "Y_predictions = pd.DataFrame(columns=['converted'],data=y_test_pred)\n",
    "Y_predictions.to_csv('conversion_data_train_predictions_Decision_Tree.csv', index=False)"
   ]
  },
  {
   "cell_type": "code",
   "execution_count": null,
   "metadata": {},
   "outputs": [],
   "source": []
  },
  {
   "cell_type": "code",
   "execution_count": 43,
   "metadata": {},
   "outputs": [
    {
     "name": "stdout",
     "output_type": "stream",
     "text": [
      "Train score: 0.9885533066273104\n",
      "Test score: 0.9840642350130017\n"
     ]
    }
   ],
   "source": [
    "# Model evaluation\n",
    "print(\"Train score: {}\".format(classifier.score(X_train, y_train)))\n",
    "print(\"Test score: {}\".format(classifier.score(X_test, y_test)))"
   ]
  },
  {
   "cell_type": "code",
   "execution_count": 44,
   "metadata": {},
   "outputs": [
    {
     "name": "stdout",
     "output_type": "stream",
     "text": [
      "f1-score on train set :  0.773377503388044\n",
      "f1-score on test set :  0.7462326702833033\n"
     ]
    }
   ],
   "source": [
    "# The f1-score will be used to assess the performances on the leaderboard\n",
    "print(\"f1-score on train set : \", f1_score(y_train, dt.predict(X_train)))\n",
    "print(\"f1-score on test set : \", f1_score(y_test, dt.predict(X_test)))"
   ]
  },
  {
   "cell_type": "code",
   "execution_count": 45,
   "metadata": {},
   "outputs": [
    {
     "name": "stdout",
     "output_type": "stream",
     "text": [
      "              precision    recall  f1-score   support\n",
      "\n",
      "           0       0.99      1.00      0.99     55066\n",
      "           1       0.84      0.67      0.75      1850\n",
      "\n",
      "    accuracy                           0.99     56916\n",
      "   macro avg       0.92      0.83      0.87     56916\n",
      "weighted avg       0.98      0.99      0.98     56916\n",
      "\n"
     ]
    }
   ],
   "source": [
    "# Computing other performance metrics to better understand what the model is doing\n",
    "from sklearn.metrics import classification_report\n",
    "print(classification_report(y_test, dt.predict(X_test)))"
   ]
  },
  {
   "cell_type": "markdown",
   "metadata": {},
   "source": [
    "### Our score is already good but we can try a random forest model!"
   ]
  },
  {
   "cell_type": "markdown",
   "metadata": {},
   "source": [
    "## F) RANDOM FOREST"
   ]
  },
  {
   "cell_type": "code",
   "execution_count": 46,
   "metadata": {},
   "outputs": [
    {
     "data": {
      "text/plain": [
       "RandomForestClassifier(n_estimators=200)"
      ]
     },
     "execution_count": 46,
     "metadata": {},
     "output_type": "execute_result"
    }
   ],
   "source": [
    "from sklearn.ensemble import RandomForestClassifier\n",
    "classifier = RandomForestClassifier(n_estimators=200)\n",
    "classifier.fit(X_train, y_train)"
   ]
  },
  {
   "cell_type": "code",
   "execution_count": 47,
   "metadata": {},
   "outputs": [
    {
     "name": "stdout",
     "output_type": "stream",
     "text": [
      "Fitting 5 folds for each of 60 candidates, totalling 300 fits\n",
      "[CV] max_depth=5, min_samples_split=2, n_estimators=10 ...............\n"
     ]
    },
    {
     "name": "stderr",
     "output_type": "stream",
     "text": [
      "[Parallel(n_jobs=1)]: Using backend SequentialBackend with 1 concurrent workers.\n"
     ]
    },
    {
     "name": "stdout",
     "output_type": "stream",
     "text": [
      "[CV]  max_depth=5, min_samples_split=2, n_estimators=10, total=   0.6s\n",
      "[CV] max_depth=5, min_samples_split=2, n_estimators=10 ...............\n"
     ]
    },
    {
     "name": "stderr",
     "output_type": "stream",
     "text": [
      "[Parallel(n_jobs=1)]: Done   1 out of   1 | elapsed:    0.6s remaining:    0.0s\n"
     ]
    },
    {
     "name": "stdout",
     "output_type": "stream",
     "text": [
      "[CV]  max_depth=5, min_samples_split=2, n_estimators=10, total=   0.6s\n",
      "[CV] max_depth=5, min_samples_split=2, n_estimators=10 ...............\n",
      "[CV]  max_depth=5, min_samples_split=2, n_estimators=10, total=   0.7s\n",
      "[CV] max_depth=5, min_samples_split=2, n_estimators=10 ...............\n",
      "[CV]  max_depth=5, min_samples_split=2, n_estimators=10, total=   0.6s\n",
      "[CV] max_depth=5, min_samples_split=2, n_estimators=10 ...............\n",
      "[CV]  max_depth=5, min_samples_split=2, n_estimators=10, total=   0.6s\n",
      "[CV] max_depth=5, min_samples_split=2, n_estimators=20 ...............\n",
      "[CV]  max_depth=5, min_samples_split=2, n_estimators=20, total=   1.2s\n",
      "[CV] max_depth=5, min_samples_split=2, n_estimators=20 ...............\n",
      "[CV]  max_depth=5, min_samples_split=2, n_estimators=20, total=   1.2s\n",
      "[CV] max_depth=5, min_samples_split=2, n_estimators=20 ...............\n",
      "[CV]  max_depth=5, min_samples_split=2, n_estimators=20, total=   1.2s\n",
      "[CV] max_depth=5, min_samples_split=2, n_estimators=20 ...............\n",
      "[CV]  max_depth=5, min_samples_split=2, n_estimators=20, total=   1.2s\n",
      "[CV] max_depth=5, min_samples_split=2, n_estimators=20 ...............\n",
      "[CV]  max_depth=5, min_samples_split=2, n_estimators=20, total=   1.2s\n",
      "[CV] max_depth=5, min_samples_split=2, n_estimators=30 ...............\n",
      "[CV]  max_depth=5, min_samples_split=2, n_estimators=30, total=   1.8s\n",
      "[CV] max_depth=5, min_samples_split=2, n_estimators=30 ...............\n",
      "[CV]  max_depth=5, min_samples_split=2, n_estimators=30, total=   1.8s\n",
      "[CV] max_depth=5, min_samples_split=2, n_estimators=30 ...............\n",
      "[CV]  max_depth=5, min_samples_split=2, n_estimators=30, total=   1.7s\n",
      "[CV] max_depth=5, min_samples_split=2, n_estimators=30 ...............\n",
      "[CV]  max_depth=5, min_samples_split=2, n_estimators=30, total=   1.8s\n",
      "[CV] max_depth=5, min_samples_split=2, n_estimators=30 ...............\n",
      "[CV]  max_depth=5, min_samples_split=2, n_estimators=30, total=   1.8s\n",
      "[CV] max_depth=5, min_samples_split=5, n_estimators=10 ...............\n",
      "[CV]  max_depth=5, min_samples_split=5, n_estimators=10, total=   0.6s\n",
      "[CV] max_depth=5, min_samples_split=5, n_estimators=10 ...............\n",
      "[CV]  max_depth=5, min_samples_split=5, n_estimators=10, total=   0.6s\n",
      "[CV] max_depth=5, min_samples_split=5, n_estimators=10 ...............\n",
      "[CV]  max_depth=5, min_samples_split=5, n_estimators=10, total=   0.6s\n",
      "[CV] max_depth=5, min_samples_split=5, n_estimators=10 ...............\n",
      "[CV]  max_depth=5, min_samples_split=5, n_estimators=10, total=   0.6s\n",
      "[CV] max_depth=5, min_samples_split=5, n_estimators=10 ...............\n",
      "[CV]  max_depth=5, min_samples_split=5, n_estimators=10, total=   0.6s\n",
      "[CV] max_depth=5, min_samples_split=5, n_estimators=20 ...............\n",
      "[CV]  max_depth=5, min_samples_split=5, n_estimators=20, total=   1.2s\n",
      "[CV] max_depth=5, min_samples_split=5, n_estimators=20 ...............\n",
      "[CV]  max_depth=5, min_samples_split=5, n_estimators=20, total=   1.2s\n",
      "[CV] max_depth=5, min_samples_split=5, n_estimators=20 ...............\n",
      "[CV]  max_depth=5, min_samples_split=5, n_estimators=20, total=   1.2s\n",
      "[CV] max_depth=5, min_samples_split=5, n_estimators=20 ...............\n",
      "[CV]  max_depth=5, min_samples_split=5, n_estimators=20, total=   1.2s\n",
      "[CV] max_depth=5, min_samples_split=5, n_estimators=20 ...............\n",
      "[CV]  max_depth=5, min_samples_split=5, n_estimators=20, total=   1.3s\n",
      "[CV] max_depth=5, min_samples_split=5, n_estimators=30 ...............\n",
      "[CV]  max_depth=5, min_samples_split=5, n_estimators=30, total=   1.9s\n",
      "[CV] max_depth=5, min_samples_split=5, n_estimators=30 ...............\n",
      "[CV]  max_depth=5, min_samples_split=5, n_estimators=30, total=   1.8s\n",
      "[CV] max_depth=5, min_samples_split=5, n_estimators=30 ...............\n",
      "[CV]  max_depth=5, min_samples_split=5, n_estimators=30, total=   1.9s\n",
      "[CV] max_depth=5, min_samples_split=5, n_estimators=30 ...............\n",
      "[CV]  max_depth=5, min_samples_split=5, n_estimators=30, total=   1.8s\n",
      "[CV] max_depth=5, min_samples_split=5, n_estimators=30 ...............\n",
      "[CV]  max_depth=5, min_samples_split=5, n_estimators=30, total=   1.8s\n",
      "[CV] max_depth=5, min_samples_split=10, n_estimators=10 ..............\n",
      "[CV]  max_depth=5, min_samples_split=10, n_estimators=10, total=   0.6s\n",
      "[CV] max_depth=5, min_samples_split=10, n_estimators=10 ..............\n",
      "[CV]  max_depth=5, min_samples_split=10, n_estimators=10, total=   0.6s\n",
      "[CV] max_depth=5, min_samples_split=10, n_estimators=10 ..............\n",
      "[CV]  max_depth=5, min_samples_split=10, n_estimators=10, total=   0.6s\n",
      "[CV] max_depth=5, min_samples_split=10, n_estimators=10 ..............\n",
      "[CV]  max_depth=5, min_samples_split=10, n_estimators=10, total=   0.6s\n",
      "[CV] max_depth=5, min_samples_split=10, n_estimators=10 ..............\n",
      "[CV]  max_depth=5, min_samples_split=10, n_estimators=10, total=   0.6s\n",
      "[CV] max_depth=5, min_samples_split=10, n_estimators=20 ..............\n",
      "[CV]  max_depth=5, min_samples_split=10, n_estimators=20, total=   1.3s\n",
      "[CV] max_depth=5, min_samples_split=10, n_estimators=20 ..............\n",
      "[CV]  max_depth=5, min_samples_split=10, n_estimators=20, total=   1.3s\n",
      "[CV] max_depth=5, min_samples_split=10, n_estimators=20 ..............\n",
      "[CV]  max_depth=5, min_samples_split=10, n_estimators=20, total=   1.2s\n",
      "[CV] max_depth=5, min_samples_split=10, n_estimators=20 ..............\n",
      "[CV]  max_depth=5, min_samples_split=10, n_estimators=20, total=   1.2s\n",
      "[CV] max_depth=5, min_samples_split=10, n_estimators=20 ..............\n",
      "[CV]  max_depth=5, min_samples_split=10, n_estimators=20, total=   1.2s\n",
      "[CV] max_depth=5, min_samples_split=10, n_estimators=30 ..............\n",
      "[CV]  max_depth=5, min_samples_split=10, n_estimators=30, total=   1.8s\n",
      "[CV] max_depth=5, min_samples_split=10, n_estimators=30 ..............\n",
      "[CV]  max_depth=5, min_samples_split=10, n_estimators=30, total=   1.8s\n",
      "[CV] max_depth=5, min_samples_split=10, n_estimators=30 ..............\n",
      "[CV]  max_depth=5, min_samples_split=10, n_estimators=30, total=   1.8s\n",
      "[CV] max_depth=5, min_samples_split=10, n_estimators=30 ..............\n",
      "[CV]  max_depth=5, min_samples_split=10, n_estimators=30, total=   1.8s\n",
      "[CV] max_depth=5, min_samples_split=10, n_estimators=30 ..............\n",
      "[CV]  max_depth=5, min_samples_split=10, n_estimators=30, total=   1.8s\n",
      "[CV] max_depth=5, min_samples_split=20, n_estimators=10 ..............\n",
      "[CV]  max_depth=5, min_samples_split=20, n_estimators=10, total=   0.6s\n",
      "[CV] max_depth=5, min_samples_split=20, n_estimators=10 ..............\n",
      "[CV]  max_depth=5, min_samples_split=20, n_estimators=10, total=   0.7s\n",
      "[CV] max_depth=5, min_samples_split=20, n_estimators=10 ..............\n",
      "[CV]  max_depth=5, min_samples_split=20, n_estimators=10, total=   0.6s\n",
      "[CV] max_depth=5, min_samples_split=20, n_estimators=10 ..............\n",
      "[CV]  max_depth=5, min_samples_split=20, n_estimators=10, total=   0.6s\n",
      "[CV] max_depth=5, min_samples_split=20, n_estimators=10 ..............\n",
      "[CV]  max_depth=5, min_samples_split=20, n_estimators=10, total=   0.6s\n",
      "[CV] max_depth=5, min_samples_split=20, n_estimators=20 ..............\n",
      "[CV]  max_depth=5, min_samples_split=20, n_estimators=20, total=   1.1s\n",
      "[CV] max_depth=5, min_samples_split=20, n_estimators=20 ..............\n",
      "[CV]  max_depth=5, min_samples_split=20, n_estimators=20, total=   1.2s\n",
      "[CV] max_depth=5, min_samples_split=20, n_estimators=20 ..............\n",
      "[CV]  max_depth=5, min_samples_split=20, n_estimators=20, total=   1.3s\n",
      "[CV] max_depth=5, min_samples_split=20, n_estimators=20 ..............\n",
      "[CV]  max_depth=5, min_samples_split=20, n_estimators=20, total=   1.3s\n",
      "[CV] max_depth=5, min_samples_split=20, n_estimators=20 ..............\n",
      "[CV]  max_depth=5, min_samples_split=20, n_estimators=20, total=   1.3s\n",
      "[CV] max_depth=5, min_samples_split=20, n_estimators=30 ..............\n",
      "[CV]  max_depth=5, min_samples_split=20, n_estimators=30, total=   1.9s\n",
      "[CV] max_depth=5, min_samples_split=20, n_estimators=30 ..............\n",
      "[CV]  max_depth=5, min_samples_split=20, n_estimators=30, total=   1.8s\n",
      "[CV] max_depth=5, min_samples_split=20, n_estimators=30 ..............\n",
      "[CV]  max_depth=5, min_samples_split=20, n_estimators=30, total=   1.7s\n",
      "[CV] max_depth=5, min_samples_split=20, n_estimators=30 ..............\n",
      "[CV]  max_depth=5, min_samples_split=20, n_estimators=30, total=   1.7s\n",
      "[CV] max_depth=5, min_samples_split=20, n_estimators=30 ..............\n",
      "[CV]  max_depth=5, min_samples_split=20, n_estimators=30, total=   1.8s\n",
      "[CV] max_depth=6, min_samples_split=2, n_estimators=10 ...............\n",
      "[CV]  max_depth=6, min_samples_split=2, n_estimators=10, total=   0.6s\n",
      "[CV] max_depth=6, min_samples_split=2, n_estimators=10 ...............\n",
      "[CV]  max_depth=6, min_samples_split=2, n_estimators=10, total=   0.6s\n",
      "[CV] max_depth=6, min_samples_split=2, n_estimators=10 ...............\n",
      "[CV]  max_depth=6, min_samples_split=2, n_estimators=10, total=   0.7s\n",
      "[CV] max_depth=6, min_samples_split=2, n_estimators=10 ...............\n",
      "[CV]  max_depth=6, min_samples_split=2, n_estimators=10, total=   0.7s\n",
      "[CV] max_depth=6, min_samples_split=2, n_estimators=10 ...............\n",
      "[CV]  max_depth=6, min_samples_split=2, n_estimators=10, total=   0.7s\n",
      "[CV] max_depth=6, min_samples_split=2, n_estimators=20 ...............\n",
      "[CV]  max_depth=6, min_samples_split=2, n_estimators=20, total=   1.3s\n",
      "[CV] max_depth=6, min_samples_split=2, n_estimators=20 ...............\n",
      "[CV]  max_depth=6, min_samples_split=2, n_estimators=20, total=   1.3s\n",
      "[CV] max_depth=6, min_samples_split=2, n_estimators=20 ...............\n",
      "[CV]  max_depth=6, min_samples_split=2, n_estimators=20, total=   1.3s\n",
      "[CV] max_depth=6, min_samples_split=2, n_estimators=20 ...............\n",
      "[CV]  max_depth=6, min_samples_split=2, n_estimators=20, total=   1.3s\n",
      "[CV] max_depth=6, min_samples_split=2, n_estimators=20 ...............\n",
      "[CV]  max_depth=6, min_samples_split=2, n_estimators=20, total=   1.4s\n",
      "[CV] max_depth=6, min_samples_split=2, n_estimators=30 ...............\n",
      "[CV]  max_depth=6, min_samples_split=2, n_estimators=30, total=   2.0s\n",
      "[CV] max_depth=6, min_samples_split=2, n_estimators=30 ...............\n",
      "[CV]  max_depth=6, min_samples_split=2, n_estimators=30, total=   1.9s\n",
      "[CV] max_depth=6, min_samples_split=2, n_estimators=30 ...............\n",
      "[CV]  max_depth=6, min_samples_split=2, n_estimators=30, total=   2.0s\n",
      "[CV] max_depth=6, min_samples_split=2, n_estimators=30 ...............\n",
      "[CV]  max_depth=6, min_samples_split=2, n_estimators=30, total=   2.0s\n",
      "[CV] max_depth=6, min_samples_split=2, n_estimators=30 ...............\n",
      "[CV]  max_depth=6, min_samples_split=2, n_estimators=30, total=   2.0s\n",
      "[CV] max_depth=6, min_samples_split=5, n_estimators=10 ...............\n",
      "[CV]  max_depth=6, min_samples_split=5, n_estimators=10, total=   0.7s\n",
      "[CV] max_depth=6, min_samples_split=5, n_estimators=10 ...............\n",
      "[CV]  max_depth=6, min_samples_split=5, n_estimators=10, total=   0.6s\n",
      "[CV] max_depth=6, min_samples_split=5, n_estimators=10 ...............\n",
      "[CV]  max_depth=6, min_samples_split=5, n_estimators=10, total=   0.7s\n",
      "[CV] max_depth=6, min_samples_split=5, n_estimators=10 ...............\n",
      "[CV]  max_depth=6, min_samples_split=5, n_estimators=10, total=   0.7s\n",
      "[CV] max_depth=6, min_samples_split=5, n_estimators=10 ...............\n",
      "[CV]  max_depth=6, min_samples_split=5, n_estimators=10, total=   0.6s\n",
      "[CV] max_depth=6, min_samples_split=5, n_estimators=20 ...............\n",
      "[CV]  max_depth=6, min_samples_split=5, n_estimators=20, total=   1.4s\n",
      "[CV] max_depth=6, min_samples_split=5, n_estimators=20 ...............\n",
      "[CV]  max_depth=6, min_samples_split=5, n_estimators=20, total=   1.2s\n",
      "[CV] max_depth=6, min_samples_split=5, n_estimators=20 ...............\n",
      "[CV]  max_depth=6, min_samples_split=5, n_estimators=20, total=   1.3s\n",
      "[CV] max_depth=6, min_samples_split=5, n_estimators=20 ...............\n",
      "[CV]  max_depth=6, min_samples_split=5, n_estimators=20, total=   1.3s\n",
      "[CV] max_depth=6, min_samples_split=5, n_estimators=20 ...............\n",
      "[CV]  max_depth=6, min_samples_split=5, n_estimators=20, total=   1.3s\n",
      "[CV] max_depth=6, min_samples_split=5, n_estimators=30 ...............\n",
      "[CV]  max_depth=6, min_samples_split=5, n_estimators=30, total=   1.8s\n",
      "[CV] max_depth=6, min_samples_split=5, n_estimators=30 ...............\n",
      "[CV]  max_depth=6, min_samples_split=5, n_estimators=30, total=   1.9s\n",
      "[CV] max_depth=6, min_samples_split=5, n_estimators=30 ...............\n",
      "[CV]  max_depth=6, min_samples_split=5, n_estimators=30, total=   1.9s\n",
      "[CV] max_depth=6, min_samples_split=5, n_estimators=30 ...............\n",
      "[CV]  max_depth=6, min_samples_split=5, n_estimators=30, total=   1.8s\n",
      "[CV] max_depth=6, min_samples_split=5, n_estimators=30 ...............\n",
      "[CV]  max_depth=6, min_samples_split=5, n_estimators=30, total=   1.8s\n",
      "[CV] max_depth=6, min_samples_split=10, n_estimators=10 ..............\n",
      "[CV]  max_depth=6, min_samples_split=10, n_estimators=10, total=   0.6s\n",
      "[CV] max_depth=6, min_samples_split=10, n_estimators=10 ..............\n",
      "[CV]  max_depth=6, min_samples_split=10, n_estimators=10, total=   0.7s\n",
      "[CV] max_depth=6, min_samples_split=10, n_estimators=10 ..............\n",
      "[CV]  max_depth=6, min_samples_split=10, n_estimators=10, total=   0.7s\n",
      "[CV] max_depth=6, min_samples_split=10, n_estimators=10 ..............\n",
      "[CV]  max_depth=6, min_samples_split=10, n_estimators=10, total=   0.7s\n",
      "[CV] max_depth=6, min_samples_split=10, n_estimators=10 ..............\n",
      "[CV]  max_depth=6, min_samples_split=10, n_estimators=10, total=   0.7s\n",
      "[CV] max_depth=6, min_samples_split=10, n_estimators=20 ..............\n",
      "[CV]  max_depth=6, min_samples_split=10, n_estimators=20, total=   1.3s\n",
      "[CV] max_depth=6, min_samples_split=10, n_estimators=20 ..............\n",
      "[CV]  max_depth=6, min_samples_split=10, n_estimators=20, total=   1.3s\n",
      "[CV] max_depth=6, min_samples_split=10, n_estimators=20 ..............\n",
      "[CV]  max_depth=6, min_samples_split=10, n_estimators=20, total=   1.3s\n",
      "[CV] max_depth=6, min_samples_split=10, n_estimators=20 ..............\n",
      "[CV]  max_depth=6, min_samples_split=10, n_estimators=20, total=   1.4s\n",
      "[CV] max_depth=6, min_samples_split=10, n_estimators=20 ..............\n",
      "[CV]  max_depth=6, min_samples_split=10, n_estimators=20, total=   1.5s\n",
      "[CV] max_depth=6, min_samples_split=10, n_estimators=30 ..............\n",
      "[CV]  max_depth=6, min_samples_split=10, n_estimators=30, total=   2.0s\n",
      "[CV] max_depth=6, min_samples_split=10, n_estimators=30 ..............\n",
      "[CV]  max_depth=6, min_samples_split=10, n_estimators=30, total=   2.0s\n",
      "[CV] max_depth=6, min_samples_split=10, n_estimators=30 ..............\n",
      "[CV]  max_depth=6, min_samples_split=10, n_estimators=30, total=   2.0s\n",
      "[CV] max_depth=6, min_samples_split=10, n_estimators=30 ..............\n",
      "[CV]  max_depth=6, min_samples_split=10, n_estimators=30, total=   1.9s\n",
      "[CV] max_depth=6, min_samples_split=10, n_estimators=30 ..............\n",
      "[CV]  max_depth=6, min_samples_split=10, n_estimators=30, total=   2.0s\n",
      "[CV] max_depth=6, min_samples_split=20, n_estimators=10 ..............\n",
      "[CV]  max_depth=6, min_samples_split=20, n_estimators=10, total=   0.7s\n",
      "[CV] max_depth=6, min_samples_split=20, n_estimators=10 ..............\n",
      "[CV]  max_depth=6, min_samples_split=20, n_estimators=10, total=   0.7s\n",
      "[CV] max_depth=6, min_samples_split=20, n_estimators=10 ..............\n",
      "[CV]  max_depth=6, min_samples_split=20, n_estimators=10, total=   0.6s\n",
      "[CV] max_depth=6, min_samples_split=20, n_estimators=10 ..............\n",
      "[CV]  max_depth=6, min_samples_split=20, n_estimators=10, total=   0.7s\n",
      "[CV] max_depth=6, min_samples_split=20, n_estimators=10 ..............\n",
      "[CV]  max_depth=6, min_samples_split=20, n_estimators=10, total=   0.7s\n",
      "[CV] max_depth=6, min_samples_split=20, n_estimators=20 ..............\n",
      "[CV]  max_depth=6, min_samples_split=20, n_estimators=20, total=   1.3s\n",
      "[CV] max_depth=6, min_samples_split=20, n_estimators=20 ..............\n",
      "[CV]  max_depth=6, min_samples_split=20, n_estimators=20, total=   1.3s\n",
      "[CV] max_depth=6, min_samples_split=20, n_estimators=20 ..............\n",
      "[CV]  max_depth=6, min_samples_split=20, n_estimators=20, total=   1.3s\n",
      "[CV] max_depth=6, min_samples_split=20, n_estimators=20 ..............\n",
      "[CV]  max_depth=6, min_samples_split=20, n_estimators=20, total=   1.3s\n",
      "[CV] max_depth=6, min_samples_split=20, n_estimators=20 ..............\n",
      "[CV]  max_depth=6, min_samples_split=20, n_estimators=20, total=   1.4s\n",
      "[CV] max_depth=6, min_samples_split=20, n_estimators=30 ..............\n",
      "[CV]  max_depth=6, min_samples_split=20, n_estimators=30, total=   2.1s\n",
      "[CV] max_depth=6, min_samples_split=20, n_estimators=30 ..............\n",
      "[CV]  max_depth=6, min_samples_split=20, n_estimators=30, total=   2.0s\n",
      "[CV] max_depth=6, min_samples_split=20, n_estimators=30 ..............\n",
      "[CV]  max_depth=6, min_samples_split=20, n_estimators=30, total=   1.9s\n",
      "[CV] max_depth=6, min_samples_split=20, n_estimators=30 ..............\n",
      "[CV]  max_depth=6, min_samples_split=20, n_estimators=30, total=   1.9s\n",
      "[CV] max_depth=6, min_samples_split=20, n_estimators=30 ..............\n",
      "[CV]  max_depth=6, min_samples_split=20, n_estimators=30, total=   2.0s\n",
      "[CV] max_depth=7, min_samples_split=2, n_estimators=10 ...............\n",
      "[CV]  max_depth=7, min_samples_split=2, n_estimators=10, total=   0.8s\n",
      "[CV] max_depth=7, min_samples_split=2, n_estimators=10 ...............\n",
      "[CV]  max_depth=7, min_samples_split=2, n_estimators=10, total=   0.7s\n",
      "[CV] max_depth=7, min_samples_split=2, n_estimators=10 ...............\n",
      "[CV]  max_depth=7, min_samples_split=2, n_estimators=10, total=   0.7s\n",
      "[CV] max_depth=7, min_samples_split=2, n_estimators=10 ...............\n",
      "[CV]  max_depth=7, min_samples_split=2, n_estimators=10, total=   0.7s\n",
      "[CV] max_depth=7, min_samples_split=2, n_estimators=10 ...............\n",
      "[CV]  max_depth=7, min_samples_split=2, n_estimators=10, total=   0.8s\n",
      "[CV] max_depth=7, min_samples_split=2, n_estimators=20 ...............\n",
      "[CV]  max_depth=7, min_samples_split=2, n_estimators=20, total=   1.5s\n",
      "[CV] max_depth=7, min_samples_split=2, n_estimators=20 ...............\n",
      "[CV]  max_depth=7, min_samples_split=2, n_estimators=20, total=   1.4s\n",
      "[CV] max_depth=7, min_samples_split=2, n_estimators=20 ...............\n",
      "[CV]  max_depth=7, min_samples_split=2, n_estimators=20, total=   1.4s\n",
      "[CV] max_depth=7, min_samples_split=2, n_estimators=20 ...............\n",
      "[CV]  max_depth=7, min_samples_split=2, n_estimators=20, total=   1.4s\n",
      "[CV] max_depth=7, min_samples_split=2, n_estimators=20 ...............\n",
      "[CV]  max_depth=7, min_samples_split=2, n_estimators=20, total=   1.4s\n",
      "[CV] max_depth=7, min_samples_split=2, n_estimators=30 ...............\n",
      "[CV]  max_depth=7, min_samples_split=2, n_estimators=30, total=   2.1s\n",
      "[CV] max_depth=7, min_samples_split=2, n_estimators=30 ...............\n",
      "[CV]  max_depth=7, min_samples_split=2, n_estimators=30, total=   2.1s\n",
      "[CV] max_depth=7, min_samples_split=2, n_estimators=30 ...............\n",
      "[CV]  max_depth=7, min_samples_split=2, n_estimators=30, total=   2.1s\n",
      "[CV] max_depth=7, min_samples_split=2, n_estimators=30 ...............\n",
      "[CV]  max_depth=7, min_samples_split=2, n_estimators=30, total=   2.0s\n",
      "[CV] max_depth=7, min_samples_split=2, n_estimators=30 ...............\n",
      "[CV]  max_depth=8, min_samples_split=5, n_estimators=30, total=   2.5s\n",
      "[CV] max_depth=8, min_samples_split=5, n_estimators=30 ...............\n",
      "[CV]  max_depth=8, min_samples_split=5, n_estimators=30, total=   2.5s\n",
      "[CV] max_depth=8, min_samples_split=5, n_estimators=30 ...............\n",
      "[CV]  max_depth=8, min_samples_split=5, n_estimators=30, total=   2.5s\n",
      "[CV] max_depth=8, min_samples_split=5, n_estimators=30 ...............\n",
      "[CV]  max_depth=8, min_samples_split=5, n_estimators=30, total=   2.5s\n",
      "[CV] max_depth=8, min_samples_split=10, n_estimators=10 ..............\n",
      "[CV]  max_depth=8, min_samples_split=10, n_estimators=10, total=   0.8s\n",
      "[CV] max_depth=8, min_samples_split=10, n_estimators=10 ..............\n",
      "[CV]  max_depth=8, min_samples_split=10, n_estimators=10, total=   0.9s\n",
      "[CV] max_depth=8, min_samples_split=10, n_estimators=10 ..............\n",
      "[CV]  max_depth=8, min_samples_split=10, n_estimators=10, total=   0.9s\n",
      "[CV] max_depth=8, min_samples_split=10, n_estimators=10 ..............\n",
      "[CV]  max_depth=8, min_samples_split=10, n_estimators=10, total=   0.8s\n",
      "[CV] max_depth=8, min_samples_split=10, n_estimators=10 ..............\n",
      "[CV]  max_depth=8, min_samples_split=10, n_estimators=10, total=   0.8s\n",
      "[CV] max_depth=8, min_samples_split=10, n_estimators=20 ..............\n",
      "[CV]  max_depth=8, min_samples_split=10, n_estimators=20, total=   1.7s\n",
      "[CV] max_depth=8, min_samples_split=10, n_estimators=20 ..............\n",
      "[CV]  max_depth=8, min_samples_split=10, n_estimators=20, total=   1.7s\n",
      "[CV] max_depth=8, min_samples_split=10, n_estimators=20 ..............\n",
      "[CV]  max_depth=8, min_samples_split=10, n_estimators=20, total=   1.6s\n",
      "[CV] max_depth=8, min_samples_split=10, n_estimators=20 ..............\n",
      "[CV]  max_depth=8, min_samples_split=10, n_estimators=20, total=   1.7s\n",
      "[CV] max_depth=8, min_samples_split=10, n_estimators=20 ..............\n",
      "[CV]  max_depth=8, min_samples_split=10, n_estimators=20, total=   1.7s\n",
      "[CV] max_depth=8, min_samples_split=10, n_estimators=30 ..............\n",
      "[CV]  max_depth=8, min_samples_split=10, n_estimators=30, total=   2.5s\n",
      "[CV] max_depth=8, min_samples_split=10, n_estimators=30 ..............\n",
      "[CV]  max_depth=8, min_samples_split=10, n_estimators=30, total=   2.5s\n",
      "[CV] max_depth=8, min_samples_split=10, n_estimators=30 ..............\n",
      "[CV]  max_depth=8, min_samples_split=10, n_estimators=30, total=   2.5s\n",
      "[CV] max_depth=8, min_samples_split=10, n_estimators=30 ..............\n",
      "[CV]  max_depth=8, min_samples_split=10, n_estimators=30, total=   2.4s\n",
      "[CV] max_depth=8, min_samples_split=10, n_estimators=30 ..............\n",
      "[CV]  max_depth=8, min_samples_split=10, n_estimators=30, total=   2.4s\n",
      "[CV] max_depth=8, min_samples_split=20, n_estimators=10 ..............\n",
      "[CV]  max_depth=8, min_samples_split=20, n_estimators=10, total=   0.9s\n",
      "[CV] max_depth=8, min_samples_split=20, n_estimators=10 ..............\n",
      "[CV]  max_depth=8, min_samples_split=20, n_estimators=10, total=   0.9s\n",
      "[CV] max_depth=8, min_samples_split=20, n_estimators=10 ..............\n",
      "[CV]  max_depth=8, min_samples_split=20, n_estimators=10, total=   0.9s\n",
      "[CV] max_depth=8, min_samples_split=20, n_estimators=10 ..............\n",
      "[CV]  max_depth=8, min_samples_split=20, n_estimators=10, total=   0.9s\n",
      "[CV] max_depth=8, min_samples_split=20, n_estimators=10 ..............\n",
      "[CV]  max_depth=8, min_samples_split=20, n_estimators=10, total=   0.9s\n",
      "[CV] max_depth=8, min_samples_split=20, n_estimators=20 ..............\n",
      "[CV]  max_depth=8, min_samples_split=20, n_estimators=20, total=   1.7s\n",
      "[CV] max_depth=8, min_samples_split=20, n_estimators=20 ..............\n",
      "[CV]  max_depth=8, min_samples_split=20, n_estimators=20, total=   1.8s\n",
      "[CV] max_depth=8, min_samples_split=20, n_estimators=20 ..............\n",
      "[CV]  max_depth=8, min_samples_split=20, n_estimators=20, total=   1.8s\n",
      "[CV] max_depth=8, min_samples_split=20, n_estimators=20 ..............\n",
      "[CV]  max_depth=8, min_samples_split=20, n_estimators=20, total=   1.8s\n",
      "[CV] max_depth=8, min_samples_split=20, n_estimators=20 ..............\n",
      "[CV]  max_depth=8, min_samples_split=20, n_estimators=20, total=   1.8s\n",
      "[CV] max_depth=8, min_samples_split=20, n_estimators=30 ..............\n",
      "[CV]  max_depth=8, min_samples_split=20, n_estimators=30, total=   2.7s\n",
      "[CV] max_depth=8, min_samples_split=20, n_estimators=30 ..............\n",
      "[CV]  max_depth=8, min_samples_split=20, n_estimators=30, total=   2.6s\n",
      "[CV] max_depth=8, min_samples_split=20, n_estimators=30 ..............\n",
      "[CV]  max_depth=8, min_samples_split=20, n_estimators=30, total=   2.9s\n",
      "[CV] max_depth=8, min_samples_split=20, n_estimators=30 ..............\n",
      "[CV]  max_depth=8, min_samples_split=20, n_estimators=30, total=   2.6s\n",
      "[CV] max_depth=8, min_samples_split=20, n_estimators=30 ..............\n",
      "[CV]  max_depth=8, min_samples_split=20, n_estimators=30, total=   2.6s\n",
      "[CV] max_depth=9, min_samples_split=2, n_estimators=10 ...............\n",
      "[CV]  max_depth=9, min_samples_split=2, n_estimators=10, total=   0.9s\n",
      "[CV] max_depth=9, min_samples_split=2, n_estimators=10 ...............\n",
      "[CV]  max_depth=9, min_samples_split=2, n_estimators=10, total=   0.9s\n",
      "[CV] max_depth=9, min_samples_split=2, n_estimators=10 ...............\n",
      "[CV]  max_depth=9, min_samples_split=2, n_estimators=10, total=   0.9s\n",
      "[CV] max_depth=9, min_samples_split=2, n_estimators=10 ...............\n",
      "[CV]  max_depth=9, min_samples_split=2, n_estimators=10, total=   0.9s\n",
      "[CV] max_depth=9, min_samples_split=2, n_estimators=10 ...............\n",
      "[CV]  max_depth=9, min_samples_split=2, n_estimators=10, total=   0.9s\n",
      "[CV] max_depth=9, min_samples_split=2, n_estimators=20 ...............\n",
      "[CV]  max_depth=9, min_samples_split=2, n_estimators=20, total=   1.9s\n",
      "[CV] max_depth=9, min_samples_split=2, n_estimators=20 ...............\n",
      "[CV]  max_depth=9, min_samples_split=2, n_estimators=20, total=   1.8s\n",
      "[CV] max_depth=9, min_samples_split=2, n_estimators=20 ...............\n",
      "[CV]  max_depth=9, min_samples_split=2, n_estimators=20, total=   1.8s\n",
      "[CV] max_depth=9, min_samples_split=2, n_estimators=20 ...............\n",
      "[CV]  max_depth=9, min_samples_split=2, n_estimators=20, total=   1.8s\n",
      "[CV] max_depth=9, min_samples_split=2, n_estimators=20 ...............\n",
      "[CV]  max_depth=9, min_samples_split=2, n_estimators=20, total=   1.8s\n",
      "[CV] max_depth=9, min_samples_split=2, n_estimators=30 ...............\n",
      "[CV]  max_depth=9, min_samples_split=2, n_estimators=30, total=   2.8s\n",
      "[CV] max_depth=9, min_samples_split=2, n_estimators=30 ...............\n",
      "[CV]  max_depth=9, min_samples_split=2, n_estimators=30, total=   2.8s\n",
      "[CV] max_depth=9, min_samples_split=2, n_estimators=30 ...............\n",
      "[CV]  max_depth=9, min_samples_split=2, n_estimators=30, total=   2.8s\n",
      "[CV] max_depth=9, min_samples_split=2, n_estimators=30 ...............\n",
      "[CV]  max_depth=9, min_samples_split=2, n_estimators=30, total=   2.7s\n",
      "[CV] max_depth=9, min_samples_split=2, n_estimators=30 ...............\n",
      "[CV]  max_depth=9, min_samples_split=2, n_estimators=30, total=   2.7s\n",
      "[CV] max_depth=9, min_samples_split=5, n_estimators=10 ...............\n",
      "[CV]  max_depth=9, min_samples_split=5, n_estimators=10, total=   0.9s\n",
      "[CV] max_depth=9, min_samples_split=5, n_estimators=10 ...............\n",
      "[CV]  max_depth=9, min_samples_split=5, n_estimators=10, total=   1.0s\n",
      "[CV] max_depth=9, min_samples_split=5, n_estimators=10 ...............\n",
      "[CV]  max_depth=9, min_samples_split=5, n_estimators=10, total=   1.0s\n",
      "[CV] max_depth=9, min_samples_split=5, n_estimators=10 ...............\n",
      "[CV]  max_depth=9, min_samples_split=5, n_estimators=10, total=   0.9s\n",
      "[CV] max_depth=9, min_samples_split=5, n_estimators=10 ...............\n",
      "[CV]  max_depth=9, min_samples_split=5, n_estimators=10, total=   0.9s\n",
      "[CV] max_depth=9, min_samples_split=5, n_estimators=20 ...............\n",
      "[CV]  max_depth=9, min_samples_split=5, n_estimators=20, total=   1.8s\n",
      "[CV] max_depth=9, min_samples_split=5, n_estimators=20 ...............\n",
      "[CV]  max_depth=9, min_samples_split=5, n_estimators=20, total=   1.8s\n",
      "[CV] max_depth=9, min_samples_split=5, n_estimators=20 ...............\n",
      "[CV]  max_depth=9, min_samples_split=5, n_estimators=20, total=   1.8s\n",
      "[CV] max_depth=9, min_samples_split=5, n_estimators=20 ...............\n",
      "[CV]  max_depth=9, min_samples_split=5, n_estimators=20, total=   1.8s\n",
      "[CV] max_depth=9, min_samples_split=5, n_estimators=20 ...............\n",
      "[CV]  max_depth=9, min_samples_split=5, n_estimators=20, total=   1.9s\n",
      "[CV] max_depth=9, min_samples_split=5, n_estimators=30 ...............\n",
      "[CV]  max_depth=9, min_samples_split=5, n_estimators=30, total=   2.9s\n",
      "[CV] max_depth=9, min_samples_split=5, n_estimators=30 ...............\n",
      "[CV]  max_depth=9, min_samples_split=5, n_estimators=30, total=   2.7s\n",
      "[CV] max_depth=9, min_samples_split=5, n_estimators=30 ...............\n",
      "[CV]  max_depth=9, min_samples_split=5, n_estimators=30, total=   2.9s\n",
      "[CV] max_depth=9, min_samples_split=5, n_estimators=30 ...............\n",
      "[CV]  max_depth=9, min_samples_split=5, n_estimators=30, total=   2.8s\n",
      "[CV] max_depth=9, min_samples_split=5, n_estimators=30 ...............\n",
      "[CV]  max_depth=9, min_samples_split=5, n_estimators=30, total=   2.6s\n",
      "[CV] max_depth=9, min_samples_split=10, n_estimators=10 ..............\n",
      "[CV]  max_depth=9, min_samples_split=10, n_estimators=10, total=   0.9s\n",
      "[CV] max_depth=9, min_samples_split=10, n_estimators=10 ..............\n",
      "[CV]  max_depth=9, min_samples_split=10, n_estimators=10, total=   0.9s\n",
      "[CV] max_depth=9, min_samples_split=10, n_estimators=10 ..............\n",
      "[CV]  max_depth=9, min_samples_split=10, n_estimators=10, total=   0.9s\n",
      "[CV] max_depth=9, min_samples_split=10, n_estimators=10 ..............\n",
      "[CV]  max_depth=9, min_samples_split=10, n_estimators=10, total=   1.0s\n",
      "[CV] max_depth=9, min_samples_split=10, n_estimators=10 ..............\n",
      "[CV]  max_depth=9, min_samples_split=10, n_estimators=10, total=   1.0s\n",
      "[CV] max_depth=9, min_samples_split=10, n_estimators=20 ..............\n",
      "[CV]  max_depth=9, min_samples_split=10, n_estimators=20, total=   1.8s\n",
      "[CV] max_depth=9, min_samples_split=10, n_estimators=20 ..............\n",
      "[CV]  max_depth=9, min_samples_split=10, n_estimators=20, total=   1.7s\n",
      "[CV] max_depth=9, min_samples_split=10, n_estimators=20 ..............\n",
      "[CV]  max_depth=9, min_samples_split=10, n_estimators=20, total=   1.7s\n",
      "[CV] max_depth=9, min_samples_split=10, n_estimators=20 ..............\n",
      "[CV]  max_depth=9, min_samples_split=10, n_estimators=20, total=   1.8s\n",
      "[CV] max_depth=9, min_samples_split=10, n_estimators=20 ..............\n",
      "[CV]  max_depth=9, min_samples_split=10, n_estimators=20, total=   1.9s\n",
      "[CV] max_depth=9, min_samples_split=10, n_estimators=30 ..............\n",
      "[CV]  max_depth=9, min_samples_split=10, n_estimators=30, total=   2.9s\n",
      "[CV] max_depth=9, min_samples_split=10, n_estimators=30 ..............\n",
      "[CV]  max_depth=9, min_samples_split=10, n_estimators=30, total=   2.8s\n",
      "[CV] max_depth=9, min_samples_split=10, n_estimators=30 ..............\n",
      "[CV]  max_depth=9, min_samples_split=10, n_estimators=30, total=   2.8s\n",
      "[CV] max_depth=9, min_samples_split=10, n_estimators=30 ..............\n",
      "[CV]  max_depth=9, min_samples_split=10, n_estimators=30, total=   3.0s\n",
      "[CV] max_depth=9, min_samples_split=10, n_estimators=30 ..............\n",
      "[CV]  max_depth=9, min_samples_split=10, n_estimators=30, total=   2.8s\n",
      "[CV] max_depth=9, min_samples_split=20, n_estimators=10 ..............\n",
      "[CV]  max_depth=9, min_samples_split=20, n_estimators=10, total=   1.0s\n",
      "[CV] max_depth=9, min_samples_split=20, n_estimators=10 ..............\n",
      "[CV]  max_depth=9, min_samples_split=20, n_estimators=10, total=   1.0s\n",
      "[CV] max_depth=9, min_samples_split=20, n_estimators=10 ..............\n",
      "[CV]  max_depth=9, min_samples_split=20, n_estimators=10, total=   0.9s\n",
      "[CV] max_depth=9, min_samples_split=20, n_estimators=10 ..............\n",
      "[CV]  max_depth=9, min_samples_split=20, n_estimators=10, total=   0.9s\n",
      "[CV] max_depth=9, min_samples_split=20, n_estimators=10 ..............\n",
      "[CV]  max_depth=9, min_samples_split=20, n_estimators=10, total=   1.0s\n",
      "[CV] max_depth=9, min_samples_split=20, n_estimators=20 ..............\n",
      "[CV]  max_depth=9, min_samples_split=20, n_estimators=20, total=   1.8s\n",
      "[CV] max_depth=9, min_samples_split=20, n_estimators=20 ..............\n",
      "[CV]  max_depth=9, min_samples_split=20, n_estimators=20, total=   1.9s\n",
      "[CV] max_depth=9, min_samples_split=20, n_estimators=20 ..............\n",
      "[CV]  max_depth=9, min_samples_split=20, n_estimators=20, total=   1.9s\n",
      "[CV] max_depth=9, min_samples_split=20, n_estimators=20 ..............\n",
      "[CV]  max_depth=9, min_samples_split=20, n_estimators=20, total=   1.9s\n",
      "[CV] max_depth=9, min_samples_split=20, n_estimators=20 ..............\n",
      "[CV]  max_depth=9, min_samples_split=20, n_estimators=20, total=   1.8s\n",
      "[CV] max_depth=9, min_samples_split=20, n_estimators=30 ..............\n",
      "[CV]  max_depth=9, min_samples_split=20, n_estimators=30, total=   2.8s\n",
      "[CV] max_depth=9, min_samples_split=20, n_estimators=30 ..............\n",
      "[CV]  max_depth=9, min_samples_split=20, n_estimators=30, total=   2.9s\n",
      "[CV] max_depth=9, min_samples_split=20, n_estimators=30 ..............\n",
      "[CV]  max_depth=9, min_samples_split=20, n_estimators=30, total=   2.7s\n",
      "[CV] max_depth=9, min_samples_split=20, n_estimators=30 ..............\n",
      "[CV]  max_depth=9, min_samples_split=20, n_estimators=30, total=   2.9s\n",
      "[CV] max_depth=9, min_samples_split=20, n_estimators=30 ..............\n",
      "[CV]  max_depth=9, min_samples_split=20, n_estimators=30, total=   2.8s\n"
     ]
    },
    {
     "name": "stderr",
     "output_type": "stream",
     "text": [
      "[Parallel(n_jobs=1)]: Done 300 out of 300 | elapsed:  7.6min finished\n"
     ]
    },
    {
     "data": {
      "text/plain": [
       "GridSearchCV(cv=5, estimator=RandomForestClassifier(),\n",
       "             param_grid={'max_depth': [5, 6, 7, 8, 9],\n",
       "                         'min_samples_split': [2, 5, 10, 20],\n",
       "                         'n_estimators': (10, 20, 30)},\n",
       "             verbose=2)"
      ]
     },
     "execution_count": 47,
     "metadata": {},
     "output_type": "execute_result"
    }
   ],
   "source": [
    "# Determining best hyperparameters\n",
    "\n",
    "max_depth = [5, 6, 7, 8, 9]\n",
    "min_samples_split = [2, 5, 10, 20]\n",
    "n_estimators = (10, 20, 30)\n",
    "\n",
    "rf_grid = GridSearchCV(estimator=RandomForestClassifier(), cv=5,\n",
    "                       param_grid={\"max_depth\":max_depth, \"min_samples_split\":min_samples_split,\"n_estimators\":n_estimators},\n",
    "                      verbose=2)\n",
    "\n",
    "rf_grid.fit(X_train, y_train)"
   ]
  },
  {
   "cell_type": "code",
   "execution_count": 48,
   "metadata": {},
   "outputs": [
    {
     "name": "stdout",
     "output_type": "stream",
     "text": [
      "Hyperparameters that give the best score :  {'max_depth': 9, 'min_samples_split': 20, 'n_estimators': 20}\n",
      "Best score :  0.9861023268900689\n"
     ]
    }
   ],
   "source": [
    "print(\"Hyperparameters that give the best score : \", rf_grid.best_params_)\n",
    "print(\"Best score : \", rf_grid.best_score_)"
   ]
  },
  {
   "cell_type": "code",
   "execution_count": 49,
   "metadata": {},
   "outputs": [
    {
     "data": {
      "text/plain": [
       "RandomForestClassifier(max_depth=9, min_samples_split=20, n_estimators=20)"
      ]
     },
     "execution_count": 49,
     "metadata": {},
     "output_type": "execute_result"
    }
   ],
   "source": [
    "drd = RandomForestClassifier(n_estimators = rf_grid.best_params_['n_estimators'], max_depth=rf_grid.best_params_['max_depth'],\n",
    "                           min_samples_split=rf_grid.best_params_['min_samples_split'])\n",
    "drd.fit(X_train, y_train)"
   ]
  },
  {
   "cell_type": "code",
   "execution_count": 50,
   "metadata": {},
   "outputs": [
    {
     "data": {
      "text/plain": [
       "{'max_depth': 9, 'min_samples_split': 20, 'n_estimators': 20}"
      ]
     },
     "execution_count": 50,
     "metadata": {},
     "output_type": "execute_result"
    }
   ],
   "source": [
    "rf_grid.best_params_"
   ]
  },
  {
   "cell_type": "code",
   "execution_count": 51,
   "metadata": {},
   "outputs": [
    {
     "name": "stdout",
     "output_type": "stream",
     "text": [
      "Predictions on training set...\n",
      "...Done.\n",
      "[0 0 0 ... 0 0 0]\n",
      "\n",
      "Predictions on test set...\n",
      "...Done.\n",
      "[0 0 0 ... 0 0 0]\n",
      "\n"
     ]
    }
   ],
   "source": [
    "# Predictions on training set\n",
    "print(\"Predictions on training set...\")\n",
    "y_train_pred = drd.predict(X_train)\n",
    "print(\"...Done.\")\n",
    "print(y_train_pred)\n",
    "print()\n",
    "\n",
    "# Predictions on test set\n",
    "print(\"Predictions on test set...\")\n",
    "y_test_pred = drd.predict(X_test)\n",
    "print(\"...Done.\")\n",
    "print(y_test_pred)\n",
    "print()\n"
   ]
  },
  {
   "cell_type": "code",
   "execution_count": 52,
   "metadata": {},
   "outputs": [
    {
     "name": "stdout",
     "output_type": "stream",
     "text": [
      "f1-score on train set :  0.7670602668302406\n",
      "f1-score on test set :  0.7526815813668403\n"
     ]
    }
   ],
   "source": [
    "# The f1-score will be used to assess the performances on the leaderboard\n",
    "print(\"f1-score on train set : \", f1_score(y_train, drd.predict(X_train)))\n",
    "print(\"f1-score on test set : \", f1_score(y_test, drd.predict(X_test)))\n"
   ]
  },
  {
   "cell_type": "code",
   "execution_count": 53,
   "metadata": {},
   "outputs": [
    {
     "name": "stdout",
     "output_type": "stream",
     "text": [
      "              precision    recall  f1-score   support\n",
      "\n",
      "           0       0.99      1.00      0.99     55066\n",
      "           1       0.87      0.66      0.75      1850\n",
      "\n",
      "    accuracy                           0.99     56916\n",
      "   macro avg       0.93      0.83      0.87     56916\n",
      "weighted avg       0.98      0.99      0.98     56916\n",
      "\n"
     ]
    }
   ],
   "source": [
    "# Computing other performance metrics to better understand what the model is doing\n",
    "print(classification_report(y_test, drd.predict(X_test)))"
   ]
  },
  {
   "cell_type": "code",
   "execution_count": null,
   "metadata": {},
   "outputs": [],
   "source": []
  },
  {
   "cell_type": "code",
   "execution_count": null,
   "metadata": {},
   "outputs": [],
   "source": []
  },
  {
   "cell_type": "code",
   "execution_count": null,
   "metadata": {},
   "outputs": [],
   "source": []
  },
  {
   "cell_type": "code",
   "execution_count": null,
   "metadata": {},
   "outputs": [],
   "source": []
  },
  {
   "cell_type": "code",
   "execution_count": null,
   "metadata": {},
   "outputs": [],
   "source": []
  },
  {
   "cell_type": "code",
   "execution_count": 54,
   "metadata": {},
   "outputs": [
    {
     "data": {
      "image/png": "[encoded data removed]",
      "text/plain": [
       "<Figure size 432x288 with 2 Axes>"
      ]
     },
     "metadata": {
      "needs_background": "light"
     },
     "output_type": "display_data"
    }
   ],
   "source": [
    "# Confusion matrix\n",
    "from sklearn.metrics import confusion_matrix \n",
    "cm = confusion_matrix(y_test, classifier.predict(X_test), normalize='true')\n",
    "cm\n",
    "\n",
    "sns.heatmap(cm, annot=True, fmt=\".3f\");\n",
    "#print('The confusion matrix shows that the model seems pretty robust on train set!')"
   ]
  },
  {
   "cell_type": "code",
   "execution_count": null,
   "metadata": {},
   "outputs": [],
   "source": []
  },
  {
   "cell_type": "code",
   "execution_count": null,
   "metadata": {},
   "outputs": [],
   "source": []
  },
  {
   "cell_type": "code",
   "execution_count": null,
   "metadata": {},
   "outputs": [],
   "source": []
  },
  {
   "cell_type": "markdown",
   "metadata": {},
   "source": [
    "## G) BEST MODEL ON ALL DATA"
   ]
  },
  {
   "cell_type": "code",
   "execution_count": 55,
   "metadata": {},
   "outputs": [
    {
     "data": {
      "text/plain": [
       "RandomForestClassifier(n_estimators=200)"
      ]
     },
     "execution_count": 55,
     "metadata": {},
     "output_type": "execute_result"
    }
   ],
   "source": [
    "# Concatenate our train and test set to train your best classifier on all data with labels\n",
    "X = np.append(X_train,X_test,axis=0)\n",
    "y = np.append(y_train,y_test)\n",
    "\n",
    "classifier.fit(X,y)"
   ]
  },
  {
   "cell_type": "code",
   "execution_count": 56,
   "metadata": {},
   "outputs": [
    {
     "name": "stdout",
     "output_type": "stream",
     "text": [
      "Prediction set (without labels) : (31620, 5)\n",
      "Convert pandas DataFrames to numpy arrays...\n",
      "...Done\n",
      "[['UK' 28 0 'Seo' 16]\n",
      " ['UK' 22 1 'Direct' 5]\n",
      " ['China' 32 1 'Seo' 1]\n",
      " ['US' 32 1 'Ads' 6]\n",
      " ['China' 25 0 'Seo' 3]]\n"
     ]
    }
   ],
   "source": [
    "# Read data without labels\n",
    "data_without_labels = pd.read_csv('conversion_data_test.csv')\n",
    "print('Prediction set (without labels) :', data_without_labels.shape)\n",
    "\n",
    "#features_list = ['total_pages_visited']\n",
    "X_without_labels = data_without_labels.loc[:, data_without_labels.columns]\n",
    "\n",
    "# Convert pandas DataFrames to numpy arrays before using scikit-learn\n",
    "print(\"Convert pandas DataFrames to numpy arrays...\")\n",
    "X_without_labels = X_without_labels.values\n",
    "print(\"...Done\")\n",
    "\n",
    "print(X_without_labels[0:5,:])"
   ]
  },
  {
   "cell_type": "code",
   "execution_count": 57,
   "metadata": {},
   "outputs": [
    {
     "data": {
      "text/plain": [
       "array([['UK', 28, 0, 'Seo', 16],\n",
       "       ['UK', 22, 1, 'Direct', 5],\n",
       "       ['China', 32, 1, 'Seo', 1],\n",
       "       ...,\n",
       "       ['UK', 33, 1, 'Seo', 5],\n",
       "       ['UK', 25, 1, 'Seo', 14],\n",
       "       ['US', 22, 1, 'Seo', 2]], dtype=object)"
      ]
     },
     "execution_count": 57,
     "metadata": {},
     "output_type": "execute_result"
    }
   ],
   "source": [
    "data_without_labels.columns\n",
    "X_without_labels"
   ]
  },
  {
   "cell_type": "code",
   "execution_count": 58,
   "metadata": {},
   "outputs": [
    {
     "name": "stdout",
     "output_type": "stream",
     "text": [
      "Encoding categorical features and standardizing numerical features...\n",
      "...Done\n",
      "[[-0.31512217  3.33913917  0.          1.          0.          0.\n",
      "   0.          1.        ]\n",
      " [-1.03657046  0.03888347  0.          1.          0.          1.\n",
      "   1.          0.        ]\n",
      " [ 0.16584336 -1.16120951  0.          0.          0.          1.\n",
      "   0.          1.        ]\n",
      " [ 0.16584336  0.33890671  0.          0.          1.          1.\n",
      "   0.          0.        ]\n",
      " [-0.67584631 -0.56116302  0.          0.          0.          0.\n",
      "   0.          1.        ]]\n"
     ]
    }
   ],
   "source": [
    "print(\"Encoding categorical features and standardizing numerical features...\")\n",
    "\n",
    "# Create pipeline for categorical features\n",
    "categorical_features = [0, 2, 3]\n",
    "categorical_transformer = Pipeline(\n",
    "    steps=[\n",
    "    ('imputer', SimpleImputer(strategy='most_frequent')), # if still missing values we will replace by most frequent value\n",
    "    ('encoder', OneHotEncoder(drop='first')) # first column will be dropped to avoid creating correlations between features\n",
    "    ])\n",
    "\n",
    "# Create pipeline for numeric features\n",
    "numeric_features = [1, 4] \n",
    "numeric_transformer = Pipeline(steps=[\n",
    "    ('imputer', SimpleImputer(strategy='mean')), # if still missing values we will replace by columns' mean\n",
    "    ('scaler', StandardScaler())\n",
    "])\n",
    "\n",
    "# Use ColumnTranformer to make a preprocessor object that describes all the treatments to be done\n",
    "preprocessor = ColumnTransformer(\n",
    "    transformers=[\n",
    "        ('num', numeric_transformer, numeric_features),\n",
    "        ('cat', categorical_transformer, categorical_features)\n",
    "    ])\n",
    "\n",
    "X_without_labels = preprocessor.fit_transform(X_without_labels)\n",
    "print(\"...Done\")\n",
    "print(X_without_labels[0:5,:])"
   ]
  },
  {
   "cell_type": "code",
   "execution_count": 59,
   "metadata": {},
   "outputs": [],
   "source": [
    "# Performing predictions with Random Forest creating a csv file\n",
    "data = {\n",
    "    'converted': classifier.predict(X_without_labels)\n",
    "}\n",
    "\n",
    "Y_predictions = pd.DataFrame(columns=['converted'],data=data)\n",
    "Y_predictions.to_csv('conversion_data_test_predictions_Random_Forest.csv', index=False)"
   ]
  },
  {
   "cell_type": "code",
   "execution_count": null,
   "metadata": {},
   "outputs": [],
   "source": []
  }
 ],
 "metadata": {
  "kernelspec": {
   "display_name": "Python 3",
   "language": "python",
   "name": "python3"
  },
  "language_info": {
   "codemirror_mode": {
    "name": "ipython",
    "version": 3
   },
   "file_extension": ".py",
   "mimetype": "text/x-python",
   "name": "python",
   "nbconvert_exporter": "python",
   "pygments_lexer": "ipython3",
   "version": "3.8.6"
  }
 },
 "nbformat": 4,
 "nbformat_minor": 4
}
